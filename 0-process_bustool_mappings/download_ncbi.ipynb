{
 "cells": [
  {
   "attachments": {},
   "cell_type": "markdown",
   "metadata": {},
   "source": [
    "### Download multiple files from NCBI using multiple CPUs in SLURM"
   ]
  },
  {
   "attachments": {},
   "cell_type": "markdown",
   "metadata": {},
   "source": [
    "- **Developed by:** Daniel Reisenbüchler\n",
    "- **Institute of Computational Biology - Computational Health Centre - Helmholtz Munich**\n",
    "- v230309"
   ]
  },
  {
   "attachments": {},
   "cell_type": "markdown",
   "metadata": {},
   "source": [
    "### Rationale:\n",
    "- fast download using multiple sbatch jobs \n",
    "- https://www.ncbi.nlm.nih.gov/sra/docs/sradownload/"
   ]
  },
  {
   "attachments": {},
   "cell_type": "markdown",
   "metadata": {},
   "source": [
    "### Import required modules"
   ]
  },
  {
   "cell_type": "code",
   "execution_count": null,
   "metadata": {},
   "outputs": [],
   "source": [
    "import os \n",
    "os.write(1, b\"text\\n\")\n",
    "import glob\n",
    "import pandas as pd"
   ]
  },
  {
   "attachments": {},
   "cell_type": "markdown",
   "metadata": {},
   "source": [
    "### Setup working environment"
   ]
  },
  {
   "cell_type": "code",
   "execution_count": null,
   "metadata": {},
   "outputs": [],
   "source": [
    "#e.g. seeds"
   ]
  },
  {
   "attachments": {},
   "cell_type": "markdown",
   "metadata": {},
   "source": [
    "### Download data using list of SRAs "
   ]
  },
  {
   "cell_type": "code",
   "execution_count": null,
   "metadata": {},
   "outputs": [],
   "source": [
    "raw_file_path = f'/lustre/groups/talaveralopez/datasets/tuberculosis/rna-seq/das2021/metadata/das2021_metadata_raw.txt'\n",
    "\n",
    "raw_data = pd.read_csv(raw_file_path)\n",
    "\n",
    "raw_data.iloc[0]"
   ]
  },
  {
   "cell_type": "code",
   "execution_count": null,
   "metadata": {},
   "outputs": [],
   "source": [
    "raw_data"
   ]
  },
  {
   "cell_type": "code",
   "execution_count": null,
   "metadata": {},
   "outputs": [],
   "source": [
    "download_run_list = raw_data['Run'].tolist()\n",
    "download_run_list[:5]"
   ]
  },
  {
   "cell_type": "code",
   "execution_count": null,
   "metadata": {},
   "outputs": [],
   "source": [
    "### SBATCH SCRIPT FUNCTION\n",
    "\n",
    "def submit_job_script(job_id, job_dir, SRA, nice=10000, out_dir=''):\n",
    "    \n",
    "    job_name = f'download_{job_id}'\n",
    "    job_file = f'{job_dir}/job_{job_name}_job_id_{job_id}.cmd'\n",
    "    out_file = f'{job_dir}/out_{job_name}.txt'\n",
    "    err_file = f'{job_dir}/err_{job_name}.txt'\n",
    "    \n",
    "    with open(job_file, 'w') as handle:\n",
    "        handle.writelines(\"#!/bin/bash\\n\")\n",
    "        handle.writelines(f'#SBATCH -J {job_name}\\n')\n",
    "        handle.writelines(f'#SBATCH -o {out_file}\\n')\n",
    "        handle.writelines(f'#SBATCH -e {err_file}\\n')\n",
    "        handle.writelines('#SBATCH -t 47:00:00\\n')\n",
    "        handle.writelines('#SBATCH -p cpu_p\\n')\n",
    "        handle.writelines('#SBATCH -c 16\\n')    \n",
    "        handle.writelines('#SBATCH --mem=64GB\\n')                    \n",
    "        handle.writelines(f'#SBATCH --nice={nice}\\n')#change!!!   \n",
    "        #handle.writelines(\"source $HOME/.bashrc\\n\")\n",
    "        #handle.writelines(\"conda activate pyt11x\\n\")\n",
    "        handle.writelines(\"cd /\\n\")\n",
    "        handle.writelines(f\"cd {out_dir}\\n\")\n",
    "        handle.writelines(f\"/home/haicu/reisenbuechler/sratoolkit/sratoolkit.3.0.0-ubuntu64/bin/fasterq-dump {SRA} --threads 16 -O {out_dir}\\n\")\n",
    "        \n",
    "    os.system(f'sbatch {job_file}')\n",
    "\n",
    "############\n",
    "\n",
    "sbatch_job_dir = '/lustre/groups/talaveralopez/projects/mairi.mcclean/bin'\n",
    "out_dir = '/lustre/groups/talaveralopez/datasets/tuberculosis/rna-seq/das2021/rna-seq_raw_reads'\n",
    "\n",
    "for job_id,SRA in enumerate(download_run_list):\n",
    "    submit_job_script(job_id=job_id, job_dir=sbatch_job_dir, SRA=SRA, nice=20000, out_dir=out_dir)"
   ]
  },
  {
   "cell_type": "code",
   "execution_count": null,
   "metadata": {},
   "outputs": [],
   "source": [
    "!squeue -u mairi.mcclean"
   ]
  },
  {
   "cell_type": "code",
   "execution_count": null,
   "metadata": {},
   "outputs": [],
   "source": []
  }
 ],
 "metadata": {
  "kernelspec": {
   "display_name": "Python 3 (ipykernel)",
   "language": "python",
   "name": "python3"
  },
  "language_info": {
   "codemirror_mode": {
    "name": "ipython",
    "version": 3
   },
   "file_extension": ".py",
   "mimetype": "text/x-python",
   "name": "python",
   "nbconvert_exporter": "python",
   "pygments_lexer": "ipython3",
   "version": "3.10.9"
  },
  "orig_nbformat": 4,
  "vscode": {
   "interpreter": {
    "hash": "31f2aee4e71d21fbe5cf8b01ff0e069b9275f58929596ceb00d14d90e3e16cd6"
   }
  }
 },
 "nbformat": 4,
 "nbformat_minor": 2
}
