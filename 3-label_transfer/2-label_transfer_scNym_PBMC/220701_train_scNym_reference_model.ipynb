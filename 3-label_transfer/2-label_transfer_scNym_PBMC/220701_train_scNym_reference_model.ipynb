{
 "cells": [
  {
   "cell_type": "markdown",
   "id": "fc8db132-71e0-4183-9093-a541170d473b",
   "metadata": {},
   "source": [
    "### Notebook for the training of the _Litvinuková et al 2020_ and _Tucker et al 2020_ LV cell populations with `scNym`.\n",
    "\n",
    "- **Developed by**: Carlos Talavera-López\n",
    "- **Institute of Computational Biology - Computational Health Centre - Hemlholtz Munich**\n",
    "- v220513"
   ]
  },
  {
   "cell_type": "markdown",
   "id": "f7d2be5f-d1a2-4bf8-97f6-80a246381b7a",
   "metadata": {},
   "source": [
    "### Load required modules"
   ]
  },
  {
   "cell_type": "code",
   "execution_count": 1,
   "id": "ad7ead89-9e2c-49b4-919e-c0a0a8f8df56",
   "metadata": {},
   "outputs": [],
   "source": [
    "import time\n",
    "import scnym\n",
    "import anndata\n",
    "import scipy as sp\n",
    "import numpy as np\n",
    "import pandas as pd\n",
    "import scanpy as sc"
   ]
  },
  {
   "cell_type": "markdown",
   "id": "65dd1f6e-b21d-4b26-b16f-f8c50936c690",
   "metadata": {},
   "source": [
    "### Set up working environment"
   ]
  },
  {
   "cell_type": "code",
   "execution_count": 2,
   "id": "34ca7ef5-e684-407a-839e-a03fcbe813dc",
   "metadata": {
    "collapsed": true,
    "jupyter": {
     "outputs_hidden": true
    },
    "tags": []
   },
   "outputs": [
    {
     "name": "stdout",
     "output_type": "stream",
     "text": [
      "WARNING: If you miss a compact list, please try `print_header`!\n",
      "The `sinfo` package has changed name and is now called `session_info` to become more discoverable and self-explanatory. The `sinfo` PyPI package will be kept around to avoid breaking old installs and you can downgrade to 0.3.2 if you want to use it without seeing this message. For the latest features and bug fixes, please install `session_info` instead. The usage and defaults also changed slightly, so please review the latest README at https://gitlab.com/joelostblom/session_info.\n",
      "-----\n",
      "anndata     0.8.0\n",
      "scanpy      1.6.0\n",
      "sinfo       0.3.4\n",
      "-----\n",
      "PIL                 9.2.0\n",
      "absl                NA\n",
      "asttokens           NA\n",
      "backcall            0.2.0\n",
      "certifi             2022.06.15\n",
      "chardet             3.0.4\n",
      "cycler              0.10.0\n",
      "cython_runtime      NA\n",
      "dateutil            2.8.2\n",
      "debugpy             1.6.0\n",
      "decorator           5.1.1\n",
      "dunamai             1.12.0\n",
      "entrypoints         0.4\n",
      "executing           0.9.1\n",
      "get_version         3.5.4\n",
      "google              NA\n",
      "h5py                3.7.0\n",
      "idna                2.10\n",
      "igraph              0.9.11\n",
      "importlib_metadata  NA\n",
      "ipykernel           6.15.1\n",
      "jedi                0.18.1\n",
      "joblib              1.1.0\n",
      "kiwisolver          1.4.4\n",
      "legacy_api_wrap     1.2\n",
      "leidenalg           0.8.0\n",
      "llvmlite            0.32.1\n",
      "louvain             0.7.0\n",
      "matplotlib          3.5.2\n",
      "mpl_toolkits        NA\n",
      "natsort             8.1.0\n",
      "numba               0.49.1\n",
      "numexpr             2.8.3\n",
      "numpy               1.23.1\n",
      "packaging           21.3\n",
      "pandas              1.4.3\n",
      "parso               0.8.3\n",
      "pexpect             4.8.0\n",
      "pickleshare         0.7.5\n",
      "pkg_resources       NA\n",
      "prompt_toolkit      3.0.30\n",
      "psutil              5.9.1\n",
      "ptyprocess          0.7.0\n",
      "pure_eval           0.2.2\n",
      "pydev_ipython       NA\n",
      "pydevconsole        NA\n",
      "pydevd              2.8.0\n",
      "pydevd_file_utils   NA\n",
      "pydevd_plugins      NA\n",
      "pydevd_tracing      NA\n",
      "pygments            2.12.0\n",
      "pyparsing           3.0.9\n",
      "pytz                2022.1\n",
      "requests            2.23.0\n",
      "scipy               1.4.1\n",
      "scnym               0.3.2\n",
      "setuptools          63.4.2\n",
      "setuptools_scm      NA\n",
      "six                 1.16.0\n",
      "sklearn             0.22.2.post1\n",
      "stack_data          0.3.0\n",
      "tables              3.6.1\n",
      "tensorboard         2.2.1\n",
      "texttable           1.6.4\n",
      "torch               1.4.0\n",
      "torchvision         0.5.0\n",
      "tornado             6.2\n",
      "tqdm                4.44.1\n",
      "traitlets           5.3.0\n",
      "typing_extensions   NA\n",
      "urllib3             1.25.8\n",
      "wcwidth             0.2.5\n",
      "yaml                5.3.1\n",
      "zipp                NA\n",
      "zmq                 23.2.0\n",
      "-----\n",
      "IPython             8.4.0\n",
      "jupyter_client      7.3.4\n",
      "jupyter_core        4.11.1\n",
      "-----\n",
      "Python 3.8.13 | packaged by conda-forge | (default, Mar 25 2022, 06:04:18) [GCC 10.3.0]\n",
      "Linux-5.19.13-200.fc36.x86_64-x86_64-with-glibc2.10\n",
      "16 logical CPU cores, x86_64\n",
      "-----\n",
      "Session information updated at 2022-10-17 08:34\n",
      "\n"
     ]
    }
   ],
   "source": [
    "sc.settings.verbosity = 3\n",
    "sc.logging.print_versions()\n",
    "sc.settings.set_figure_params(dpi = 160, color_map = 'magma_r', dpi_save = 300, vector_friendly = True, format = 'svg')"
   ]
  },
  {
   "cell_type": "code",
   "execution_count": 3,
   "id": "cb3cd648-12c7-4880-ab37-7a7e0871b522",
   "metadata": {},
   "outputs": [],
   "source": [
    "config_name = \"new_identity_discovery\"\n",
    "config = scnym.api.CONFIGS[config_name]\n",
    "config[\"domain_groupby\"] = \"domain_label\""
   ]
  },
  {
   "cell_type": "markdown",
   "id": "34312f12-1456-403b-9a7a-d4c76682551e",
   "metadata": {},
   "source": [
    "### Read in reference object"
   ]
  },
  {
   "cell_type": "code",
   "execution_count": 4,
   "id": "5dff38a1-a43b-43a5-9bc4-8659ed1be303",
   "metadata": {},
   "outputs": [
    {
     "data": {
      "text/plain": [
       "AnnData object with n_obs × n_vars = 319065 × 22792\n",
       "    obs: 'object', 'domain_label', 'cell_states'\n",
       "    var: 'gene_id-query'"
      ]
     },
     "execution_count": 4,
     "metadata": {},
     "output_type": "execute_result"
    }
   ],
   "source": [
    "combined_object = sc.read_h5ad('/home/cartalop/data/single_cell/lung/tb/merged/CaiY_PBMC_TB_pre-scnym_ctl221017.h5ad')\n",
    "combined_object"
   ]
  },
  {
   "cell_type": "code",
   "execution_count": 5,
   "id": "8bb66465",
   "metadata": {},
   "outputs": [
    {
     "name": "stdout",
     "output_type": "stream",
     "text": [
      "filtered out 2474 genes that are detected in less than 3 cells\n",
      "filtered out 119 genes that are detected in less than 10 counts\n"
     ]
    },
    {
     "data": {
      "text/plain": [
       "AnnData object with n_obs × n_vars = 319065 × 20199\n",
       "    obs: 'object', 'domain_label', 'cell_states'\n",
       "    var: 'gene_id-query', 'n_cells', 'n_counts'"
      ]
     },
     "execution_count": 5,
     "metadata": {},
     "output_type": "execute_result"
    }
   ],
   "source": [
    "sc.pp.filter_genes(combined_object, min_cells = 3)\n",
    "sc.pp.filter_genes(combined_object, min_counts  = 10)\n",
    "combined_object"
   ]
  },
  {
   "cell_type": "code",
   "execution_count": 6,
   "id": "548f3a0e-b40c-4fdd-99da-f400ed7cfceb",
   "metadata": {},
   "outputs": [
    {
     "data": {
      "text/plain": [
       "matrix([[0.       , 0.       , 0.       , 0.       , 0.       ,\n",
       "         0.       , 0.       , 0.       ],\n",
       "        [0.       , 0.       , 0.       , 0.       , 0.       ,\n",
       "         0.       , 0.       , 0.       ],\n",
       "        [0.       , 0.       , 0.       , 0.       , 0.       ,\n",
       "         0.       , 0.       , 0.       ],\n",
       "        [0.       , 0.       , 0.       , 0.       , 0.       ,\n",
       "         5.9510117, 0.       , 0.       ],\n",
       "        [0.       , 0.       , 0.       , 0.       , 0.       ,\n",
       "         6.3671494, 0.       , 0.       ],\n",
       "        [0.       , 0.       , 0.       , 0.       , 0.       ,\n",
       "         0.       , 0.       , 0.       ],\n",
       "        [0.       , 0.       , 0.       , 0.       , 0.       ,\n",
       "         0.       , 0.       , 0.       ],\n",
       "        [0.       , 0.       , 0.       , 0.       , 0.       ,\n",
       "         0.       , 0.       , 0.       ]], dtype=float32)"
      ]
     },
     "execution_count": 6,
     "metadata": {},
     "output_type": "execute_result"
    }
   ],
   "source": [
    "combined_object.X[:8,:8].todense()"
   ]
  },
  {
   "cell_type": "code",
   "execution_count": 7,
   "id": "30d72432",
   "metadata": {},
   "outputs": [
    {
     "name": "stdout",
     "output_type": "stream",
     "text": [
      "normalizing counts per cell\n",
      "    finished (0:00:01)\n"
     ]
    }
   ],
   "source": [
    "sc.pp.normalize_total(combined_object, target_sum = 1e6)\n",
    "sc.pp.log1p(combined_object)"
   ]
  },
  {
   "cell_type": "markdown",
   "id": "2546985f-01c4-4fb5-b720-66786a311a42",
   "metadata": {},
   "source": [
    "### Filter low quality cells"
   ]
  },
  {
   "cell_type": "code",
   "execution_count": 8,
   "id": "01b30de3-4d99-4ca2-b57d-824b80ae1230",
   "metadata": {},
   "outputs": [
    {
     "data": {
      "text/plain": [
       "AnnData object with n_obs × n_vars = 319065 × 20199\n",
       "    obs: 'object', 'domain_label', 'cell_states'\n",
       "    var: 'gene_id-query', 'n_cells', 'n_counts'\n",
       "    uns: 'log1p'"
      ]
     },
     "execution_count": 8,
     "metadata": {},
     "output_type": "execute_result"
    }
   ],
   "source": [
    "sc.pp.filter_genes(combined_object, min_cells = 3)\n",
    "sc.pp.filter_genes(combined_object, min_counts  = 10)\n",
    "combined_object"
   ]
  },
  {
   "cell_type": "markdown",
   "id": "78a7f53e-5fdd-425d-9241-393859aaf09f",
   "metadata": {},
   "source": [
    "### Train reference with `scNym`"
   ]
  },
  {
   "cell_type": "markdown",
   "id": "d99c42b6-3b26-4644-b55d-f9cc582116ca",
   "metadata": {},
   "source": [
    "- Record start time for `scNym` training"
   ]
  },
  {
   "cell_type": "code",
   "execution_count": 9,
   "id": "fb6c5069-d036-42f8-8df2-c93bec3ccef2",
   "metadata": {},
   "outputs": [],
   "source": [
    "start_time = time.time()"
   ]
  },
  {
   "cell_type": "markdown",
   "id": "2c2017f8-e518-4d7c-b723-87b1f1ae9544",
   "metadata": {},
   "source": [
    "- Train model"
   ]
  },
  {
   "cell_type": "code",
   "execution_count": 10,
   "id": "de33a2ab-d22c-4a59-bbc9-e669fefe901f",
   "metadata": {
    "collapsed": true,
    "jupyter": {
     "outputs_hidden": true
    },
    "tags": []
   },
   "outputs": [
    {
     "name": "stdout",
     "output_type": "stream",
     "text": [
      "CUDA compute device found.\n",
      "145381 unlabeled observations found.\n",
      "Using unlabeled data as a target set for semi-supervised, adversarial training.\n",
      "\n",
      "training examples:  (173684, 20199)\n",
      "target   examples:  (145381, 20199)\n",
      "X:  (173684, 20199)\n",
      "y:  (173684,)\n",
      "Using user provided domain labels.\n",
      "Found 35 source domains and 19 target domains.\n",
      "Not weighting classes and not balancing classes.\n",
      "Found 54 unique domains.\n",
      "Using MixMatch for semi-supervised learning\n",
      "Scaling ICL over 100 epochs, 0 epochs for burn in.\n",
      "Scaling ICL over 20 epochs, 0 epochs for burn in.\n",
      "Using a Domain Adaptation Loss.\n",
      "Training...\n",
      "Saving best model weights...______________|\n",
      "Saved best weights.\n",
      "Trainer has a `dan_criterion`.\n",
      "Saving DAN weights...\n",
      "Epoch 40/99|------------__________________|\r"
     ]
    }
   ],
   "source": [
    "scnym.api.scnym_api(\n",
    "    adata = combined_object,\n",
    "    task = 'train',\n",
    "    groupby = 'cell_states',\n",
    "    domain_groupby='domain_label',\n",
    "    out_path = '/home/cartalop/data/single_cell/lung/tb/models/scnym_model/',\n",
    "    config = 'new_identity_discovery',\n",
    ")"
   ]
  },
  {
   "cell_type": "markdown",
   "id": "99ddae19-7761-42a6-92ff-9f0de4d05eb9",
   "metadata": {},
   "source": [
    "- Record end time for scNym label transfer"
   ]
  },
  {
   "cell_type": "code",
   "execution_count": null,
   "id": "1b75d0e9-d17f-41d8-a807-cf6d973c1845",
   "metadata": {},
   "outputs": [],
   "source": [
    "end_time = time.time()"
   ]
  },
  {
   "cell_type": "markdown",
   "id": "96f67317-6df6-4041-9379-c9b9af400645",
   "metadata": {},
   "source": [
    "- Compute the elapsed time"
   ]
  },
  {
   "cell_type": "code",
   "execution_count": null,
   "id": "5405aa89-883a-490c-a3b5-b77ad22201bd",
   "metadata": {},
   "outputs": [],
   "source": [
    "total_time = end_time - start_time\n",
    "print(f\"Total time: {total_time}\")"
   ]
  },
  {
   "cell_type": "markdown",
   "id": "f09d05bf-b8c4-4c1d-9ab5-2e2e6868cf75",
   "metadata": {},
   "source": [
    "### Predict cell labels"
   ]
  },
  {
   "cell_type": "code",
   "execution_count": null,
   "id": "91f72f63-e986-4bab-b3d9-aeefb53f1378",
   "metadata": {},
   "outputs": [],
   "source": [
    "from scnym.api import scnym_api\n",
    "\n",
    "scnym_api(\n",
    "    adata = combined_object,\n",
    "    task = 'predict',\n",
    "    key_added = 'scNym',\n",
    "    trained_model = '/home/cartalop/data/single_cell/lung/tb/models/scnym_model/',\n",
    "    out_path = '/home/cartalop/data/single_cell/lung/tb/models/scnym_model/',\n",
    "    config = 'new_identity_discovery',\n",
    ")\n"
   ]
  },
  {
   "cell_type": "markdown",
   "id": "986153f7-856e-4eca-aa7c-8306650f8030",
   "metadata": {},
   "source": [
    "### Visualise label transfer and cofindence using `X_scNym`"
   ]
  },
  {
   "cell_type": "code",
   "execution_count": null,
   "id": "a23c6eea-22e9-4351-b2af-3c09efdff14f",
   "metadata": {},
   "outputs": [],
   "source": [
    "sc.pp.neighbors(combined_object, use_rep = 'X_scnym', n_neighbors = 50)\n",
    "sc.tl.umap(combined_object, min_dist = 0.2, spread = 5, random_state = 1712)\n",
    "sc.pl.umap(combined_object, color = ['scNym', 'scNym_confidence', 'cell_states'], size = 0.3, frameon = False, legend_loc = 'on data', legend_fontsize = 4)"
   ]
  },
  {
   "cell_type": "code",
   "execution_count": null,
   "id": "db6e1cb3-abc5-48e9-b539-1616575c161a",
   "metadata": {},
   "outputs": [],
   "source": [
    "sc.pl.umap(combined_object, color = ['scNym', 'scNym_confidence', 'object'], size = 0.2, frameon = False, legend_fontsize = 5)"
   ]
  },
  {
   "cell_type": "code",
   "execution_count": null,
   "id": "3af57968-93b0-4460-bb66-20176c32a28d",
   "metadata": {},
   "outputs": [],
   "source": [
    "combined_object"
   ]
  },
  {
   "cell_type": "markdown",
   "id": "76c4ac5f-2268-4c71-927d-01324e75b418",
   "metadata": {},
   "source": [
    "### Save object"
   ]
  },
  {
   "cell_type": "code",
   "execution_count": null,
   "id": "a99dcef7",
   "metadata": {},
   "outputs": [],
   "source": [
    "adata_export = anndata.AnnData(X = combined_object.X, obs = combined_object.obs, var = combined_object.var, uns = combined_object.uns, obsm = combined_object.obsm, obsp = combined_object.obsp)\n",
    "adata_export"
   ]
  },
  {
   "cell_type": "raw",
   "id": "81d81cc7-77fb-4575-a5e9-20bc94a9d3a2",
   "metadata": {},
   "source": [
    "adata_export.write('/home/cartalop/He111/single_cell/lung/tb/caiy2020/CaiY2020_PBMC_TB_post-scnym_ctl220712.h5ad')"
   ]
  },
  {
   "cell_type": "code",
   "execution_count": null,
   "id": "51f06aba",
   "metadata": {},
   "outputs": [],
   "source": []
  }
 ],
 "metadata": {
  "kernelspec": {
   "display_name": "Python 3.8.13 ('scnym')",
   "language": "python",
   "name": "python3"
  },
  "language_info": {
   "codemirror_mode": {
    "name": "ipython",
    "version": 3
   },
   "file_extension": ".py",
   "mimetype": "text/x-python",
   "name": "python",
   "nbconvert_exporter": "python",
   "pygments_lexer": "ipython3",
   "version": "3.8.13"
  },
  "vscode": {
   "interpreter": {
    "hash": "11ad1536652eae94ba425cba01ab074fba1dc7a880a5c6abdffdd9ec64629576"
   }
  }
 },
 "nbformat": 4,
 "nbformat_minor": 5
}
