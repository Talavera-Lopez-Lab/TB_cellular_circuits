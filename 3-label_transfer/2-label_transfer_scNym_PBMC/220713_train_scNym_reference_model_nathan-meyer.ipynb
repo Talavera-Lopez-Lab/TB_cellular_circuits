{
 "cells": [
  {
   "cell_type": "markdown",
   "id": "fc8db132-71e0-4183-9093-a541170d473b",
   "metadata": {},
   "source": [
    "### Notebook for the training of the _Yoshida et al 2021_ and _Nathan et al 2021_ PBMCs cell populations with `scNym`.\n",
    "\n",
    "- **Developed by**: Carlos Talavera-López\n",
    "- **Institute of Computational Biology - Computational Health Centre - Hemlholtz Munich**\n",
    "- v220713"
   ]
  },
  {
   "cell_type": "markdown",
   "id": "f7d2be5f-d1a2-4bf8-97f6-80a246381b7a",
   "metadata": {},
   "source": [
    "### Load required modules"
   ]
  },
  {
   "cell_type": "code",
   "execution_count": null,
   "id": "ad7ead89-9e2c-49b4-919e-c0a0a8f8df56",
   "metadata": {},
   "outputs": [],
   "source": [
    "import time\n",
    "import scnym\n",
    "import anndata\n",
    "import scipy as sp\n",
    "import numpy as np\n",
    "import pandas as pd\n",
    "import scanpy as sc"
   ]
  },
  {
   "cell_type": "markdown",
   "id": "65dd1f6e-b21d-4b26-b16f-f8c50936c690",
   "metadata": {},
   "source": [
    "### Set up working environment"
   ]
  },
  {
   "cell_type": "code",
   "execution_count": null,
   "id": "34ca7ef5-e684-407a-839e-a03fcbe813dc",
   "metadata": {
    "collapsed": true,
    "jupyter": {
     "outputs_hidden": true
    },
    "tags": []
   },
   "outputs": [],
   "source": [
    "sc.settings.verbosity = 3\n",
    "sc.logging.print_versions()\n",
    "sc.settings.set_figure_params(dpi = 160, color_map = 'magma_r', dpi_save = 300, vector_friendly = True, format = 'svg')"
   ]
  },
  {
   "cell_type": "code",
   "execution_count": null,
   "id": "cb3cd648-12c7-4880-ab37-7a7e0871b522",
   "metadata": {},
   "outputs": [],
   "source": [
    "config_name = \"new_identity_discovery\"\n",
    "config = scnym.api.CONFIGS[config_name]\n",
    "config[\"domain_groupby\"] = \"domain_label\""
   ]
  },
  {
   "cell_type": "markdown",
   "id": "34312f12-1456-403b-9a7a-d4c76682551e",
   "metadata": {},
   "source": [
    "### Read in reference object"
   ]
  },
  {
   "cell_type": "code",
   "execution_count": null,
   "id": "5dff38a1-a43b-43a5-9bc4-8659ed1be303",
   "metadata": {},
   "outputs": [],
   "source": [
    "combined_object = sc.read_h5ad('/home/cartalop/data/single_cell/lung/tb/caiy2020/CaiY2020_PBMCplus_TB_pre-scnym_ctl220713.h5ad')\n",
    "combined_object"
   ]
  },
  {
   "cell_type": "code",
   "execution_count": null,
   "id": "ce5030cd",
   "metadata": {},
   "outputs": [],
   "source": [
    "combined_object.obs['cell_states'] = combined_object.obs['cell_states'].astype(str)"
   ]
  },
  {
   "cell_type": "code",
   "execution_count": null,
   "id": "548f3a0e-b40c-4fdd-99da-f400ed7cfceb",
   "metadata": {},
   "outputs": [],
   "source": [
    "combined_object.X[:8,:8].todense()"
   ]
  },
  {
   "cell_type": "code",
   "execution_count": null,
   "id": "30d72432",
   "metadata": {},
   "outputs": [],
   "source": [
    "sc.pp.normalize_total(combined_object, target_sum = 1e6)\n",
    "sc.pp.log1p(combined_object)"
   ]
  },
  {
   "cell_type": "markdown",
   "id": "2546985f-01c4-4fb5-b720-66786a311a42",
   "metadata": {},
   "source": [
    "### Filter low quality cells"
   ]
  },
  {
   "cell_type": "code",
   "execution_count": null,
   "id": "01b30de3-4d99-4ca2-b57d-824b80ae1230",
   "metadata": {},
   "outputs": [],
   "source": [
    "sc.pp.filter_genes(combined_object, min_counts  = 3)\n",
    "combined_object"
   ]
  },
  {
   "cell_type": "markdown",
   "id": "78a7f53e-5fdd-425d-9241-393859aaf09f",
   "metadata": {},
   "source": [
    "### Train reference with `scNym`"
   ]
  },
  {
   "cell_type": "markdown",
   "id": "d99c42b6-3b26-4644-b55d-f9cc582116ca",
   "metadata": {},
   "source": [
    "- Record start time for `scNym` training"
   ]
  },
  {
   "cell_type": "code",
   "execution_count": null,
   "id": "fb6c5069-d036-42f8-8df2-c93bec3ccef2",
   "metadata": {},
   "outputs": [],
   "source": [
    "start_time = time.time()"
   ]
  },
  {
   "cell_type": "markdown",
   "id": "2c2017f8-e518-4d7c-b723-87b1f1ae9544",
   "metadata": {},
   "source": [
    "- Train model"
   ]
  },
  {
   "cell_type": "code",
   "execution_count": null,
   "id": "de33a2ab-d22c-4a59-bbc9-e669fefe901f",
   "metadata": {
    "collapsed": true,
    "jupyter": {
     "outputs_hidden": true
    },
    "tags": []
   },
   "outputs": [],
   "source": [
    "scnym.api.scnym_api(\n",
    "    adata = combined_object,\n",
    "    task = 'train',\n",
    "    groupby = 'cell_states',\n",
    "    domain_groupby='domain_label',\n",
    "    out_path = '/home/cartalop/data/lung/tb/Cai2020/scnym_model/',\n",
    "    config = 'new_identity_discovery',\n",
    ")"
   ]
  },
  {
   "cell_type": "markdown",
   "id": "99ddae19-7761-42a6-92ff-9f0de4d05eb9",
   "metadata": {},
   "source": [
    "- Record end time for scNym label transfer"
   ]
  },
  {
   "cell_type": "code",
   "execution_count": null,
   "id": "1b75d0e9-d17f-41d8-a807-cf6d973c1845",
   "metadata": {},
   "outputs": [],
   "source": [
    "end_time = time.time()"
   ]
  },
  {
   "cell_type": "markdown",
   "id": "96f67317-6df6-4041-9379-c9b9af400645",
   "metadata": {},
   "source": [
    "- Compute the elapsed time"
   ]
  },
  {
   "cell_type": "code",
   "execution_count": null,
   "id": "5405aa89-883a-490c-a3b5-b77ad22201bd",
   "metadata": {},
   "outputs": [],
   "source": [
    "total_time = end_time - start_time\n",
    "print(f\"Total time: {total_time}\")"
   ]
  },
  {
   "cell_type": "markdown",
   "id": "f09d05bf-b8c4-4c1d-9ab5-2e2e6868cf75",
   "metadata": {},
   "source": [
    "### Predict cell labels"
   ]
  },
  {
   "cell_type": "code",
   "execution_count": null,
   "id": "91f72f63-e986-4bab-b3d9-aeefb53f1378",
   "metadata": {},
   "outputs": [],
   "source": [
    "from scnym.api import scnym_api\n",
    "\n",
    "scnym_api(\n",
    "    adata = combined_object,\n",
    "    task = 'predict',\n",
    "    key_added = 'scNym',\n",
    "    trained_model = '/home/cartalop/data/lung/tb/Cai2020/scnym_model/',\n",
    "    out_path = '/home/cartalop/data/lung/tb/Cai2020/scnym_model/',\n",
    "    config = 'new_identity_discovery',\n",
    ")\n"
   ]
  },
  {
   "cell_type": "markdown",
   "id": "986153f7-856e-4eca-aa7c-8306650f8030",
   "metadata": {},
   "source": [
    "### Visualise label transfer and cofindence using `X_scNym`"
   ]
  },
  {
   "cell_type": "code",
   "execution_count": null,
   "id": "a23c6eea-22e9-4351-b2af-3c09efdff14f",
   "metadata": {},
   "outputs": [],
   "source": [
    "sc.pp.neighbors(combined_object, use_rep = 'X_scnym', n_neighbors = 50)\n",
    "sc.tl.umap(combined_object, min_dist = 0.3, spread = 5, random_state = 1712)\n",
    "sc.pl.umap(combined_object, color = ['scNym', 'scNym_confidence', 'cell_states'], size = 0.2, frameon = False, legend_loc = 'on data', legend_fontsize = 4)"
   ]
  },
  {
   "cell_type": "code",
   "execution_count": null,
   "id": "db6e1cb3-abc5-48e9-b539-1616575c161a",
   "metadata": {},
   "outputs": [],
   "source": [
    "sc.pl.umap(combined_object, color = ['scNym', 'scNym_confidence', 'study'], size = 0.1, frameon = False, legend_fontsize = 5)"
   ]
  },
  {
   "cell_type": "code",
   "execution_count": null,
   "id": "3af57968-93b0-4460-bb66-20176c32a28d",
   "metadata": {},
   "outputs": [],
   "source": [
    "combined_object"
   ]
  },
  {
   "cell_type": "markdown",
   "id": "76c4ac5f-2268-4c71-927d-01324e75b418",
   "metadata": {},
   "source": [
    "### Save object"
   ]
  },
  {
   "cell_type": "code",
   "execution_count": null,
   "id": "a99dcef7",
   "metadata": {},
   "outputs": [],
   "source": [
    "adata_export = anndata.AnnData(X = combined_object.X, obs = combined_object.obs, var = combined_object.var, uns = combined_object.uns, obsm = combined_object.obsm, obsp = combined_object.obsp)\n",
    "adata_export"
   ]
  },
  {
   "cell_type": "code",
   "execution_count": null,
   "id": "81d81cc7-77fb-4575-a5e9-20bc94a9d3a2",
   "metadata": {},
   "outputs": [],
   "source": [
    "adata_export.write('/home/cartalop/He111/single_cell/lung/tb/caiy2020/CaiY2020_PBMCplus_TB_post-scnym_ctl220713.h5ad')"
   ]
  },
  {
   "cell_type": "code",
   "execution_count": null,
   "id": "2d10b9fd",
   "metadata": {},
   "outputs": [],
   "source": []
  }
 ],
 "metadata": {
  "kernelspec": {
   "display_name": "Python 3.8.13 ('scnym')",
   "language": "python",
   "name": "python3"
  },
  "language_info": {
   "codemirror_mode": {
    "name": "ipython",
    "version": 3
   },
   "file_extension": ".py",
   "mimetype": "text/x-python",
   "name": "python",
   "nbconvert_exporter": "python",
   "pygments_lexer": "ipython3",
   "version": "3.8.13"
  },
  "vscode": {
   "interpreter": {
    "hash": "11ad1536652eae94ba425cba01ab074fba1dc7a880a5c6abdffdd9ec64629576"
   }
  }
 },
 "nbformat": 4,
 "nbformat_minor": 5
}
