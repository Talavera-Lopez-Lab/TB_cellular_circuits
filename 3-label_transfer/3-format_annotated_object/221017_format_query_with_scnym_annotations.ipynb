{
 "cells": [
  {
   "cell_type": "markdown",
   "metadata": {},
   "source": [
    "### Notebook to add `scNym` labels and scores to query TB PBMC object\n",
    "\n",
    "- **Developed by**: Carlos Talavera-López Ph.D\n",
    "- **Institute of Computational Biology - Computational Health Centre - Helmholtz Munich**\n",
    "- v221017"
   ]
  },
  {
   "cell_type": "markdown",
   "metadata": {},
   "source": [
    "### Export required modules"
   ]
  },
  {
   "cell_type": "code",
   "execution_count": 1,
   "metadata": {},
   "outputs": [],
   "source": [
    "import anndata\n",
    "import scipy as sp\n",
    "import pandas as pd\n",
    "import scanpy as sc"
   ]
  },
  {
   "cell_type": "markdown",
   "metadata": {},
   "source": [
    "### Set up working environment"
   ]
  },
  {
   "cell_type": "code",
   "execution_count": 2,
   "metadata": {},
   "outputs": [
    {
     "name": "stdout",
     "output_type": "stream",
     "text": [
      "-----\n",
      "anndata     0.8.0\n",
      "scanpy      1.9.1\n",
      "-----\n",
      "PIL                         9.2.0\n",
      "asttokens                   NA\n",
      "backcall                    0.2.0\n",
      "beta_ufunc                  NA\n",
      "binom_ufunc                 NA\n",
      "cffi                        1.15.1\n",
      "colorama                    0.4.5\n",
      "cycler                      0.10.0\n",
      "cython_runtime              NA\n",
      "dateutil                    2.8.2\n",
      "debugpy                     1.5.1\n",
      "decorator                   5.1.1\n",
      "entrypoints                 0.4\n",
      "executing                   0.8.3\n",
      "h5py                        3.7.0\n",
      "hypergeom_ufunc             NA\n",
      "ipykernel                   6.9.1\n",
      "jedi                        0.18.1\n",
      "joblib                      1.2.0\n",
      "kiwisolver                  1.4.4\n",
      "llvmlite                    0.39.1\n",
      "matplotlib                  3.6.1\n",
      "mpl_toolkits                NA\n",
      "natsort                     8.2.0\n",
      "nbinom_ufunc                NA\n",
      "ncf_ufunc                   NA\n",
      "numba                       0.56.2\n",
      "numpy                       1.23.3\n",
      "packaging                   21.3\n",
      "pandas                      1.5.0\n",
      "parso                       0.8.3\n",
      "pexpect                     4.8.0\n",
      "pickleshare                 0.7.5\n",
      "pkg_resources               NA\n",
      "prompt_toolkit              3.0.20\n",
      "psutil                      5.9.1\n",
      "ptyprocess                  0.7.0\n",
      "pure_eval                   0.2.2\n",
      "pydev_ipython               NA\n",
      "pydevconsole                NA\n",
      "pydevd                      2.6.0\n",
      "pydevd_concurrency_analyser NA\n",
      "pydevd_file_utils           NA\n",
      "pydevd_plugins              NA\n",
      "pydevd_tracing              NA\n",
      "pygments                    2.11.2\n",
      "pyparsing                   3.0.9\n",
      "pytz                        2022.4\n",
      "scipy                       1.9.1\n",
      "session_info                1.0.0\n",
      "six                         1.16.0\n",
      "sklearn                     1.1.2\n",
      "stack_data                  0.2.0\n",
      "threadpoolctl               3.1.0\n",
      "tornado                     6.1\n",
      "traitlets                   5.1.1\n",
      "wcwidth                     0.2.5\n",
      "zmq                         23.2.0\n",
      "zoneinfo                    NA\n",
      "-----\n",
      "IPython             8.4.0\n",
      "jupyter_client      7.2.2\n",
      "jupyter_core        4.10.0\n",
      "-----\n",
      "Python 3.9.13 | packaged by conda-forge | (main, May 27 2022, 16:56:21) [GCC 10.3.0]\n",
      "Linux-5.19.13-200.fc36.x86_64-x86_64-with-glibc2.35\n",
      "-----\n",
      "Session information updated at 2022-10-17 12:29\n"
     ]
    }
   ],
   "source": [
    "sc.settings.verbosity = 3\n",
    "sc.logging.print_versions()\n",
    "sc.settings.set_figure_params(dpi = 180, color_map = 'magma_r', dpi_save = 300, vector_friendly = True, format = 'svg')"
   ]
  },
  {
   "cell_type": "markdown",
   "metadata": {},
   "source": [
    "## Format CTRL object"
   ]
  },
  {
   "cell_type": "markdown",
   "metadata": {},
   "source": [
    "- Read in `scNym` annotated object to extract labels"
   ]
  },
  {
   "cell_type": "code",
   "execution_count": 4,
   "metadata": {},
   "outputs": [
    {
     "data": {
      "text/plain": [
       "AnnData object with n_obs × n_vars = 145381 × 20199\n",
       "    obs: 'object', 'domain_label', 'cell_states', 'scNym', 'scNym_confidence'\n",
       "    var: 'gene_id-query', 'n_cells', 'n_counts'\n",
       "    uns: 'cell_states_colors', 'log1p', 'neighbors', 'object_colors', 'scNym_colors', 'scNym_probabilities', 'umap'\n",
       "    obsm: 'X_scnym', 'X_umap'\n",
       "    obsp: 'connectivities', 'distances'"
      ]
     },
     "execution_count": 4,
     "metadata": {},
     "output_type": "execute_result"
    }
   ],
   "source": [
    "query_scnym = sc.read('/home/cartalop/data/single_cell/lung/tb/working_objects/CaiY_PBMC_TB_post-scnym_ctl220717.h5ad')\n",
    "query_scnym"
   ]
  },
  {
   "cell_type": "markdown",
   "metadata": {},
   "source": [
    "- Read in raw object"
   ]
  },
  {
   "cell_type": "code",
   "execution_count": 5,
   "metadata": {},
   "outputs": [
    {
     "data": {
      "text/plain": [
       "AnnData object with n_obs × n_vars = 145381 × 61533\n",
       "    obs: 'study', 'individual', 'sample', 'tissue', 'donor', 'age', 'gender', 'status', 'data_type', 'centre', 'version', 'batch', 'n_genes', 'n_genes_by_counts', 'total_counts', 'total_counts_mt', 'pct_counts_mt', 'total_counts_ribo', 'pct_counts_ribo', 'percent_mt2', 'n_counts', 'percent_chrY', 'XIST-counts', 'S_score', 'G2M_score', 'doublet_scores', 'predicted_doublets', 'object', 'protocol', 'dataset'\n",
       "    var: 'gene_id', 'mt', 'ribo', 'n_cells_by_counts-caiy2020', 'mean_counts-caiy2020', 'pct_dropout_by_counts-caiy2020', 'total_counts-caiy2020', 'n_cells_by_counts-caiy2022', 'mean_counts-caiy2022', 'pct_dropout_by_counts-caiy2022', 'total_counts-caiy2022'\n",
       "    layers: 'counts', 'sqrt_norm'"
      ]
     },
     "execution_count": 5,
     "metadata": {},
     "output_type": "execute_result"
    }
   ],
   "source": [
    "query_raw = sc.read_h5ad('/home/cartalop/data/single_cell/lung/tb/merged/CaiY_PBMC-TB_QCed_pre-processed_ctl221017.h5ad') \n",
    "query_raw"
   ]
  },
  {
   "cell_type": "markdown",
   "metadata": {},
   "source": [
    "### Add annotations to raw object"
   ]
  },
  {
   "cell_type": "code",
   "execution_count": 9,
   "metadata": {},
   "outputs": [
    {
     "data": {
      "text/plain": [
       "AnnData object with n_obs × n_vars = 145381 × 61533\n",
       "    obs: 'study', 'individual', 'sample', 'tissue', 'donor', 'age', 'gender', 'status', 'data_type', 'centre', 'version', 'batch', 'n_genes', 'n_genes_by_counts', 'total_counts', 'total_counts_mt', 'pct_counts_mt', 'total_counts_ribo', 'pct_counts_ribo', 'percent_mt2', 'n_counts', 'percent_chrY', 'XIST-counts', 'S_score', 'G2M_score', 'doublet_scores', 'predicted_doublets', 'object', 'protocol', 'dataset'\n",
       "    var: 'gene_id', 'mt', 'ribo', 'n_cells_by_counts-caiy2020', 'mean_counts-caiy2020', 'pct_dropout_by_counts-caiy2020', 'total_counts-caiy2020', 'n_cells_by_counts-caiy2022', 'mean_counts-caiy2022', 'pct_dropout_by_counts-caiy2022', 'total_counts-caiy2022'\n",
       "    layers: 'counts', 'sqrt_norm'"
      ]
     },
     "execution_count": 9,
     "metadata": {},
     "output_type": "execute_result"
    }
   ],
   "source": [
    "query_annotated = query_raw.copy()\n",
    "query_annotated"
   ]
  },
  {
   "cell_type": "markdown",
   "metadata": {},
   "source": [
    "### Copy observations from raw object to annotated object"
   ]
  },
  {
   "cell_type": "code",
   "execution_count": 10,
   "metadata": {},
   "outputs": [
    {
     "data": {
      "text/html": [
       "<div>\n",
       "<style scoped>\n",
       "    .dataframe tbody tr th:only-of-type {\n",
       "        vertical-align: middle;\n",
       "    }\n",
       "\n",
       "    .dataframe tbody tr th {\n",
       "        vertical-align: top;\n",
       "    }\n",
       "\n",
       "    .dataframe thead th {\n",
       "        text-align: right;\n",
       "    }\n",
       "</style>\n",
       "<table border=\"1\" class=\"dataframe\">\n",
       "  <thead>\n",
       "    <tr style=\"text-align: right;\">\n",
       "      <th></th>\n",
       "      <th>study</th>\n",
       "      <th>individual</th>\n",
       "      <th>sample</th>\n",
       "      <th>tissue</th>\n",
       "      <th>donor</th>\n",
       "      <th>age</th>\n",
       "      <th>gender</th>\n",
       "      <th>status</th>\n",
       "      <th>data_type</th>\n",
       "      <th>centre</th>\n",
       "      <th>...</th>\n",
       "      <th>n_counts</th>\n",
       "      <th>percent_chrY</th>\n",
       "      <th>XIST-counts</th>\n",
       "      <th>S_score</th>\n",
       "      <th>G2M_score</th>\n",
       "      <th>doublet_scores</th>\n",
       "      <th>predicted_doublets</th>\n",
       "      <th>object</th>\n",
       "      <th>protocol</th>\n",
       "      <th>dataset</th>\n",
       "    </tr>\n",
       "    <tr>\n",
       "      <th>barcode</th>\n",
       "      <th></th>\n",
       "      <th></th>\n",
       "      <th></th>\n",
       "      <th></th>\n",
       "      <th></th>\n",
       "      <th></th>\n",
       "      <th></th>\n",
       "      <th></th>\n",
       "      <th></th>\n",
       "      <th></th>\n",
       "      <th></th>\n",
       "      <th></th>\n",
       "      <th></th>\n",
       "      <th></th>\n",
       "      <th></th>\n",
       "      <th></th>\n",
       "      <th></th>\n",
       "      <th></th>\n",
       "      <th></th>\n",
       "      <th></th>\n",
       "      <th></th>\n",
       "    </tr>\n",
       "  </thead>\n",
       "  <tbody>\n",
       "    <tr>\n",
       "      <th>AAACCTGAGAACAATC-acTB3-caiy2020</th>\n",
       "      <td>CaiY_2021</td>\n",
       "      <td>SAMN14048025</td>\n",
       "      <td>PBMC_TB_3</td>\n",
       "      <td>PBMC</td>\n",
       "      <td>SAMN14048025</td>\n",
       "      <td>34</td>\n",
       "      <td>male</td>\n",
       "      <td>active_TB</td>\n",
       "      <td>scRNAseq</td>\n",
       "      <td>Shenzhen University</td>\n",
       "      <td>...</td>\n",
       "      <td>5634.0</td>\n",
       "      <td>0.053248</td>\n",
       "      <td>0.0</td>\n",
       "      <td>-0.352188</td>\n",
       "      <td>-0.193287</td>\n",
       "      <td>0.028007</td>\n",
       "      <td>False</td>\n",
       "      <td>NaN</td>\n",
       "      <td>NaN</td>\n",
       "      <td>caiy2020</td>\n",
       "    </tr>\n",
       "    <tr>\n",
       "      <th>AAACCTGAGAAGGTGA-acTB3-caiy2020</th>\n",
       "      <td>CaiY_2021</td>\n",
       "      <td>SAMN14048025</td>\n",
       "      <td>PBMC_TB_3</td>\n",
       "      <td>PBMC</td>\n",
       "      <td>SAMN14048025</td>\n",
       "      <td>34</td>\n",
       "      <td>male</td>\n",
       "      <td>active_TB</td>\n",
       "      <td>scRNAseq</td>\n",
       "      <td>Shenzhen University</td>\n",
       "      <td>...</td>\n",
       "      <td>3536.0</td>\n",
       "      <td>0.113122</td>\n",
       "      <td>0.0</td>\n",
       "      <td>-0.064944</td>\n",
       "      <td>-0.071169</td>\n",
       "      <td>0.058026</td>\n",
       "      <td>False</td>\n",
       "      <td>NaN</td>\n",
       "      <td>NaN</td>\n",
       "      <td>caiy2020</td>\n",
       "    </tr>\n",
       "    <tr>\n",
       "      <th>AAACCTGAGATCTGCT-acTB3-caiy2020</th>\n",
       "      <td>CaiY_2021</td>\n",
       "      <td>SAMN14048025</td>\n",
       "      <td>PBMC_TB_3</td>\n",
       "      <td>PBMC</td>\n",
       "      <td>SAMN14048025</td>\n",
       "      <td>34</td>\n",
       "      <td>male</td>\n",
       "      <td>active_TB</td>\n",
       "      <td>scRNAseq</td>\n",
       "      <td>Shenzhen University</td>\n",
       "      <td>...</td>\n",
       "      <td>1846.0</td>\n",
       "      <td>0.054171</td>\n",
       "      <td>0.0</td>\n",
       "      <td>-0.231399</td>\n",
       "      <td>-0.080643</td>\n",
       "      <td>0.093938</td>\n",
       "      <td>False</td>\n",
       "      <td>NaN</td>\n",
       "      <td>NaN</td>\n",
       "      <td>caiy2020</td>\n",
       "    </tr>\n",
       "    <tr>\n",
       "      <th>AAACCTGAGCACAGGT-acTB3-caiy2020</th>\n",
       "      <td>CaiY_2021</td>\n",
       "      <td>SAMN14048025</td>\n",
       "      <td>PBMC_TB_3</td>\n",
       "      <td>PBMC</td>\n",
       "      <td>SAMN14048025</td>\n",
       "      <td>34</td>\n",
       "      <td>male</td>\n",
       "      <td>active_TB</td>\n",
       "      <td>scRNAseq</td>\n",
       "      <td>Shenzhen University</td>\n",
       "      <td>...</td>\n",
       "      <td>3993.0</td>\n",
       "      <td>0.075131</td>\n",
       "      <td>0.0</td>\n",
       "      <td>-0.227884</td>\n",
       "      <td>-0.258770</td>\n",
       "      <td>0.071884</td>\n",
       "      <td>False</td>\n",
       "      <td>NaN</td>\n",
       "      <td>NaN</td>\n",
       "      <td>caiy2020</td>\n",
       "    </tr>\n",
       "    <tr>\n",
       "      <th>AAACCTGAGCGTGAAC-acTB3-caiy2020</th>\n",
       "      <td>CaiY_2021</td>\n",
       "      <td>SAMN14048025</td>\n",
       "      <td>PBMC_TB_3</td>\n",
       "      <td>PBMC</td>\n",
       "      <td>SAMN14048025</td>\n",
       "      <td>34</td>\n",
       "      <td>male</td>\n",
       "      <td>active_TB</td>\n",
       "      <td>scRNAseq</td>\n",
       "      <td>Shenzhen University</td>\n",
       "      <td>...</td>\n",
       "      <td>2035.0</td>\n",
       "      <td>0.147420</td>\n",
       "      <td>0.0</td>\n",
       "      <td>0.020959</td>\n",
       "      <td>0.025030</td>\n",
       "      <td>0.022440</td>\n",
       "      <td>False</td>\n",
       "      <td>NaN</td>\n",
       "      <td>NaN</td>\n",
       "      <td>caiy2020</td>\n",
       "    </tr>\n",
       "  </tbody>\n",
       "</table>\n",
       "<p>5 rows × 30 columns</p>\n",
       "</div>"
      ],
      "text/plain": [
       "                                     study    individual     sample tissue  \\\n",
       "barcode                                                                      \n",
       "AAACCTGAGAACAATC-acTB3-caiy2020  CaiY_2021  SAMN14048025  PBMC_TB_3   PBMC   \n",
       "AAACCTGAGAAGGTGA-acTB3-caiy2020  CaiY_2021  SAMN14048025  PBMC_TB_3   PBMC   \n",
       "AAACCTGAGATCTGCT-acTB3-caiy2020  CaiY_2021  SAMN14048025  PBMC_TB_3   PBMC   \n",
       "AAACCTGAGCACAGGT-acTB3-caiy2020  CaiY_2021  SAMN14048025  PBMC_TB_3   PBMC   \n",
       "AAACCTGAGCGTGAAC-acTB3-caiy2020  CaiY_2021  SAMN14048025  PBMC_TB_3   PBMC   \n",
       "\n",
       "                                        donor age gender     status data_type  \\\n",
       "barcode                                                                         \n",
       "AAACCTGAGAACAATC-acTB3-caiy2020  SAMN14048025  34   male  active_TB  scRNAseq   \n",
       "AAACCTGAGAAGGTGA-acTB3-caiy2020  SAMN14048025  34   male  active_TB  scRNAseq   \n",
       "AAACCTGAGATCTGCT-acTB3-caiy2020  SAMN14048025  34   male  active_TB  scRNAseq   \n",
       "AAACCTGAGCACAGGT-acTB3-caiy2020  SAMN14048025  34   male  active_TB  scRNAseq   \n",
       "AAACCTGAGCGTGAAC-acTB3-caiy2020  SAMN14048025  34   male  active_TB  scRNAseq   \n",
       "\n",
       "                                              centre  ... n_counts  \\\n",
       "barcode                                               ...            \n",
       "AAACCTGAGAACAATC-acTB3-caiy2020  Shenzhen University  ...   5634.0   \n",
       "AAACCTGAGAAGGTGA-acTB3-caiy2020  Shenzhen University  ...   3536.0   \n",
       "AAACCTGAGATCTGCT-acTB3-caiy2020  Shenzhen University  ...   1846.0   \n",
       "AAACCTGAGCACAGGT-acTB3-caiy2020  Shenzhen University  ...   3993.0   \n",
       "AAACCTGAGCGTGAAC-acTB3-caiy2020  Shenzhen University  ...   2035.0   \n",
       "\n",
       "                                percent_chrY  XIST-counts   S_score  \\\n",
       "barcode                                                               \n",
       "AAACCTGAGAACAATC-acTB3-caiy2020     0.053248          0.0 -0.352188   \n",
       "AAACCTGAGAAGGTGA-acTB3-caiy2020     0.113122          0.0 -0.064944   \n",
       "AAACCTGAGATCTGCT-acTB3-caiy2020     0.054171          0.0 -0.231399   \n",
       "AAACCTGAGCACAGGT-acTB3-caiy2020     0.075131          0.0 -0.227884   \n",
       "AAACCTGAGCGTGAAC-acTB3-caiy2020     0.147420          0.0  0.020959   \n",
       "\n",
       "                                 G2M_score  doublet_scores  \\\n",
       "barcode                                                      \n",
       "AAACCTGAGAACAATC-acTB3-caiy2020  -0.193287        0.028007   \n",
       "AAACCTGAGAAGGTGA-acTB3-caiy2020  -0.071169        0.058026   \n",
       "AAACCTGAGATCTGCT-acTB3-caiy2020  -0.080643        0.093938   \n",
       "AAACCTGAGCACAGGT-acTB3-caiy2020  -0.258770        0.071884   \n",
       "AAACCTGAGCGTGAAC-acTB3-caiy2020   0.025030        0.022440   \n",
       "\n",
       "                                 predicted_doublets  object  protocol  \\\n",
       "barcode                                                                 \n",
       "AAACCTGAGAACAATC-acTB3-caiy2020               False     NaN       NaN   \n",
       "AAACCTGAGAAGGTGA-acTB3-caiy2020               False     NaN       NaN   \n",
       "AAACCTGAGATCTGCT-acTB3-caiy2020               False     NaN       NaN   \n",
       "AAACCTGAGCACAGGT-acTB3-caiy2020               False     NaN       NaN   \n",
       "AAACCTGAGCGTGAAC-acTB3-caiy2020               False     NaN       NaN   \n",
       "\n",
       "                                  dataset  \n",
       "barcode                                    \n",
       "AAACCTGAGAACAATC-acTB3-caiy2020  caiy2020  \n",
       "AAACCTGAGAAGGTGA-acTB3-caiy2020  caiy2020  \n",
       "AAACCTGAGATCTGCT-acTB3-caiy2020  caiy2020  \n",
       "AAACCTGAGCACAGGT-acTB3-caiy2020  caiy2020  \n",
       "AAACCTGAGCGTGAAC-acTB3-caiy2020  caiy2020  \n",
       "\n",
       "[5 rows x 30 columns]"
      ]
     },
     "execution_count": 10,
     "metadata": {},
     "output_type": "execute_result"
    }
   ],
   "source": [
    "query_annotated.obs.head()"
   ]
  },
  {
   "cell_type": "code",
   "execution_count": 11,
   "metadata": {},
   "outputs": [
    {
     "data": {
      "text/plain": [
       "T CD4 naive               41886\n",
       "Monocyte CD14             26295\n",
       "NK                        19083\n",
       "T CD4 helper              12651\n",
       "T CD8 CTL                  9015\n",
       "T CD8 naive                6255\n",
       "B naive                    6236\n",
       "B n-sw mem                 3504\n",
       "T reg                      2998\n",
       "Monocyte CD14 IFN stim     2898\n",
       "T CD8 CM                   1646\n",
       "T CD8 EMRA                 1627\n",
       "Monocyte CD16              1275\n",
       "MAIT                       1227\n",
       "B sw mem                   1110\n",
       "T g/d                       984\n",
       "T CD8 EM                    919\n",
       "Platelets                   892\n",
       "NK CD56                     687\n",
       "cDC2                        679\n",
       "T CD4 naive IFN stim        599\n",
       "T CD4 CTL                   566\n",
       "Plasma cells                537\n",
       "Cycling                     441\n",
       "Monocyte CD16 IFN stim      358\n",
       "Monocyte CD16+C1            236\n",
       "B invar                     217\n",
       "pDC                         217\n",
       "B naive IFN stim            172\n",
       "HPC                          55\n",
       "NK IFN stim                  48\n",
       "RBC                          33\n",
       "B n-sw mem IFN stim          15\n",
       "Plasmablasts                 13\n",
       "ILC                           7\n",
       "Name: scNym, dtype: int64"
      ]
     },
     "execution_count": 11,
     "metadata": {},
     "output_type": "execute_result"
    }
   ],
   "source": [
    "query_annotated.obs = query_annotated.obs.assign(scNym = pd.Series(query_scnym.obs['scNym']).values)\n",
    "query_annotated.obs = query_annotated.obs.assign(scNym_confidence = pd.Series(query_scnym.obs['scNym_confidence']).values)\n",
    "query_annotated.obs['scNym'].value_counts()"
   ]
  },
  {
   "cell_type": "code",
   "execution_count": 12,
   "metadata": {},
   "outputs": [
    {
     "data": {
      "text/plain": [
       "Index(['B invar', 'B n-sw mem', 'B n-sw mem IFN stim', 'B naive',\n",
       "       'B naive IFN stim', 'B sw mem', 'Cycling', 'HPC', 'ILC', 'MAIT',\n",
       "       'Monocyte CD14', 'Monocyte CD14 IFN stim', 'Monocyte CD16',\n",
       "       'Monocyte CD16 IFN stim', 'Monocyte CD16+C1', 'NK', 'NK CD56',\n",
       "       'NK IFN stim', 'Plasma cells', 'Plasmablasts', 'Platelets', 'RBC',\n",
       "       'T CD4 CTL', 'T CD4 helper', 'T CD4 naive', 'T CD4 naive IFN stim',\n",
       "       'T CD8 CM', 'T CD8 CTL', 'T CD8 EM', 'T CD8 EMRA', 'T CD8 naive',\n",
       "       'T g/d', 'T reg', 'cDC2', 'pDC'],\n",
       "      dtype='object')"
      ]
     },
     "execution_count": 12,
     "metadata": {},
     "output_type": "execute_result"
    }
   ],
   "source": [
    "query_annotated.obs['scNym'].cat.categories"
   ]
  },
  {
   "cell_type": "markdown",
   "metadata": {},
   "source": [
    "### Make matrix sparse"
   ]
  },
  {
   "cell_type": "code",
   "execution_count": 13,
   "metadata": {},
   "outputs": [],
   "source": [
    "query_annotated.X = sp.sparse.csr_matrix(query_annotated.X)"
   ]
  },
  {
   "cell_type": "markdown",
   "metadata": {},
   "source": [
    "### Save object"
   ]
  },
  {
   "cell_type": "code",
   "execution_count": 15,
   "metadata": {},
   "outputs": [],
   "source": [
    "query_annotated.write('/home/cartalop/data/single_cell/lung/tb/working_objects/CaiY_TB-PBMC_scnym_annotated_ctl221017.h5ad')"
   ]
  },
  {
   "cell_type": "code",
   "execution_count": null,
   "metadata": {},
   "outputs": [],
   "source": []
  }
 ],
 "metadata": {
  "kernelspec": {
   "display_name": "Python 3.9.13 ('base')",
   "language": "python",
   "name": "python3"
  },
  "language_info": {
   "codemirror_mode": {
    "name": "ipython",
    "version": 3
   },
   "file_extension": ".py",
   "mimetype": "text/x-python",
   "name": "python",
   "nbconvert_exporter": "python",
   "pygments_lexer": "ipython3",
   "version": "3.9.13"
  },
  "orig_nbformat": 4,
  "vscode": {
   "interpreter": {
    "hash": "4510a0ece3a3a7b8be0bb6ae7f2189a7efdcd0f6cb679d9dc9ff26d42b2b4b7c"
   }
  }
 },
 "nbformat": 4,
 "nbformat_minor": 2
}
