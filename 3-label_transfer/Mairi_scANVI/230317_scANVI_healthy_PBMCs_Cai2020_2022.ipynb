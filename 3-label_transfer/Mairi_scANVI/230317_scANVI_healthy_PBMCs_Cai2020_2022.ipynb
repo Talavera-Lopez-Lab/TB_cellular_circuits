{
 "cells": [
  {
   "attachments": {},
   "cell_type": "markdown",
   "metadata": {},
   "source": [
    "## scANVI analysis for healthy PBMC pilot study (Cai 2020 and Cai 2022)\n",
    "\n",
    "**Objective**: Run scANVI analysis for label transfer for healthy PBMCs [Cai 2020 and Cai 2022]\n",
    "\n",
    "\n",
    "- **Developed by**: Mairi McClean\n",
    "\n",
    "- **Institute of Computational Biology - Computational Health Centre - Helmholtz Munich**\n",
    "\n",
    "- v230317\n",
    "\n"
   ]
  },
  {
   "attachments": {},
   "cell_type": "markdown",
   "metadata": {},
   "source": [
    "### Import modules "
   ]
  },
  {
   "cell_type": "code",
   "execution_count": 1,
   "metadata": {},
   "outputs": [
    {
     "name": "stderr",
     "output_type": "stream",
     "text": [
      "/Users/mairi.mcclean/mambaforge/envs/scanvi_local/lib/python3.10/site-packages/scvi_colab/_core.py:41: UserWarning: \n",
      "                Not currently in Google Colab environment.\n",
      "\n",
      "                Please run with `run_outside_colab=True` to override.\n",
      "\n",
      "                Returning with no further action.\n",
      "                \n",
      "  warn(\n"
     ]
    }
   ],
   "source": [
    "import sys\n",
    "\n",
    "from scvi_colab import install\n",
    "\n",
    "install()\n",
    "\n",
    "IN_COLAB = \"google.colab\" in sys.modules\n",
    "if IN_COLAB:\n",
    "    %pip install --quiet scrublet"
   ]
  },
  {
   "cell_type": "code",
   "execution_count": 2,
   "metadata": {},
   "outputs": [
    {
     "name": "stderr",
     "output_type": "stream",
     "text": [
      "/Users/mairi.mcclean/mambaforge/envs/scanvi_local/lib/python3.10/site-packages/tqdm/auto.py:21: TqdmWarning: IProgress not found. Please update jupyter and ipywidgets. See https://ipywidgets.readthedocs.io/en/stable/user_install.html\n",
      "  from .autonotebook import tqdm as notebook_tqdm\n",
      "Global seed set to 0\n",
      "/Users/mairi.mcclean/mambaforge/envs/scanvi_local/lib/python3.10/site-packages/flax/struct.py:132: FutureWarning: jax.tree_util.register_keypaths is deprecated, and will be removed in a future release. Please use `register_pytree_with_keys()` instead.\n",
      "  jax.tree_util.register_keypaths(data_clz, keypaths)\n",
      "/Users/mairi.mcclean/mambaforge/envs/scanvi_local/lib/python3.10/site-packages/flax/struct.py:132: FutureWarning: jax.tree_util.register_keypaths is deprecated, and will be removed in a future release. Please use `register_pytree_with_keys()` instead.\n",
      "  jax.tree_util.register_keypaths(data_clz, keypaths)\n"
     ]
    }
   ],
   "source": [
    "import sys\n",
    "import warnings\n",
    "\n",
    "import anndata\n",
    "import matplotlib.pyplot as plt\n",
    "import numpy as np\n",
    "import pandas as pd\n",
    "import scanpy as sc\n",
    "import scrublet as scr\n",
    "import scvi\n"
   ]
  },
  {
   "cell_type": "code",
   "execution_count": 3,
   "metadata": {},
   "outputs": [
    {
     "name": "stderr",
     "output_type": "stream",
     "text": [
      "Global seed set to 94705\n"
     ]
    }
   ],
   "source": [
    "warnings.simplefilter(action=\"ignore\", category=FutureWarning)\n",
    "\n",
    "\n",
    "sc.set_figure_params(figsize=(4, 4))\n",
    "scvi.settings.seed = 94705\n",
    "\n",
    "%config InlineBackend.print_figure_kwargs={'facecolor' : \"w\"}\n",
    "%config InlineBackend.figure_format='retina'"
   ]
  },
  {
   "attachments": {},
   "cell_type": "markdown",
   "metadata": {},
   "source": [
    "### Read in data"
   ]
  },
  {
   "cell_type": "code",
   "execution_count": 4,
   "metadata": {},
   "outputs": [
    {
     "data": {
      "text/plain": [
       "AnnData object with n_obs × n_vars = 422220 × 33751\n",
       "    obs: 'patient_id', 'Ethnicity', 'BMI', 'annotation_broad', 'annotation_detailed', 'annotation_detailed_fullNames', 'Age_group', 'COVID_severity', 'COVID_status', 'Group', 'Sex', 'Smoker', 'sample_id', 'sequencing_library', 'Protein_modality_weight'\n",
       "    var: 'name'\n",
       "    obsm: 'X_ umap (wnn derived)', 'X_umap (after harmony ADT)', 'X_umap (after harmony RNA)', 'X_umap (before harmony ADT)', 'X_umap (before harmony RNA)'"
      ]
     },
     "execution_count": 4,
     "metadata": {},
     "output_type": "execute_result"
    }
   ],
   "source": [
    "adata_ref = sc.read_h5ad('/Volumes/Lacie/data_lake/Mairi_example/INBOX/sc_downloads/yoshida_2021/meyer_nikolic_covid_pbmc.cellxgene.20210813.h5ad')\n",
    "adata_ref"
   ]
  },
  {
   "cell_type": "code",
   "execution_count": 5,
   "metadata": {},
   "outputs": [
    {
     "data": {
      "text/html": [
       "<div>\n",
       "<style scoped>\n",
       "    .dataframe tbody tr th:only-of-type {\n",
       "        vertical-align: middle;\n",
       "    }\n",
       "\n",
       "    .dataframe tbody tr th {\n",
       "        vertical-align: top;\n",
       "    }\n",
       "\n",
       "    .dataframe thead th {\n",
       "        text-align: right;\n",
       "    }\n",
       "</style>\n",
       "<table border=\"1\" class=\"dataframe\">\n",
       "  <thead>\n",
       "    <tr style=\"text-align: right;\">\n",
       "      <th></th>\n",
       "      <th>patient_id</th>\n",
       "      <th>Ethnicity</th>\n",
       "      <th>BMI</th>\n",
       "      <th>annotation_broad</th>\n",
       "      <th>annotation_detailed</th>\n",
       "      <th>annotation_detailed_fullNames</th>\n",
       "      <th>Age_group</th>\n",
       "      <th>COVID_severity</th>\n",
       "      <th>COVID_status</th>\n",
       "      <th>Group</th>\n",
       "      <th>Sex</th>\n",
       "      <th>Smoker</th>\n",
       "      <th>sample_id</th>\n",
       "      <th>sequencing_library</th>\n",
       "      <th>Protein_modality_weight</th>\n",
       "    </tr>\n",
       "  </thead>\n",
       "  <tbody>\n",
       "    <tr>\n",
       "      <th>CV001_KM10202384-CV001_KM10202394_AAACCTGAGGCAGGTT-1</th>\n",
       "      <td>AN5</td>\n",
       "      <td>EUR</td>\n",
       "      <td>Unknown</td>\n",
       "      <td>Monocyte</td>\n",
       "      <td>Monocyte CD14</td>\n",
       "      <td>Classical monocyte</td>\n",
       "      <td>Adult</td>\n",
       "      <td>Healthy</td>\n",
       "      <td>Healthy</td>\n",
       "      <td>Adult</td>\n",
       "      <td>Female</td>\n",
       "      <td>Non-smoker</td>\n",
       "      <td>AN5</td>\n",
       "      <td>CV001_KM10202384-CV001_KM10202394</td>\n",
       "      <td>0.359517</td>\n",
       "    </tr>\n",
       "    <tr>\n",
       "      <th>CV001_KM10202384-CV001_KM10202394_AAACCTGAGTGTCCCG-1</th>\n",
       "      <td>AN5</td>\n",
       "      <td>EUR</td>\n",
       "      <td>Unknown</td>\n",
       "      <td>T CD4+</td>\n",
       "      <td>T CD4 helper</td>\n",
       "      <td>T CD4 helper</td>\n",
       "      <td>Adult</td>\n",
       "      <td>Healthy</td>\n",
       "      <td>Healthy</td>\n",
       "      <td>Adult</td>\n",
       "      <td>Female</td>\n",
       "      <td>Non-smoker</td>\n",
       "      <td>AN5</td>\n",
       "      <td>CV001_KM10202384-CV001_KM10202394</td>\n",
       "      <td>0.577522</td>\n",
       "    </tr>\n",
       "    <tr>\n",
       "      <th>CV001_KM10202384-CV001_KM10202394_AAACCTGCAGATGGGT-1</th>\n",
       "      <td>AN3</td>\n",
       "      <td>EUR</td>\n",
       "      <td>Unknown</td>\n",
       "      <td>T CD4+</td>\n",
       "      <td>T CD4 helper</td>\n",
       "      <td>T CD4 helper</td>\n",
       "      <td>Adult</td>\n",
       "      <td>Healthy</td>\n",
       "      <td>Healthy</td>\n",
       "      <td>Adult</td>\n",
       "      <td>Male</td>\n",
       "      <td>Non-smoker</td>\n",
       "      <td>AN3</td>\n",
       "      <td>CV001_KM10202384-CV001_KM10202394</td>\n",
       "      <td>0.369143</td>\n",
       "    </tr>\n",
       "    <tr>\n",
       "      <th>CV001_KM10202384-CV001_KM10202394_AAACCTGGTATAGTAG-1</th>\n",
       "      <td>AN5</td>\n",
       "      <td>EUR</td>\n",
       "      <td>Unknown</td>\n",
       "      <td>T CD8+</td>\n",
       "      <td>T CD8 naive</td>\n",
       "      <td>T CD8 naive</td>\n",
       "      <td>Adult</td>\n",
       "      <td>Healthy</td>\n",
       "      <td>Healthy</td>\n",
       "      <td>Adult</td>\n",
       "      <td>Female</td>\n",
       "      <td>Non-smoker</td>\n",
       "      <td>AN5</td>\n",
       "      <td>CV001_KM10202384-CV001_KM10202394</td>\n",
       "      <td>0.785563</td>\n",
       "    </tr>\n",
       "    <tr>\n",
       "      <th>CV001_KM10202384-CV001_KM10202394_AAACCTGGTGTGCGTC-1</th>\n",
       "      <td>AN5</td>\n",
       "      <td>EUR</td>\n",
       "      <td>Unknown</td>\n",
       "      <td>T CD4+</td>\n",
       "      <td>T CD4 naive</td>\n",
       "      <td>T CD4 naive</td>\n",
       "      <td>Adult</td>\n",
       "      <td>Healthy</td>\n",
       "      <td>Healthy</td>\n",
       "      <td>Adult</td>\n",
       "      <td>Female</td>\n",
       "      <td>Non-smoker</td>\n",
       "      <td>AN5</td>\n",
       "      <td>CV001_KM10202384-CV001_KM10202394</td>\n",
       "      <td>0.564174</td>\n",
       "    </tr>\n",
       "    <tr>\n",
       "      <th>...</th>\n",
       "      <td>...</td>\n",
       "      <td>...</td>\n",
       "      <td>...</td>\n",
       "      <td>...</td>\n",
       "      <td>...</td>\n",
       "      <td>...</td>\n",
       "      <td>...</td>\n",
       "      <td>...</td>\n",
       "      <td>...</td>\n",
       "      <td>...</td>\n",
       "      <td>...</td>\n",
       "      <td>...</td>\n",
       "      <td>...</td>\n",
       "      <td>...</td>\n",
       "      <td>...</td>\n",
       "    </tr>\n",
       "    <tr>\n",
       "      <th>S28_TTTGTCAGTTCTGTTT-1</th>\n",
       "      <td>PC9</td>\n",
       "      <td>EUR</td>\n",
       "      <td>27.17</td>\n",
       "      <td>NK</td>\n",
       "      <td>NK</td>\n",
       "      <td>NK</td>\n",
       "      <td>Adult</td>\n",
       "      <td>Severe</td>\n",
       "      <td>Post-COVID-19</td>\n",
       "      <td>Adult</td>\n",
       "      <td>Male</td>\n",
       "      <td>Non-smoker</td>\n",
       "      <td>PC9</td>\n",
       "      <td>CV001_KM9294396-CV001_KM9294404</td>\n",
       "      <td>0.429398</td>\n",
       "    </tr>\n",
       "    <tr>\n",
       "      <th>S28_TTTGTCATCAACCAAC-1</th>\n",
       "      <td>PC9</td>\n",
       "      <td>EUR</td>\n",
       "      <td>27.17</td>\n",
       "      <td>Monocyte</td>\n",
       "      <td>Monocyte CD14</td>\n",
       "      <td>Classical monocyte</td>\n",
       "      <td>Adult</td>\n",
       "      <td>Severe</td>\n",
       "      <td>Post-COVID-19</td>\n",
       "      <td>Adult</td>\n",
       "      <td>Male</td>\n",
       "      <td>Non-smoker</td>\n",
       "      <td>PC9</td>\n",
       "      <td>CV001_KM9294396-CV001_KM9294404</td>\n",
       "      <td>0.677910</td>\n",
       "    </tr>\n",
       "    <tr>\n",
       "      <th>S28_TTTGTCATCATTATCC-1</th>\n",
       "      <td>PC9</td>\n",
       "      <td>EUR</td>\n",
       "      <td>27.17</td>\n",
       "      <td>Monocyte</td>\n",
       "      <td>Monocyte CD14</td>\n",
       "      <td>Classical monocyte</td>\n",
       "      <td>Adult</td>\n",
       "      <td>Severe</td>\n",
       "      <td>Post-COVID-19</td>\n",
       "      <td>Adult</td>\n",
       "      <td>Male</td>\n",
       "      <td>Non-smoker</td>\n",
       "      <td>PC9</td>\n",
       "      <td>CV001_KM9294396-CV001_KM9294404</td>\n",
       "      <td>0.422796</td>\n",
       "    </tr>\n",
       "    <tr>\n",
       "      <th>S28_TTTGTCATCCTATGTT-1</th>\n",
       "      <td>PC9</td>\n",
       "      <td>EUR</td>\n",
       "      <td>27.17</td>\n",
       "      <td>DC</td>\n",
       "      <td>pDC</td>\n",
       "      <td>pDC</td>\n",
       "      <td>Adult</td>\n",
       "      <td>Severe</td>\n",
       "      <td>Post-COVID-19</td>\n",
       "      <td>Adult</td>\n",
       "      <td>Male</td>\n",
       "      <td>Non-smoker</td>\n",
       "      <td>PC9</td>\n",
       "      <td>CV001_KM9294396-CV001_KM9294404</td>\n",
       "      <td>0.471905</td>\n",
       "    </tr>\n",
       "    <tr>\n",
       "      <th>S28_TTTGTCATCTCAAGTG-1</th>\n",
       "      <td>PC2</td>\n",
       "      <td>EUR</td>\n",
       "      <td>36.9</td>\n",
       "      <td>T CD8+</td>\n",
       "      <td>T CD8 CTL</td>\n",
       "      <td>T CD8 CTL</td>\n",
       "      <td>Adult</td>\n",
       "      <td>Severe</td>\n",
       "      <td>Post-COVID-19</td>\n",
       "      <td>Adult</td>\n",
       "      <td>Male</td>\n",
       "      <td>Non-smoker</td>\n",
       "      <td>PC2</td>\n",
       "      <td>CV001_KM9294396-CV001_KM9294404</td>\n",
       "      <td>0.313640</td>\n",
       "    </tr>\n",
       "  </tbody>\n",
       "</table>\n",
       "<p>422220 rows × 15 columns</p>\n",
       "</div>"
      ],
      "text/plain": [
       "                                                   patient_id Ethnicity  \\\n",
       "CV001_KM10202384-CV001_KM10202394_AAACCTGAGGCAG...        AN5       EUR   \n",
       "CV001_KM10202384-CV001_KM10202394_AAACCTGAGTGTC...        AN5       EUR   \n",
       "CV001_KM10202384-CV001_KM10202394_AAACCTGCAGATG...        AN3       EUR   \n",
       "CV001_KM10202384-CV001_KM10202394_AAACCTGGTATAG...        AN5       EUR   \n",
       "CV001_KM10202384-CV001_KM10202394_AAACCTGGTGTGC...        AN5       EUR   \n",
       "...                                                       ...       ...   \n",
       "S28_TTTGTCAGTTCTGTTT-1                                    PC9       EUR   \n",
       "S28_TTTGTCATCAACCAAC-1                                    PC9       EUR   \n",
       "S28_TTTGTCATCATTATCC-1                                    PC9       EUR   \n",
       "S28_TTTGTCATCCTATGTT-1                                    PC9       EUR   \n",
       "S28_TTTGTCATCTCAAGTG-1                                    PC2       EUR   \n",
       "\n",
       "                                                        BMI annotation_broad  \\\n",
       "CV001_KM10202384-CV001_KM10202394_AAACCTGAGGCAG...  Unknown         Monocyte   \n",
       "CV001_KM10202384-CV001_KM10202394_AAACCTGAGTGTC...  Unknown           T CD4+   \n",
       "CV001_KM10202384-CV001_KM10202394_AAACCTGCAGATG...  Unknown           T CD4+   \n",
       "CV001_KM10202384-CV001_KM10202394_AAACCTGGTATAG...  Unknown           T CD8+   \n",
       "CV001_KM10202384-CV001_KM10202394_AAACCTGGTGTGC...  Unknown           T CD4+   \n",
       "...                                                     ...              ...   \n",
       "S28_TTTGTCAGTTCTGTTT-1                                27.17               NK   \n",
       "S28_TTTGTCATCAACCAAC-1                                27.17         Monocyte   \n",
       "S28_TTTGTCATCATTATCC-1                                27.17         Monocyte   \n",
       "S28_TTTGTCATCCTATGTT-1                                27.17               DC   \n",
       "S28_TTTGTCATCTCAAGTG-1                                 36.9           T CD8+   \n",
       "\n",
       "                                                   annotation_detailed  \\\n",
       "CV001_KM10202384-CV001_KM10202394_AAACCTGAGGCAG...       Monocyte CD14   \n",
       "CV001_KM10202384-CV001_KM10202394_AAACCTGAGTGTC...        T CD4 helper   \n",
       "CV001_KM10202384-CV001_KM10202394_AAACCTGCAGATG...        T CD4 helper   \n",
       "CV001_KM10202384-CV001_KM10202394_AAACCTGGTATAG...         T CD8 naive   \n",
       "CV001_KM10202384-CV001_KM10202394_AAACCTGGTGTGC...         T CD4 naive   \n",
       "...                                                                ...   \n",
       "S28_TTTGTCAGTTCTGTTT-1                                              NK   \n",
       "S28_TTTGTCATCAACCAAC-1                                   Monocyte CD14   \n",
       "S28_TTTGTCATCATTATCC-1                                   Monocyte CD14   \n",
       "S28_TTTGTCATCCTATGTT-1                                             pDC   \n",
       "S28_TTTGTCATCTCAAGTG-1                                       T CD8 CTL   \n",
       "\n",
       "                                                   annotation_detailed_fullNames  \\\n",
       "CV001_KM10202384-CV001_KM10202394_AAACCTGAGGCAG...            Classical monocyte   \n",
       "CV001_KM10202384-CV001_KM10202394_AAACCTGAGTGTC...                  T CD4 helper   \n",
       "CV001_KM10202384-CV001_KM10202394_AAACCTGCAGATG...                  T CD4 helper   \n",
       "CV001_KM10202384-CV001_KM10202394_AAACCTGGTATAG...                   T CD8 naive   \n",
       "CV001_KM10202384-CV001_KM10202394_AAACCTGGTGTGC...                   T CD4 naive   \n",
       "...                                                                          ...   \n",
       "S28_TTTGTCAGTTCTGTTT-1                                                        NK   \n",
       "S28_TTTGTCATCAACCAAC-1                                        Classical monocyte   \n",
       "S28_TTTGTCATCATTATCC-1                                        Classical monocyte   \n",
       "S28_TTTGTCATCCTATGTT-1                                                       pDC   \n",
       "S28_TTTGTCATCTCAAGTG-1                                                 T CD8 CTL   \n",
       "\n",
       "                                                   Age_group COVID_severity  \\\n",
       "CV001_KM10202384-CV001_KM10202394_AAACCTGAGGCAG...     Adult        Healthy   \n",
       "CV001_KM10202384-CV001_KM10202394_AAACCTGAGTGTC...     Adult        Healthy   \n",
       "CV001_KM10202384-CV001_KM10202394_AAACCTGCAGATG...     Adult        Healthy   \n",
       "CV001_KM10202384-CV001_KM10202394_AAACCTGGTATAG...     Adult        Healthy   \n",
       "CV001_KM10202384-CV001_KM10202394_AAACCTGGTGTGC...     Adult        Healthy   \n",
       "...                                                      ...            ...   \n",
       "S28_TTTGTCAGTTCTGTTT-1                                 Adult         Severe   \n",
       "S28_TTTGTCATCAACCAAC-1                                 Adult         Severe   \n",
       "S28_TTTGTCATCATTATCC-1                                 Adult         Severe   \n",
       "S28_TTTGTCATCCTATGTT-1                                 Adult         Severe   \n",
       "S28_TTTGTCATCTCAAGTG-1                                 Adult         Severe   \n",
       "\n",
       "                                                     COVID_status  Group  \\\n",
       "CV001_KM10202384-CV001_KM10202394_AAACCTGAGGCAG...        Healthy  Adult   \n",
       "CV001_KM10202384-CV001_KM10202394_AAACCTGAGTGTC...        Healthy  Adult   \n",
       "CV001_KM10202384-CV001_KM10202394_AAACCTGCAGATG...        Healthy  Adult   \n",
       "CV001_KM10202384-CV001_KM10202394_AAACCTGGTATAG...        Healthy  Adult   \n",
       "CV001_KM10202384-CV001_KM10202394_AAACCTGGTGTGC...        Healthy  Adult   \n",
       "...                                                           ...    ...   \n",
       "S28_TTTGTCAGTTCTGTTT-1                              Post-COVID-19  Adult   \n",
       "S28_TTTGTCATCAACCAAC-1                              Post-COVID-19  Adult   \n",
       "S28_TTTGTCATCATTATCC-1                              Post-COVID-19  Adult   \n",
       "S28_TTTGTCATCCTATGTT-1                              Post-COVID-19  Adult   \n",
       "S28_TTTGTCATCTCAAGTG-1                              Post-COVID-19  Adult   \n",
       "\n",
       "                                                       Sex      Smoker  \\\n",
       "CV001_KM10202384-CV001_KM10202394_AAACCTGAGGCAG...  Female  Non-smoker   \n",
       "CV001_KM10202384-CV001_KM10202394_AAACCTGAGTGTC...  Female  Non-smoker   \n",
       "CV001_KM10202384-CV001_KM10202394_AAACCTGCAGATG...    Male  Non-smoker   \n",
       "CV001_KM10202384-CV001_KM10202394_AAACCTGGTATAG...  Female  Non-smoker   \n",
       "CV001_KM10202384-CV001_KM10202394_AAACCTGGTGTGC...  Female  Non-smoker   \n",
       "...                                                    ...         ...   \n",
       "S28_TTTGTCAGTTCTGTTT-1                                Male  Non-smoker   \n",
       "S28_TTTGTCATCAACCAAC-1                                Male  Non-smoker   \n",
       "S28_TTTGTCATCATTATCC-1                                Male  Non-smoker   \n",
       "S28_TTTGTCATCCTATGTT-1                                Male  Non-smoker   \n",
       "S28_TTTGTCATCTCAAGTG-1                                Male  Non-smoker   \n",
       "\n",
       "                                                   sample_id  \\\n",
       "CV001_KM10202384-CV001_KM10202394_AAACCTGAGGCAG...       AN5   \n",
       "CV001_KM10202384-CV001_KM10202394_AAACCTGAGTGTC...       AN5   \n",
       "CV001_KM10202384-CV001_KM10202394_AAACCTGCAGATG...       AN3   \n",
       "CV001_KM10202384-CV001_KM10202394_AAACCTGGTATAG...       AN5   \n",
       "CV001_KM10202384-CV001_KM10202394_AAACCTGGTGTGC...       AN5   \n",
       "...                                                      ...   \n",
       "S28_TTTGTCAGTTCTGTTT-1                                   PC9   \n",
       "S28_TTTGTCATCAACCAAC-1                                   PC9   \n",
       "S28_TTTGTCATCATTATCC-1                                   PC9   \n",
       "S28_TTTGTCATCCTATGTT-1                                   PC9   \n",
       "S28_TTTGTCATCTCAAGTG-1                                   PC2   \n",
       "\n",
       "                                                                   sequencing_library  \\\n",
       "CV001_KM10202384-CV001_KM10202394_AAACCTGAGGCAG...  CV001_KM10202384-CV001_KM10202394   \n",
       "CV001_KM10202384-CV001_KM10202394_AAACCTGAGTGTC...  CV001_KM10202384-CV001_KM10202394   \n",
       "CV001_KM10202384-CV001_KM10202394_AAACCTGCAGATG...  CV001_KM10202384-CV001_KM10202394   \n",
       "CV001_KM10202384-CV001_KM10202394_AAACCTGGTATAG...  CV001_KM10202384-CV001_KM10202394   \n",
       "CV001_KM10202384-CV001_KM10202394_AAACCTGGTGTGC...  CV001_KM10202384-CV001_KM10202394   \n",
       "...                                                                               ...   \n",
       "S28_TTTGTCAGTTCTGTTT-1                                CV001_KM9294396-CV001_KM9294404   \n",
       "S28_TTTGTCATCAACCAAC-1                                CV001_KM9294396-CV001_KM9294404   \n",
       "S28_TTTGTCATCATTATCC-1                                CV001_KM9294396-CV001_KM9294404   \n",
       "S28_TTTGTCATCCTATGTT-1                                CV001_KM9294396-CV001_KM9294404   \n",
       "S28_TTTGTCATCTCAAGTG-1                                CV001_KM9294396-CV001_KM9294404   \n",
       "\n",
       "                                                    Protein_modality_weight  \n",
       "CV001_KM10202384-CV001_KM10202394_AAACCTGAGGCAG...                 0.359517  \n",
       "CV001_KM10202384-CV001_KM10202394_AAACCTGAGTGTC...                 0.577522  \n",
       "CV001_KM10202384-CV001_KM10202394_AAACCTGCAGATG...                 0.369143  \n",
       "CV001_KM10202384-CV001_KM10202394_AAACCTGGTATAG...                 0.785563  \n",
       "CV001_KM10202384-CV001_KM10202394_AAACCTGGTGTGC...                 0.564174  \n",
       "...                                                                     ...  \n",
       "S28_TTTGTCAGTTCTGTTT-1                                             0.429398  \n",
       "S28_TTTGTCATCAACCAAC-1                                             0.677910  \n",
       "S28_TTTGTCATCATTATCC-1                                             0.422796  \n",
       "S28_TTTGTCATCCTATGTT-1                                             0.471905  \n",
       "S28_TTTGTCATCTCAAGTG-1                                             0.313640  \n",
       "\n",
       "[422220 rows x 15 columns]"
      ]
     },
     "execution_count": 5,
     "metadata": {},
     "output_type": "execute_result"
    }
   ],
   "source": [
    "adata_ref.obs"
   ]
  },
  {
   "cell_type": "code",
   "execution_count": 6,
   "metadata": {},
   "outputs": [
    {
     "data": {
      "text/html": [
       "<div>\n",
       "<style scoped>\n",
       "    .dataframe tbody tr th:only-of-type {\n",
       "        vertical-align: middle;\n",
       "    }\n",
       "\n",
       "    .dataframe tbody tr th {\n",
       "        vertical-align: top;\n",
       "    }\n",
       "\n",
       "    .dataframe thead th {\n",
       "        text-align: right;\n",
       "    }\n",
       "</style>\n",
       "<table border=\"1\" class=\"dataframe\">\n",
       "  <thead>\n",
       "    <tr style=\"text-align: right;\">\n",
       "      <th></th>\n",
       "      <th>name</th>\n",
       "    </tr>\n",
       "  </thead>\n",
       "  <tbody>\n",
       "    <tr>\n",
       "      <th>MIR1302-2HG</th>\n",
       "      <td>MIR1302-2HG</td>\n",
       "    </tr>\n",
       "    <tr>\n",
       "      <th>FAM138A</th>\n",
       "      <td>FAM138A</td>\n",
       "    </tr>\n",
       "    <tr>\n",
       "      <th>OR4F5</th>\n",
       "      <td>OR4F5</td>\n",
       "    </tr>\n",
       "    <tr>\n",
       "      <th>AL627309.1</th>\n",
       "      <td>AL627309.1</td>\n",
       "    </tr>\n",
       "    <tr>\n",
       "      <th>AL627309.3</th>\n",
       "      <td>AL627309.3</td>\n",
       "    </tr>\n",
       "    <tr>\n",
       "      <th>...</th>\n",
       "      <td>...</td>\n",
       "    </tr>\n",
       "    <tr>\n",
       "      <th>AB-TRAC</th>\n",
       "      <td>AB-TRAC</td>\n",
       "    </tr>\n",
       "    <tr>\n",
       "      <th>AB-TRG</th>\n",
       "      <td>AB-TRG</td>\n",
       "    </tr>\n",
       "    <tr>\n",
       "      <th>AB-TIGIT</th>\n",
       "      <td>AB-TIGIT</td>\n",
       "    </tr>\n",
       "    <tr>\n",
       "      <th>AB-CRLF2</th>\n",
       "      <td>AB-CRLF2</td>\n",
       "    </tr>\n",
       "    <tr>\n",
       "      <th>AB-XCR1</th>\n",
       "      <td>AB-XCR1</td>\n",
       "    </tr>\n",
       "  </tbody>\n",
       "</table>\n",
       "<p>33751 rows × 1 columns</p>\n",
       "</div>"
      ],
      "text/plain": [
       "                    name\n",
       "MIR1302-2HG  MIR1302-2HG\n",
       "FAM138A          FAM138A\n",
       "OR4F5              OR4F5\n",
       "AL627309.1    AL627309.1\n",
       "AL627309.3    AL627309.3\n",
       "...                  ...\n",
       "AB-TRAC          AB-TRAC\n",
       "AB-TRG            AB-TRG\n",
       "AB-TIGIT        AB-TIGIT\n",
       "AB-CRLF2        AB-CRLF2\n",
       "AB-XCR1          AB-XCR1\n",
       "\n",
       "[33751 rows x 1 columns]"
      ]
     },
     "execution_count": 6,
     "metadata": {},
     "output_type": "execute_result"
    }
   ],
   "source": [
    "adata_ref.var"
   ]
  },
  {
   "attachments": {},
   "cell_type": "markdown",
   "metadata": {},
   "source": [
    "#### Filter query dataset to online include healthy cells"
   ]
  },
  {
   "cell_type": "code",
   "execution_count": 7,
   "metadata": {},
   "outputs": [
    {
     "data": {
      "text/plain": [
       "Healthy          173684\n",
       "COVID-19         151312\n",
       "Post-COVID-19     97224\n",
       "Name: COVID_status, dtype: int64"
      ]
     },
     "execution_count": 7,
     "metadata": {},
     "output_type": "execute_result"
    }
   ],
   "source": [
    "adata_ref.obs['COVID_status'].value_counts()"
   ]
  },
  {
   "cell_type": "code",
   "execution_count": 8,
   "metadata": {},
   "outputs": [
    {
     "data": {
      "text/plain": [
       "View of AnnData object with n_obs × n_vars = 173684 × 33751\n",
       "    obs: 'patient_id', 'Ethnicity', 'BMI', 'annotation_broad', 'annotation_detailed', 'annotation_detailed_fullNames', 'Age_group', 'COVID_severity', 'COVID_status', 'Group', 'Sex', 'Smoker', 'sample_id', 'sequencing_library', 'Protein_modality_weight'\n",
       "    var: 'name'\n",
       "    obsm: 'X_ umap (wnn derived)', 'X_umap (after harmony ADT)', 'X_umap (after harmony RNA)', 'X_umap (before harmony ADT)', 'X_umap (before harmony RNA)'"
      ]
     },
     "execution_count": 8,
     "metadata": {},
     "output_type": "execute_result"
    }
   ],
   "source": [
    "adata_ref_new = adata_ref[~adata_ref.obs['COVID_status'].isin(['COVID-19', 'Post-COVID-19']),:]\n",
    "adata_ref_new"
   ]
  },
  {
   "cell_type": "code",
   "execution_count": 9,
   "metadata": {},
   "outputs": [
    {
     "data": {
      "text/plain": [
       "Healthy    173684\n",
       "Name: COVID_status, dtype: int64"
      ]
     },
     "execution_count": 9,
     "metadata": {},
     "output_type": "execute_result"
    }
   ],
   "source": [
    "adata_ref_new.obs['COVID_status'].value_counts()"
   ]
  },
  {
   "cell_type": "code",
   "execution_count": 10,
   "metadata": {},
   "outputs": [
    {
     "name": "stderr",
     "output_type": "stream",
     "text": [
      "/Users/mairi.mcclean/mambaforge/envs/scanvi_local/lib/python3.10/site-packages/scanpy/preprocessing/_simple.py:249: ImplicitModificationWarning: Trying to modify attribute `.var` of view, initializing view as actual.\n",
      "  adata.var['n_counts'] = number\n"
     ]
    }
   ],
   "source": [
    "sc.pp.filter_genes(adata_ref_new, min_counts=3)"
   ]
  },
  {
   "cell_type": "code",
   "execution_count": null,
   "metadata": {},
   "outputs": [],
   "source": [
    "adata_query = sc.read_h5ad('/Volumes/Lacie/data_lake/Mairi_example/processed_files/scvi/post_sccaf/CaiY_healthy_scRNA_PBMC_mm230316_scVI-clustered.raw.h5ad')\n"
   ]
  },
  {
   "attachments": {},
   "cell_type": "markdown",
   "metadata": {},
   "source": [
    "### Train reference\n",
    "\n",
    "> From tutorial: SCANVI tends to perform better in situations where it has been initialized using a pre-trained SCVI model. "
   ]
  },
  {
   "attachments": {},
   "cell_type": "markdown",
   "metadata": {},
   "source": [
    "Reference anndata must be processed in the same way as the query object (in the previous step). E.g. HVG (and normalisation?), and saving the counts layer"
   ]
  },
  {
   "cell_type": "code",
   "execution_count": null,
   "metadata": {},
   "outputs": [],
   "source": [
    "adata_ref_new.layers[\"counts\"] = adata_ref_new.X.copy()"
   ]
  },
  {
   "cell_type": "code",
   "execution_count": null,
   "metadata": {},
   "outputs": [],
   "source": [
    "# Note: For best practices of how/when to perform feature selection, \n",
    "# please refer to the model-specific tutorial. For scVI, we recommend anywhere from 1,000 to 10,000 HVGs, but it will be context-dependent.\n",
    "\n",
    "sc.pp.highly_variable_genes(\n",
    "    adata_ref_new,\n",
    "    n_top_genes=1200,\n",
    "    subset=True,\n",
    "    layer=\"counts\",\n",
    "    flavor=\"seurat_v3\",\n",
    "    batch_key=\"sequencing_library\",\n",
    ")"
   ]
  },
  {
   "cell_type": "code",
   "execution_count": null,
   "metadata": {},
   "outputs": [],
   "source": [
    "# Added for sarches params following tutorial; check if we require it?\n",
    "arches_params = dict(\n",
    "    use_layer_norm=\"both\",\n",
    "    use_batch_norm=\"none\",\n",
    "    encode_covariates=True,\n",
    "    dropout_rate=0.2,\n",
    "    n_layers=2,\n",
    ")"
   ]
  },
  {
   "cell_type": "code",
   "execution_count": null,
   "metadata": {},
   "outputs": [],
   "source": [
    "scvi.model.SCVI.setup_anndata(adata_ref_new, batch_key=\"sequencing_library\", layer=\"counts\")"
   ]
  },
  {
   "cell_type": "code",
   "execution_count": null,
   "metadata": {},
   "outputs": [],
   "source": [
    "# What do the \"**\" mean here?\n",
    "\n",
    "scvi_ref_new_model = scvi.model.SCVI(adata_ref_new, **arches_params)\n",
    "scvi_ref_new_model.train()\n"
   ]
  },
  {
   "cell_type": "code",
   "execution_count": null,
   "metadata": {},
   "outputs": [],
   "source": [
    "adata_ref_new.obs[\"labels_scanvi\"] = adata_ref_new.obs[\"celltype\"].values"
   ]
  },
  {
   "cell_type": "code",
   "execution_count": null,
   "metadata": {},
   "outputs": [],
   "source": [
    "# unlabeled category does not exist in adata.obs[labels_key]\n",
    "# so all cells are treated as labeled\n",
    "vae_ref_scanvi = scvi.model.SCANVI.from_scvi_model(\n",
    "    scvi_ref_new_model,\n",
    "    unlabeled_category=\"Unknown\",\n",
    "    labels_key=\"labels_scanvi\",\n",
    ")"
   ]
  },
  {
   "cell_type": "code",
   "execution_count": null,
   "metadata": {},
   "outputs": [],
   "source": [
    "vae_ref_scanvi.train(vae_ref_scanvi, max_epochs=20, n_samples_per_label=100)"
   ]
  },
  {
   "cell_type": "code",
   "execution_count": null,
   "metadata": {},
   "outputs": [],
   "source": [
    "adata_ref_new.obsm[\"X_scANVI\"] = vae_ref_scanvi.get_latent_representation()\n",
    "sc.pp.neighbors(adata_ref_new, use_rep=\"X_scANVI\")\n",
    "sc.tl.leiden(adata_ref_new)\n",
    "sc.tl.umap(adata_ref_new)"
   ]
  },
  {
   "cell_type": "code",
   "execution_count": null,
   "metadata": {},
   "outputs": [],
   "source": [
    "sc.pl.umap(\n",
    "    adata_ref_new,\n",
    "    color=[\"tech\", \"celltype\"],\n",
    "    frameon=False,\n",
    "    ncols=1,\n",
    ")"
   ]
  },
  {
   "attachments": {},
   "cell_type": "markdown",
   "metadata": {},
   "source": [
    "### Update with query"
   ]
  },
  {
   "cell_type": "code",
   "execution_count": null,
   "metadata": {},
   "outputs": [],
   "source": [
    "dir_path_scan = \"/Volumes/LaCie/data_lake/Mairi_example/processed_files/scanvi/models/\"\n",
    "vae_ref_scanvi.save(dir_path_scan, overwrite=True)"
   ]
  },
  {
   "cell_type": "code",
   "execution_count": null,
   "metadata": {},
   "outputs": [],
   "source": [
    "# again a no-op in this tutorial, but good practice to use\n",
    "scvi.model.SCANVI.prepare_query_anndata(adata_query, dir_path_scan)"
   ]
  },
  {
   "cell_type": "code",
   "execution_count": null,
   "metadata": {},
   "outputs": [],
   "source": [
    "vae_q = scvi.model.SCANVI.load_query_data(\n",
    "    adata_query,\n",
    "    dir_path_scan,\n",
    ")"
   ]
  },
  {
   "cell_type": "code",
   "execution_count": null,
   "metadata": {},
   "outputs": [],
   "source": [
    "vae_q.train(\n",
    "    max_epochs=100,\n",
    "    plan_kwargs=dict(weight_decay=0.0),\n",
    "    check_val_every_n_epoch=10,\n",
    ")"
   ]
  },
  {
   "cell_type": "code",
   "execution_count": null,
   "metadata": {},
   "outputs": [],
   "source": [
    "adata_query.obsm[\"X_scANVI\"] = vae_q.get_latent_representation()\n",
    "adata_query.obs[\"predictions\"] = vae_q.predict()"
   ]
  },
  {
   "cell_type": "code",
   "execution_count": null,
   "metadata": {},
   "outputs": [],
   "source": [
    "df = adata_query.obs.groupby([\"celltype\", \"predictions\"]).size().unstack(fill_value=0)\n",
    "norm_df = df / df.sum(axis=0)\n",
    "\n",
    "plt.figure(figsize=(8, 8))\n",
    "_ = plt.pcolor(norm_df)\n",
    "_ = plt.xticks(np.arange(0.5, len(df.columns), 1), df.columns, rotation=90)\n",
    "_ = plt.yticks(np.arange(0.5, len(df.index), 1), df.index)\n",
    "plt.xlabel(\"Predicted\")\n",
    "plt.ylabel(\"Observed\")"
   ]
  },
  {
   "attachments": {},
   "cell_type": "markdown",
   "metadata": {},
   "source": [
    "### Analyze reference and query"
   ]
  },
  {
   "cell_type": "code",
   "execution_count": null,
   "metadata": {},
   "outputs": [],
   "source": [
    "adata_full = adata_query.concatenate(adata_ref)"
   ]
  },
  {
   "cell_type": "code",
   "execution_count": null,
   "metadata": {},
   "outputs": [],
   "source": [
    "adata_full.obs.batch.cat.rename_categories([\"Query\", \"Reference\"], inplace=True)"
   ]
  },
  {
   "cell_type": "code",
   "execution_count": null,
   "metadata": {},
   "outputs": [],
   "source": [
    "full_predictions = vae_q.predict(adata_full)\n",
    "print(f\"Acc: {np.mean(full_predictions == adata_full.obs.celltype)}\")\n",
    "\n",
    "adata_full.obs[\"predictions\"] = full_predictions"
   ]
  },
  {
   "cell_type": "code",
   "execution_count": null,
   "metadata": {},
   "outputs": [],
   "source": [
    "sc.pp.neighbors(adata_full, use_rep=\"X_scANVI\")\n",
    "sc.tl.leiden(adata_full)\n",
    "sc.tl.umap(adata_full)"
   ]
  },
  {
   "cell_type": "code",
   "execution_count": null,
   "metadata": {},
   "outputs": [],
   "source": [
    "sc.pl.umap(\n",
    "    adata_full,\n",
    "    color=[\"tech\", \"celltype\"],\n",
    "    frameon=False,\n",
    "    ncols=1,\n",
    ")"
   ]
  },
  {
   "cell_type": "code",
   "execution_count": null,
   "metadata": {},
   "outputs": [],
   "source": [
    "ax = sc.pl.umap(\n",
    "    adata_full,\n",
    "    frameon=False,\n",
    "    show=False,\n",
    ")\n",
    "sc.pl.umap(\n",
    "    adata_full[: adata_query.n_obs],\n",
    "    color=[\"predictions\"],\n",
    "    frameon=False,\n",
    "    title=\"Query predictions\",\n",
    "    ax=ax,\n",
    "    alpha=0.7,\n",
    ")\n",
    "\n",
    "ax = sc.pl.umap(\n",
    "    adata_full,\n",
    "    frameon=False,\n",
    "    show=False,\n",
    ")\n",
    "sc.pl.umap(\n",
    "    adata_full[: adata_query.n_obs],\n",
    "    color=[\"celltype\"],\n",
    "    frameon=False,\n",
    "    title=\"Query observed cell types\",\n",
    "    ax=ax,\n",
    "    alpha=0.7,\n",
    ")"
   ]
  }
 ],
 "metadata": {
  "kernelspec": {
   "display_name": "scanvi_local",
   "language": "python",
   "name": "python3"
  },
  "language_info": {
   "codemirror_mode": {
    "name": "ipython",
    "version": 3
   },
   "file_extension": ".py",
   "mimetype": "text/x-python",
   "name": "python",
   "nbconvert_exporter": "python",
   "pygments_lexer": "ipython3",
   "version": "3.10.9"
  },
  "orig_nbformat": 4
 },
 "nbformat": 4,
 "nbformat_minor": 2
}
