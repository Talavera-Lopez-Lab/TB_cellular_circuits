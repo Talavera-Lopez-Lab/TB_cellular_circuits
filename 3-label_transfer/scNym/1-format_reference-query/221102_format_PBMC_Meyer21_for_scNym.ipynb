{
 "cells": [
  {
   "attachments": {},
   "cell_type": "markdown",
   "metadata": {},
   "source": [
    "### Notebook to format healthy PBMCS [Cai 2020 + 2022] for label transfer with `scNym`\n",
    "> Healthy reference taken from Yoshida et al, 2021\n",
    "\n",
    "- **Developed by**: Carlos Talavera-López Ph.D\n",
    "\n",
    "- **Modified by**: Mairi McClean\n",
    "\n",
    "- **Institute of Computational Biology - Computational Health Centre - Helmholtz Munich**\n",
    "\n",
    "- original v221017; modified v230320"
   ]
  },
  {
   "attachments": {},
   "cell_type": "markdown",
   "metadata": {},
   "source": [
    "### Import required modules"
   ]
  },
  {
   "cell_type": "code",
   "execution_count": 1,
   "metadata": {},
   "outputs": [],
   "source": [
    "import anndata\n",
    "import numpy as np\n",
    "import pandas as pd\n",
    "import scanpy as sc"
   ]
  },
  {
   "attachments": {},
   "cell_type": "markdown",
   "metadata": {},
   "source": [
    "### Read in query and reference objects"
   ]
  },
  {
   "cell_type": "code",
   "execution_count": 2,
   "metadata": {},
   "outputs": [
    {
     "data": {
      "text/plain": [
       "AnnData object with n_obs × n_vars = 145381 × 61533\n",
       "    obs: 'study', 'individual', 'sample', 'tissue', 'donor', 'age', 'gender', 'status', 'data_type', 'centre', 'version', 'batch', 'n_genes', 'n_genes_by_counts', 'total_counts', 'total_counts_mt', 'pct_counts_mt', 'total_counts_ribo', 'pct_counts_ribo', 'percent_mt2', 'n_counts', 'percent_chrY', 'XIST-counts', 'S_score', 'G2M_score', 'doublet_scores', 'predicted_doublets', 'object', 'protocol', 'dataset'\n",
       "    var: 'gene_id', 'mt', 'ribo', 'n_cells_by_counts-caiy2020', 'mean_counts-caiy2020', 'pct_dropout_by_counts-caiy2020', 'total_counts-caiy2020', 'n_cells_by_counts-caiy2022', 'mean_counts-caiy2022', 'pct_dropout_by_counts-caiy2022', 'total_counts-caiy2022'\n",
       "    layers: 'counts', 'sqrt_norm'"
      ]
     },
     "execution_count": 2,
     "metadata": {},
     "output_type": "execute_result"
    }
   ],
   "source": [
    "query = sc.read_h5ad('/Volumes/Lacie/data_lake/Mairi_example/processed_files/scvi/post_sccaf/CaiY_healthy_scRNA_PBMC_mm230316_scVI-clustered.raw.h5ad') \n",
    "query"
   ]
  },
  {
   "cell_type": "code",
   "execution_count": 3,
   "metadata": {},
   "outputs": [
    {
     "data": {
      "text/html": [
       "<div>\n",
       "<style scoped>\n",
       "    .dataframe tbody tr th:only-of-type {\n",
       "        vertical-align: middle;\n",
       "    }\n",
       "\n",
       "    .dataframe tbody tr th {\n",
       "        vertical-align: top;\n",
       "    }\n",
       "\n",
       "    .dataframe thead th {\n",
       "        text-align: right;\n",
       "    }\n",
       "</style>\n",
       "<table border=\"1\" class=\"dataframe\">\n",
       "  <thead>\n",
       "    <tr style=\"text-align: right;\">\n",
       "      <th></th>\n",
       "      <th>gene_id</th>\n",
       "      <th>mt</th>\n",
       "      <th>ribo</th>\n",
       "      <th>n_cells_by_counts-caiy2020</th>\n",
       "      <th>mean_counts-caiy2020</th>\n",
       "      <th>pct_dropout_by_counts-caiy2020</th>\n",
       "      <th>total_counts-caiy2020</th>\n",
       "      <th>n_cells_by_counts-caiy2022</th>\n",
       "      <th>mean_counts-caiy2022</th>\n",
       "      <th>pct_dropout_by_counts-caiy2022</th>\n",
       "      <th>total_counts-caiy2022</th>\n",
       "    </tr>\n",
       "  </thead>\n",
       "  <tbody>\n",
       "    <tr>\n",
       "      <th>DDX11L1</th>\n",
       "      <td>ENSG00000223972.5</td>\n",
       "      <td>False</td>\n",
       "      <td>False</td>\n",
       "      <td>6</td>\n",
       "      <td>0.000082</td>\n",
       "      <td>99.991797</td>\n",
       "      <td>6.0</td>\n",
       "      <td>9</td>\n",
       "      <td>0.000138</td>\n",
       "      <td>99.987541</td>\n",
       "      <td>10.0</td>\n",
       "    </tr>\n",
       "    <tr>\n",
       "      <th>WASH7P</th>\n",
       "      <td>ENSG00000227232.5</td>\n",
       "      <td>False</td>\n",
       "      <td>False</td>\n",
       "      <td>1</td>\n",
       "      <td>0.000014</td>\n",
       "      <td>99.998633</td>\n",
       "      <td>1.0</td>\n",
       "      <td>41</td>\n",
       "      <td>0.000568</td>\n",
       "      <td>99.943241</td>\n",
       "      <td>41.0</td>\n",
       "    </tr>\n",
       "    <tr>\n",
       "      <th>MIR6859-1</th>\n",
       "      <td>ENSG00000278267.1</td>\n",
       "      <td>False</td>\n",
       "      <td>False</td>\n",
       "      <td>0</td>\n",
       "      <td>0.000000</td>\n",
       "      <td>100.000000</td>\n",
       "      <td>0.0</td>\n",
       "      <td>0</td>\n",
       "      <td>0.000000</td>\n",
       "      <td>100.000000</td>\n",
       "      <td>0.0</td>\n",
       "    </tr>\n",
       "    <tr>\n",
       "      <th>MIR1302-2HG</th>\n",
       "      <td>ENSG00000243485.5</td>\n",
       "      <td>False</td>\n",
       "      <td>False</td>\n",
       "      <td>0</td>\n",
       "      <td>0.000000</td>\n",
       "      <td>100.000000</td>\n",
       "      <td>0.0</td>\n",
       "      <td>0</td>\n",
       "      <td>0.000000</td>\n",
       "      <td>100.000000</td>\n",
       "      <td>0.0</td>\n",
       "    </tr>\n",
       "    <tr>\n",
       "      <th>MIR1302-2</th>\n",
       "      <td>ENSG00000284332.1</td>\n",
       "      <td>False</td>\n",
       "      <td>False</td>\n",
       "      <td>0</td>\n",
       "      <td>0.000000</td>\n",
       "      <td>100.000000</td>\n",
       "      <td>0.0</td>\n",
       "      <td>0</td>\n",
       "      <td>0.000000</td>\n",
       "      <td>100.000000</td>\n",
       "      <td>0.0</td>\n",
       "    </tr>\n",
       "  </tbody>\n",
       "</table>\n",
       "</div>"
      ],
      "text/plain": [
       "                       gene_id     mt   ribo  n_cells_by_counts-caiy2020  \\\n",
       "DDX11L1      ENSG00000223972.5  False  False                           6   \n",
       "WASH7P       ENSG00000227232.5  False  False                           1   \n",
       "MIR6859-1    ENSG00000278267.1  False  False                           0   \n",
       "MIR1302-2HG  ENSG00000243485.5  False  False                           0   \n",
       "MIR1302-2    ENSG00000284332.1  False  False                           0   \n",
       "\n",
       "             mean_counts-caiy2020  pct_dropout_by_counts-caiy2020  \\\n",
       "DDX11L1                  0.000082                       99.991797   \n",
       "WASH7P                   0.000014                       99.998633   \n",
       "MIR6859-1                0.000000                      100.000000   \n",
       "MIR1302-2HG              0.000000                      100.000000   \n",
       "MIR1302-2                0.000000                      100.000000   \n",
       "\n",
       "             total_counts-caiy2020  n_cells_by_counts-caiy2022  \\\n",
       "DDX11L1                        6.0                           9   \n",
       "WASH7P                         1.0                          41   \n",
       "MIR6859-1                      0.0                           0   \n",
       "MIR1302-2HG                    0.0                           0   \n",
       "MIR1302-2                      0.0                           0   \n",
       "\n",
       "             mean_counts-caiy2022  pct_dropout_by_counts-caiy2022  \\\n",
       "DDX11L1                  0.000138                       99.987541   \n",
       "WASH7P                   0.000568                       99.943241   \n",
       "MIR6859-1                0.000000                      100.000000   \n",
       "MIR1302-2HG              0.000000                      100.000000   \n",
       "MIR1302-2                0.000000                      100.000000   \n",
       "\n",
       "             total_counts-caiy2022  \n",
       "DDX11L1                       10.0  \n",
       "WASH7P                        41.0  \n",
       "MIR6859-1                      0.0  \n",
       "MIR1302-2HG                    0.0  \n",
       "MIR1302-2                      0.0  "
      ]
     },
     "execution_count": 3,
     "metadata": {},
     "output_type": "execute_result"
    }
   ],
   "source": [
    "query.var.head()"
   ]
  },
  {
   "cell_type": "code",
   "execution_count": 4,
   "metadata": {},
   "outputs": [
    {
     "data": {
      "text/plain": [
       "Index(['Healthy', 'active_TB', 'latent_TB'], dtype='object')"
      ]
     },
     "execution_count": 4,
     "metadata": {},
     "output_type": "execute_result"
    }
   ],
   "source": [
    "query.obs['status'].cat.categories"
   ]
  },
  {
   "cell_type": "code",
   "execution_count": 5,
   "metadata": {},
   "outputs": [
    {
     "data": {
      "text/plain": [
       "AnnData object with n_obs × n_vars = 422220 × 33559\n",
       "    obs: 'orig.ident', 'nCount_RNA', 'nFeature_RNA', 'nCount_ADT', 'nFeature_ADT', 'Age_group', 'BMI', 'COVID_severity', 'COVID_status', 'Ethnicity', 'Group', 'Sex', 'Smoker', 'annotation_broad', 'annotation_detailed', 'annotation_detailed_fullNames', 'patient_id', 'sample_id', 'sequencing_library', 'Protein_modality_weight'\n",
       "    var: 'name'"
      ]
     },
     "execution_count": 5,
     "metadata": {},
     "output_type": "execute_result"
    }
   ],
   "source": [
    "yoshida = sc.read_h5ad('/Volumes/LaCie/data_lake/Mairi_example/INBOX/sc_downloads/yoshida_2021/meyer_nikolic_covid_pbmc.cellxgene.20210813.h5ad') \n",
    "yoshida"
   ]
  },
  {
   "cell_type": "code",
   "execution_count": 6,
   "metadata": {},
   "outputs": [
    {
     "data": {
      "text/plain": [
       "View of AnnData object with n_obs × n_vars = 173684 × 33559\n",
       "    obs: 'orig.ident', 'nCount_RNA', 'nFeature_RNA', 'nCount_ADT', 'nFeature_ADT', 'Age_group', 'BMI', 'COVID_severity', 'COVID_status', 'Ethnicity', 'Group', 'Sex', 'Smoker', 'annotation_broad', 'annotation_detailed', 'annotation_detailed_fullNames', 'patient_id', 'sample_id', 'sequencing_library', 'Protein_modality_weight'\n",
       "    var: 'name'"
      ]
     },
     "execution_count": 6,
     "metadata": {},
     "output_type": "execute_result"
    }
   ],
   "source": [
    "yoshida_pbmc = yoshida[yoshida.obs['COVID_status'].isin(['Healthy'])]\n",
    "yoshida_pbmc"
   ]
  },
  {
   "attachments": {},
   "cell_type": "markdown",
   "metadata": {},
   "source": [
    "### Format data as reference for `scNym`"
   ]
  },
  {
   "cell_type": "code",
   "execution_count": 7,
   "metadata": {},
   "outputs": [
    {
     "data": {
      "text/plain": [
       "Index(['target_HRS100507', 'target_HRS100508', 'target_HRS100509',\n",
       "       'target_HRS100510', 'target_HRS100511', 'target_HRS100512',\n",
       "       'target_HRS100513', 'target_HRS100514', 'target_HRS180101',\n",
       "       'target_HRS180102', 'target_HRS180103', 'target_HRS180104',\n",
       "       'target_PBMC_HC_1', 'target_PBMC_HC_2', 'target_PBMC_LTBI_1',\n",
       "       'target_PBMC_LTBI_2', 'target_PBMC_TB_1', 'target_PBMC_TB_2',\n",
       "       'target_PBMC_TB_3'],\n",
       "      dtype='object')"
      ]
     },
     "execution_count": 7,
     "metadata": {},
     "output_type": "execute_result"
    }
   ],
   "source": [
    "query.obs['domain_label'] = query.obs['sample'].copy()\n",
    "query.obs['domain_label'] = 'target_' + query.obs['domain_label'].astype(str)\n",
    "query.obs['domain_label'] = query.obs['domain_label'].astype('category')\n",
    "query.obs['domain_label'].cat.categories"
   ]
  },
  {
   "cell_type": "code",
   "execution_count": 8,
   "metadata": {},
   "outputs": [],
   "source": [
    "query.obs['cell_states'] = 'Unlabeled'"
   ]
  },
  {
   "attachments": {},
   "cell_type": "markdown",
   "metadata": {},
   "source": [
    "### Format data as query for `scNym`"
   ]
  },
  {
   "cell_type": "code",
   "execution_count": 9,
   "metadata": {},
   "outputs": [
    {
     "data": {
      "text/plain": [
       "T CD4 naive               32672\n",
       "Monocyte CD14             20464\n",
       "B naive                   19295\n",
       "NK                        19085\n",
       "T CD8 naive               16140\n",
       "T CD4 helper              13552\n",
       "T CD8 CTL                  9541\n",
       "T CD8 CM                   5544\n",
       "Monocyte CD16              4457\n",
       "T reg                      3251\n",
       "T g/d                      3183\n",
       "B n-sw mem                 2993\n",
       "Monocyte CD14 IFN stim     2559\n",
       "NK CD56                    2353\n",
       "MAIT                       2213\n",
       "B sw mem                   2068\n",
       "T CD4 naive IFN stim       1860\n",
       "T CD8 EMRA                 1834\n",
       "cDC2                       1371\n",
       "T CD4 CTL                  1331\n",
       "Cycling                    1012\n",
       "B invar                     869\n",
       "T CD8 EM                    795\n",
       "B naive IFN stim            745\n",
       "pDC                         706\n",
       "Platelets                   626\n",
       "Monocyte CD16 IFN stim      616\n",
       "Monocyte CD16+C1            464\n",
       "NK IFN stim                 433\n",
       "HPC                         414\n",
       "Plasma cells                305\n",
       "NKT                         220\n",
       "ILC                         199\n",
       "B n-sw mem IFN stim         162\n",
       "RBC                         106\n",
       "Monocyte CD14 IL6            77\n",
       "Plasmablasts                 47\n",
       "cDC1                         46\n",
       "T CD8 CTL IFN stim           36\n",
       "AS-DC                        28\n",
       "Baso/Eos                     10\n",
       "HPC IFN stim                  2\n",
       "Name: annotation_detailed, dtype: int64"
      ]
     },
     "execution_count": 9,
     "metadata": {},
     "output_type": "execute_result"
    }
   ],
   "source": [
    "yoshida_pbmc.obs['annotation_detailed'].value_counts()"
   ]
  },
  {
   "cell_type": "code",
   "execution_count": 10,
   "metadata": {},
   "outputs": [
    {
     "name": "stderr",
     "output_type": "stream",
     "text": [
      "/tmp/ipykernel_63315/357184996.py:1: ImplicitModificationWarning: Trying to modify attribute `.obs` of view, initializing view as actual.\n",
      "  meyer_pbmc.obs['cell_states'] = meyer_pbmc.obs['annotation_detailed'].copy()\n"
     ]
    }
   ],
   "source": [
    "yoshida_pbmc.obs['cell_states'] = yoshida_pbmc.obs['annotation_detailed'].copy()\n",
    "yoshida_pbmc.obs['status'] = 'Healthy'"
   ]
  },
  {
   "cell_type": "code",
   "execution_count": 11,
   "metadata": {},
   "outputs": [
    {
     "data": {
      "text/plain": [
       "Index(['train_AN1', 'train_AN11', 'train_AN12', 'train_AN13', 'train_AN14',\n",
       "       'train_AN2', 'train_AN3', 'train_AN5', 'train_AN6', 'train_AN7',\n",
       "       'train_AN9', 'train_NP13', 'train_NP15', 'train_NP16', 'train_NP17',\n",
       "       'train_NP18', 'train_NP19', 'train_NP20', 'train_NP21', 'train_NP22',\n",
       "       'train_NP23', 'train_NP24', 'train_NP26', 'train_NP27', 'train_NP28',\n",
       "       'train_NP30', 'train_NP31', 'train_NP32', 'train_NP35', 'train_NP36',\n",
       "       'train_NP37', 'train_NP38', 'train_NP39', 'train_NP41', 'train_NP44'],\n",
       "      dtype='object')"
      ]
     },
     "execution_count": 11,
     "metadata": {},
     "output_type": "execute_result"
    }
   ],
   "source": [
    "yoshida_pbmc.obs['domain_label'] = yoshida_pbmc.obs['sample_id'].copy()\n",
    "yoshida_pbmc.obs['domain_label'] = 'train_' + yoshida_pbmc.obs['domain_label'].astype(str)\n",
    "yoshida_pbmc.obs['domain_label'] = yoshida_pbmc.obs['domain_label'].astype('category')\n",
    "yoshida_pbmc.obs['domain_label'].cat.categories"
   ]
  },
  {
   "attachments": {},
   "cell_type": "markdown",
   "metadata": {},
   "source": [
    "### Merge two objects "
   ]
  },
  {
   "cell_type": "code",
   "execution_count": 12,
   "metadata": {},
   "outputs": [
    {
     "name": "stderr",
     "output_type": "stream",
     "text": [
      "/home/cartalop/mambaforge/lib/python3.9/site-packages/anndata/_core/merge.py:942: UserWarning: Only some AnnData objects have `.raw` attribute, not concatenating `.raw` attributes.\n",
      "  warn(\n",
      "/home/cartalop/mambaforge/lib/python3.9/site-packages/anndata/_core/anndata.py:1785: FutureWarning: X.dtype being converted to np.float32 from float64. In the next version of anndata (0.9) conversion will not be automatic. Pass dtype explicitly to avoid this warning. Pass `AnnData(X, dtype=X.dtype, ...)` to get the future behavour.\n",
      "  [AnnData(sparse.csr_matrix(a.shape), obs=a.obs) for a in all_adatas],\n"
     ]
    },
    {
     "data": {
      "text/plain": [
       "AnnData object with n_obs × n_vars = 319065 × 22792\n",
       "    obs: 'study', 'individual', 'sample', 'tissue', 'donor', 'age', 'gender', 'status', 'data_type', 'centre', 'version', 'batch', 'n_genes', 'n_genes_by_counts', 'total_counts', 'total_counts_mt', 'pct_counts_mt', 'total_counts_ribo', 'pct_counts_ribo', 'percent_mt2', 'n_counts', 'percent_chrY', 'XIST-counts', 'S_score', 'G2M_score', 'doublet_scores', 'predicted_doublets', 'object', 'protocol', 'dataset', 'domain_label', 'cell_states', 'orig.ident', 'nCount_RNA', 'nFeature_RNA', 'nCount_ADT', 'nFeature_ADT', 'Age_group', 'BMI', 'COVID_severity', 'COVID_status', 'Ethnicity', 'Group', 'Sex', 'Smoker', 'annotation_broad', 'annotation_detailed', 'annotation_detailed_fullNames', 'patient_id', 'sample_id', 'sequencing_library', 'Protein_modality_weight'\n",
       "    var: 'gene_id-query', 'mt-query', 'ribo-query', 'n_cells_by_counts-caiy2020-query', 'mean_counts-caiy2020-query', 'pct_dropout_by_counts-caiy2020-query', 'total_counts-caiy2020-query', 'n_cells_by_counts-caiy2022-query', 'mean_counts-caiy2022-query', 'pct_dropout_by_counts-caiy2022-query', 'total_counts-caiy2022-query', 'name-reference'"
      ]
     },
     "execution_count": 12,
     "metadata": {},
     "output_type": "execute_result"
    }
   ],
   "source": [
    "healthy_pbmc = query.concatenate(yoshida_pbmc, batch_key = 'object', batch_categories = ['query', 'reference'], join = 'inner')\n",
    "healthy_pbmc"
   ]
  },
  {
   "attachments": {},
   "cell_type": "markdown",
   "metadata": {},
   "source": [
    "### Clean up object"
   ]
  },
  {
   "attachments": {},
   "cell_type": "markdown",
   "metadata": {},
   "source": [
    "- Clean up `adata.obs`"
   ]
  },
  {
   "cell_type": "code",
   "execution_count": 13,
   "metadata": {},
   "outputs": [
    {
     "name": "stderr",
     "output_type": "stream",
     "text": [
      "/tmp/ipykernel_63315/2862765807.py:1: FutureWarning: In a future version of pandas all arguments of DataFrame.drop except for the argument 'labels' will be keyword-only.\n",
      "  tb_pbmc.obs.drop(tb_pbmc.obs.columns.difference(['domain_label','cell_states', 'object']), 1, inplace = True)\n"
     ]
    },
    {
     "data": {
      "text/plain": [
       "AnnData object with n_obs × n_vars = 319065 × 22792\n",
       "    obs: 'object', 'domain_label', 'cell_states'\n",
       "    var: 'gene_id-query', 'mt-query', 'ribo-query', 'n_cells_by_counts-caiy2020-query', 'mean_counts-caiy2020-query', 'pct_dropout_by_counts-caiy2020-query', 'total_counts-caiy2020-query', 'n_cells_by_counts-caiy2022-query', 'mean_counts-caiy2022-query', 'pct_dropout_by_counts-caiy2022-query', 'total_counts-caiy2022-query', 'name-reference'"
      ]
     },
     "execution_count": 13,
     "metadata": {},
     "output_type": "execute_result"
    }
   ],
   "source": [
    "healthy_pbmc.obs.drop(healthy_pbmc.obs.columns.difference(['domain_label','cell_states', 'object']), 1, inplace = True)\n",
    "healthy_pbmc"
   ]
  },
  {
   "attachments": {},
   "cell_type": "markdown",
   "metadata": {},
   "source": [
    "- Clean up `adata.var`"
   ]
  },
  {
   "cell_type": "code",
   "execution_count": 14,
   "metadata": {},
   "outputs": [
    {
     "name": "stderr",
     "output_type": "stream",
     "text": [
      "/tmp/ipykernel_63315/1917069268.py:1: FutureWarning: In a future version of pandas all arguments of DataFrame.drop except for the argument 'labels' will be keyword-only.\n",
      "  tb_pbmc.var.drop(tb_pbmc.var.columns.difference(['gene_id-query']), 1, inplace = True)\n"
     ]
    },
    {
     "data": {
      "text/plain": [
       "AnnData object with n_obs × n_vars = 319065 × 22792\n",
       "    obs: 'object', 'domain_label', 'cell_states'\n",
       "    var: 'gene_id-query'"
      ]
     },
     "execution_count": 14,
     "metadata": {},
     "output_type": "execute_result"
    }
   ],
   "source": [
    "healthy_pbmc.var.drop(healthy_pbmc.var.columns.difference(['gene_id-query']), 1, inplace = True)\n",
    "healthy_pbmc"
   ]
  },
  {
   "attachments": {},
   "cell_type": "markdown",
   "metadata": {},
   "source": [
    "### Save object for `scNym`"
   ]
  },
  {
   "cell_type": "code",
   "execution_count": 15,
   "metadata": {},
   "outputs": [],
   "source": [
    "healthy_pbmc.write('/Volumes/LaCie/data_lake/Mairi_example/processed_files/label_transfer/CaiY_PBMC_healthy_pre-scnym_mm230320.h5ad')"
   ]
  },
  {
   "cell_type": "code",
   "execution_count": null,
   "metadata": {},
   "outputs": [],
   "source": []
  }
 ],
 "metadata": {
  "kernelspec": {
   "display_name": "Python 3.9.13 ('base')",
   "language": "python",
   "name": "python3"
  },
  "language_info": {
   "codemirror_mode": {
    "name": "ipython",
    "version": 3
   },
   "file_extension": ".py",
   "mimetype": "text/x-python",
   "name": "python",
   "nbconvert_exporter": "python",
   "pygments_lexer": "ipython3",
   "version": "3.9.13"
  },
  "orig_nbformat": 4,
  "vscode": {
   "interpreter": {
    "hash": "4510a0ece3a3a7b8be0bb6ae7f2189a7efdcd0f6cb679d9dc9ff26d42b2b4b7c"
   }
  }
 },
 "nbformat": 4,
 "nbformat_minor": 2
}
