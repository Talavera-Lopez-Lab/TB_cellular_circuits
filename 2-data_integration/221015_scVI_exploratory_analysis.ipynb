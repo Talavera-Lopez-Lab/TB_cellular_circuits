{
 "cells": [
  {
   "attachments": {},
   "cell_type": "markdown",
   "metadata": {},
   "source": [
    "## Notebook for exploratory analysis of _Cai Y et al 2020_ and _Cai Y et al 2022_ scRNA-Seq data using `scVI`\n",
    "\n",
    "- **Developed by**: Carlos Talavera-López Ph.D\n",
    "\n",
    "- **Modified by**: Mairi McClean\n",
    "- **Institute of Computational Biology - Computational Health Centre - Helmholtz Munich**\n",
    "- v221101; modified v230314"
   ]
  },
  {
   "cell_type": "markdown",
   "metadata": {},
   "source": [
    "### Load required modules"
   ]
  },
  {
   "cell_type": "code",
   "execution_count": 1,
   "metadata": {},
   "outputs": [
    {
     "name": "stderr",
     "output_type": "stream",
     "text": [
      "Global seed set to 0\n",
      "/Users/mairi.mcclean/mambaforge/envs/scvi_local/lib/python3.10/site-packages/flax/struct.py:133: FutureWarning: jax.tree_util.register_keypaths is deprecated, and will be removed in a future release. Please use `register_pytree_with_keys()` instead.\n",
      "  jax.tree_util.register_keypaths(data_clz, keypaths)\n",
      "/Users/mairi.mcclean/mambaforge/envs/scvi_local/lib/python3.10/site-packages/flax/struct.py:133: FutureWarning: jax.tree_util.register_keypaths is deprecated, and will be removed in a future release. Please use `register_pytree_with_keys()` instead.\n",
      "  jax.tree_util.register_keypaths(data_clz, keypaths)\n",
      "/Users/mairi.mcclean/mambaforge/envs/scvi_local/lib/python3.10/site-packages/flax/struct.py:133: FutureWarning: jax.tree_util.register_keypaths is deprecated, and will be removed in a future release. Please use `register_pytree_with_keys()` instead.\n",
      "  jax.tree_util.register_keypaths(data_clz, keypaths)\n"
     ]
    }
   ],
   "source": [
    "import sys\n",
    "import scvi\n",
    "import torch\n",
    "import anndata\n",
    "import matplotlib\n",
    "import matplotlib.pyplot as plt\n",
    "from matplotlib.colors import LinearSegmentedColormap\n",
    "import seaborn as sns\n",
    "\n",
    "import numpy as np\n",
    "import pandas as pd\n",
    "import scanpy as sc\n",
    "import numpy.random as random\n",
    "\n",
    "\n",
    "from umap import UMAP\n",
    "import warnings; warnings.simplefilter('ignore')"
   ]
  },
  {
   "cell_type": "code",
   "execution_count": 2,
   "metadata": {},
   "outputs": [],
   "source": [
    "# Should this be put on the server?\n",
    "save_path = \"/Volumes/Lacie/data_lake/Mairi_example/notebook_output/paths/\""
   ]
  },
  {
   "cell_type": "code",
   "execution_count": 3,
   "metadata": {},
   "outputs": [],
   "source": [
    "%matplotlib inline\n",
    "matplotlib.rcParams[\"pdf.fonttype\"] = 42\n",
    "matplotlib.rcParams[\"ps.fonttype\"] = 42"
   ]
  },
  {
   "cell_type": "code",
   "execution_count": 4,
   "metadata": {},
   "outputs": [
    {
     "data": {
      "text/plain": [
       "False"
      ]
     },
     "execution_count": 4,
     "metadata": {},
     "output_type": "execute_result"
    }
   ],
   "source": [
    "torch.cuda.is_available()"
   ]
  },
  {
   "cell_type": "code",
   "execution_count": 5,
   "metadata": {
    "collapsed": true,
    "jupyter": {
     "outputs_hidden": true
    },
    "tags": []
   },
   "outputs": [
    {
     "name": "stdout",
     "output_type": "stream",
     "text": [
      "-----\n",
      "anndata     0.8.0\n",
      "scanpy      1.9.3\n",
      "-----\n",
      "PIL                 9.4.0\n",
      "absl                NA\n",
      "appnope             0.1.3\n",
      "asttokens           NA\n",
      "attr                22.2.0\n",
      "backcall            0.2.0\n",
      "beta_ufunc          NA\n",
      "binom_ufunc         NA\n",
      "brotli              NA\n",
      "certifi             2022.12.07\n",
      "cffi                1.15.1\n",
      "charset_normalizer  2.1.1\n",
      "chex                0.1.6\n",
      "colorama            0.4.6\n",
      "comm                0.1.2\n",
      "contextlib2         NA\n",
      "cycler              0.10.0\n",
      "cython_runtime      NA\n",
      "dateutil            2.8.2\n",
      "debugpy             1.6.6\n",
      "decorator           5.1.1\n",
      "docrep              0.3.2\n",
      "executing           1.2.0\n",
      "flax                0.5.0\n",
      "fsspec              2023.3.0\n",
      "h5py                3.8.0\n",
      "hypergeom_ufunc     NA\n",
      "idna                3.4\n",
      "igraph              0.10.4\n",
      "invgauss_ufunc      NA\n",
      "ipykernel           6.21.2\n",
      "ipywidgets          8.0.4\n",
      "jax                 0.4.6\n",
      "jaxlib              0.4.6\n",
      "jedi                0.18.2\n",
      "joblib              1.2.0\n",
      "kiwisolver          1.4.4\n",
      "leidenalg           0.9.1\n",
      "lightning_fabric    1.9.4\n",
      "lightning_utilities 0.8.0\n",
      "llvmlite            0.39.1\n",
      "matplotlib          3.7.1\n",
      "matplotlib_inline   0.1.6\n",
      "ml_collections      NA\n",
      "mpl_toolkits        NA\n",
      "msgpack             1.0.5\n",
      "mudata              0.2.1\n",
      "multipledispatch    0.6.0\n",
      "natsort             8.3.1\n",
      "nbinom_ufunc        NA\n",
      "ncf_ufunc           NA\n",
      "nct_ufunc           NA\n",
      "ncx2_ufunc          NA\n",
      "numba               0.56.4\n",
      "numpy               1.23.5\n",
      "numpyro             0.11.0\n",
      "opt_einsum          v3.3.0\n",
      "optax               0.1.4\n",
      "packaging           23.0\n",
      "pandas              1.5.3\n",
      "parso               0.8.3\n",
      "pexpect             4.8.0\n",
      "pickleshare         0.7.5\n",
      "pkg_resources       NA\n",
      "platformdirs        3.1.1\n",
      "prompt_toolkit      3.0.38\n",
      "psutil              5.9.4\n",
      "ptyprocess          0.7.0\n",
      "pure_eval           0.2.2\n",
      "pycparser           2.21\n",
      "pydev_ipython       NA\n",
      "pydevconsole        NA\n",
      "pydevd              2.9.5\n",
      "pydevd_file_utils   NA\n",
      "pydevd_plugins      NA\n",
      "pydevd_tracing      NA\n",
      "pygments            2.14.0\n",
      "pynndescent         0.5.8\n",
      "pyparsing           3.0.9\n",
      "pyro                1.8.4+9ed468d\n",
      "pytorch_lightning   1.9.4\n",
      "pytz                2022.7.1\n",
      "requests            2.28.2\n",
      "rich                NA\n",
      "scipy               1.10.1\n",
      "scvi                0.20.2\n",
      "seaborn             0.12.2\n",
      "session_info        1.0.0\n",
      "setuptools          67.6.0\n",
      "six                 1.16.0\n",
      "skewnorm_ufunc      NA\n",
      "sklearn             1.2.2\n",
      "socks               1.7.1\n",
      "stack_data          0.6.2\n",
      "statsmodels         0.13.5\n",
      "texttable           1.6.7\n",
      "threadpoolctl       3.1.0\n",
      "toolz               0.12.0\n",
      "torch               1.13.1\n",
      "torchmetrics        0.11.4\n",
      "torchvision         0.14.1\n",
      "tornado             6.2\n",
      "tqdm                4.65.0\n",
      "traitlets           5.9.0\n",
      "tree                0.1.7\n",
      "typing_extensions   NA\n",
      "umap                0.5.3\n",
      "unicodedata2        NA\n",
      "urllib3             1.26.15\n",
      "wcwidth             0.2.6\n",
      "yaml                6.0\n",
      "zmq                 25.0.1\n",
      "zoneinfo            NA\n",
      "-----\n",
      "IPython             8.11.0\n",
      "jupyter_client      8.0.3\n",
      "jupyter_core        5.2.0\n",
      "-----\n",
      "Python 3.10.9 | packaged by conda-forge | (main, Feb  2 2023, 20:26:08) [Clang 14.0.6 ]\n",
      "macOS-12.5.1-arm64-arm-64bit\n",
      "-----\n",
      "Session information updated at 2023-03-15 13:04\n"
     ]
    }
   ],
   "source": [
    "sc.settings.verbosity = 3\n",
    "sc.logging.print_versions()\n",
    "sc.settings.set_figure_params(dpi = 180, color_map = 'magma_r', dpi_save = 300, vector_friendly = True, format = 'svg')"
   ]
  },
  {
   "cell_type": "markdown",
   "metadata": {},
   "source": [
    "### Read in datasets"
   ]
  },
  {
   "cell_type": "markdown",
   "metadata": {},
   "source": [
    "- Read in _Cai Y et al 2020_"
   ]
  },
  {
   "cell_type": "code",
   "execution_count": 6,
   "metadata": {},
   "outputs": [
    {
     "data": {
      "text/plain": [
       "AnnData object with n_obs × n_vars = 73146 × 61533\n",
       "    obs: 'study', 'individual', 'sample', 'tissue', 'donor', 'age', 'gender', 'status', 'data_type', 'centre', 'version', 'batch', 'n_genes', 'n_genes_by_counts', 'total_counts', 'total_counts_mt', 'pct_counts_mt', 'total_counts_ribo', 'pct_counts_ribo', 'percent_mt2', 'n_counts', 'percent_chrY', 'XIST-counts', 'S_score', 'G2M_score', 'predicted_doublets'\n",
       "    var: 'gene_id', 'mt', 'ribo', 'n_cells_by_counts', 'mean_counts', 'pct_dropout_by_counts', 'total_counts'\n",
       "    uns: 'donor_colors'\n",
       "    layers: 'counts', 'sqrt_norm'"
      ]
     },
     "execution_count": 6,
     "metadata": {},
     "output_type": "execute_result"
    }
   ],
   "source": [
    "# caiy2020 = sc.read_h5ad('/lustre/groups/talaveralopez/datasets/tuberculosis/rna-seq/mairi_data_lake/processed_files/abridged_qc/human/Cai2020_scRNA_PBMC_mm230306_qcd.h5ad')\n",
    "# caiy2020\n",
    "\n",
    "caiy2020 = sc.read_h5ad('/Volumes/Lacie/data_lake/Mairi_example/processed_files/abridged_qc/human/Cai2020_scRNA_PBMC_mm230315_qcd.h5ad')\n",
    "caiy2020"
   ]
  },
  {
   "cell_type": "markdown",
   "metadata": {},
   "source": [
    "- Read in _Cai Y et al 2022_"
   ]
  },
  {
   "cell_type": "code",
   "execution_count": 7,
   "metadata": {},
   "outputs": [
    {
     "data": {
      "text/plain": [
       "AnnData object with n_obs × n_vars = 25417 × 61533\n",
       "    obs: 'study', 'individual', 'sample', 'tissue', 'donor', 'data_type', 'centre', 'version', 'object', 'protocol', 'n_genes', 'n_genes_by_counts', 'total_counts', 'total_counts_mt', 'pct_counts_mt', 'total_counts_ribo', 'pct_counts_ribo', 'percent_mt2', 'n_counts', 'percent_chrY', 'XIST-counts', 'S_score', 'G2M_score', 'predicted_doublets', 'status'\n",
       "    var: 'gene_id', 'mt', 'ribo', 'n_cells_by_counts', 'mean_counts', 'pct_dropout_by_counts', 'total_counts'\n",
       "    uns: 'donor_colors', 'sample_colors'\n",
       "    layers: 'counts', 'sqrt_norm'"
      ]
     },
     "execution_count": 7,
     "metadata": {},
     "output_type": "execute_result"
    }
   ],
   "source": [
    "# caiy2022 = sc.read_h5ad('/lustre/groups/talaveralopez/datasets/tuberculosis/rna-seq/mairi_data_lake/processed_files/abridged_qc/human/Cai2022_scRNA_PBMC_mm230314_qcd.h5ad')\n",
    "# caiy2022.obs['status'] = 'active_TB'\n",
    "# caiy2022\n",
    "\n",
    "caiy2022 = sc.read_h5ad('/Volumes/Lacie/data_lake/Mairi_example/processed_files/abridged_qc/human/Cai2022_scRNA_PBMC_mm230315_qcd.h5ad')\n",
    "caiy2022.obs['status'] = 'active_TB'\n",
    "caiy2022"
   ]
  },
  {
   "cell_type": "markdown",
   "metadata": {},
   "source": [
    "### Merge datasets"
   ]
  },
  {
   "cell_type": "code",
   "execution_count": 8,
   "metadata": {},
   "outputs": [
    {
     "data": {
      "text/plain": [
       "AnnData object with n_obs × n_vars = 98563 × 61533\n",
       "    obs: 'study', 'individual', 'sample', 'tissue', 'donor', 'age', 'gender', 'status', 'data_type', 'centre', 'version', 'batch', 'n_genes', 'n_genes_by_counts', 'total_counts', 'total_counts_mt', 'pct_counts_mt', 'total_counts_ribo', 'pct_counts_ribo', 'percent_mt2', 'n_counts', 'percent_chrY', 'XIST-counts', 'S_score', 'G2M_score', 'predicted_doublets', 'object', 'protocol', 'dataset'\n",
       "    var: 'gene_id', 'mt', 'ribo', 'n_cells_by_counts-caiy2020', 'mean_counts-caiy2020', 'pct_dropout_by_counts-caiy2020', 'total_counts-caiy2020', 'n_cells_by_counts-caiy2022', 'mean_counts-caiy2022', 'pct_dropout_by_counts-caiy2022', 'total_counts-caiy2022'\n",
       "    layers: 'counts', 'sqrt_norm'"
      ]
     },
     "execution_count": 8,
     "metadata": {},
     "output_type": "execute_result"
    }
   ],
   "source": [
    "caiy_tb = caiy2020.concatenate(caiy2022, batch_key = 'dataset', batch_categories = ['caiy2020', 'caiy2022'], join = 'inner')\n",
    "caiy_tb"
   ]
  },
  {
   "attachments": {},
   "cell_type": "markdown",
   "metadata": {},
   "source": [
    "### Check that anndata object only contains PBMC scRNA from healthy donors"
   ]
  },
  {
   "cell_type": "code",
   "execution_count": 9,
   "metadata": {},
   "outputs": [
    {
     "data": {
      "text/html": [
       "<div>\n",
       "<style scoped>\n",
       "    .dataframe tbody tr th:only-of-type {\n",
       "        vertical-align: middle;\n",
       "    }\n",
       "\n",
       "    .dataframe tbody tr th {\n",
       "        vertical-align: top;\n",
       "    }\n",
       "\n",
       "    .dataframe thead th {\n",
       "        text-align: right;\n",
       "    }\n",
       "</style>\n",
       "<table border=\"1\" class=\"dataframe\">\n",
       "  <thead>\n",
       "    <tr style=\"text-align: right;\">\n",
       "      <th></th>\n",
       "      <th>study</th>\n",
       "      <th>individual</th>\n",
       "      <th>sample</th>\n",
       "      <th>tissue</th>\n",
       "      <th>donor</th>\n",
       "      <th>age</th>\n",
       "      <th>gender</th>\n",
       "      <th>status</th>\n",
       "      <th>data_type</th>\n",
       "      <th>centre</th>\n",
       "      <th>...</th>\n",
       "      <th>percent_mt2</th>\n",
       "      <th>n_counts</th>\n",
       "      <th>percent_chrY</th>\n",
       "      <th>XIST-counts</th>\n",
       "      <th>S_score</th>\n",
       "      <th>G2M_score</th>\n",
       "      <th>predicted_doublets</th>\n",
       "      <th>object</th>\n",
       "      <th>protocol</th>\n",
       "      <th>dataset</th>\n",
       "    </tr>\n",
       "    <tr>\n",
       "      <th>barcode</th>\n",
       "      <th></th>\n",
       "      <th></th>\n",
       "      <th></th>\n",
       "      <th></th>\n",
       "      <th></th>\n",
       "      <th></th>\n",
       "      <th></th>\n",
       "      <th></th>\n",
       "      <th></th>\n",
       "      <th></th>\n",
       "      <th></th>\n",
       "      <th></th>\n",
       "      <th></th>\n",
       "      <th></th>\n",
       "      <th></th>\n",
       "      <th></th>\n",
       "      <th></th>\n",
       "      <th></th>\n",
       "      <th></th>\n",
       "      <th></th>\n",
       "      <th></th>\n",
       "    </tr>\n",
       "  </thead>\n",
       "  <tbody>\n",
       "    <tr>\n",
       "      <th>AAACCTGAGAACAATC-acTB3-caiy2020</th>\n",
       "      <td>CaiY_2021</td>\n",
       "      <td>SAMN14048025</td>\n",
       "      <td>PBMC_TB_3</td>\n",
       "      <td>PBMC</td>\n",
       "      <td>SAMN14048025</td>\n",
       "      <td>34</td>\n",
       "      <td>male</td>\n",
       "      <td>active_TB</td>\n",
       "      <td>scRNAseq</td>\n",
       "      <td>Shenzhen University</td>\n",
       "      <td>...</td>\n",
       "      <td>0.060170</td>\n",
       "      <td>5634.0</td>\n",
       "      <td>0.053248</td>\n",
       "      <td>0.0</td>\n",
       "      <td>-0.352188</td>\n",
       "      <td>-0.193287</td>\n",
       "      <td>0.0</td>\n",
       "      <td>NaN</td>\n",
       "      <td>NaN</td>\n",
       "      <td>caiy2020</td>\n",
       "    </tr>\n",
       "    <tr>\n",
       "      <th>AAACCTGAGAAGGTGA-acTB3-caiy2020</th>\n",
       "      <td>CaiY_2021</td>\n",
       "      <td>SAMN14048025</td>\n",
       "      <td>PBMC_TB_3</td>\n",
       "      <td>PBMC</td>\n",
       "      <td>SAMN14048025</td>\n",
       "      <td>34</td>\n",
       "      <td>male</td>\n",
       "      <td>active_TB</td>\n",
       "      <td>scRNAseq</td>\n",
       "      <td>Shenzhen University</td>\n",
       "      <td>...</td>\n",
       "      <td>0.016686</td>\n",
       "      <td>3536.0</td>\n",
       "      <td>0.113122</td>\n",
       "      <td>0.0</td>\n",
       "      <td>-0.064944</td>\n",
       "      <td>-0.071169</td>\n",
       "      <td>0.0</td>\n",
       "      <td>NaN</td>\n",
       "      <td>NaN</td>\n",
       "      <td>caiy2020</td>\n",
       "    </tr>\n",
       "    <tr>\n",
       "      <th>AAACCTGAGATCTGCT-acTB3-caiy2020</th>\n",
       "      <td>CaiY_2021</td>\n",
       "      <td>SAMN14048025</td>\n",
       "      <td>PBMC_TB_3</td>\n",
       "      <td>PBMC</td>\n",
       "      <td>SAMN14048025</td>\n",
       "      <td>34</td>\n",
       "      <td>male</td>\n",
       "      <td>active_TB</td>\n",
       "      <td>scRNAseq</td>\n",
       "      <td>Shenzhen University</td>\n",
       "      <td>...</td>\n",
       "      <td>0.099675</td>\n",
       "      <td>1846.0</td>\n",
       "      <td>0.054171</td>\n",
       "      <td>0.0</td>\n",
       "      <td>-0.231399</td>\n",
       "      <td>-0.080643</td>\n",
       "      <td>0.0</td>\n",
       "      <td>NaN</td>\n",
       "      <td>NaN</td>\n",
       "      <td>caiy2020</td>\n",
       "    </tr>\n",
       "    <tr>\n",
       "      <th>AAACCTGAGCACAGGT-acTB3-caiy2020</th>\n",
       "      <td>CaiY_2021</td>\n",
       "      <td>SAMN14048025</td>\n",
       "      <td>PBMC_TB_3</td>\n",
       "      <td>PBMC</td>\n",
       "      <td>SAMN14048025</td>\n",
       "      <td>34</td>\n",
       "      <td>male</td>\n",
       "      <td>active_TB</td>\n",
       "      <td>scRNAseq</td>\n",
       "      <td>Shenzhen University</td>\n",
       "      <td>...</td>\n",
       "      <td>0.045580</td>\n",
       "      <td>3993.0</td>\n",
       "      <td>0.075131</td>\n",
       "      <td>0.0</td>\n",
       "      <td>-0.227884</td>\n",
       "      <td>-0.258770</td>\n",
       "      <td>0.0</td>\n",
       "      <td>NaN</td>\n",
       "      <td>NaN</td>\n",
       "      <td>caiy2020</td>\n",
       "    </tr>\n",
       "    <tr>\n",
       "      <th>AAACCTGAGCGTGAAC-acTB3-caiy2020</th>\n",
       "      <td>CaiY_2021</td>\n",
       "      <td>SAMN14048025</td>\n",
       "      <td>PBMC_TB_3</td>\n",
       "      <td>PBMC</td>\n",
       "      <td>SAMN14048025</td>\n",
       "      <td>34</td>\n",
       "      <td>male</td>\n",
       "      <td>active_TB</td>\n",
       "      <td>scRNAseq</td>\n",
       "      <td>Shenzhen University</td>\n",
       "      <td>...</td>\n",
       "      <td>0.024570</td>\n",
       "      <td>2035.0</td>\n",
       "      <td>0.147420</td>\n",
       "      <td>0.0</td>\n",
       "      <td>0.020959</td>\n",
       "      <td>0.025030</td>\n",
       "      <td>0.0</td>\n",
       "      <td>NaN</td>\n",
       "      <td>NaN</td>\n",
       "      <td>caiy2020</td>\n",
       "    </tr>\n",
       "    <tr>\n",
       "      <th>...</th>\n",
       "      <td>...</td>\n",
       "      <td>...</td>\n",
       "      <td>...</td>\n",
       "      <td>...</td>\n",
       "      <td>...</td>\n",
       "      <td>...</td>\n",
       "      <td>...</td>\n",
       "      <td>...</td>\n",
       "      <td>...</td>\n",
       "      <td>...</td>\n",
       "      <td>...</td>\n",
       "      <td>...</td>\n",
       "      <td>...</td>\n",
       "      <td>...</td>\n",
       "      <td>...</td>\n",
       "      <td>...</td>\n",
       "      <td>...</td>\n",
       "      <td>...</td>\n",
       "      <td>...</td>\n",
       "      <td>...</td>\n",
       "      <td>...</td>\n",
       "    </tr>\n",
       "    <tr>\n",
       "      <th>TTTGTCAGTCCATCCT-HRS100513-pbmc_scRNAseq-caiy2022</th>\n",
       "      <td>CaiY_2022</td>\n",
       "      <td>HRI068293</td>\n",
       "      <td>HRS100513</td>\n",
       "      <td>PBMC</td>\n",
       "      <td>P4</td>\n",
       "      <td>NaN</td>\n",
       "      <td>NaN</td>\n",
       "      <td>active_TB</td>\n",
       "      <td>scRNAseq</td>\n",
       "      <td>Shenzhen University</td>\n",
       "      <td>...</td>\n",
       "      <td>0.052279</td>\n",
       "      <td>746.0</td>\n",
       "      <td>0.000000</td>\n",
       "      <td>0.0</td>\n",
       "      <td>-0.137711</td>\n",
       "      <td>-0.152166</td>\n",
       "      <td>0.0</td>\n",
       "      <td>HRS100513</td>\n",
       "      <td>pbmc_scRNAseq</td>\n",
       "      <td>caiy2022</td>\n",
       "    </tr>\n",
       "    <tr>\n",
       "      <th>TTTGTCAGTGCTGTAT-HRS100513-pbmc_scRNAseq-caiy2022</th>\n",
       "      <td>CaiY_2022</td>\n",
       "      <td>HRI068293</td>\n",
       "      <td>HRS100513</td>\n",
       "      <td>PBMC</td>\n",
       "      <td>P4</td>\n",
       "      <td>NaN</td>\n",
       "      <td>NaN</td>\n",
       "      <td>active_TB</td>\n",
       "      <td>scRNAseq</td>\n",
       "      <td>Shenzhen University</td>\n",
       "      <td>...</td>\n",
       "      <td>0.051491</td>\n",
       "      <td>369.0</td>\n",
       "      <td>0.000000</td>\n",
       "      <td>0.0</td>\n",
       "      <td>0.130521</td>\n",
       "      <td>0.092987</td>\n",
       "      <td>0.0</td>\n",
       "      <td>HRS100513</td>\n",
       "      <td>pbmc_scRNAseq</td>\n",
       "      <td>caiy2022</td>\n",
       "    </tr>\n",
       "    <tr>\n",
       "      <th>TTTGTCAGTGTGGCTC-HRS100513-pbmc_scRNAseq-caiy2022</th>\n",
       "      <td>CaiY_2022</td>\n",
       "      <td>HRI068293</td>\n",
       "      <td>HRS100513</td>\n",
       "      <td>PBMC</td>\n",
       "      <td>P4</td>\n",
       "      <td>NaN</td>\n",
       "      <td>NaN</td>\n",
       "      <td>active_TB</td>\n",
       "      <td>scRNAseq</td>\n",
       "      <td>Shenzhen University</td>\n",
       "      <td>...</td>\n",
       "      <td>0.028736</td>\n",
       "      <td>348.0</td>\n",
       "      <td>0.000000</td>\n",
       "      <td>0.0</td>\n",
       "      <td>-0.043432</td>\n",
       "      <td>-0.034049</td>\n",
       "      <td>0.0</td>\n",
       "      <td>HRS100513</td>\n",
       "      <td>pbmc_scRNAseq</td>\n",
       "      <td>caiy2022</td>\n",
       "    </tr>\n",
       "    <tr>\n",
       "      <th>TTTGTCATCGTTTATC-HRS100513-pbmc_scRNAseq-caiy2022</th>\n",
       "      <td>CaiY_2022</td>\n",
       "      <td>HRI068293</td>\n",
       "      <td>HRS100513</td>\n",
       "      <td>PBMC</td>\n",
       "      <td>P4</td>\n",
       "      <td>NaN</td>\n",
       "      <td>NaN</td>\n",
       "      <td>active_TB</td>\n",
       "      <td>scRNAseq</td>\n",
       "      <td>Shenzhen University</td>\n",
       "      <td>...</td>\n",
       "      <td>0.079851</td>\n",
       "      <td>1340.0</td>\n",
       "      <td>0.074627</td>\n",
       "      <td>0.0</td>\n",
       "      <td>0.236621</td>\n",
       "      <td>0.071757</td>\n",
       "      <td>0.0</td>\n",
       "      <td>HRS100513</td>\n",
       "      <td>pbmc_scRNAseq</td>\n",
       "      <td>caiy2022</td>\n",
       "    </tr>\n",
       "    <tr>\n",
       "      <th>TTTGTCATCTTACCTA-HRS100513-pbmc_scRNAseq-caiy2022</th>\n",
       "      <td>CaiY_2022</td>\n",
       "      <td>HRI068293</td>\n",
       "      <td>HRS100513</td>\n",
       "      <td>PBMC</td>\n",
       "      <td>P4</td>\n",
       "      <td>NaN</td>\n",
       "      <td>NaN</td>\n",
       "      <td>active_TB</td>\n",
       "      <td>scRNAseq</td>\n",
       "      <td>Shenzhen University</td>\n",
       "      <td>...</td>\n",
       "      <td>0.112329</td>\n",
       "      <td>365.0</td>\n",
       "      <td>0.000000</td>\n",
       "      <td>0.0</td>\n",
       "      <td>0.156833</td>\n",
       "      <td>-0.050452</td>\n",
       "      <td>0.0</td>\n",
       "      <td>HRS100513</td>\n",
       "      <td>pbmc_scRNAseq</td>\n",
       "      <td>caiy2022</td>\n",
       "    </tr>\n",
       "  </tbody>\n",
       "</table>\n",
       "<p>98563 rows × 29 columns</p>\n",
       "</div>"
      ],
      "text/plain": [
       "                                                       study    individual  \\\n",
       "barcode                                                                      \n",
       "AAACCTGAGAACAATC-acTB3-caiy2020                    CaiY_2021  SAMN14048025   \n",
       "AAACCTGAGAAGGTGA-acTB3-caiy2020                    CaiY_2021  SAMN14048025   \n",
       "AAACCTGAGATCTGCT-acTB3-caiy2020                    CaiY_2021  SAMN14048025   \n",
       "AAACCTGAGCACAGGT-acTB3-caiy2020                    CaiY_2021  SAMN14048025   \n",
       "AAACCTGAGCGTGAAC-acTB3-caiy2020                    CaiY_2021  SAMN14048025   \n",
       "...                                                      ...           ...   \n",
       "TTTGTCAGTCCATCCT-HRS100513-pbmc_scRNAseq-caiy2022  CaiY_2022     HRI068293   \n",
       "TTTGTCAGTGCTGTAT-HRS100513-pbmc_scRNAseq-caiy2022  CaiY_2022     HRI068293   \n",
       "TTTGTCAGTGTGGCTC-HRS100513-pbmc_scRNAseq-caiy2022  CaiY_2022     HRI068293   \n",
       "TTTGTCATCGTTTATC-HRS100513-pbmc_scRNAseq-caiy2022  CaiY_2022     HRI068293   \n",
       "TTTGTCATCTTACCTA-HRS100513-pbmc_scRNAseq-caiy2022  CaiY_2022     HRI068293   \n",
       "\n",
       "                                                      sample tissue  \\\n",
       "barcode                                                               \n",
       "AAACCTGAGAACAATC-acTB3-caiy2020                    PBMC_TB_3   PBMC   \n",
       "AAACCTGAGAAGGTGA-acTB3-caiy2020                    PBMC_TB_3   PBMC   \n",
       "AAACCTGAGATCTGCT-acTB3-caiy2020                    PBMC_TB_3   PBMC   \n",
       "AAACCTGAGCACAGGT-acTB3-caiy2020                    PBMC_TB_3   PBMC   \n",
       "AAACCTGAGCGTGAAC-acTB3-caiy2020                    PBMC_TB_3   PBMC   \n",
       "...                                                      ...    ...   \n",
       "TTTGTCAGTCCATCCT-HRS100513-pbmc_scRNAseq-caiy2022  HRS100513   PBMC   \n",
       "TTTGTCAGTGCTGTAT-HRS100513-pbmc_scRNAseq-caiy2022  HRS100513   PBMC   \n",
       "TTTGTCAGTGTGGCTC-HRS100513-pbmc_scRNAseq-caiy2022  HRS100513   PBMC   \n",
       "TTTGTCATCGTTTATC-HRS100513-pbmc_scRNAseq-caiy2022  HRS100513   PBMC   \n",
       "TTTGTCATCTTACCTA-HRS100513-pbmc_scRNAseq-caiy2022  HRS100513   PBMC   \n",
       "\n",
       "                                                          donor  age gender  \\\n",
       "barcode                                                                       \n",
       "AAACCTGAGAACAATC-acTB3-caiy2020                    SAMN14048025   34   male   \n",
       "AAACCTGAGAAGGTGA-acTB3-caiy2020                    SAMN14048025   34   male   \n",
       "AAACCTGAGATCTGCT-acTB3-caiy2020                    SAMN14048025   34   male   \n",
       "AAACCTGAGCACAGGT-acTB3-caiy2020                    SAMN14048025   34   male   \n",
       "AAACCTGAGCGTGAAC-acTB3-caiy2020                    SAMN14048025   34   male   \n",
       "...                                                         ...  ...    ...   \n",
       "TTTGTCAGTCCATCCT-HRS100513-pbmc_scRNAseq-caiy2022            P4  NaN    NaN   \n",
       "TTTGTCAGTGCTGTAT-HRS100513-pbmc_scRNAseq-caiy2022            P4  NaN    NaN   \n",
       "TTTGTCAGTGTGGCTC-HRS100513-pbmc_scRNAseq-caiy2022            P4  NaN    NaN   \n",
       "TTTGTCATCGTTTATC-HRS100513-pbmc_scRNAseq-caiy2022            P4  NaN    NaN   \n",
       "TTTGTCATCTTACCTA-HRS100513-pbmc_scRNAseq-caiy2022            P4  NaN    NaN   \n",
       "\n",
       "                                                      status data_type  \\\n",
       "barcode                                                                  \n",
       "AAACCTGAGAACAATC-acTB3-caiy2020                    active_TB  scRNAseq   \n",
       "AAACCTGAGAAGGTGA-acTB3-caiy2020                    active_TB  scRNAseq   \n",
       "AAACCTGAGATCTGCT-acTB3-caiy2020                    active_TB  scRNAseq   \n",
       "AAACCTGAGCACAGGT-acTB3-caiy2020                    active_TB  scRNAseq   \n",
       "AAACCTGAGCGTGAAC-acTB3-caiy2020                    active_TB  scRNAseq   \n",
       "...                                                      ...       ...   \n",
       "TTTGTCAGTCCATCCT-HRS100513-pbmc_scRNAseq-caiy2022  active_TB  scRNAseq   \n",
       "TTTGTCAGTGCTGTAT-HRS100513-pbmc_scRNAseq-caiy2022  active_TB  scRNAseq   \n",
       "TTTGTCAGTGTGGCTC-HRS100513-pbmc_scRNAseq-caiy2022  active_TB  scRNAseq   \n",
       "TTTGTCATCGTTTATC-HRS100513-pbmc_scRNAseq-caiy2022  active_TB  scRNAseq   \n",
       "TTTGTCATCTTACCTA-HRS100513-pbmc_scRNAseq-caiy2022  active_TB  scRNAseq   \n",
       "\n",
       "                                                                centre  ...  \\\n",
       "barcode                                                                 ...   \n",
       "AAACCTGAGAACAATC-acTB3-caiy2020                    Shenzhen University  ...   \n",
       "AAACCTGAGAAGGTGA-acTB3-caiy2020                    Shenzhen University  ...   \n",
       "AAACCTGAGATCTGCT-acTB3-caiy2020                    Shenzhen University  ...   \n",
       "AAACCTGAGCACAGGT-acTB3-caiy2020                    Shenzhen University  ...   \n",
       "AAACCTGAGCGTGAAC-acTB3-caiy2020                    Shenzhen University  ...   \n",
       "...                                                                ...  ...   \n",
       "TTTGTCAGTCCATCCT-HRS100513-pbmc_scRNAseq-caiy2022  Shenzhen University  ...   \n",
       "TTTGTCAGTGCTGTAT-HRS100513-pbmc_scRNAseq-caiy2022  Shenzhen University  ...   \n",
       "TTTGTCAGTGTGGCTC-HRS100513-pbmc_scRNAseq-caiy2022  Shenzhen University  ...   \n",
       "TTTGTCATCGTTTATC-HRS100513-pbmc_scRNAseq-caiy2022  Shenzhen University  ...   \n",
       "TTTGTCATCTTACCTA-HRS100513-pbmc_scRNAseq-caiy2022  Shenzhen University  ...   \n",
       "\n",
       "                                                  percent_mt2 n_counts  \\\n",
       "barcode                                                                  \n",
       "AAACCTGAGAACAATC-acTB3-caiy2020                      0.060170   5634.0   \n",
       "AAACCTGAGAAGGTGA-acTB3-caiy2020                      0.016686   3536.0   \n",
       "AAACCTGAGATCTGCT-acTB3-caiy2020                      0.099675   1846.0   \n",
       "AAACCTGAGCACAGGT-acTB3-caiy2020                      0.045580   3993.0   \n",
       "AAACCTGAGCGTGAAC-acTB3-caiy2020                      0.024570   2035.0   \n",
       "...                                                       ...      ...   \n",
       "TTTGTCAGTCCATCCT-HRS100513-pbmc_scRNAseq-caiy2022    0.052279    746.0   \n",
       "TTTGTCAGTGCTGTAT-HRS100513-pbmc_scRNAseq-caiy2022    0.051491    369.0   \n",
       "TTTGTCAGTGTGGCTC-HRS100513-pbmc_scRNAseq-caiy2022    0.028736    348.0   \n",
       "TTTGTCATCGTTTATC-HRS100513-pbmc_scRNAseq-caiy2022    0.079851   1340.0   \n",
       "TTTGTCATCTTACCTA-HRS100513-pbmc_scRNAseq-caiy2022    0.112329    365.0   \n",
       "\n",
       "                                                   percent_chrY  XIST-counts  \\\n",
       "barcode                                                                        \n",
       "AAACCTGAGAACAATC-acTB3-caiy2020                        0.053248          0.0   \n",
       "AAACCTGAGAAGGTGA-acTB3-caiy2020                        0.113122          0.0   \n",
       "AAACCTGAGATCTGCT-acTB3-caiy2020                        0.054171          0.0   \n",
       "AAACCTGAGCACAGGT-acTB3-caiy2020                        0.075131          0.0   \n",
       "AAACCTGAGCGTGAAC-acTB3-caiy2020                        0.147420          0.0   \n",
       "...                                                         ...          ...   \n",
       "TTTGTCAGTCCATCCT-HRS100513-pbmc_scRNAseq-caiy2022      0.000000          0.0   \n",
       "TTTGTCAGTGCTGTAT-HRS100513-pbmc_scRNAseq-caiy2022      0.000000          0.0   \n",
       "TTTGTCAGTGTGGCTC-HRS100513-pbmc_scRNAseq-caiy2022      0.000000          0.0   \n",
       "TTTGTCATCGTTTATC-HRS100513-pbmc_scRNAseq-caiy2022      0.074627          0.0   \n",
       "TTTGTCATCTTACCTA-HRS100513-pbmc_scRNAseq-caiy2022      0.000000          0.0   \n",
       "\n",
       "                                                    S_score  G2M_score  \\\n",
       "barcode                                                                  \n",
       "AAACCTGAGAACAATC-acTB3-caiy2020                   -0.352188  -0.193287   \n",
       "AAACCTGAGAAGGTGA-acTB3-caiy2020                   -0.064944  -0.071169   \n",
       "AAACCTGAGATCTGCT-acTB3-caiy2020                   -0.231399  -0.080643   \n",
       "AAACCTGAGCACAGGT-acTB3-caiy2020                   -0.227884  -0.258770   \n",
       "AAACCTGAGCGTGAAC-acTB3-caiy2020                    0.020959   0.025030   \n",
       "...                                                     ...        ...   \n",
       "TTTGTCAGTCCATCCT-HRS100513-pbmc_scRNAseq-caiy2022 -0.137711  -0.152166   \n",
       "TTTGTCAGTGCTGTAT-HRS100513-pbmc_scRNAseq-caiy2022  0.130521   0.092987   \n",
       "TTTGTCAGTGTGGCTC-HRS100513-pbmc_scRNAseq-caiy2022 -0.043432  -0.034049   \n",
       "TTTGTCATCGTTTATC-HRS100513-pbmc_scRNAseq-caiy2022  0.236621   0.071757   \n",
       "TTTGTCATCTTACCTA-HRS100513-pbmc_scRNAseq-caiy2022  0.156833  -0.050452   \n",
       "\n",
       "                                                   predicted_doublets  \\\n",
       "barcode                                                                 \n",
       "AAACCTGAGAACAATC-acTB3-caiy2020                                   0.0   \n",
       "AAACCTGAGAAGGTGA-acTB3-caiy2020                                   0.0   \n",
       "AAACCTGAGATCTGCT-acTB3-caiy2020                                   0.0   \n",
       "AAACCTGAGCACAGGT-acTB3-caiy2020                                   0.0   \n",
       "AAACCTGAGCGTGAAC-acTB3-caiy2020                                   0.0   \n",
       "...                                                               ...   \n",
       "TTTGTCAGTCCATCCT-HRS100513-pbmc_scRNAseq-caiy2022                 0.0   \n",
       "TTTGTCAGTGCTGTAT-HRS100513-pbmc_scRNAseq-caiy2022                 0.0   \n",
       "TTTGTCAGTGTGGCTC-HRS100513-pbmc_scRNAseq-caiy2022                 0.0   \n",
       "TTTGTCATCGTTTATC-HRS100513-pbmc_scRNAseq-caiy2022                 0.0   \n",
       "TTTGTCATCTTACCTA-HRS100513-pbmc_scRNAseq-caiy2022                 0.0   \n",
       "\n",
       "                                                      object       protocol  \\\n",
       "barcode                                                                       \n",
       "AAACCTGAGAACAATC-acTB3-caiy2020                          NaN            NaN   \n",
       "AAACCTGAGAAGGTGA-acTB3-caiy2020                          NaN            NaN   \n",
       "AAACCTGAGATCTGCT-acTB3-caiy2020                          NaN            NaN   \n",
       "AAACCTGAGCACAGGT-acTB3-caiy2020                          NaN            NaN   \n",
       "AAACCTGAGCGTGAAC-acTB3-caiy2020                          NaN            NaN   \n",
       "...                                                      ...            ...   \n",
       "TTTGTCAGTCCATCCT-HRS100513-pbmc_scRNAseq-caiy2022  HRS100513  pbmc_scRNAseq   \n",
       "TTTGTCAGTGCTGTAT-HRS100513-pbmc_scRNAseq-caiy2022  HRS100513  pbmc_scRNAseq   \n",
       "TTTGTCAGTGTGGCTC-HRS100513-pbmc_scRNAseq-caiy2022  HRS100513  pbmc_scRNAseq   \n",
       "TTTGTCATCGTTTATC-HRS100513-pbmc_scRNAseq-caiy2022  HRS100513  pbmc_scRNAseq   \n",
       "TTTGTCATCTTACCTA-HRS100513-pbmc_scRNAseq-caiy2022  HRS100513  pbmc_scRNAseq   \n",
       "\n",
       "                                                    dataset  \n",
       "barcode                                                      \n",
       "AAACCTGAGAACAATC-acTB3-caiy2020                    caiy2020  \n",
       "AAACCTGAGAAGGTGA-acTB3-caiy2020                    caiy2020  \n",
       "AAACCTGAGATCTGCT-acTB3-caiy2020                    caiy2020  \n",
       "AAACCTGAGCACAGGT-acTB3-caiy2020                    caiy2020  \n",
       "AAACCTGAGCGTGAAC-acTB3-caiy2020                    caiy2020  \n",
       "...                                                     ...  \n",
       "TTTGTCAGTCCATCCT-HRS100513-pbmc_scRNAseq-caiy2022  caiy2022  \n",
       "TTTGTCAGTGCTGTAT-HRS100513-pbmc_scRNAseq-caiy2022  caiy2022  \n",
       "TTTGTCAGTGTGGCTC-HRS100513-pbmc_scRNAseq-caiy2022  caiy2022  \n",
       "TTTGTCATCGTTTATC-HRS100513-pbmc_scRNAseq-caiy2022  caiy2022  \n",
       "TTTGTCATCTTACCTA-HRS100513-pbmc_scRNAseq-caiy2022  caiy2022  \n",
       "\n",
       "[98563 rows x 29 columns]"
      ]
     },
     "execution_count": 9,
     "metadata": {},
     "output_type": "execute_result"
    }
   ],
   "source": [
    "caiy_tb.obs"
   ]
  },
  {
   "cell_type": "code",
   "execution_count": 10,
   "metadata": {},
   "outputs": [
    {
     "data": {
      "text/plain": [
       "scRNAseq    98563\n",
       "Name: data_type, dtype: int64"
      ]
     },
     "execution_count": 10,
     "metadata": {},
     "output_type": "execute_result"
    }
   ],
   "source": [
    "caiy_tb.obs['data_type'].value_counts()"
   ]
  },
  {
   "cell_type": "code",
   "execution_count": 11,
   "metadata": {},
   "outputs": [
    {
     "data": {
      "text/plain": [
       "PBMC    98563\n",
       "Name: tissue, dtype: int64"
      ]
     },
     "execution_count": 11,
     "metadata": {},
     "output_type": "execute_result"
    }
   ],
   "source": [
    "caiy_tb.obs['tissue'].value_counts()"
   ]
  },
  {
   "cell_type": "code",
   "execution_count": 12,
   "metadata": {},
   "outputs": [
    {
     "data": {
      "text/plain": [
       "active_TB    58521\n",
       "Healthy      22049\n",
       "latent_TB    17993\n",
       "Name: status, dtype: int64"
      ]
     },
     "execution_count": 12,
     "metadata": {},
     "output_type": "execute_result"
    }
   ],
   "source": [
    "caiy_tb.obs['status'].value_counts()"
   ]
  },
  {
   "cell_type": "code",
   "execution_count": 13,
   "metadata": {},
   "outputs": [],
   "source": [
    "caiy_healthy = caiy_tb[~caiy_tb.obs['status'].isin(['active_TB', 'latent_TB']),:]"
   ]
  },
  {
   "cell_type": "code",
   "execution_count": 15,
   "metadata": {},
   "outputs": [
    {
     "data": {
      "text/plain": [
       "Healthy    22049\n",
       "Name: status, dtype: int64"
      ]
     },
     "execution_count": 15,
     "metadata": {},
     "output_type": "execute_result"
    }
   ],
   "source": [
    "caiy_healthy.obs['status'].value_counts()"
   ]
  },
  {
   "cell_type": "markdown",
   "metadata": {},
   "source": [
    "### Calculate HVGs"
   ]
  },
  {
   "cell_type": "code",
   "execution_count": null,
   "metadata": {},
   "outputs": [],
   "source": [
    "adata = caiy_tb_gex.copy()\n",
    "adata.layers['counts'] = adata.X.copy()"
   ]
  },
  {
   "cell_type": "code",
   "execution_count": null,
   "metadata": {},
   "outputs": [],
   "source": [
    "sc.pp.highly_variable_genes(\n",
    "    adata,\n",
    "    flavor = \"seurat_v3\",\n",
    "    n_top_genes = 8000,\n",
    "    layer = \"counts\",\n",
    "    batch_key = \"sample\",\n",
    "    subset = True\n",
    ")"
   ]
  },
  {
   "cell_type": "markdown",
   "metadata": {},
   "source": [
    "### Data integration with `scVI`"
   ]
  },
  {
   "cell_type": "code",
   "execution_count": null,
   "metadata": {},
   "outputs": [],
   "source": [
    "scvi.model.SCVI.setup_anndata(\n",
    "    adata,\n",
    "    layer = \"counts\",\n",
    "    categorical_covariate_keys = [\"sample\"],\n",
    "    continuous_covariate_keys = [\"n_genes\", \"n_counts\"]\n",
    ")\n",
    "\n",
    "# Why are the continuous covariate keys as such, and not 'percent mito'/'percent ribo'?\n"
   ]
  },
  {
   "cell_type": "code",
   "execution_count": null,
   "metadata": {},
   "outputs": [],
   "source": [
    "model = scvi.model.SCVI(adata, n_layers = 3, n_latent = 50, gene_likelihood = \"nb\", dispersion = 'gene-batch')\n",
    "model\n",
    "\n",
    "# Why have all of the parameters not been included?\n",
    "# What is the \"dispersion\" argument referring to specifically?\n"
   ]
  },
  {
   "cell_type": "code",
   "execution_count": null,
   "metadata": {},
   "outputs": [],
   "source": [
    "model.train()"
   ]
  },
  {
   "cell_type": "code",
   "execution_count": null,
   "metadata": {},
   "outputs": [],
   "source": [
    "# Why was the model not saved here?"
   ]
  },
  {
   "cell_type": "code",
   "execution_count": null,
   "metadata": {},
   "outputs": [],
   "source": [
    "latent = model.get_latent_representation()\n",
    "adata.obsm[\"X_scVI\"] = latent"
   ]
  },
  {
   "cell_type": "code",
   "execution_count": null,
   "metadata": {},
   "outputs": [],
   "source": [
    "sc.pp.neighbors(adata, use_rep = \"X_scVI\", n_neighbors = 50, metric = 'minkowski')\n",
    "sc.tl.umap(adata, min_dist = 0.2, spread = 6, random_state = 1712)\n",
    "sc.pl.umap(adata, frameon = False, color = ['study', 'individual', 'tissue', 'status', 'percent_chrY', 'XIST-counts', 'S_score', 'G2M_score', 'doublet_scores', 'dataset', 'sample'], size = 0.8, legend_fontsize = 5, ncols = 4)"
   ]
  },
  {
   "cell_type": "raw",
   "metadata": {},
   "source": [
    "sc.pl.umap(copd_influenza, frameon = False, color = ['age', 'condition', 'PaCO2', 'donor', 'SMK', 'illumina_stimunr', 'bd_rhapsody', 'batch', 'n_genes', 'n_genes_by_counts', 'total_counts', 'total_counts_mt', 'pct_counts_mt', 'total_counts_ribo', 'pct_counts_ribo', 'percent_mt2', 'n_counts', 'percent_chrY', 'XIST-counts', 'S_score', 'G2M_score', 'doublet_scores', 'predicted_doublets'], size = 1, legend_fontsize = 4, ncols = 4)"
   ]
  },
  {
   "cell_type": "code",
   "execution_count": null,
   "metadata": {},
   "outputs": [],
   "source": [
    "sc.pl.umap(adata, frameon = False, color = ['CD74', 'CD3E','CD40LG', 'CD8A', 'NKG7', 'CLEC9A', 'CD14', 'FCGR3A'], size = 1, legend_fontsize = 5, legend_loc = 'on data', ncols = 4)"
   ]
  },
  {
   "attachments": {},
   "cell_type": "markdown",
   "metadata": {},
   "source": [
    "### Use `SCCAF` to select `leiden` resolution\n",
    "\n",
    "> What is SCCAF? \"Single Cell Clustering Assessment Framework\"\n",
    ">> It is a way to cluster cells based on gene expression; it uses repeat applications of clustering and ML models to generate gene expression profiles - it identifies distinct cell groups and a weighted list of feature genes for each group\n",
    "\n",
    "> What is the architecture/algorithm of the model?\n",
    ">> ML [logistic regression, random forest, Gaussian process classification, support vector machine and decision tree] and 5-fold CV"
   ]
  },
  {
   "cell_type": "code",
   "execution_count": null,
   "metadata": {},
   "outputs": [],
   "source": [
    "sc.tl.leiden(adata, resolution = 0.7, random_state = 1786)"
   ]
  },
  {
   "cell_type": "code",
   "execution_count": null,
   "metadata": {},
   "outputs": [],
   "source": [
    "import matplotlib.pyplot as plt\n",
    "from SCCAF import SCCAF_assessment, plot_roc\n",
    "y_prob, y_pred, y_test, clf, cvsm, acc = SCCAF_assessment(adata.X, adata.obs['leiden'], n = 100)"
   ]
  },
  {
   "cell_type": "code",
   "execution_count": null,
   "metadata": {},
   "outputs": [],
   "source": [
    "plot_roc(y_prob, y_test, clf, cvsm = cvsm, acc = acc)\n",
    "plt.show()"
   ]
  },
  {
   "cell_type": "code",
   "execution_count": null,
   "metadata": {},
   "outputs": [],
   "source": [
    "sc.pl.umap(adata, frameon = False, color = ['leiden', 'status', 'CD74'], size = 0.8, legend_fontsize = 5, legend_loc = 'on data')"
   ]
  },
  {
   "cell_type": "code",
   "execution_count": null,
   "metadata": {},
   "outputs": [],
   "source": [
    "sc.pl.umap(adata, frameon = False, color = ['leiden', 'status', 'tissue', 'ADH7', 'CDH1', 'CD74', 'CD3E', 'MUC20', 'DUSP4', 'FOXJ1', 'MUC1', 'FOXI1'], size = 1, legend_fontsize = 5)"
   ]
  },
  {
   "cell_type": "markdown",
   "metadata": {},
   "source": [
    "### Export clustered object"
   ]
  },
  {
   "cell_type": "code",
   "execution_count": null,
   "metadata": {},
   "outputs": [],
   "source": [
    "adata"
   ]
  },
  {
   "cell_type": "code",
   "execution_count": null,
   "metadata": {},
   "outputs": [],
   "source": [
    "caiy_tb_gex"
   ]
  },
  {
   "cell_type": "code",
   "execution_count": null,
   "metadata": {},
   "outputs": [],
   "source": [
    "# Making a hybrid anndata object using sections from both original anndata object and the cai_tb_gex object\n",
    "adata_export = anndata.AnnData(X = caiy_tb_gex.X, var = caiy_tb_gex.var, obs = adata.obs, uns = adata.uns, obsm = adata.obsm, layers = caiy_tb_gex.layers, obsp = adata.obsp)\n",
    "adata_export"
   ]
  },
  {
   "cell_type": "raw",
   "metadata": {},
   "source": [
    "adata_export.write('/home/cartalop/data/single_cell/lung/tb/integrated/CaiY_TB_scVI-clustered_ctl221017.raw.h5ad')"
   ]
  },
  {
   "cell_type": "code",
   "execution_count": null,
   "metadata": {},
   "outputs": [],
   "source": []
  }
 ],
 "metadata": {
  "kernelspec": {
   "display_name": "Python 3.9.13 ('scvi')",
   "language": "python",
   "name": "python3"
  },
  "language_info": {
   "codemirror_mode": {
    "name": "ipython",
    "version": 3
   },
   "file_extension": ".py",
   "mimetype": "text/x-python",
   "name": "python",
   "nbconvert_exporter": "python",
   "pygments_lexer": "ipython3",
   "version": "3.10.9"
  },
  "vscode": {
   "interpreter": {
    "hash": "21cfc29bfaaa2d3c3d053fb605559dd38cccbe1bb905f04cc0481c99e1e3c496"
   }
  }
 },
 "nbformat": 4,
 "nbformat_minor": 4
}
