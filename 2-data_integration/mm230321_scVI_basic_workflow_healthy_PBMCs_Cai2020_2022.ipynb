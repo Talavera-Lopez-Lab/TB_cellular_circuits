{
 "cells": [
  {
   "attachments": {},
   "cell_type": "markdown",
   "metadata": {},
   "source": [
    "## scVI data integration for healthy PBMC pilot study (Cai 2020 and Cai 2022)\n",
    "\n",
    "**Objective**: Run scVI data integration model for healthy PBMCs [Cai 2020 and Cai 2022]\n",
    "\n",
    "\n",
    "- **Developed by**: Mairi McClean\n",
    "\n",
    "- **Institute of Computational Biology - Computational Health Centre - Helmholtz Munich**\n",
    "\n",
    "- v230321\n",
    "\n",
    "- Following this tutorial:https://docs.scvi-tools.org/en/stable/tutorials/notebooks/harmonization.html\n",
    "\n"
   ]
  },
  {
   "cell_type": "code",
   "execution_count": 1,
   "metadata": {},
   "outputs": [
    {
     "name": "stderr",
     "output_type": "stream",
     "text": [
      "/Users/mairi.mcclean/mambaforge/envs/scanvi_local/lib/python3.10/site-packages/scvi_colab/_core.py:41: UserWarning: \n",
      "                Not currently in Google Colab environment.\n",
      "\n",
      "                Please run with `run_outside_colab=True` to override.\n",
      "\n",
      "                Returning with no further action.\n",
      "                \n",
      "  warn(\n"
     ]
    }
   ],
   "source": [
    "!pip install --quiet scvi-colab\n",
    "!pip install --quiet scib-metrics\n",
    "from scvi_colab import install\n",
    "\n",
    "install()"
   ]
  },
  {
   "cell_type": "code",
   "execution_count": 2,
   "metadata": {},
   "outputs": [
    {
     "name": "stderr",
     "output_type": "stream",
     "text": [
      "/Users/mairi.mcclean/mambaforge/envs/scanvi_local/lib/python3.10/site-packages/tqdm/auto.py:21: TqdmWarning: IProgress not found. Please update jupyter and ipywidgets. See https://ipywidgets.readthedocs.io/en/stable/user_install.html\n",
      "  from .autonotebook import tqdm as notebook_tqdm\n",
      "Global seed set to 0\n",
      "/Users/mairi.mcclean/mambaforge/envs/scanvi_local/lib/python3.10/site-packages/flax/struct.py:132: FutureWarning: jax.tree_util.register_keypaths is deprecated, and will be removed in a future release. Please use `register_pytree_with_keys()` instead.\n",
      "  jax.tree_util.register_keypaths(data_clz, keypaths)\n",
      "/Users/mairi.mcclean/mambaforge/envs/scanvi_local/lib/python3.10/site-packages/flax/struct.py:132: FutureWarning: jax.tree_util.register_keypaths is deprecated, and will be removed in a future release. Please use `register_pytree_with_keys()` instead.\n",
      "  jax.tree_util.register_keypaths(data_clz, keypaths)\n"
     ]
    }
   ],
   "source": [
    "import scanpy as sc\n",
    "import scvi\n",
    "from rich import print\n",
    "from scib_metrics.benchmark import Benchmarker\n",
    "from scvi.model.utils import mde\n",
    "from scvi_colab import install"
   ]
  },
  {
   "cell_type": "code",
   "execution_count": 3,
   "metadata": {},
   "outputs": [],
   "source": [
    "sc.set_figure_params(figsize=(4, 4))\n",
    "\n",
    "%config InlineBackend.print_figure_kwargs={'facecolor' : \"w\"}\n",
    "%config InlineBackend.figure_format='retina'"
   ]
  },
  {
   "attachments": {},
   "cell_type": "markdown",
   "metadata": {},
   "source": [
    "## Read in datasets for integration\n",
    "> Cai 2020 + Cai 2022 [Carlos concatenates the objects before running scvi]"
   ]
  },
  {
   "cell_type": "markdown",
   "metadata": {},
   "source": [
    "### Read in datasets"
   ]
  },
  {
   "cell_type": "markdown",
   "metadata": {},
   "source": [
    "- Read in _Cai Y et al 2020_"
   ]
  },
  {
   "cell_type": "code",
   "execution_count": null,
   "metadata": {},
   "outputs": [
    {
     "data": {
      "text/plain": [
       "AnnData object with n_obs × n_vars = 73146 × 61533\n",
       "    obs: 'study', 'individual', 'sample', 'tissue', 'donor', 'age', 'gender', 'status', 'data_type', 'centre', 'version', 'batch', 'n_genes', 'n_genes_by_counts', 'total_counts', 'total_counts_mt', 'pct_counts_mt', 'total_counts_ribo', 'pct_counts_ribo', 'percent_mt2', 'n_counts', 'percent_chrY', 'XIST-counts', 'S_score', 'G2M_score', 'predicted_doublets'\n",
       "    var: 'gene_id', 'mt', 'ribo', 'n_cells_by_counts', 'mean_counts', 'pct_dropout_by_counts', 'total_counts'\n",
       "    uns: 'donor_colors'\n",
       "    layers: 'counts', 'sqrt_norm'"
      ]
     },
     "metadata": {},
     "output_type": "display_data"
    }
   ],
   "source": [
    "caiy2020 = sc.read_h5ad('/Volumes/Lacie/data_lake/Mairi_example/processed_files/abridged_qc/human/Cai2020_scRNA_PBMC_mm230315_qcd.h5ad')\n",
    "caiy2020"
   ]
  },
  {
   "cell_type": "markdown",
   "metadata": {},
   "source": [
    "- Read in _Cai Y et al 2022_"
   ]
  },
  {
   "cell_type": "code",
   "execution_count": null,
   "metadata": {},
   "outputs": [
    {
     "data": {
      "text/plain": [
       "AnnData object with n_obs × n_vars = 25417 × 61533\n",
       "    obs: 'study', 'individual', 'sample', 'tissue', 'donor', 'data_type', 'centre', 'version', 'object', 'protocol', 'n_genes', 'n_genes_by_counts', 'total_counts', 'total_counts_mt', 'pct_counts_mt', 'total_counts_ribo', 'pct_counts_ribo', 'percent_mt2', 'n_counts', 'percent_chrY', 'XIST-counts', 'S_score', 'G2M_score', 'predicted_doublets', 'status'\n",
       "    var: 'gene_id', 'mt', 'ribo', 'n_cells_by_counts', 'mean_counts', 'pct_dropout_by_counts', 'total_counts'\n",
       "    uns: 'donor_colors', 'sample_colors'\n",
       "    layers: 'counts', 'sqrt_norm'"
      ]
     },
     "metadata": {},
     "output_type": "display_data"
    }
   ],
   "source": [
    "caiy2022 = sc.read_h5ad('/Volumes/Lacie/data_lake/Mairi_example/processed_files/abridged_qc/human/Cai2022_scRNA_PBMC_mm230315_qcd.h5ad')\n",
    "caiy2022.obs['status'] = 'active_TB'\n",
    "caiy2022"
   ]
  },
  {
   "cell_type": "markdown",
   "metadata": {},
   "source": [
    "### Merge datasets"
   ]
  },
  {
   "cell_type": "code",
   "execution_count": null,
   "metadata": {},
   "outputs": [
    {
     "data": {
      "text/plain": [
       "AnnData object with n_obs × n_vars = 98563 × 61533\n",
       "    obs: 'study', 'individual', 'sample', 'tissue', 'donor', 'age', 'gender', 'status', 'data_type', 'centre', 'version', 'batch', 'n_genes', 'n_genes_by_counts', 'total_counts', 'total_counts_mt', 'pct_counts_mt', 'total_counts_ribo', 'pct_counts_ribo', 'percent_mt2', 'n_counts', 'percent_chrY', 'XIST-counts', 'S_score', 'G2M_score', 'predicted_doublets', 'object', 'protocol', 'dataset'\n",
       "    var: 'gene_id', 'mt', 'ribo', 'n_cells_by_counts-caiy2020', 'mean_counts-caiy2020', 'pct_dropout_by_counts-caiy2020', 'total_counts-caiy2020', 'n_cells_by_counts-caiy2022', 'mean_counts-caiy2022', 'pct_dropout_by_counts-caiy2022', 'total_counts-caiy2022'\n",
       "    layers: 'counts', 'sqrt_norm'"
      ]
     },
     "metadata": {},
     "output_type": "display_data"
    }
   ],
   "source": [
    "caiy_tb = caiy2020.concatenate(caiy2022, batch_key = 'dataset', batch_categories = ['caiy2020', 'caiy2022'], join = 'inner')\n",
    "caiy_tb"
   ]
  },
  {
   "cell_type": "markdown",
   "metadata": {},
   "source": [
    "### Check that anndata object only contains PBMC scRNA from healthy donors"
   ]
  },
  {
   "cell_type": "code",
   "execution_count": null,
   "metadata": {},
   "outputs": [
    {
     "data": {
      "text/html": [
       "<div>\n",
       "<style scoped>\n",
       "    .dataframe tbody tr th:only-of-type {\n",
       "        vertical-align: middle;\n",
       "    }\n",
       "\n",
       "    .dataframe tbody tr th {\n",
       "        vertical-align: top;\n",
       "    }\n",
       "\n",
       "    .dataframe thead th {\n",
       "        text-align: right;\n",
       "    }\n",
       "</style>\n",
       "<table border=\"1\" class=\"dataframe\">\n",
       "  <thead>\n",
       "    <tr style=\"text-align: right;\">\n",
       "      <th></th>\n",
       "      <th>study</th>\n",
       "      <th>individual</th>\n",
       "      <th>sample</th>\n",
       "      <th>tissue</th>\n",
       "      <th>donor</th>\n",
       "      <th>age</th>\n",
       "      <th>gender</th>\n",
       "      <th>status</th>\n",
       "      <th>data_type</th>\n",
       "      <th>centre</th>\n",
       "      <th>...</th>\n",
       "      <th>percent_mt2</th>\n",
       "      <th>n_counts</th>\n",
       "      <th>percent_chrY</th>\n",
       "      <th>XIST-counts</th>\n",
       "      <th>S_score</th>\n",
       "      <th>G2M_score</th>\n",
       "      <th>predicted_doublets</th>\n",
       "      <th>object</th>\n",
       "      <th>protocol</th>\n",
       "      <th>dataset</th>\n",
       "    </tr>\n",
       "    <tr>\n",
       "      <th>barcode</th>\n",
       "      <th></th>\n",
       "      <th></th>\n",
       "      <th></th>\n",
       "      <th></th>\n",
       "      <th></th>\n",
       "      <th></th>\n",
       "      <th></th>\n",
       "      <th></th>\n",
       "      <th></th>\n",
       "      <th></th>\n",
       "      <th></th>\n",
       "      <th></th>\n",
       "      <th></th>\n",
       "      <th></th>\n",
       "      <th></th>\n",
       "      <th></th>\n",
       "      <th></th>\n",
       "      <th></th>\n",
       "      <th></th>\n",
       "      <th></th>\n",
       "      <th></th>\n",
       "    </tr>\n",
       "  </thead>\n",
       "  <tbody>\n",
       "    <tr>\n",
       "      <th>AAACCTGAGAACAATC-acTB3-caiy2020</th>\n",
       "      <td>CaiY_2021</td>\n",
       "      <td>SAMN14048025</td>\n",
       "      <td>PBMC_TB_3</td>\n",
       "      <td>PBMC</td>\n",
       "      <td>SAMN14048025</td>\n",
       "      <td>34</td>\n",
       "      <td>male</td>\n",
       "      <td>active_TB</td>\n",
       "      <td>scRNAseq</td>\n",
       "      <td>Shenzhen University</td>\n",
       "      <td>...</td>\n",
       "      <td>0.060170</td>\n",
       "      <td>5634.0</td>\n",
       "      <td>0.053248</td>\n",
       "      <td>0.0</td>\n",
       "      <td>-0.352188</td>\n",
       "      <td>-0.193287</td>\n",
       "      <td>0.0</td>\n",
       "      <td>NaN</td>\n",
       "      <td>NaN</td>\n",
       "      <td>caiy2020</td>\n",
       "    </tr>\n",
       "    <tr>\n",
       "      <th>AAACCTGAGAAGGTGA-acTB3-caiy2020</th>\n",
       "      <td>CaiY_2021</td>\n",
       "      <td>SAMN14048025</td>\n",
       "      <td>PBMC_TB_3</td>\n",
       "      <td>PBMC</td>\n",
       "      <td>SAMN14048025</td>\n",
       "      <td>34</td>\n",
       "      <td>male</td>\n",
       "      <td>active_TB</td>\n",
       "      <td>scRNAseq</td>\n",
       "      <td>Shenzhen University</td>\n",
       "      <td>...</td>\n",
       "      <td>0.016686</td>\n",
       "      <td>3536.0</td>\n",
       "      <td>0.113122</td>\n",
       "      <td>0.0</td>\n",
       "      <td>-0.064944</td>\n",
       "      <td>-0.071169</td>\n",
       "      <td>0.0</td>\n",
       "      <td>NaN</td>\n",
       "      <td>NaN</td>\n",
       "      <td>caiy2020</td>\n",
       "    </tr>\n",
       "    <tr>\n",
       "      <th>AAACCTGAGATCTGCT-acTB3-caiy2020</th>\n",
       "      <td>CaiY_2021</td>\n",
       "      <td>SAMN14048025</td>\n",
       "      <td>PBMC_TB_3</td>\n",
       "      <td>PBMC</td>\n",
       "      <td>SAMN14048025</td>\n",
       "      <td>34</td>\n",
       "      <td>male</td>\n",
       "      <td>active_TB</td>\n",
       "      <td>scRNAseq</td>\n",
       "      <td>Shenzhen University</td>\n",
       "      <td>...</td>\n",
       "      <td>0.099675</td>\n",
       "      <td>1846.0</td>\n",
       "      <td>0.054171</td>\n",
       "      <td>0.0</td>\n",
       "      <td>-0.231399</td>\n",
       "      <td>-0.080643</td>\n",
       "      <td>0.0</td>\n",
       "      <td>NaN</td>\n",
       "      <td>NaN</td>\n",
       "      <td>caiy2020</td>\n",
       "    </tr>\n",
       "    <tr>\n",
       "      <th>AAACCTGAGCACAGGT-acTB3-caiy2020</th>\n",
       "      <td>CaiY_2021</td>\n",
       "      <td>SAMN14048025</td>\n",
       "      <td>PBMC_TB_3</td>\n",
       "      <td>PBMC</td>\n",
       "      <td>SAMN14048025</td>\n",
       "      <td>34</td>\n",
       "      <td>male</td>\n",
       "      <td>active_TB</td>\n",
       "      <td>scRNAseq</td>\n",
       "      <td>Shenzhen University</td>\n",
       "      <td>...</td>\n",
       "      <td>0.045580</td>\n",
       "      <td>3993.0</td>\n",
       "      <td>0.075131</td>\n",
       "      <td>0.0</td>\n",
       "      <td>-0.227884</td>\n",
       "      <td>-0.258770</td>\n",
       "      <td>0.0</td>\n",
       "      <td>NaN</td>\n",
       "      <td>NaN</td>\n",
       "      <td>caiy2020</td>\n",
       "    </tr>\n",
       "    <tr>\n",
       "      <th>AAACCTGAGCGTGAAC-acTB3-caiy2020</th>\n",
       "      <td>CaiY_2021</td>\n",
       "      <td>SAMN14048025</td>\n",
       "      <td>PBMC_TB_3</td>\n",
       "      <td>PBMC</td>\n",
       "      <td>SAMN14048025</td>\n",
       "      <td>34</td>\n",
       "      <td>male</td>\n",
       "      <td>active_TB</td>\n",
       "      <td>scRNAseq</td>\n",
       "      <td>Shenzhen University</td>\n",
       "      <td>...</td>\n",
       "      <td>0.024570</td>\n",
       "      <td>2035.0</td>\n",
       "      <td>0.147420</td>\n",
       "      <td>0.0</td>\n",
       "      <td>0.020959</td>\n",
       "      <td>0.025030</td>\n",
       "      <td>0.0</td>\n",
       "      <td>NaN</td>\n",
       "      <td>NaN</td>\n",
       "      <td>caiy2020</td>\n",
       "    </tr>\n",
       "    <tr>\n",
       "      <th>...</th>\n",
       "      <td>...</td>\n",
       "      <td>...</td>\n",
       "      <td>...</td>\n",
       "      <td>...</td>\n",
       "      <td>...</td>\n",
       "      <td>...</td>\n",
       "      <td>...</td>\n",
       "      <td>...</td>\n",
       "      <td>...</td>\n",
       "      <td>...</td>\n",
       "      <td>...</td>\n",
       "      <td>...</td>\n",
       "      <td>...</td>\n",
       "      <td>...</td>\n",
       "      <td>...</td>\n",
       "      <td>...</td>\n",
       "      <td>...</td>\n",
       "      <td>...</td>\n",
       "      <td>...</td>\n",
       "      <td>...</td>\n",
       "      <td>...</td>\n",
       "    </tr>\n",
       "    <tr>\n",
       "      <th>TTTGTCAGTCCATCCT-HRS100513-pbmc_scRNAseq-caiy2022</th>\n",
       "      <td>CaiY_2022</td>\n",
       "      <td>HRI068293</td>\n",
       "      <td>HRS100513</td>\n",
       "      <td>PBMC</td>\n",
       "      <td>P4</td>\n",
       "      <td>NaN</td>\n",
       "      <td>NaN</td>\n",
       "      <td>active_TB</td>\n",
       "      <td>scRNAseq</td>\n",
       "      <td>Shenzhen University</td>\n",
       "      <td>...</td>\n",
       "      <td>0.052279</td>\n",
       "      <td>746.0</td>\n",
       "      <td>0.000000</td>\n",
       "      <td>0.0</td>\n",
       "      <td>-0.137711</td>\n",
       "      <td>-0.152166</td>\n",
       "      <td>0.0</td>\n",
       "      <td>HRS100513</td>\n",
       "      <td>pbmc_scRNAseq</td>\n",
       "      <td>caiy2022</td>\n",
       "    </tr>\n",
       "    <tr>\n",
       "      <th>TTTGTCAGTGCTGTAT-HRS100513-pbmc_scRNAseq-caiy2022</th>\n",
       "      <td>CaiY_2022</td>\n",
       "      <td>HRI068293</td>\n",
       "      <td>HRS100513</td>\n",
       "      <td>PBMC</td>\n",
       "      <td>P4</td>\n",
       "      <td>NaN</td>\n",
       "      <td>NaN</td>\n",
       "      <td>active_TB</td>\n",
       "      <td>scRNAseq</td>\n",
       "      <td>Shenzhen University</td>\n",
       "      <td>...</td>\n",
       "      <td>0.051491</td>\n",
       "      <td>369.0</td>\n",
       "      <td>0.000000</td>\n",
       "      <td>0.0</td>\n",
       "      <td>0.130521</td>\n",
       "      <td>0.092987</td>\n",
       "      <td>0.0</td>\n",
       "      <td>HRS100513</td>\n",
       "      <td>pbmc_scRNAseq</td>\n",
       "      <td>caiy2022</td>\n",
       "    </tr>\n",
       "    <tr>\n",
       "      <th>TTTGTCAGTGTGGCTC-HRS100513-pbmc_scRNAseq-caiy2022</th>\n",
       "      <td>CaiY_2022</td>\n",
       "      <td>HRI068293</td>\n",
       "      <td>HRS100513</td>\n",
       "      <td>PBMC</td>\n",
       "      <td>P4</td>\n",
       "      <td>NaN</td>\n",
       "      <td>NaN</td>\n",
       "      <td>active_TB</td>\n",
       "      <td>scRNAseq</td>\n",
       "      <td>Shenzhen University</td>\n",
       "      <td>...</td>\n",
       "      <td>0.028736</td>\n",
       "      <td>348.0</td>\n",
       "      <td>0.000000</td>\n",
       "      <td>0.0</td>\n",
       "      <td>-0.043432</td>\n",
       "      <td>-0.034049</td>\n",
       "      <td>0.0</td>\n",
       "      <td>HRS100513</td>\n",
       "      <td>pbmc_scRNAseq</td>\n",
       "      <td>caiy2022</td>\n",
       "    </tr>\n",
       "    <tr>\n",
       "      <th>TTTGTCATCGTTTATC-HRS100513-pbmc_scRNAseq-caiy2022</th>\n",
       "      <td>CaiY_2022</td>\n",
       "      <td>HRI068293</td>\n",
       "      <td>HRS100513</td>\n",
       "      <td>PBMC</td>\n",
       "      <td>P4</td>\n",
       "      <td>NaN</td>\n",
       "      <td>NaN</td>\n",
       "      <td>active_TB</td>\n",
       "      <td>scRNAseq</td>\n",
       "      <td>Shenzhen University</td>\n",
       "      <td>...</td>\n",
       "      <td>0.079851</td>\n",
       "      <td>1340.0</td>\n",
       "      <td>0.074627</td>\n",
       "      <td>0.0</td>\n",
       "      <td>0.236621</td>\n",
       "      <td>0.071757</td>\n",
       "      <td>0.0</td>\n",
       "      <td>HRS100513</td>\n",
       "      <td>pbmc_scRNAseq</td>\n",
       "      <td>caiy2022</td>\n",
       "    </tr>\n",
       "    <tr>\n",
       "      <th>TTTGTCATCTTACCTA-HRS100513-pbmc_scRNAseq-caiy2022</th>\n",
       "      <td>CaiY_2022</td>\n",
       "      <td>HRI068293</td>\n",
       "      <td>HRS100513</td>\n",
       "      <td>PBMC</td>\n",
       "      <td>P4</td>\n",
       "      <td>NaN</td>\n",
       "      <td>NaN</td>\n",
       "      <td>active_TB</td>\n",
       "      <td>scRNAseq</td>\n",
       "      <td>Shenzhen University</td>\n",
       "      <td>...</td>\n",
       "      <td>0.112329</td>\n",
       "      <td>365.0</td>\n",
       "      <td>0.000000</td>\n",
       "      <td>0.0</td>\n",
       "      <td>0.156833</td>\n",
       "      <td>-0.050452</td>\n",
       "      <td>0.0</td>\n",
       "      <td>HRS100513</td>\n",
       "      <td>pbmc_scRNAseq</td>\n",
       "      <td>caiy2022</td>\n",
       "    </tr>\n",
       "  </tbody>\n",
       "</table>\n",
       "<p>98563 rows × 29 columns</p>\n",
       "</div>"
      ],
      "text/plain": [
       "                                                       study    individual  \\\n",
       "barcode                                                                      \n",
       "AAACCTGAGAACAATC-acTB3-caiy2020                    CaiY_2021  SAMN14048025   \n",
       "AAACCTGAGAAGGTGA-acTB3-caiy2020                    CaiY_2021  SAMN14048025   \n",
       "AAACCTGAGATCTGCT-acTB3-caiy2020                    CaiY_2021  SAMN14048025   \n",
       "AAACCTGAGCACAGGT-acTB3-caiy2020                    CaiY_2021  SAMN14048025   \n",
       "AAACCTGAGCGTGAAC-acTB3-caiy2020                    CaiY_2021  SAMN14048025   \n",
       "...                                                      ...           ...   \n",
       "TTTGTCAGTCCATCCT-HRS100513-pbmc_scRNAseq-caiy2022  CaiY_2022     HRI068293   \n",
       "TTTGTCAGTGCTGTAT-HRS100513-pbmc_scRNAseq-caiy2022  CaiY_2022     HRI068293   \n",
       "TTTGTCAGTGTGGCTC-HRS100513-pbmc_scRNAseq-caiy2022  CaiY_2022     HRI068293   \n",
       "TTTGTCATCGTTTATC-HRS100513-pbmc_scRNAseq-caiy2022  CaiY_2022     HRI068293   \n",
       "TTTGTCATCTTACCTA-HRS100513-pbmc_scRNAseq-caiy2022  CaiY_2022     HRI068293   \n",
       "\n",
       "                                                      sample tissue  \\\n",
       "barcode                                                               \n",
       "AAACCTGAGAACAATC-acTB3-caiy2020                    PBMC_TB_3   PBMC   \n",
       "AAACCTGAGAAGGTGA-acTB3-caiy2020                    PBMC_TB_3   PBMC   \n",
       "AAACCTGAGATCTGCT-acTB3-caiy2020                    PBMC_TB_3   PBMC   \n",
       "AAACCTGAGCACAGGT-acTB3-caiy2020                    PBMC_TB_3   PBMC   \n",
       "AAACCTGAGCGTGAAC-acTB3-caiy2020                    PBMC_TB_3   PBMC   \n",
       "...                                                      ...    ...   \n",
       "TTTGTCAGTCCATCCT-HRS100513-pbmc_scRNAseq-caiy2022  HRS100513   PBMC   \n",
       "TTTGTCAGTGCTGTAT-HRS100513-pbmc_scRNAseq-caiy2022  HRS100513   PBMC   \n",
       "TTTGTCAGTGTGGCTC-HRS100513-pbmc_scRNAseq-caiy2022  HRS100513   PBMC   \n",
       "TTTGTCATCGTTTATC-HRS100513-pbmc_scRNAseq-caiy2022  HRS100513   PBMC   \n",
       "TTTGTCATCTTACCTA-HRS100513-pbmc_scRNAseq-caiy2022  HRS100513   PBMC   \n",
       "\n",
       "                                                          donor  age gender  \\\n",
       "barcode                                                                       \n",
       "AAACCTGAGAACAATC-acTB3-caiy2020                    SAMN14048025   34   male   \n",
       "AAACCTGAGAAGGTGA-acTB3-caiy2020                    SAMN14048025   34   male   \n",
       "AAACCTGAGATCTGCT-acTB3-caiy2020                    SAMN14048025   34   male   \n",
       "AAACCTGAGCACAGGT-acTB3-caiy2020                    SAMN14048025   34   male   \n",
       "AAACCTGAGCGTGAAC-acTB3-caiy2020                    SAMN14048025   34   male   \n",
       "...                                                         ...  ...    ...   \n",
       "TTTGTCAGTCCATCCT-HRS100513-pbmc_scRNAseq-caiy2022            P4  NaN    NaN   \n",
       "TTTGTCAGTGCTGTAT-HRS100513-pbmc_scRNAseq-caiy2022            P4  NaN    NaN   \n",
       "TTTGTCAGTGTGGCTC-HRS100513-pbmc_scRNAseq-caiy2022            P4  NaN    NaN   \n",
       "TTTGTCATCGTTTATC-HRS100513-pbmc_scRNAseq-caiy2022            P4  NaN    NaN   \n",
       "TTTGTCATCTTACCTA-HRS100513-pbmc_scRNAseq-caiy2022            P4  NaN    NaN   \n",
       "\n",
       "                                                      status data_type  \\\n",
       "barcode                                                                  \n",
       "AAACCTGAGAACAATC-acTB3-caiy2020                    active_TB  scRNAseq   \n",
       "AAACCTGAGAAGGTGA-acTB3-caiy2020                    active_TB  scRNAseq   \n",
       "AAACCTGAGATCTGCT-acTB3-caiy2020                    active_TB  scRNAseq   \n",
       "AAACCTGAGCACAGGT-acTB3-caiy2020                    active_TB  scRNAseq   \n",
       "AAACCTGAGCGTGAAC-acTB3-caiy2020                    active_TB  scRNAseq   \n",
       "...                                                      ...       ...   \n",
       "TTTGTCAGTCCATCCT-HRS100513-pbmc_scRNAseq-caiy2022  active_TB  scRNAseq   \n",
       "TTTGTCAGTGCTGTAT-HRS100513-pbmc_scRNAseq-caiy2022  active_TB  scRNAseq   \n",
       "TTTGTCAGTGTGGCTC-HRS100513-pbmc_scRNAseq-caiy2022  active_TB  scRNAseq   \n",
       "TTTGTCATCGTTTATC-HRS100513-pbmc_scRNAseq-caiy2022  active_TB  scRNAseq   \n",
       "TTTGTCATCTTACCTA-HRS100513-pbmc_scRNAseq-caiy2022  active_TB  scRNAseq   \n",
       "\n",
       "                                                                centre  ...  \\\n",
       "barcode                                                                 ...   \n",
       "AAACCTGAGAACAATC-acTB3-caiy2020                    Shenzhen University  ...   \n",
       "AAACCTGAGAAGGTGA-acTB3-caiy2020                    Shenzhen University  ...   \n",
       "AAACCTGAGATCTGCT-acTB3-caiy2020                    Shenzhen University  ...   \n",
       "AAACCTGAGCACAGGT-acTB3-caiy2020                    Shenzhen University  ...   \n",
       "AAACCTGAGCGTGAAC-acTB3-caiy2020                    Shenzhen University  ...   \n",
       "...                                                                ...  ...   \n",
       "TTTGTCAGTCCATCCT-HRS100513-pbmc_scRNAseq-caiy2022  Shenzhen University  ...   \n",
       "TTTGTCAGTGCTGTAT-HRS100513-pbmc_scRNAseq-caiy2022  Shenzhen University  ...   \n",
       "TTTGTCAGTGTGGCTC-HRS100513-pbmc_scRNAseq-caiy2022  Shenzhen University  ...   \n",
       "TTTGTCATCGTTTATC-HRS100513-pbmc_scRNAseq-caiy2022  Shenzhen University  ...   \n",
       "TTTGTCATCTTACCTA-HRS100513-pbmc_scRNAseq-caiy2022  Shenzhen University  ...   \n",
       "\n",
       "                                                  percent_mt2 n_counts  \\\n",
       "barcode                                                                  \n",
       "AAACCTGAGAACAATC-acTB3-caiy2020                      0.060170   5634.0   \n",
       "AAACCTGAGAAGGTGA-acTB3-caiy2020                      0.016686   3536.0   \n",
       "AAACCTGAGATCTGCT-acTB3-caiy2020                      0.099675   1846.0   \n",
       "AAACCTGAGCACAGGT-acTB3-caiy2020                      0.045580   3993.0   \n",
       "AAACCTGAGCGTGAAC-acTB3-caiy2020                      0.024570   2035.0   \n",
       "...                                                       ...      ...   \n",
       "TTTGTCAGTCCATCCT-HRS100513-pbmc_scRNAseq-caiy2022    0.052279    746.0   \n",
       "TTTGTCAGTGCTGTAT-HRS100513-pbmc_scRNAseq-caiy2022    0.051491    369.0   \n",
       "TTTGTCAGTGTGGCTC-HRS100513-pbmc_scRNAseq-caiy2022    0.028736    348.0   \n",
       "TTTGTCATCGTTTATC-HRS100513-pbmc_scRNAseq-caiy2022    0.079851   1340.0   \n",
       "TTTGTCATCTTACCTA-HRS100513-pbmc_scRNAseq-caiy2022    0.112329    365.0   \n",
       "\n",
       "                                                   percent_chrY  XIST-counts  \\\n",
       "barcode                                                                        \n",
       "AAACCTGAGAACAATC-acTB3-caiy2020                        0.053248          0.0   \n",
       "AAACCTGAGAAGGTGA-acTB3-caiy2020                        0.113122          0.0   \n",
       "AAACCTGAGATCTGCT-acTB3-caiy2020                        0.054171          0.0   \n",
       "AAACCTGAGCACAGGT-acTB3-caiy2020                        0.075131          0.0   \n",
       "AAACCTGAGCGTGAAC-acTB3-caiy2020                        0.147420          0.0   \n",
       "...                                                         ...          ...   \n",
       "TTTGTCAGTCCATCCT-HRS100513-pbmc_scRNAseq-caiy2022      0.000000          0.0   \n",
       "TTTGTCAGTGCTGTAT-HRS100513-pbmc_scRNAseq-caiy2022      0.000000          0.0   \n",
       "TTTGTCAGTGTGGCTC-HRS100513-pbmc_scRNAseq-caiy2022      0.000000          0.0   \n",
       "TTTGTCATCGTTTATC-HRS100513-pbmc_scRNAseq-caiy2022      0.074627          0.0   \n",
       "TTTGTCATCTTACCTA-HRS100513-pbmc_scRNAseq-caiy2022      0.000000          0.0   \n",
       "\n",
       "                                                    S_score  G2M_score  \\\n",
       "barcode                                                                  \n",
       "AAACCTGAGAACAATC-acTB3-caiy2020                   -0.352188  -0.193287   \n",
       "AAACCTGAGAAGGTGA-acTB3-caiy2020                   -0.064944  -0.071169   \n",
       "AAACCTGAGATCTGCT-acTB3-caiy2020                   -0.231399  -0.080643   \n",
       "AAACCTGAGCACAGGT-acTB3-caiy2020                   -0.227884  -0.258770   \n",
       "AAACCTGAGCGTGAAC-acTB3-caiy2020                    0.020959   0.025030   \n",
       "...                                                     ...        ...   \n",
       "TTTGTCAGTCCATCCT-HRS100513-pbmc_scRNAseq-caiy2022 -0.137711  -0.152166   \n",
       "TTTGTCAGTGCTGTAT-HRS100513-pbmc_scRNAseq-caiy2022  0.130521   0.092987   \n",
       "TTTGTCAGTGTGGCTC-HRS100513-pbmc_scRNAseq-caiy2022 -0.043432  -0.034049   \n",
       "TTTGTCATCGTTTATC-HRS100513-pbmc_scRNAseq-caiy2022  0.236621   0.071757   \n",
       "TTTGTCATCTTACCTA-HRS100513-pbmc_scRNAseq-caiy2022  0.156833  -0.050452   \n",
       "\n",
       "                                                   predicted_doublets  \\\n",
       "barcode                                                                 \n",
       "AAACCTGAGAACAATC-acTB3-caiy2020                                   0.0   \n",
       "AAACCTGAGAAGGTGA-acTB3-caiy2020                                   0.0   \n",
       "AAACCTGAGATCTGCT-acTB3-caiy2020                                   0.0   \n",
       "AAACCTGAGCACAGGT-acTB3-caiy2020                                   0.0   \n",
       "AAACCTGAGCGTGAAC-acTB3-caiy2020                                   0.0   \n",
       "...                                                               ...   \n",
       "TTTGTCAGTCCATCCT-HRS100513-pbmc_scRNAseq-caiy2022                 0.0   \n",
       "TTTGTCAGTGCTGTAT-HRS100513-pbmc_scRNAseq-caiy2022                 0.0   \n",
       "TTTGTCAGTGTGGCTC-HRS100513-pbmc_scRNAseq-caiy2022                 0.0   \n",
       "TTTGTCATCGTTTATC-HRS100513-pbmc_scRNAseq-caiy2022                 0.0   \n",
       "TTTGTCATCTTACCTA-HRS100513-pbmc_scRNAseq-caiy2022                 0.0   \n",
       "\n",
       "                                                      object       protocol  \\\n",
       "barcode                                                                       \n",
       "AAACCTGAGAACAATC-acTB3-caiy2020                          NaN            NaN   \n",
       "AAACCTGAGAAGGTGA-acTB3-caiy2020                          NaN            NaN   \n",
       "AAACCTGAGATCTGCT-acTB3-caiy2020                          NaN            NaN   \n",
       "AAACCTGAGCACAGGT-acTB3-caiy2020                          NaN            NaN   \n",
       "AAACCTGAGCGTGAAC-acTB3-caiy2020                          NaN            NaN   \n",
       "...                                                      ...            ...   \n",
       "TTTGTCAGTCCATCCT-HRS100513-pbmc_scRNAseq-caiy2022  HRS100513  pbmc_scRNAseq   \n",
       "TTTGTCAGTGCTGTAT-HRS100513-pbmc_scRNAseq-caiy2022  HRS100513  pbmc_scRNAseq   \n",
       "TTTGTCAGTGTGGCTC-HRS100513-pbmc_scRNAseq-caiy2022  HRS100513  pbmc_scRNAseq   \n",
       "TTTGTCATCGTTTATC-HRS100513-pbmc_scRNAseq-caiy2022  HRS100513  pbmc_scRNAseq   \n",
       "TTTGTCATCTTACCTA-HRS100513-pbmc_scRNAseq-caiy2022  HRS100513  pbmc_scRNAseq   \n",
       "\n",
       "                                                    dataset  \n",
       "barcode                                                      \n",
       "AAACCTGAGAACAATC-acTB3-caiy2020                    caiy2020  \n",
       "AAACCTGAGAAGGTGA-acTB3-caiy2020                    caiy2020  \n",
       "AAACCTGAGATCTGCT-acTB3-caiy2020                    caiy2020  \n",
       "AAACCTGAGCACAGGT-acTB3-caiy2020                    caiy2020  \n",
       "AAACCTGAGCGTGAAC-acTB3-caiy2020                    caiy2020  \n",
       "...                                                     ...  \n",
       "TTTGTCAGTCCATCCT-HRS100513-pbmc_scRNAseq-caiy2022  caiy2022  \n",
       "TTTGTCAGTGCTGTAT-HRS100513-pbmc_scRNAseq-caiy2022  caiy2022  \n",
       "TTTGTCAGTGTGGCTC-HRS100513-pbmc_scRNAseq-caiy2022  caiy2022  \n",
       "TTTGTCATCGTTTATC-HRS100513-pbmc_scRNAseq-caiy2022  caiy2022  \n",
       "TTTGTCATCTTACCTA-HRS100513-pbmc_scRNAseq-caiy2022  caiy2022  \n",
       "\n",
       "[98563 rows x 29 columns]"
      ]
     },
     "metadata": {},
     "output_type": "display_data"
    }
   ],
   "source": [
    "caiy_tb.obs"
   ]
  },
  {
   "cell_type": "code",
   "execution_count": null,
   "metadata": {},
   "outputs": [
    {
     "data": {
      "text/plain": [
       "scRNAseq    98563\n",
       "Name: data_type, dtype: int64"
      ]
     },
     "metadata": {},
     "output_type": "display_data"
    }
   ],
   "source": [
    "caiy_tb.obs['data_type'].value_counts()"
   ]
  },
  {
   "cell_type": "code",
   "execution_count": null,
   "metadata": {},
   "outputs": [
    {
     "data": {
      "text/plain": [
       "PBMC    98563\n",
       "Name: tissue, dtype: int64"
      ]
     },
     "metadata": {},
     "output_type": "display_data"
    }
   ],
   "source": [
    "caiy_tb.obs['tissue'].value_counts()"
   ]
  },
  {
   "cell_type": "code",
   "execution_count": null,
   "metadata": {},
   "outputs": [
    {
     "data": {
      "text/plain": [
       "active_TB    58521\n",
       "Healthy      22049\n",
       "latent_TB    17993\n",
       "Name: status, dtype: int64"
      ]
     },
     "metadata": {},
     "output_type": "display_data"
    }
   ],
   "source": [
    "caiy_tb.obs['status'].value_counts()"
   ]
  },
  {
   "cell_type": "code",
   "execution_count": null,
   "metadata": {},
   "outputs": [],
   "source": [
    "caiy_healthy = caiy_tb[~caiy_tb.obs['status'].isin(['active_TB', 'latent_TB']),:]"
   ]
  },
  {
   "cell_type": "code",
   "execution_count": null,
   "metadata": {},
   "outputs": [
    {
     "data": {
      "text/plain": [
       "Healthy    22049\n",
       "Name: status, dtype: int64"
      ]
     },
     "metadata": {},
     "output_type": "display_data"
    }
   ],
   "source": [
    "caiy_healthy.obs['status'].value_counts()"
   ]
  },
  {
   "cell_type": "markdown",
   "metadata": {},
   "source": [
    "### Calculate HVGs"
   ]
  },
  {
   "cell_type": "code",
   "execution_count": null,
   "metadata": {},
   "outputs": [],
   "source": [
    "adata = caiy_healthy.copy()\n",
    "adata.layers['counts'] = adata.X.copy()"
   ]
  },
  {
   "cell_type": "code",
   "execution_count": null,
   "metadata": {},
   "outputs": [
    {
     "name": "stdout",
     "output_type": "stream",
     "text": [
      "If you pass `n_top_genes`, all cutoffs are ignored.\n",
      "extracting highly variable genes\n",
      "--> added\n",
      "    'highly_variable', boolean vector (adata.var)\n",
      "    'highly_variable_rank', float vector (adata.var)\n",
      "    'means', float vector (adata.var)\n",
      "    'variances', float vector (adata.var)\n",
      "    'variances_norm', float vector (adata.var)\n"
     ]
    }
   ],
   "source": [
    "sc.pp.highly_variable_genes(\n",
    "    adata,\n",
    "    flavor = \"seurat_v3\",\n",
    "    n_top_genes = 8000,\n",
    "    layer = \"counts\",\n",
    "    batch_key = \"sample\",\n",
    "    subset = True\n",
    ")"
   ]
  },
  {
   "attachments": {},
   "cell_type": "markdown",
   "metadata": {},
   "source": [
    "### Integration with scVI\n"
   ]
  },
  {
   "cell_type": "code",
   "execution_count": null,
   "metadata": {},
   "outputs": [],
   "source": [
    "scvi.model.SCVI.setup_anndata(adata, layer=\"counts\", batch_key=\"batch\")"
   ]
  },
  {
   "cell_type": "code",
   "execution_count": null,
   "metadata": {},
   "outputs": [],
   "source": [
    "vae = scvi.model.SCVI(adata, n_layers=2, n_latent=30, gene_likelihood=\"nb\")"
   ]
  },
  {
   "cell_type": "code",
   "execution_count": null,
   "metadata": {},
   "outputs": [],
   "source": [
    "vae.train()"
   ]
  },
  {
   "cell_type": "code",
   "execution_count": null,
   "metadata": {},
   "outputs": [],
   "source": [
    "adata.obsm[\"X_scVI\"] = vae.get_latent_representation()"
   ]
  },
  {
   "cell_type": "code",
   "execution_count": null,
   "metadata": {},
   "outputs": [],
   "source": [
    "sc.pp.neighbors(adata, use_rep=\"X_scVI\")\n",
    "sc.tl.leiden(adata)"
   ]
  },
  {
   "cell_type": "code",
   "execution_count": null,
   "metadata": {},
   "outputs": [],
   "source": [
    "adata.obsm[\"X_mde\"] = mde(adata.obsm[\"X_scVI\"])"
   ]
  },
  {
   "cell_type": "code",
   "execution_count": null,
   "metadata": {},
   "outputs": [],
   "source": [
    "sc.pl.embedding(\n",
    "    adata,\n",
    "    basis=\"X_mde\",\n",
    "    color=[\"batch\", \"leiden\"],\n",
    "    frameon=False,\n",
    "    ncols=1,\n",
    ")"
   ]
  },
  {
   "cell_type": "code",
   "execution_count": null,
   "metadata": {},
   "outputs": [],
   "source": [
    "sc.pl.embedding(adata, basis=\"X_mde\", color=[\"cell_type\"], frameon=False, ncols=1)"
   ]
  }
 ],
 "metadata": {
  "kernelspec": {
   "display_name": "scanvi_local",
   "language": "python",
   "name": "python3"
  },
  "language_info": {
   "codemirror_mode": {
    "name": "ipython",
    "version": 3
   },
   "file_extension": ".py",
   "mimetype": "text/x-python",
   "name": "python",
   "nbconvert_exporter": "python",
   "pygments_lexer": "ipython3",
   "version": "3.10.9"
  },
  "orig_nbformat": 4
 },
 "nbformat": 4,
 "nbformat_minor": 2
}
