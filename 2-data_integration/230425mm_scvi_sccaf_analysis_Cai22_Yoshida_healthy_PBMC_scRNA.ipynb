{
 "cells": [
  {
   "attachments": {},
   "cell_type": "markdown",
   "metadata": {},
   "source": [
    "### scVI and SCCAF data integration and clustering analysis of healthy PBMC [Cai20_22]\n",
    "\n",
    "**Objective**: Run complete integration and clustering analysis after solving scanpy/scVI dependency issues and incorporate Yoshida et al 2021 data\n",
    "\n",
    "**Developed by**: Mairi McClean\n",
    "\n",
    "**Institute of Computational Biology - Helmholtz Zentrum Munich**\n",
    "\n",
    "**v230425**\n"
   ]
  },
  {
   "cell_type": "code",
   "execution_count": 1,
   "metadata": {},
   "outputs": [
    {
     "name": "stdout",
     "output_type": "stream",
     "text": [
      "Note: you may need to restart the kernel to use updated packages.\n",
      "\u001b[31mERROR: pip's dependency resolver does not currently take into account all the packages that are installed. This behaviour is the source of the following dependency conflicts.\n",
      "sccaf 0.0.10 requires scanpy==1.4.6, but you have scanpy 1.9.3 which is incompatible.\u001b[0m\u001b[31m\n",
      "\u001b[0mNote: you may need to restart the kernel to use updated packages.\n"
     ]
    },
    {
     "name": "stderr",
     "output_type": "stream",
     "text": [
      "/Users/mairi.mcclean/mambaforge/envs/scvi_sccaf_py39/lib/python3.9/site-packages/scvi_colab/_core.py:41: UserWarning: \n",
      "                Not currently in Google Colab environment.\n",
      "\n",
      "                Please run with `run_outside_colab=True` to override.\n",
      "\n",
      "                Returning with no further action.\n",
      "                \n",
      "  warn(\n"
     ]
    }
   ],
   "source": [
    "%pip install --quiet scvi-colab\n",
    "%pip install --quiet scib-metrics\n",
    "from scvi_colab import install\n",
    "\n",
    "install()"
   ]
  },
  {
   "cell_type": "code",
   "execution_count": 2,
   "metadata": {},
   "outputs": [
    {
     "name": "stderr",
     "output_type": "stream",
     "text": [
      "Global seed set to 0\n",
      "/Users/mairi.mcclean/mambaforge/envs/scvi_sccaf_py39/lib/python3.9/site-packages/tqdm/auto.py:21: TqdmWarning: IProgress not found. Please update jupyter and ipywidgets. See https://ipywidgets.readthedocs.io/en/stable/user_install.html\n",
      "  from .autonotebook import tqdm as notebook_tqdm\n",
      "/Users/mairi.mcclean/mambaforge/envs/scvi_sccaf_py39/lib/python3.9/site-packages/flax/struct.py:132: FutureWarning: jax.tree_util.register_keypaths is deprecated, and will be removed in a future release. Please use `register_pytree_with_keys()` instead.\n",
      "  jax.tree_util.register_keypaths(data_clz, keypaths)\n",
      "/Users/mairi.mcclean/mambaforge/envs/scvi_sccaf_py39/lib/python3.9/site-packages/flax/struct.py:132: FutureWarning: jax.tree_util.register_keypaths is deprecated, and will be removed in a future release. Please use `register_pytree_with_keys()` instead.\n",
      "  jax.tree_util.register_keypaths(data_clz, keypaths)\n",
      "/Users/mairi.mcclean/mambaforge/envs/scvi_sccaf_py39/lib/python3.9/site-packages/flax/struct.py:132: FutureWarning: jax.tree_util.register_keypaths is deprecated, and will be removed in a future release. Please use `register_pytree_with_keys()` instead.\n",
      "  jax.tree_util.register_keypaths(data_clz, keypaths)\n"
     ]
    }
   ],
   "source": [
    "import sys\n",
    "import scvi\n",
    "import torch\n",
    "import anndata\n",
    "import matplotlib\n",
    "import matplotlib.pyplot as plt\n",
    "from matplotlib.colors import LinearSegmentedColormap\n",
    "import seaborn as sns\n",
    "\n",
    "import numpy as np\n",
    "import pandas as pd\n",
    "import scanpy as sc\n",
    "import numpy.random as random\n",
    "\n",
    "\n",
    "from umap import UMAP\n",
    "import warnings; warnings.simplefilter('ignore')"
   ]
  },
  {
   "cell_type": "code",
   "execution_count": 3,
   "metadata": {},
   "outputs": [],
   "source": [
    "sc.set_figure_params(figsize=(4, 4))\n",
    "\n",
    "%config InlineBackend.print_figure_kwargs={'facecolor' : \"w\"}\n",
    "%config InlineBackend.figure_format='retina'"
   ]
  },
  {
   "cell_type": "markdown",
   "metadata": {},
   "source": [
    "## Read in datasets for integration\n",
    "> Cai 2020 + Cai 2022"
   ]
  },
  {
   "cell_type": "markdown",
   "metadata": {},
   "source": [
    "### Read in datasets"
   ]
  },
  {
   "cell_type": "markdown",
   "metadata": {},
   "source": [
    "- Read in _Cai Y et al 2020_"
   ]
  },
  {
   "cell_type": "code",
   "execution_count": 4,
   "metadata": {},
   "outputs": [
    {
     "data": {
      "text/plain": [
       "AnnData object with n_obs × n_vars = 73146 × 61533\n",
       "    obs: 'study', 'individual', 'sample', 'tissue', 'donor', 'age', 'gender', 'status', 'data_type', 'centre', 'version', 'batch', 'n_genes', 'n_genes_by_counts', 'total_counts', 'total_counts_mt', 'pct_counts_mt', 'total_counts_ribo', 'pct_counts_ribo', 'percent_mt2', 'n_counts', 'percent_chrY', 'XIST-counts', 'S_score', 'G2M_score', 'predicted_doublets'\n",
       "    var: 'gene_id', 'mt', 'ribo', 'n_cells_by_counts', 'mean_counts', 'pct_dropout_by_counts', 'total_counts'\n",
       "    uns: 'donor_colors'\n",
       "    layers: 'counts', 'sqrt_norm'"
      ]
     },
     "execution_count": 4,
     "metadata": {},
     "output_type": "execute_result"
    }
   ],
   "source": [
    "caiy2020 = sc.read_h5ad('/Volumes/Lacie/data_lake/Mairi_example/processed_files/abridged_qc/human/Cai2020_scRNA_PBMC_mm230315_qcd.h5ad')\n",
    "caiy2020"
   ]
  },
  {
   "cell_type": "code",
   "execution_count": null,
   "metadata": {},
   "outputs": [],
   "source": [
    "# file path from local machine\n",
    "# caiy2020 = sc.read_h5ad('/Users/mairi.mcclean/data/abridged_qc/human/Cai2020_scRNA_PBMC_mm230315_qcd.h5ad')\n",
    "# caiy2020"
   ]
  },
  {
   "cell_type": "code",
   "execution_count": 5,
   "metadata": {},
   "outputs": [
    {
     "data": {
      "text/plain": [
       "status\n",
       "active_TB    33104\n",
       "Healthy      22049\n",
       "latent_TB    17993\n",
       "Name: count, dtype: int64"
      ]
     },
     "execution_count": 5,
     "metadata": {},
     "output_type": "execute_result"
    }
   ],
   "source": [
    "caiy2020.obs['status'].value_counts()"
   ]
  },
  {
   "cell_type": "markdown",
   "metadata": {},
   "source": [
    "- Read in _Cai Y et al 2022_"
   ]
  },
  {
   "cell_type": "code",
   "execution_count": 6,
   "metadata": {},
   "outputs": [
    {
     "data": {
      "text/plain": [
       "AnnData object with n_obs × n_vars = 25417 × 61533\n",
       "    obs: 'study', 'individual', 'sample', 'tissue', 'donor', 'data_type', 'centre', 'version', 'object', 'protocol', 'n_genes', 'n_genes_by_counts', 'total_counts', 'total_counts_mt', 'pct_counts_mt', 'total_counts_ribo', 'pct_counts_ribo', 'percent_mt2', 'n_counts', 'percent_chrY', 'XIST-counts', 'S_score', 'G2M_score', 'predicted_doublets', 'status'\n",
       "    var: 'gene_id', 'mt', 'ribo', 'n_cells_by_counts', 'mean_counts', 'pct_dropout_by_counts', 'total_counts'\n",
       "    uns: 'donor_colors', 'sample_colors'\n",
       "    layers: 'counts', 'sqrt_norm'"
      ]
     },
     "execution_count": 6,
     "metadata": {},
     "output_type": "execute_result"
    }
   ],
   "source": [
    "caiy2022 = sc.read_h5ad('/Volumes/Lacie/data_lake/Mairi_example/processed_files/abridged_qc/human/Cai2022_scRNA_PBMC_mm230315_qcd.h5ad')\n",
    "\n",
    "# file path for local machine\n",
    "# caiy2022 = sc.read_h5ad('/Users/mairi.mcclean/data/abridged_qc/human/Cai2022_scRNA_PBMC_mm230315_qcd.h5ad')\n",
    "\n",
    "caiy2022.obs['status'] = 'active_TB'\n",
    "caiy2022"
   ]
  },
  {
   "cell_type": "code",
   "execution_count": 7,
   "metadata": {},
   "outputs": [
    {
     "data": {
      "text/plain": [
       "status\n",
       "active_TB    25417\n",
       "Name: count, dtype: int64"
      ]
     },
     "execution_count": 7,
     "metadata": {},
     "output_type": "execute_result"
    }
   ],
   "source": [
    "# So Cai2022 has no healthy controls? Publication suggests that all samples were taken from either TPE, pneumonia, or lung cancer\n",
    "\n",
    "caiy2022.obs['status'].value_counts()"
   ]
  },
  {
   "attachments": {},
   "cell_type": "markdown",
   "metadata": {},
   "source": [
    "- Subset healthy donors from Cai data\n",
    "> Cai_2022 has no healthy donors; will be discarded\n"
   ]
  },
  {
   "cell_type": "code",
   "execution_count": 8,
   "metadata": {},
   "outputs": [
    {
     "data": {
      "text/html": [
       "<div>\n",
       "<style scoped>\n",
       "    .dataframe tbody tr th:only-of-type {\n",
       "        vertical-align: middle;\n",
       "    }\n",
       "\n",
       "    .dataframe tbody tr th {\n",
       "        vertical-align: top;\n",
       "    }\n",
       "\n",
       "    .dataframe thead th {\n",
       "        text-align: right;\n",
       "    }\n",
       "</style>\n",
       "<table border=\"1\" class=\"dataframe\">\n",
       "  <thead>\n",
       "    <tr style=\"text-align: right;\">\n",
       "      <th></th>\n",
       "      <th>study</th>\n",
       "      <th>individual</th>\n",
       "      <th>sample</th>\n",
       "      <th>tissue</th>\n",
       "      <th>donor</th>\n",
       "      <th>age</th>\n",
       "      <th>gender</th>\n",
       "      <th>status</th>\n",
       "      <th>data_type</th>\n",
       "      <th>centre</th>\n",
       "      <th>...</th>\n",
       "      <th>pct_counts_mt</th>\n",
       "      <th>total_counts_ribo</th>\n",
       "      <th>pct_counts_ribo</th>\n",
       "      <th>percent_mt2</th>\n",
       "      <th>n_counts</th>\n",
       "      <th>percent_chrY</th>\n",
       "      <th>XIST-counts</th>\n",
       "      <th>S_score</th>\n",
       "      <th>G2M_score</th>\n",
       "      <th>predicted_doublets</th>\n",
       "    </tr>\n",
       "    <tr>\n",
       "      <th>barcode</th>\n",
       "      <th></th>\n",
       "      <th></th>\n",
       "      <th></th>\n",
       "      <th></th>\n",
       "      <th></th>\n",
       "      <th></th>\n",
       "      <th></th>\n",
       "      <th></th>\n",
       "      <th></th>\n",
       "      <th></th>\n",
       "      <th></th>\n",
       "      <th></th>\n",
       "      <th></th>\n",
       "      <th></th>\n",
       "      <th></th>\n",
       "      <th></th>\n",
       "      <th></th>\n",
       "      <th></th>\n",
       "      <th></th>\n",
       "      <th></th>\n",
       "      <th></th>\n",
       "    </tr>\n",
       "  </thead>\n",
       "  <tbody>\n",
       "    <tr>\n",
       "      <th>AAACCTGAGAACAATC-acTB3</th>\n",
       "      <td>CaiY_2021</td>\n",
       "      <td>SAMN14048025</td>\n",
       "      <td>PBMC_TB_3</td>\n",
       "      <td>PBMC</td>\n",
       "      <td>SAMN14048025</td>\n",
       "      <td>34</td>\n",
       "      <td>male</td>\n",
       "      <td>active_TB</td>\n",
       "      <td>scRNAseq</td>\n",
       "      <td>Shenzhen University</td>\n",
       "      <td>...</td>\n",
       "      <td>6.017039</td>\n",
       "      <td>1676.0</td>\n",
       "      <td>29.747959</td>\n",
       "      <td>0.060170</td>\n",
       "      <td>5634.0</td>\n",
       "      <td>0.053248</td>\n",
       "      <td>0.0</td>\n",
       "      <td>-0.352188</td>\n",
       "      <td>-0.193287</td>\n",
       "      <td>0.0</td>\n",
       "    </tr>\n",
       "    <tr>\n",
       "      <th>AAACCTGAGAAGGTGA-acTB3</th>\n",
       "      <td>CaiY_2021</td>\n",
       "      <td>SAMN14048025</td>\n",
       "      <td>PBMC_TB_3</td>\n",
       "      <td>PBMC</td>\n",
       "      <td>SAMN14048025</td>\n",
       "      <td>34</td>\n",
       "      <td>male</td>\n",
       "      <td>active_TB</td>\n",
       "      <td>scRNAseq</td>\n",
       "      <td>Shenzhen University</td>\n",
       "      <td>...</td>\n",
       "      <td>1.668552</td>\n",
       "      <td>1901.0</td>\n",
       "      <td>53.761311</td>\n",
       "      <td>0.016686</td>\n",
       "      <td>3536.0</td>\n",
       "      <td>0.113122</td>\n",
       "      <td>0.0</td>\n",
       "      <td>-0.064944</td>\n",
       "      <td>-0.071169</td>\n",
       "      <td>0.0</td>\n",
       "    </tr>\n",
       "    <tr>\n",
       "      <th>AAACCTGAGATCTGCT-acTB3</th>\n",
       "      <td>CaiY_2021</td>\n",
       "      <td>SAMN14048025</td>\n",
       "      <td>PBMC_TB_3</td>\n",
       "      <td>PBMC</td>\n",
       "      <td>SAMN14048025</td>\n",
       "      <td>34</td>\n",
       "      <td>male</td>\n",
       "      <td>active_TB</td>\n",
       "      <td>scRNAseq</td>\n",
       "      <td>Shenzhen University</td>\n",
       "      <td>...</td>\n",
       "      <td>9.967497</td>\n",
       "      <td>367.0</td>\n",
       "      <td>19.880823</td>\n",
       "      <td>0.099675</td>\n",
       "      <td>1846.0</td>\n",
       "      <td>0.054171</td>\n",
       "      <td>0.0</td>\n",
       "      <td>-0.231399</td>\n",
       "      <td>-0.080643</td>\n",
       "      <td>0.0</td>\n",
       "    </tr>\n",
       "    <tr>\n",
       "      <th>AAACCTGAGCACAGGT-acTB3</th>\n",
       "      <td>CaiY_2021</td>\n",
       "      <td>SAMN14048025</td>\n",
       "      <td>PBMC_TB_3</td>\n",
       "      <td>PBMC</td>\n",
       "      <td>SAMN14048025</td>\n",
       "      <td>34</td>\n",
       "      <td>male</td>\n",
       "      <td>active_TB</td>\n",
       "      <td>scRNAseq</td>\n",
       "      <td>Shenzhen University</td>\n",
       "      <td>...</td>\n",
       "      <td>4.557977</td>\n",
       "      <td>772.0</td>\n",
       "      <td>19.333836</td>\n",
       "      <td>0.045580</td>\n",
       "      <td>3993.0</td>\n",
       "      <td>0.075131</td>\n",
       "      <td>0.0</td>\n",
       "      <td>-0.227884</td>\n",
       "      <td>-0.258770</td>\n",
       "      <td>0.0</td>\n",
       "    </tr>\n",
       "    <tr>\n",
       "      <th>AAACCTGAGCGTGAAC-acTB3</th>\n",
       "      <td>CaiY_2021</td>\n",
       "      <td>SAMN14048025</td>\n",
       "      <td>PBMC_TB_3</td>\n",
       "      <td>PBMC</td>\n",
       "      <td>SAMN14048025</td>\n",
       "      <td>34</td>\n",
       "      <td>male</td>\n",
       "      <td>active_TB</td>\n",
       "      <td>scRNAseq</td>\n",
       "      <td>Shenzhen University</td>\n",
       "      <td>...</td>\n",
       "      <td>2.457002</td>\n",
       "      <td>1003.0</td>\n",
       "      <td>49.287468</td>\n",
       "      <td>0.024570</td>\n",
       "      <td>2035.0</td>\n",
       "      <td>0.147420</td>\n",
       "      <td>0.0</td>\n",
       "      <td>0.020959</td>\n",
       "      <td>0.025030</td>\n",
       "      <td>0.0</td>\n",
       "    </tr>\n",
       "    <tr>\n",
       "      <th>...</th>\n",
       "      <td>...</td>\n",
       "      <td>...</td>\n",
       "      <td>...</td>\n",
       "      <td>...</td>\n",
       "      <td>...</td>\n",
       "      <td>...</td>\n",
       "      <td>...</td>\n",
       "      <td>...</td>\n",
       "      <td>...</td>\n",
       "      <td>...</td>\n",
       "      <td>...</td>\n",
       "      <td>...</td>\n",
       "      <td>...</td>\n",
       "      <td>...</td>\n",
       "      <td>...</td>\n",
       "      <td>...</td>\n",
       "      <td>...</td>\n",
       "      <td>...</td>\n",
       "      <td>...</td>\n",
       "      <td>...</td>\n",
       "      <td>...</td>\n",
       "    </tr>\n",
       "    <tr>\n",
       "      <th>TTTGTCAGTCGCGGTT-H1</th>\n",
       "      <td>CaiY_2021</td>\n",
       "      <td>SAMN14048019</td>\n",
       "      <td>PBMC_HC_1</td>\n",
       "      <td>PBMC</td>\n",
       "      <td>SAMN14048019</td>\n",
       "      <td>26</td>\n",
       "      <td>male</td>\n",
       "      <td>Healthy</td>\n",
       "      <td>scRNAseq</td>\n",
       "      <td>Shenzhen University</td>\n",
       "      <td>...</td>\n",
       "      <td>3.250689</td>\n",
       "      <td>1904.0</td>\n",
       "      <td>52.451790</td>\n",
       "      <td>0.032507</td>\n",
       "      <td>3630.0</td>\n",
       "      <td>0.110193</td>\n",
       "      <td>0.0</td>\n",
       "      <td>-0.165353</td>\n",
       "      <td>-0.250572</td>\n",
       "      <td>0.0</td>\n",
       "    </tr>\n",
       "    <tr>\n",
       "      <th>TTTGTCAGTCGCTTCT-H1</th>\n",
       "      <td>CaiY_2021</td>\n",
       "      <td>SAMN14048019</td>\n",
       "      <td>PBMC_HC_1</td>\n",
       "      <td>PBMC</td>\n",
       "      <td>SAMN14048019</td>\n",
       "      <td>26</td>\n",
       "      <td>male</td>\n",
       "      <td>Healthy</td>\n",
       "      <td>scRNAseq</td>\n",
       "      <td>Shenzhen University</td>\n",
       "      <td>...</td>\n",
       "      <td>4.287570</td>\n",
       "      <td>868.0</td>\n",
       "      <td>37.592033</td>\n",
       "      <td>0.042876</td>\n",
       "      <td>2309.0</td>\n",
       "      <td>0.043309</td>\n",
       "      <td>0.0</td>\n",
       "      <td>-0.177318</td>\n",
       "      <td>-0.173327</td>\n",
       "      <td>0.0</td>\n",
       "    </tr>\n",
       "    <tr>\n",
       "      <th>TTTGTCAGTTCGAATC-H1</th>\n",
       "      <td>CaiY_2021</td>\n",
       "      <td>SAMN14048019</td>\n",
       "      <td>PBMC_HC_1</td>\n",
       "      <td>PBMC</td>\n",
       "      <td>SAMN14048019</td>\n",
       "      <td>26</td>\n",
       "      <td>male</td>\n",
       "      <td>Healthy</td>\n",
       "      <td>scRNAseq</td>\n",
       "      <td>Shenzhen University</td>\n",
       "      <td>...</td>\n",
       "      <td>6.650446</td>\n",
       "      <td>712.0</td>\n",
       "      <td>28.872669</td>\n",
       "      <td>0.066504</td>\n",
       "      <td>2466.0</td>\n",
       "      <td>0.040551</td>\n",
       "      <td>0.0</td>\n",
       "      <td>-0.235875</td>\n",
       "      <td>-0.013744</td>\n",
       "      <td>0.0</td>\n",
       "    </tr>\n",
       "    <tr>\n",
       "      <th>TTTGTCAGTTTGGGCC-H1</th>\n",
       "      <td>CaiY_2021</td>\n",
       "      <td>SAMN14048019</td>\n",
       "      <td>PBMC_HC_1</td>\n",
       "      <td>PBMC</td>\n",
       "      <td>SAMN14048019</td>\n",
       "      <td>26</td>\n",
       "      <td>male</td>\n",
       "      <td>Healthy</td>\n",
       "      <td>scRNAseq</td>\n",
       "      <td>Shenzhen University</td>\n",
       "      <td>...</td>\n",
       "      <td>3.483043</td>\n",
       "      <td>1555.0</td>\n",
       "      <td>47.509930</td>\n",
       "      <td>0.034830</td>\n",
       "      <td>3273.0</td>\n",
       "      <td>0.091659</td>\n",
       "      <td>0.0</td>\n",
       "      <td>-0.050351</td>\n",
       "      <td>0.022269</td>\n",
       "      <td>0.0</td>\n",
       "    </tr>\n",
       "    <tr>\n",
       "      <th>TTTGTCATCCCATTAT-H1</th>\n",
       "      <td>CaiY_2021</td>\n",
       "      <td>SAMN14048019</td>\n",
       "      <td>PBMC_HC_1</td>\n",
       "      <td>PBMC</td>\n",
       "      <td>SAMN14048019</td>\n",
       "      <td>26</td>\n",
       "      <td>male</td>\n",
       "      <td>Healthy</td>\n",
       "      <td>scRNAseq</td>\n",
       "      <td>Shenzhen University</td>\n",
       "      <td>...</td>\n",
       "      <td>2.702703</td>\n",
       "      <td>162.0</td>\n",
       "      <td>24.324326</td>\n",
       "      <td>0.027027</td>\n",
       "      <td>666.0</td>\n",
       "      <td>0.300300</td>\n",
       "      <td>0.0</td>\n",
       "      <td>0.080008</td>\n",
       "      <td>0.039641</td>\n",
       "      <td>0.0</td>\n",
       "    </tr>\n",
       "  </tbody>\n",
       "</table>\n",
       "<p>73146 rows × 26 columns</p>\n",
       "</div>"
      ],
      "text/plain": [
       "                            study    individual     sample tissue   \n",
       "barcode                                                             \n",
       "AAACCTGAGAACAATC-acTB3  CaiY_2021  SAMN14048025  PBMC_TB_3   PBMC  \\\n",
       "AAACCTGAGAAGGTGA-acTB3  CaiY_2021  SAMN14048025  PBMC_TB_3   PBMC   \n",
       "AAACCTGAGATCTGCT-acTB3  CaiY_2021  SAMN14048025  PBMC_TB_3   PBMC   \n",
       "AAACCTGAGCACAGGT-acTB3  CaiY_2021  SAMN14048025  PBMC_TB_3   PBMC   \n",
       "AAACCTGAGCGTGAAC-acTB3  CaiY_2021  SAMN14048025  PBMC_TB_3   PBMC   \n",
       "...                           ...           ...        ...    ...   \n",
       "TTTGTCAGTCGCGGTT-H1     CaiY_2021  SAMN14048019  PBMC_HC_1   PBMC   \n",
       "TTTGTCAGTCGCTTCT-H1     CaiY_2021  SAMN14048019  PBMC_HC_1   PBMC   \n",
       "TTTGTCAGTTCGAATC-H1     CaiY_2021  SAMN14048019  PBMC_HC_1   PBMC   \n",
       "TTTGTCAGTTTGGGCC-H1     CaiY_2021  SAMN14048019  PBMC_HC_1   PBMC   \n",
       "TTTGTCATCCCATTAT-H1     CaiY_2021  SAMN14048019  PBMC_HC_1   PBMC   \n",
       "\n",
       "                               donor age gender     status data_type   \n",
       "barcode                                                                \n",
       "AAACCTGAGAACAATC-acTB3  SAMN14048025  34   male  active_TB  scRNAseq  \\\n",
       "AAACCTGAGAAGGTGA-acTB3  SAMN14048025  34   male  active_TB  scRNAseq   \n",
       "AAACCTGAGATCTGCT-acTB3  SAMN14048025  34   male  active_TB  scRNAseq   \n",
       "AAACCTGAGCACAGGT-acTB3  SAMN14048025  34   male  active_TB  scRNAseq   \n",
       "AAACCTGAGCGTGAAC-acTB3  SAMN14048025  34   male  active_TB  scRNAseq   \n",
       "...                              ...  ..    ...        ...       ...   \n",
       "TTTGTCAGTCGCGGTT-H1     SAMN14048019  26   male    Healthy  scRNAseq   \n",
       "TTTGTCAGTCGCTTCT-H1     SAMN14048019  26   male    Healthy  scRNAseq   \n",
       "TTTGTCAGTTCGAATC-H1     SAMN14048019  26   male    Healthy  scRNAseq   \n",
       "TTTGTCAGTTTGGGCC-H1     SAMN14048019  26   male    Healthy  scRNAseq   \n",
       "TTTGTCATCCCATTAT-H1     SAMN14048019  26   male    Healthy  scRNAseq   \n",
       "\n",
       "                                     centre  ... pct_counts_mt   \n",
       "barcode                                      ...                 \n",
       "AAACCTGAGAACAATC-acTB3  Shenzhen University  ...      6.017039  \\\n",
       "AAACCTGAGAAGGTGA-acTB3  Shenzhen University  ...      1.668552   \n",
       "AAACCTGAGATCTGCT-acTB3  Shenzhen University  ...      9.967497   \n",
       "AAACCTGAGCACAGGT-acTB3  Shenzhen University  ...      4.557977   \n",
       "AAACCTGAGCGTGAAC-acTB3  Shenzhen University  ...      2.457002   \n",
       "...                                     ...  ...           ...   \n",
       "TTTGTCAGTCGCGGTT-H1     Shenzhen University  ...      3.250689   \n",
       "TTTGTCAGTCGCTTCT-H1     Shenzhen University  ...      4.287570   \n",
       "TTTGTCAGTTCGAATC-H1     Shenzhen University  ...      6.650446   \n",
       "TTTGTCAGTTTGGGCC-H1     Shenzhen University  ...      3.483043   \n",
       "TTTGTCATCCCATTAT-H1     Shenzhen University  ...      2.702703   \n",
       "\n",
       "                       total_counts_ribo  pct_counts_ribo  percent_mt2   \n",
       "barcode                                                                  \n",
       "AAACCTGAGAACAATC-acTB3            1676.0        29.747959     0.060170  \\\n",
       "AAACCTGAGAAGGTGA-acTB3            1901.0        53.761311     0.016686   \n",
       "AAACCTGAGATCTGCT-acTB3             367.0        19.880823     0.099675   \n",
       "AAACCTGAGCACAGGT-acTB3             772.0        19.333836     0.045580   \n",
       "AAACCTGAGCGTGAAC-acTB3            1003.0        49.287468     0.024570   \n",
       "...                                  ...              ...          ...   \n",
       "TTTGTCAGTCGCGGTT-H1               1904.0        52.451790     0.032507   \n",
       "TTTGTCAGTCGCTTCT-H1                868.0        37.592033     0.042876   \n",
       "TTTGTCAGTTCGAATC-H1                712.0        28.872669     0.066504   \n",
       "TTTGTCAGTTTGGGCC-H1               1555.0        47.509930     0.034830   \n",
       "TTTGTCATCCCATTAT-H1                162.0        24.324326     0.027027   \n",
       "\n",
       "                        n_counts  percent_chrY  XIST-counts   S_score   \n",
       "barcode                                                                 \n",
       "AAACCTGAGAACAATC-acTB3    5634.0      0.053248          0.0 -0.352188  \\\n",
       "AAACCTGAGAAGGTGA-acTB3    3536.0      0.113122          0.0 -0.064944   \n",
       "AAACCTGAGATCTGCT-acTB3    1846.0      0.054171          0.0 -0.231399   \n",
       "AAACCTGAGCACAGGT-acTB3    3993.0      0.075131          0.0 -0.227884   \n",
       "AAACCTGAGCGTGAAC-acTB3    2035.0      0.147420          0.0  0.020959   \n",
       "...                          ...           ...          ...       ...   \n",
       "TTTGTCAGTCGCGGTT-H1       3630.0      0.110193          0.0 -0.165353   \n",
       "TTTGTCAGTCGCTTCT-H1       2309.0      0.043309          0.0 -0.177318   \n",
       "TTTGTCAGTTCGAATC-H1       2466.0      0.040551          0.0 -0.235875   \n",
       "TTTGTCAGTTTGGGCC-H1       3273.0      0.091659          0.0 -0.050351   \n",
       "TTTGTCATCCCATTAT-H1        666.0      0.300300          0.0  0.080008   \n",
       "\n",
       "                        G2M_score  predicted_doublets  \n",
       "barcode                                                \n",
       "AAACCTGAGAACAATC-acTB3  -0.193287                 0.0  \n",
       "AAACCTGAGAAGGTGA-acTB3  -0.071169                 0.0  \n",
       "AAACCTGAGATCTGCT-acTB3  -0.080643                 0.0  \n",
       "AAACCTGAGCACAGGT-acTB3  -0.258770                 0.0  \n",
       "AAACCTGAGCGTGAAC-acTB3   0.025030                 0.0  \n",
       "...                           ...                 ...  \n",
       "TTTGTCAGTCGCGGTT-H1     -0.250572                 0.0  \n",
       "TTTGTCAGTCGCTTCT-H1     -0.173327                 0.0  \n",
       "TTTGTCAGTTCGAATC-H1     -0.013744                 0.0  \n",
       "TTTGTCAGTTTGGGCC-H1      0.022269                 0.0  \n",
       "TTTGTCATCCCATTAT-H1      0.039641                 0.0  \n",
       "\n",
       "[73146 rows x 26 columns]"
      ]
     },
     "execution_count": 8,
     "metadata": {},
     "output_type": "execute_result"
    }
   ],
   "source": [
    "caiy2020.obs"
   ]
  },
  {
   "cell_type": "code",
   "execution_count": 9,
   "metadata": {},
   "outputs": [
    {
     "data": {
      "text/plain": [
       "data_type\n",
       "scRNAseq    73146\n",
       "Name: count, dtype: int64"
      ]
     },
     "execution_count": 9,
     "metadata": {},
     "output_type": "execute_result"
    }
   ],
   "source": [
    "caiy2020.obs['data_type'].value_counts()"
   ]
  },
  {
   "cell_type": "code",
   "execution_count": 10,
   "metadata": {},
   "outputs": [
    {
     "data": {
      "text/plain": [
       "tissue\n",
       "PBMC    73146\n",
       "Name: count, dtype: int64"
      ]
     },
     "execution_count": 10,
     "metadata": {},
     "output_type": "execute_result"
    }
   ],
   "source": [
    "caiy2020.obs['tissue'].value_counts()"
   ]
  },
  {
   "cell_type": "code",
   "execution_count": 11,
   "metadata": {},
   "outputs": [
    {
     "data": {
      "text/plain": [
       "status\n",
       "active_TB    33104\n",
       "Healthy      22049\n",
       "latent_TB    17993\n",
       "Name: count, dtype: int64"
      ]
     },
     "execution_count": 11,
     "metadata": {},
     "output_type": "execute_result"
    }
   ],
   "source": [
    "caiy2020.obs['status'].value_counts()"
   ]
  },
  {
   "cell_type": "code",
   "execution_count": 12,
   "metadata": {},
   "outputs": [],
   "source": [
    "caiy_healthy = caiy2020[~caiy2020.obs['status'].isin(['active_TB', 'latent_TB']),:]"
   ]
  },
  {
   "cell_type": "code",
   "execution_count": 13,
   "metadata": {},
   "outputs": [
    {
     "data": {
      "text/plain": [
       "status\n",
       "Healthy    22049\n",
       "Name: count, dtype: int64"
      ]
     },
     "execution_count": 13,
     "metadata": {},
     "output_type": "execute_result"
    }
   ],
   "source": [
    "caiy_healthy.obs['status'].value_counts()"
   ]
  },
  {
   "cell_type": "markdown",
   "metadata": {},
   "source": [
    "- Read in _Yoshida et al 2021_"
   ]
  },
  {
   "cell_type": "code",
   "execution_count": 14,
   "metadata": {},
   "outputs": [
    {
     "data": {
      "text/plain": [
       "AnnData object with n_obs × n_vars = 422220 × 33751\n",
       "    obs: 'patient_id', 'Ethnicity', 'BMI', 'annotation_broad', 'annotation_detailed', 'annotation_detailed_fullNames', 'Age_group', 'COVID_severity', 'COVID_status', 'Group', 'Sex', 'Smoker', 'sample_id', 'sequencing_library', 'Protein_modality_weight'\n",
       "    var: 'name'\n",
       "    obsm: 'X_ umap (wnn derived)', 'X_umap (after harmony ADT)', 'X_umap (after harmony RNA)', 'X_umap (before harmony ADT)', 'X_umap (before harmony RNA)'"
      ]
     },
     "execution_count": 14,
     "metadata": {},
     "output_type": "execute_result"
    }
   ],
   "source": [
    "adata_yoshida = sc.read_h5ad('/Volumes/Lacie/data_lake/Mairi_example/INBOX/sc_downloads/yoshida_2021/meyer_nikolic_covid_pbmc.cellxgene.20210813.h5ad')\n",
    "adata_yoshida"
   ]
  },
  {
   "cell_type": "code",
   "execution_count": 15,
   "metadata": {},
   "outputs": [
    {
     "data": {
      "text/html": [
       "<div>\n",
       "<style scoped>\n",
       "    .dataframe tbody tr th:only-of-type {\n",
       "        vertical-align: middle;\n",
       "    }\n",
       "\n",
       "    .dataframe tbody tr th {\n",
       "        vertical-align: top;\n",
       "    }\n",
       "\n",
       "    .dataframe thead th {\n",
       "        text-align: right;\n",
       "    }\n",
       "</style>\n",
       "<table border=\"1\" class=\"dataframe\">\n",
       "  <thead>\n",
       "    <tr style=\"text-align: right;\">\n",
       "      <th></th>\n",
       "      <th>patient_id</th>\n",
       "      <th>Ethnicity</th>\n",
       "      <th>BMI</th>\n",
       "      <th>annotation_broad</th>\n",
       "      <th>annotation_detailed</th>\n",
       "      <th>annotation_detailed_fullNames</th>\n",
       "      <th>Age_group</th>\n",
       "      <th>COVID_severity</th>\n",
       "      <th>COVID_status</th>\n",
       "      <th>Group</th>\n",
       "      <th>Sex</th>\n",
       "      <th>Smoker</th>\n",
       "      <th>sample_id</th>\n",
       "      <th>sequencing_library</th>\n",
       "      <th>Protein_modality_weight</th>\n",
       "    </tr>\n",
       "  </thead>\n",
       "  <tbody>\n",
       "    <tr>\n",
       "      <th>CV001_KM10202384-CV001_KM10202394_AAACCTGAGGCAGGTT-1</th>\n",
       "      <td>AN5</td>\n",
       "      <td>EUR</td>\n",
       "      <td>Unknown</td>\n",
       "      <td>Monocyte</td>\n",
       "      <td>Monocyte CD14</td>\n",
       "      <td>Classical monocyte</td>\n",
       "      <td>Adult</td>\n",
       "      <td>Healthy</td>\n",
       "      <td>Healthy</td>\n",
       "      <td>Adult</td>\n",
       "      <td>Female</td>\n",
       "      <td>Non-smoker</td>\n",
       "      <td>AN5</td>\n",
       "      <td>CV001_KM10202384-CV001_KM10202394</td>\n",
       "      <td>0.359517</td>\n",
       "    </tr>\n",
       "    <tr>\n",
       "      <th>CV001_KM10202384-CV001_KM10202394_AAACCTGAGTGTCCCG-1</th>\n",
       "      <td>AN5</td>\n",
       "      <td>EUR</td>\n",
       "      <td>Unknown</td>\n",
       "      <td>T CD4+</td>\n",
       "      <td>T CD4 helper</td>\n",
       "      <td>T CD4 helper</td>\n",
       "      <td>Adult</td>\n",
       "      <td>Healthy</td>\n",
       "      <td>Healthy</td>\n",
       "      <td>Adult</td>\n",
       "      <td>Female</td>\n",
       "      <td>Non-smoker</td>\n",
       "      <td>AN5</td>\n",
       "      <td>CV001_KM10202384-CV001_KM10202394</td>\n",
       "      <td>0.577522</td>\n",
       "    </tr>\n",
       "    <tr>\n",
       "      <th>CV001_KM10202384-CV001_KM10202394_AAACCTGCAGATGGGT-1</th>\n",
       "      <td>AN3</td>\n",
       "      <td>EUR</td>\n",
       "      <td>Unknown</td>\n",
       "      <td>T CD4+</td>\n",
       "      <td>T CD4 helper</td>\n",
       "      <td>T CD4 helper</td>\n",
       "      <td>Adult</td>\n",
       "      <td>Healthy</td>\n",
       "      <td>Healthy</td>\n",
       "      <td>Adult</td>\n",
       "      <td>Male</td>\n",
       "      <td>Non-smoker</td>\n",
       "      <td>AN3</td>\n",
       "      <td>CV001_KM10202384-CV001_KM10202394</td>\n",
       "      <td>0.369143</td>\n",
       "    </tr>\n",
       "    <tr>\n",
       "      <th>CV001_KM10202384-CV001_KM10202394_AAACCTGGTATAGTAG-1</th>\n",
       "      <td>AN5</td>\n",
       "      <td>EUR</td>\n",
       "      <td>Unknown</td>\n",
       "      <td>T CD8+</td>\n",
       "      <td>T CD8 naive</td>\n",
       "      <td>T CD8 naive</td>\n",
       "      <td>Adult</td>\n",
       "      <td>Healthy</td>\n",
       "      <td>Healthy</td>\n",
       "      <td>Adult</td>\n",
       "      <td>Female</td>\n",
       "      <td>Non-smoker</td>\n",
       "      <td>AN5</td>\n",
       "      <td>CV001_KM10202384-CV001_KM10202394</td>\n",
       "      <td>0.785563</td>\n",
       "    </tr>\n",
       "    <tr>\n",
       "      <th>CV001_KM10202384-CV001_KM10202394_AAACCTGGTGTGCGTC-1</th>\n",
       "      <td>AN5</td>\n",
       "      <td>EUR</td>\n",
       "      <td>Unknown</td>\n",
       "      <td>T CD4+</td>\n",
       "      <td>T CD4 naive</td>\n",
       "      <td>T CD4 naive</td>\n",
       "      <td>Adult</td>\n",
       "      <td>Healthy</td>\n",
       "      <td>Healthy</td>\n",
       "      <td>Adult</td>\n",
       "      <td>Female</td>\n",
       "      <td>Non-smoker</td>\n",
       "      <td>AN5</td>\n",
       "      <td>CV001_KM10202384-CV001_KM10202394</td>\n",
       "      <td>0.564174</td>\n",
       "    </tr>\n",
       "    <tr>\n",
       "      <th>...</th>\n",
       "      <td>...</td>\n",
       "      <td>...</td>\n",
       "      <td>...</td>\n",
       "      <td>...</td>\n",
       "      <td>...</td>\n",
       "      <td>...</td>\n",
       "      <td>...</td>\n",
       "      <td>...</td>\n",
       "      <td>...</td>\n",
       "      <td>...</td>\n",
       "      <td>...</td>\n",
       "      <td>...</td>\n",
       "      <td>...</td>\n",
       "      <td>...</td>\n",
       "      <td>...</td>\n",
       "    </tr>\n",
       "    <tr>\n",
       "      <th>S28_TTTGTCAGTTCTGTTT-1</th>\n",
       "      <td>PC9</td>\n",
       "      <td>EUR</td>\n",
       "      <td>27.17</td>\n",
       "      <td>NK</td>\n",
       "      <td>NK</td>\n",
       "      <td>NK</td>\n",
       "      <td>Adult</td>\n",
       "      <td>Severe</td>\n",
       "      <td>Post-COVID-19</td>\n",
       "      <td>Adult</td>\n",
       "      <td>Male</td>\n",
       "      <td>Non-smoker</td>\n",
       "      <td>PC9</td>\n",
       "      <td>CV001_KM9294396-CV001_KM9294404</td>\n",
       "      <td>0.429398</td>\n",
       "    </tr>\n",
       "    <tr>\n",
       "      <th>S28_TTTGTCATCAACCAAC-1</th>\n",
       "      <td>PC9</td>\n",
       "      <td>EUR</td>\n",
       "      <td>27.17</td>\n",
       "      <td>Monocyte</td>\n",
       "      <td>Monocyte CD14</td>\n",
       "      <td>Classical monocyte</td>\n",
       "      <td>Adult</td>\n",
       "      <td>Severe</td>\n",
       "      <td>Post-COVID-19</td>\n",
       "      <td>Adult</td>\n",
       "      <td>Male</td>\n",
       "      <td>Non-smoker</td>\n",
       "      <td>PC9</td>\n",
       "      <td>CV001_KM9294396-CV001_KM9294404</td>\n",
       "      <td>0.677910</td>\n",
       "    </tr>\n",
       "    <tr>\n",
       "      <th>S28_TTTGTCATCATTATCC-1</th>\n",
       "      <td>PC9</td>\n",
       "      <td>EUR</td>\n",
       "      <td>27.17</td>\n",
       "      <td>Monocyte</td>\n",
       "      <td>Monocyte CD14</td>\n",
       "      <td>Classical monocyte</td>\n",
       "      <td>Adult</td>\n",
       "      <td>Severe</td>\n",
       "      <td>Post-COVID-19</td>\n",
       "      <td>Adult</td>\n",
       "      <td>Male</td>\n",
       "      <td>Non-smoker</td>\n",
       "      <td>PC9</td>\n",
       "      <td>CV001_KM9294396-CV001_KM9294404</td>\n",
       "      <td>0.422796</td>\n",
       "    </tr>\n",
       "    <tr>\n",
       "      <th>S28_TTTGTCATCCTATGTT-1</th>\n",
       "      <td>PC9</td>\n",
       "      <td>EUR</td>\n",
       "      <td>27.17</td>\n",
       "      <td>DC</td>\n",
       "      <td>pDC</td>\n",
       "      <td>pDC</td>\n",
       "      <td>Adult</td>\n",
       "      <td>Severe</td>\n",
       "      <td>Post-COVID-19</td>\n",
       "      <td>Adult</td>\n",
       "      <td>Male</td>\n",
       "      <td>Non-smoker</td>\n",
       "      <td>PC9</td>\n",
       "      <td>CV001_KM9294396-CV001_KM9294404</td>\n",
       "      <td>0.471905</td>\n",
       "    </tr>\n",
       "    <tr>\n",
       "      <th>S28_TTTGTCATCTCAAGTG-1</th>\n",
       "      <td>PC2</td>\n",
       "      <td>EUR</td>\n",
       "      <td>36.9</td>\n",
       "      <td>T CD8+</td>\n",
       "      <td>T CD8 CTL</td>\n",
       "      <td>T CD8 CTL</td>\n",
       "      <td>Adult</td>\n",
       "      <td>Severe</td>\n",
       "      <td>Post-COVID-19</td>\n",
       "      <td>Adult</td>\n",
       "      <td>Male</td>\n",
       "      <td>Non-smoker</td>\n",
       "      <td>PC2</td>\n",
       "      <td>CV001_KM9294396-CV001_KM9294404</td>\n",
       "      <td>0.313640</td>\n",
       "    </tr>\n",
       "  </tbody>\n",
       "</table>\n",
       "<p>422220 rows × 15 columns</p>\n",
       "</div>"
      ],
      "text/plain": [
       "                                                   patient_id Ethnicity   \n",
       "CV001_KM10202384-CV001_KM10202394_AAACCTGAGGCAG...        AN5       EUR  \\\n",
       "CV001_KM10202384-CV001_KM10202394_AAACCTGAGTGTC...        AN5       EUR   \n",
       "CV001_KM10202384-CV001_KM10202394_AAACCTGCAGATG...        AN3       EUR   \n",
       "CV001_KM10202384-CV001_KM10202394_AAACCTGGTATAG...        AN5       EUR   \n",
       "CV001_KM10202384-CV001_KM10202394_AAACCTGGTGTGC...        AN5       EUR   \n",
       "...                                                       ...       ...   \n",
       "S28_TTTGTCAGTTCTGTTT-1                                    PC9       EUR   \n",
       "S28_TTTGTCATCAACCAAC-1                                    PC9       EUR   \n",
       "S28_TTTGTCATCATTATCC-1                                    PC9       EUR   \n",
       "S28_TTTGTCATCCTATGTT-1                                    PC9       EUR   \n",
       "S28_TTTGTCATCTCAAGTG-1                                    PC2       EUR   \n",
       "\n",
       "                                                        BMI annotation_broad   \n",
       "CV001_KM10202384-CV001_KM10202394_AAACCTGAGGCAG...  Unknown         Monocyte  \\\n",
       "CV001_KM10202384-CV001_KM10202394_AAACCTGAGTGTC...  Unknown           T CD4+   \n",
       "CV001_KM10202384-CV001_KM10202394_AAACCTGCAGATG...  Unknown           T CD4+   \n",
       "CV001_KM10202384-CV001_KM10202394_AAACCTGGTATAG...  Unknown           T CD8+   \n",
       "CV001_KM10202384-CV001_KM10202394_AAACCTGGTGTGC...  Unknown           T CD4+   \n",
       "...                                                     ...              ...   \n",
       "S28_TTTGTCAGTTCTGTTT-1                                27.17               NK   \n",
       "S28_TTTGTCATCAACCAAC-1                                27.17         Monocyte   \n",
       "S28_TTTGTCATCATTATCC-1                                27.17         Monocyte   \n",
       "S28_TTTGTCATCCTATGTT-1                                27.17               DC   \n",
       "S28_TTTGTCATCTCAAGTG-1                                 36.9           T CD8+   \n",
       "\n",
       "                                                   annotation_detailed   \n",
       "CV001_KM10202384-CV001_KM10202394_AAACCTGAGGCAG...       Monocyte CD14  \\\n",
       "CV001_KM10202384-CV001_KM10202394_AAACCTGAGTGTC...        T CD4 helper   \n",
       "CV001_KM10202384-CV001_KM10202394_AAACCTGCAGATG...        T CD4 helper   \n",
       "CV001_KM10202384-CV001_KM10202394_AAACCTGGTATAG...         T CD8 naive   \n",
       "CV001_KM10202384-CV001_KM10202394_AAACCTGGTGTGC...         T CD4 naive   \n",
       "...                                                                ...   \n",
       "S28_TTTGTCAGTTCTGTTT-1                                              NK   \n",
       "S28_TTTGTCATCAACCAAC-1                                   Monocyte CD14   \n",
       "S28_TTTGTCATCATTATCC-1                                   Monocyte CD14   \n",
       "S28_TTTGTCATCCTATGTT-1                                             pDC   \n",
       "S28_TTTGTCATCTCAAGTG-1                                       T CD8 CTL   \n",
       "\n",
       "                                                   annotation_detailed_fullNames   \n",
       "CV001_KM10202384-CV001_KM10202394_AAACCTGAGGCAG...            Classical monocyte  \\\n",
       "CV001_KM10202384-CV001_KM10202394_AAACCTGAGTGTC...                  T CD4 helper   \n",
       "CV001_KM10202384-CV001_KM10202394_AAACCTGCAGATG...                  T CD4 helper   \n",
       "CV001_KM10202384-CV001_KM10202394_AAACCTGGTATAG...                   T CD8 naive   \n",
       "CV001_KM10202384-CV001_KM10202394_AAACCTGGTGTGC...                   T CD4 naive   \n",
       "...                                                                          ...   \n",
       "S28_TTTGTCAGTTCTGTTT-1                                                        NK   \n",
       "S28_TTTGTCATCAACCAAC-1                                        Classical monocyte   \n",
       "S28_TTTGTCATCATTATCC-1                                        Classical monocyte   \n",
       "S28_TTTGTCATCCTATGTT-1                                                       pDC   \n",
       "S28_TTTGTCATCTCAAGTG-1                                                 T CD8 CTL   \n",
       "\n",
       "                                                   Age_group COVID_severity   \n",
       "CV001_KM10202384-CV001_KM10202394_AAACCTGAGGCAG...     Adult        Healthy  \\\n",
       "CV001_KM10202384-CV001_KM10202394_AAACCTGAGTGTC...     Adult        Healthy   \n",
       "CV001_KM10202384-CV001_KM10202394_AAACCTGCAGATG...     Adult        Healthy   \n",
       "CV001_KM10202384-CV001_KM10202394_AAACCTGGTATAG...     Adult        Healthy   \n",
       "CV001_KM10202384-CV001_KM10202394_AAACCTGGTGTGC...     Adult        Healthy   \n",
       "...                                                      ...            ...   \n",
       "S28_TTTGTCAGTTCTGTTT-1                                 Adult         Severe   \n",
       "S28_TTTGTCATCAACCAAC-1                                 Adult         Severe   \n",
       "S28_TTTGTCATCATTATCC-1                                 Adult         Severe   \n",
       "S28_TTTGTCATCCTATGTT-1                                 Adult         Severe   \n",
       "S28_TTTGTCATCTCAAGTG-1                                 Adult         Severe   \n",
       "\n",
       "                                                     COVID_status  Group   \n",
       "CV001_KM10202384-CV001_KM10202394_AAACCTGAGGCAG...        Healthy  Adult  \\\n",
       "CV001_KM10202384-CV001_KM10202394_AAACCTGAGTGTC...        Healthy  Adult   \n",
       "CV001_KM10202384-CV001_KM10202394_AAACCTGCAGATG...        Healthy  Adult   \n",
       "CV001_KM10202384-CV001_KM10202394_AAACCTGGTATAG...        Healthy  Adult   \n",
       "CV001_KM10202384-CV001_KM10202394_AAACCTGGTGTGC...        Healthy  Adult   \n",
       "...                                                           ...    ...   \n",
       "S28_TTTGTCAGTTCTGTTT-1                              Post-COVID-19  Adult   \n",
       "S28_TTTGTCATCAACCAAC-1                              Post-COVID-19  Adult   \n",
       "S28_TTTGTCATCATTATCC-1                              Post-COVID-19  Adult   \n",
       "S28_TTTGTCATCCTATGTT-1                              Post-COVID-19  Adult   \n",
       "S28_TTTGTCATCTCAAGTG-1                              Post-COVID-19  Adult   \n",
       "\n",
       "                                                       Sex      Smoker   \n",
       "CV001_KM10202384-CV001_KM10202394_AAACCTGAGGCAG...  Female  Non-smoker  \\\n",
       "CV001_KM10202384-CV001_KM10202394_AAACCTGAGTGTC...  Female  Non-smoker   \n",
       "CV001_KM10202384-CV001_KM10202394_AAACCTGCAGATG...    Male  Non-smoker   \n",
       "CV001_KM10202384-CV001_KM10202394_AAACCTGGTATAG...  Female  Non-smoker   \n",
       "CV001_KM10202384-CV001_KM10202394_AAACCTGGTGTGC...  Female  Non-smoker   \n",
       "...                                                    ...         ...   \n",
       "S28_TTTGTCAGTTCTGTTT-1                                Male  Non-smoker   \n",
       "S28_TTTGTCATCAACCAAC-1                                Male  Non-smoker   \n",
       "S28_TTTGTCATCATTATCC-1                                Male  Non-smoker   \n",
       "S28_TTTGTCATCCTATGTT-1                                Male  Non-smoker   \n",
       "S28_TTTGTCATCTCAAGTG-1                                Male  Non-smoker   \n",
       "\n",
       "                                                   sample_id   \n",
       "CV001_KM10202384-CV001_KM10202394_AAACCTGAGGCAG...       AN5  \\\n",
       "CV001_KM10202384-CV001_KM10202394_AAACCTGAGTGTC...       AN5   \n",
       "CV001_KM10202384-CV001_KM10202394_AAACCTGCAGATG...       AN3   \n",
       "CV001_KM10202384-CV001_KM10202394_AAACCTGGTATAG...       AN5   \n",
       "CV001_KM10202384-CV001_KM10202394_AAACCTGGTGTGC...       AN5   \n",
       "...                                                      ...   \n",
       "S28_TTTGTCAGTTCTGTTT-1                                   PC9   \n",
       "S28_TTTGTCATCAACCAAC-1                                   PC9   \n",
       "S28_TTTGTCATCATTATCC-1                                   PC9   \n",
       "S28_TTTGTCATCCTATGTT-1                                   PC9   \n",
       "S28_TTTGTCATCTCAAGTG-1                                   PC2   \n",
       "\n",
       "                                                                   sequencing_library   \n",
       "CV001_KM10202384-CV001_KM10202394_AAACCTGAGGCAG...  CV001_KM10202384-CV001_KM10202394  \\\n",
       "CV001_KM10202384-CV001_KM10202394_AAACCTGAGTGTC...  CV001_KM10202384-CV001_KM10202394   \n",
       "CV001_KM10202384-CV001_KM10202394_AAACCTGCAGATG...  CV001_KM10202384-CV001_KM10202394   \n",
       "CV001_KM10202384-CV001_KM10202394_AAACCTGGTATAG...  CV001_KM10202384-CV001_KM10202394   \n",
       "CV001_KM10202384-CV001_KM10202394_AAACCTGGTGTGC...  CV001_KM10202384-CV001_KM10202394   \n",
       "...                                                                               ...   \n",
       "S28_TTTGTCAGTTCTGTTT-1                                CV001_KM9294396-CV001_KM9294404   \n",
       "S28_TTTGTCATCAACCAAC-1                                CV001_KM9294396-CV001_KM9294404   \n",
       "S28_TTTGTCATCATTATCC-1                                CV001_KM9294396-CV001_KM9294404   \n",
       "S28_TTTGTCATCCTATGTT-1                                CV001_KM9294396-CV001_KM9294404   \n",
       "S28_TTTGTCATCTCAAGTG-1                                CV001_KM9294396-CV001_KM9294404   \n",
       "\n",
       "                                                    Protein_modality_weight  \n",
       "CV001_KM10202384-CV001_KM10202394_AAACCTGAGGCAG...                 0.359517  \n",
       "CV001_KM10202384-CV001_KM10202394_AAACCTGAGTGTC...                 0.577522  \n",
       "CV001_KM10202384-CV001_KM10202394_AAACCTGCAGATG...                 0.369143  \n",
       "CV001_KM10202384-CV001_KM10202394_AAACCTGGTATAG...                 0.785563  \n",
       "CV001_KM10202384-CV001_KM10202394_AAACCTGGTGTGC...                 0.564174  \n",
       "...                                                                     ...  \n",
       "S28_TTTGTCAGTTCTGTTT-1                                             0.429398  \n",
       "S28_TTTGTCATCAACCAAC-1                                             0.677910  \n",
       "S28_TTTGTCATCATTATCC-1                                             0.422796  \n",
       "S28_TTTGTCATCCTATGTT-1                                             0.471905  \n",
       "S28_TTTGTCATCTCAAGTG-1                                             0.313640  \n",
       "\n",
       "[422220 rows x 15 columns]"
      ]
     },
     "execution_count": 15,
     "metadata": {},
     "output_type": "execute_result"
    }
   ],
   "source": [
    "adata_yoshida.obs"
   ]
  },
  {
   "cell_type": "code",
   "execution_count": 16,
   "metadata": {},
   "outputs": [
    {
     "data": {
      "text/plain": [
       "COVID_status\n",
       "Healthy          173684\n",
       "COVID-19         151312\n",
       "Post-COVID-19     97224\n",
       "Name: count, dtype: int64"
      ]
     },
     "execution_count": 16,
     "metadata": {},
     "output_type": "execute_result"
    }
   ],
   "source": [
    "adata_yoshida.obs['COVID_status'].value_counts()"
   ]
  },
  {
   "attachments": {},
   "cell_type": "markdown",
   "metadata": {},
   "source": [
    "- Subset healthy Yoshida data "
   ]
  },
  {
   "cell_type": "code",
   "execution_count": 17,
   "metadata": {},
   "outputs": [],
   "source": [
    "yoshida_healthy = adata_yoshida[~adata_yoshida.obs['COVID_status'].isin(['COVID-19', 'Post-COVID-19']),:]"
   ]
  },
  {
   "cell_type": "code",
   "execution_count": 18,
   "metadata": {},
   "outputs": [
    {
     "data": {
      "text/plain": [
       "COVID_status\n",
       "Healthy    173684\n",
       "Name: count, dtype: int64"
      ]
     },
     "execution_count": 18,
     "metadata": {},
     "output_type": "execute_result"
    }
   ],
   "source": [
    "yoshida_healthy.obs['COVID_status'].value_counts()"
   ]
  },
  {
   "attachments": {},
   "cell_type": "markdown",
   "metadata": {},
   "source": [
    "- Merge _Cai_ and _Yoshida_ data"
   ]
  },
  {
   "cell_type": "code",
   "execution_count": 19,
   "metadata": {},
   "outputs": [
    {
     "data": {
      "text/plain": [
       "AnnData object with n_obs × n_vars = 195733 × 22792\n",
       "    obs: 'study', 'individual', 'sample', 'tissue', 'donor', 'age', 'gender', 'status', 'data_type', 'centre', 'version', 'batch', 'n_genes', 'n_genes_by_counts', 'total_counts', 'total_counts_mt', 'pct_counts_mt', 'total_counts_ribo', 'pct_counts_ribo', 'percent_mt2', 'n_counts', 'percent_chrY', 'XIST-counts', 'S_score', 'G2M_score', 'predicted_doublets', 'patient_id', 'Ethnicity', 'BMI', 'annotation_broad', 'annotation_detailed', 'annotation_detailed_fullNames', 'Age_group', 'COVID_severity', 'COVID_status', 'Group', 'Sex', 'Smoker', 'sample_id', 'sequencing_library', 'Protein_modality_weight', 'dataset'\n",
       "    var: 'gene_id-caiy2022', 'mt-caiy2022', 'ribo-caiy2022', 'n_cells_by_counts-caiy2022', 'mean_counts-caiy2022', 'pct_dropout_by_counts-caiy2022', 'total_counts-caiy2022', 'name-yoshida2021'"
      ]
     },
     "execution_count": 19,
     "metadata": {},
     "output_type": "execute_result"
    }
   ],
   "source": [
    "adata_healthy = caiy_healthy.concatenate(yoshida_healthy, batch_key = 'dataset', batch_categories = ['caiy2022', 'yoshida2021'], join = 'inner')\n",
    "adata_healthy"
   ]
  },
  {
   "cell_type": "code",
   "execution_count": 20,
   "metadata": {},
   "outputs": [
    {
     "data": {
      "text/html": [
       "<div>\n",
       "<style scoped>\n",
       "    .dataframe tbody tr th:only-of-type {\n",
       "        vertical-align: middle;\n",
       "    }\n",
       "\n",
       "    .dataframe tbody tr th {\n",
       "        vertical-align: top;\n",
       "    }\n",
       "\n",
       "    .dataframe thead th {\n",
       "        text-align: right;\n",
       "    }\n",
       "</style>\n",
       "<table border=\"1\" class=\"dataframe\">\n",
       "  <thead>\n",
       "    <tr style=\"text-align: right;\">\n",
       "      <th></th>\n",
       "      <th>study</th>\n",
       "      <th>individual</th>\n",
       "      <th>sample</th>\n",
       "      <th>tissue</th>\n",
       "      <th>donor</th>\n",
       "      <th>age</th>\n",
       "      <th>gender</th>\n",
       "      <th>status</th>\n",
       "      <th>data_type</th>\n",
       "      <th>centre</th>\n",
       "      <th>...</th>\n",
       "      <th>Age_group</th>\n",
       "      <th>COVID_severity</th>\n",
       "      <th>COVID_status</th>\n",
       "      <th>Group</th>\n",
       "      <th>Sex</th>\n",
       "      <th>Smoker</th>\n",
       "      <th>sample_id</th>\n",
       "      <th>sequencing_library</th>\n",
       "      <th>Protein_modality_weight</th>\n",
       "      <th>dataset</th>\n",
       "    </tr>\n",
       "  </thead>\n",
       "  <tbody>\n",
       "    <tr>\n",
       "      <th>AAACCTGAGATGGCGT-H2-caiy2022</th>\n",
       "      <td>CaiY_2021</td>\n",
       "      <td>SAMN14048020</td>\n",
       "      <td>PBMC_HC_2</td>\n",
       "      <td>PBMC</td>\n",
       "      <td>SAMN14048020</td>\n",
       "      <td>30</td>\n",
       "      <td>male</td>\n",
       "      <td>Healthy</td>\n",
       "      <td>scRNAseq</td>\n",
       "      <td>Shenzhen University</td>\n",
       "      <td>...</td>\n",
       "      <td>NaN</td>\n",
       "      <td>NaN</td>\n",
       "      <td>NaN</td>\n",
       "      <td>NaN</td>\n",
       "      <td>NaN</td>\n",
       "      <td>NaN</td>\n",
       "      <td>NaN</td>\n",
       "      <td>NaN</td>\n",
       "      <td>NaN</td>\n",
       "      <td>caiy2022</td>\n",
       "    </tr>\n",
       "    <tr>\n",
       "      <th>AAACCTGAGATGTGTA-H2-caiy2022</th>\n",
       "      <td>CaiY_2021</td>\n",
       "      <td>SAMN14048020</td>\n",
       "      <td>PBMC_HC_2</td>\n",
       "      <td>PBMC</td>\n",
       "      <td>SAMN14048020</td>\n",
       "      <td>30</td>\n",
       "      <td>male</td>\n",
       "      <td>Healthy</td>\n",
       "      <td>scRNAseq</td>\n",
       "      <td>Shenzhen University</td>\n",
       "      <td>...</td>\n",
       "      <td>NaN</td>\n",
       "      <td>NaN</td>\n",
       "      <td>NaN</td>\n",
       "      <td>NaN</td>\n",
       "      <td>NaN</td>\n",
       "      <td>NaN</td>\n",
       "      <td>NaN</td>\n",
       "      <td>NaN</td>\n",
       "      <td>NaN</td>\n",
       "      <td>caiy2022</td>\n",
       "    </tr>\n",
       "    <tr>\n",
       "      <th>AAACCTGAGCAACGGT-H2-caiy2022</th>\n",
       "      <td>CaiY_2021</td>\n",
       "      <td>SAMN14048020</td>\n",
       "      <td>PBMC_HC_2</td>\n",
       "      <td>PBMC</td>\n",
       "      <td>SAMN14048020</td>\n",
       "      <td>30</td>\n",
       "      <td>male</td>\n",
       "      <td>Healthy</td>\n",
       "      <td>scRNAseq</td>\n",
       "      <td>Shenzhen University</td>\n",
       "      <td>...</td>\n",
       "      <td>NaN</td>\n",
       "      <td>NaN</td>\n",
       "      <td>NaN</td>\n",
       "      <td>NaN</td>\n",
       "      <td>NaN</td>\n",
       "      <td>NaN</td>\n",
       "      <td>NaN</td>\n",
       "      <td>NaN</td>\n",
       "      <td>NaN</td>\n",
       "      <td>caiy2022</td>\n",
       "    </tr>\n",
       "    <tr>\n",
       "      <th>AAACCTGAGCCATCGC-H2-caiy2022</th>\n",
       "      <td>CaiY_2021</td>\n",
       "      <td>SAMN14048020</td>\n",
       "      <td>PBMC_HC_2</td>\n",
       "      <td>PBMC</td>\n",
       "      <td>SAMN14048020</td>\n",
       "      <td>30</td>\n",
       "      <td>male</td>\n",
       "      <td>Healthy</td>\n",
       "      <td>scRNAseq</td>\n",
       "      <td>Shenzhen University</td>\n",
       "      <td>...</td>\n",
       "      <td>NaN</td>\n",
       "      <td>NaN</td>\n",
       "      <td>NaN</td>\n",
       "      <td>NaN</td>\n",
       "      <td>NaN</td>\n",
       "      <td>NaN</td>\n",
       "      <td>NaN</td>\n",
       "      <td>NaN</td>\n",
       "      <td>NaN</td>\n",
       "      <td>caiy2022</td>\n",
       "    </tr>\n",
       "    <tr>\n",
       "      <th>AAACCTGAGGTGATTA-H2-caiy2022</th>\n",
       "      <td>CaiY_2021</td>\n",
       "      <td>SAMN14048020</td>\n",
       "      <td>PBMC_HC_2</td>\n",
       "      <td>PBMC</td>\n",
       "      <td>SAMN14048020</td>\n",
       "      <td>30</td>\n",
       "      <td>male</td>\n",
       "      <td>Healthy</td>\n",
       "      <td>scRNAseq</td>\n",
       "      <td>Shenzhen University</td>\n",
       "      <td>...</td>\n",
       "      <td>NaN</td>\n",
       "      <td>NaN</td>\n",
       "      <td>NaN</td>\n",
       "      <td>NaN</td>\n",
       "      <td>NaN</td>\n",
       "      <td>NaN</td>\n",
       "      <td>NaN</td>\n",
       "      <td>NaN</td>\n",
       "      <td>NaN</td>\n",
       "      <td>caiy2022</td>\n",
       "    </tr>\n",
       "    <tr>\n",
       "      <th>...</th>\n",
       "      <td>...</td>\n",
       "      <td>...</td>\n",
       "      <td>...</td>\n",
       "      <td>...</td>\n",
       "      <td>...</td>\n",
       "      <td>...</td>\n",
       "      <td>...</td>\n",
       "      <td>...</td>\n",
       "      <td>...</td>\n",
       "      <td>...</td>\n",
       "      <td>...</td>\n",
       "      <td>...</td>\n",
       "      <td>...</td>\n",
       "      <td>...</td>\n",
       "      <td>...</td>\n",
       "      <td>...</td>\n",
       "      <td>...</td>\n",
       "      <td>...</td>\n",
       "      <td>...</td>\n",
       "      <td>...</td>\n",
       "      <td>...</td>\n",
       "    </tr>\n",
       "    <tr>\n",
       "      <th>S22_TTTGTCAGTCGCATCG-1-yoshida2021</th>\n",
       "      <td>NaN</td>\n",
       "      <td>NaN</td>\n",
       "      <td>NaN</td>\n",
       "      <td>NaN</td>\n",
       "      <td>NaN</td>\n",
       "      <td>NaN</td>\n",
       "      <td>NaN</td>\n",
       "      <td>NaN</td>\n",
       "      <td>NaN</td>\n",
       "      <td>NaN</td>\n",
       "      <td>...</td>\n",
       "      <td>Adolescent</td>\n",
       "      <td>Healthy</td>\n",
       "      <td>Healthy</td>\n",
       "      <td>Paediatric</td>\n",
       "      <td>Male</td>\n",
       "      <td>Non-smoker</td>\n",
       "      <td>NP32</td>\n",
       "      <td>CV001_KM9166642-CV001_KM9166650</td>\n",
       "      <td>0.343914</td>\n",
       "      <td>yoshida2021</td>\n",
       "    </tr>\n",
       "    <tr>\n",
       "      <th>S22_TTTGTCAGTGTAAGTA-1-yoshida2021</th>\n",
       "      <td>NaN</td>\n",
       "      <td>NaN</td>\n",
       "      <td>NaN</td>\n",
       "      <td>NaN</td>\n",
       "      <td>NaN</td>\n",
       "      <td>NaN</td>\n",
       "      <td>NaN</td>\n",
       "      <td>NaN</td>\n",
       "      <td>NaN</td>\n",
       "      <td>NaN</td>\n",
       "      <td>...</td>\n",
       "      <td>Adolescent</td>\n",
       "      <td>Healthy</td>\n",
       "      <td>Healthy</td>\n",
       "      <td>Paediatric</td>\n",
       "      <td>Male</td>\n",
       "      <td>Non-smoker</td>\n",
       "      <td>NP32</td>\n",
       "      <td>CV001_KM9166642-CV001_KM9166650</td>\n",
       "      <td>0.264285</td>\n",
       "      <td>yoshida2021</td>\n",
       "    </tr>\n",
       "    <tr>\n",
       "      <th>S22_TTTGTCATCATGTCCC-1-yoshida2021</th>\n",
       "      <td>NaN</td>\n",
       "      <td>NaN</td>\n",
       "      <td>NaN</td>\n",
       "      <td>NaN</td>\n",
       "      <td>NaN</td>\n",
       "      <td>NaN</td>\n",
       "      <td>NaN</td>\n",
       "      <td>NaN</td>\n",
       "      <td>NaN</td>\n",
       "      <td>NaN</td>\n",
       "      <td>...</td>\n",
       "      <td>Child</td>\n",
       "      <td>Healthy</td>\n",
       "      <td>Healthy</td>\n",
       "      <td>Paediatric</td>\n",
       "      <td>Male</td>\n",
       "      <td>Non-smoker</td>\n",
       "      <td>NP31</td>\n",
       "      <td>CV001_KM9166642-CV001_KM9166650</td>\n",
       "      <td>0.353094</td>\n",
       "      <td>yoshida2021</td>\n",
       "    </tr>\n",
       "    <tr>\n",
       "      <th>S22_TTTGTCATCGAGGTAG-1-yoshida2021</th>\n",
       "      <td>NaN</td>\n",
       "      <td>NaN</td>\n",
       "      <td>NaN</td>\n",
       "      <td>NaN</td>\n",
       "      <td>NaN</td>\n",
       "      <td>NaN</td>\n",
       "      <td>NaN</td>\n",
       "      <td>NaN</td>\n",
       "      <td>NaN</td>\n",
       "      <td>NaN</td>\n",
       "      <td>...</td>\n",
       "      <td>Child</td>\n",
       "      <td>Healthy</td>\n",
       "      <td>Healthy</td>\n",
       "      <td>Paediatric</td>\n",
       "      <td>Male</td>\n",
       "      <td>Non-smoker</td>\n",
       "      <td>NP31</td>\n",
       "      <td>CV001_KM9166642-CV001_KM9166650</td>\n",
       "      <td>0.611991</td>\n",
       "      <td>yoshida2021</td>\n",
       "    </tr>\n",
       "    <tr>\n",
       "      <th>S22_TTTGTCATCTGCTGCT-1-yoshida2021</th>\n",
       "      <td>NaN</td>\n",
       "      <td>NaN</td>\n",
       "      <td>NaN</td>\n",
       "      <td>NaN</td>\n",
       "      <td>NaN</td>\n",
       "      <td>NaN</td>\n",
       "      <td>NaN</td>\n",
       "      <td>NaN</td>\n",
       "      <td>NaN</td>\n",
       "      <td>NaN</td>\n",
       "      <td>...</td>\n",
       "      <td>Adolescent</td>\n",
       "      <td>Healthy</td>\n",
       "      <td>Healthy</td>\n",
       "      <td>Paediatric</td>\n",
       "      <td>Male</td>\n",
       "      <td>Non-smoker</td>\n",
       "      <td>NP32</td>\n",
       "      <td>CV001_KM9166642-CV001_KM9166650</td>\n",
       "      <td>0.437217</td>\n",
       "      <td>yoshida2021</td>\n",
       "    </tr>\n",
       "  </tbody>\n",
       "</table>\n",
       "<p>195733 rows × 42 columns</p>\n",
       "</div>"
      ],
      "text/plain": [
       "                                        study    individual     sample tissue   \n",
       "AAACCTGAGATGGCGT-H2-caiy2022        CaiY_2021  SAMN14048020  PBMC_HC_2   PBMC  \\\n",
       "AAACCTGAGATGTGTA-H2-caiy2022        CaiY_2021  SAMN14048020  PBMC_HC_2   PBMC   \n",
       "AAACCTGAGCAACGGT-H2-caiy2022        CaiY_2021  SAMN14048020  PBMC_HC_2   PBMC   \n",
       "AAACCTGAGCCATCGC-H2-caiy2022        CaiY_2021  SAMN14048020  PBMC_HC_2   PBMC   \n",
       "AAACCTGAGGTGATTA-H2-caiy2022        CaiY_2021  SAMN14048020  PBMC_HC_2   PBMC   \n",
       "...                                       ...           ...        ...    ...   \n",
       "S22_TTTGTCAGTCGCATCG-1-yoshida2021        NaN           NaN        NaN    NaN   \n",
       "S22_TTTGTCAGTGTAAGTA-1-yoshida2021        NaN           NaN        NaN    NaN   \n",
       "S22_TTTGTCATCATGTCCC-1-yoshida2021        NaN           NaN        NaN    NaN   \n",
       "S22_TTTGTCATCGAGGTAG-1-yoshida2021        NaN           NaN        NaN    NaN   \n",
       "S22_TTTGTCATCTGCTGCT-1-yoshida2021        NaN           NaN        NaN    NaN   \n",
       "\n",
       "                                           donor  age gender   status   \n",
       "AAACCTGAGATGGCGT-H2-caiy2022        SAMN14048020   30   male  Healthy  \\\n",
       "AAACCTGAGATGTGTA-H2-caiy2022        SAMN14048020   30   male  Healthy   \n",
       "AAACCTGAGCAACGGT-H2-caiy2022        SAMN14048020   30   male  Healthy   \n",
       "AAACCTGAGCCATCGC-H2-caiy2022        SAMN14048020   30   male  Healthy   \n",
       "AAACCTGAGGTGATTA-H2-caiy2022        SAMN14048020   30   male  Healthy   \n",
       "...                                          ...  ...    ...      ...   \n",
       "S22_TTTGTCAGTCGCATCG-1-yoshida2021           NaN  NaN    NaN      NaN   \n",
       "S22_TTTGTCAGTGTAAGTA-1-yoshida2021           NaN  NaN    NaN      NaN   \n",
       "S22_TTTGTCATCATGTCCC-1-yoshida2021           NaN  NaN    NaN      NaN   \n",
       "S22_TTTGTCATCGAGGTAG-1-yoshida2021           NaN  NaN    NaN      NaN   \n",
       "S22_TTTGTCATCTGCTGCT-1-yoshida2021           NaN  NaN    NaN      NaN   \n",
       "\n",
       "                                   data_type               centre  ...   \n",
       "AAACCTGAGATGGCGT-H2-caiy2022        scRNAseq  Shenzhen University  ...  \\\n",
       "AAACCTGAGATGTGTA-H2-caiy2022        scRNAseq  Shenzhen University  ...   \n",
       "AAACCTGAGCAACGGT-H2-caiy2022        scRNAseq  Shenzhen University  ...   \n",
       "AAACCTGAGCCATCGC-H2-caiy2022        scRNAseq  Shenzhen University  ...   \n",
       "AAACCTGAGGTGATTA-H2-caiy2022        scRNAseq  Shenzhen University  ...   \n",
       "...                                      ...                  ...  ...   \n",
       "S22_TTTGTCAGTCGCATCG-1-yoshida2021       NaN                  NaN  ...   \n",
       "S22_TTTGTCAGTGTAAGTA-1-yoshida2021       NaN                  NaN  ...   \n",
       "S22_TTTGTCATCATGTCCC-1-yoshida2021       NaN                  NaN  ...   \n",
       "S22_TTTGTCATCGAGGTAG-1-yoshida2021       NaN                  NaN  ...   \n",
       "S22_TTTGTCATCTGCTGCT-1-yoshida2021       NaN                  NaN  ...   \n",
       "\n",
       "                                     Age_group COVID_severity  COVID_status   \n",
       "AAACCTGAGATGGCGT-H2-caiy2022               NaN            NaN           NaN  \\\n",
       "AAACCTGAGATGTGTA-H2-caiy2022               NaN            NaN           NaN   \n",
       "AAACCTGAGCAACGGT-H2-caiy2022               NaN            NaN           NaN   \n",
       "AAACCTGAGCCATCGC-H2-caiy2022               NaN            NaN           NaN   \n",
       "AAACCTGAGGTGATTA-H2-caiy2022               NaN            NaN           NaN   \n",
       "...                                        ...            ...           ...   \n",
       "S22_TTTGTCAGTCGCATCG-1-yoshida2021  Adolescent        Healthy       Healthy   \n",
       "S22_TTTGTCAGTGTAAGTA-1-yoshida2021  Adolescent        Healthy       Healthy   \n",
       "S22_TTTGTCATCATGTCCC-1-yoshida2021       Child        Healthy       Healthy   \n",
       "S22_TTTGTCATCGAGGTAG-1-yoshida2021       Child        Healthy       Healthy   \n",
       "S22_TTTGTCATCTGCTGCT-1-yoshida2021  Adolescent        Healthy       Healthy   \n",
       "\n",
       "                                         Group   Sex      Smoker  sample_id   \n",
       "AAACCTGAGATGGCGT-H2-caiy2022               NaN   NaN         NaN        NaN  \\\n",
       "AAACCTGAGATGTGTA-H2-caiy2022               NaN   NaN         NaN        NaN   \n",
       "AAACCTGAGCAACGGT-H2-caiy2022               NaN   NaN         NaN        NaN   \n",
       "AAACCTGAGCCATCGC-H2-caiy2022               NaN   NaN         NaN        NaN   \n",
       "AAACCTGAGGTGATTA-H2-caiy2022               NaN   NaN         NaN        NaN   \n",
       "...                                        ...   ...         ...        ...   \n",
       "S22_TTTGTCAGTCGCATCG-1-yoshida2021  Paediatric  Male  Non-smoker       NP32   \n",
       "S22_TTTGTCAGTGTAAGTA-1-yoshida2021  Paediatric  Male  Non-smoker       NP32   \n",
       "S22_TTTGTCATCATGTCCC-1-yoshida2021  Paediatric  Male  Non-smoker       NP31   \n",
       "S22_TTTGTCATCGAGGTAG-1-yoshida2021  Paediatric  Male  Non-smoker       NP31   \n",
       "S22_TTTGTCATCTGCTGCT-1-yoshida2021  Paediatric  Male  Non-smoker       NP32   \n",
       "\n",
       "                                                 sequencing_library   \n",
       "AAACCTGAGATGGCGT-H2-caiy2022                                    NaN  \\\n",
       "AAACCTGAGATGTGTA-H2-caiy2022                                    NaN   \n",
       "AAACCTGAGCAACGGT-H2-caiy2022                                    NaN   \n",
       "AAACCTGAGCCATCGC-H2-caiy2022                                    NaN   \n",
       "AAACCTGAGGTGATTA-H2-caiy2022                                    NaN   \n",
       "...                                                             ...   \n",
       "S22_TTTGTCAGTCGCATCG-1-yoshida2021  CV001_KM9166642-CV001_KM9166650   \n",
       "S22_TTTGTCAGTGTAAGTA-1-yoshida2021  CV001_KM9166642-CV001_KM9166650   \n",
       "S22_TTTGTCATCATGTCCC-1-yoshida2021  CV001_KM9166642-CV001_KM9166650   \n",
       "S22_TTTGTCATCGAGGTAG-1-yoshida2021  CV001_KM9166642-CV001_KM9166650   \n",
       "S22_TTTGTCATCTGCTGCT-1-yoshida2021  CV001_KM9166642-CV001_KM9166650   \n",
       "\n",
       "                                    Protein_modality_weight      dataset  \n",
       "AAACCTGAGATGGCGT-H2-caiy2022                            NaN     caiy2022  \n",
       "AAACCTGAGATGTGTA-H2-caiy2022                            NaN     caiy2022  \n",
       "AAACCTGAGCAACGGT-H2-caiy2022                            NaN     caiy2022  \n",
       "AAACCTGAGCCATCGC-H2-caiy2022                            NaN     caiy2022  \n",
       "AAACCTGAGGTGATTA-H2-caiy2022                            NaN     caiy2022  \n",
       "...                                                     ...          ...  \n",
       "S22_TTTGTCAGTCGCATCG-1-yoshida2021                 0.343914  yoshida2021  \n",
       "S22_TTTGTCAGTGTAAGTA-1-yoshida2021                 0.264285  yoshida2021  \n",
       "S22_TTTGTCATCATGTCCC-1-yoshida2021                 0.353094  yoshida2021  \n",
       "S22_TTTGTCATCGAGGTAG-1-yoshida2021                 0.611991  yoshida2021  \n",
       "S22_TTTGTCATCTGCTGCT-1-yoshida2021                 0.437217  yoshida2021  \n",
       "\n",
       "[195733 rows x 42 columns]"
      ]
     },
     "execution_count": 20,
     "metadata": {},
     "output_type": "execute_result"
    }
   ],
   "source": [
    "adata_healthy.obs"
   ]
  },
  {
   "cell_type": "markdown",
   "metadata": {},
   "source": [
    "### Calculate HVGs"
   ]
  },
  {
   "cell_type": "code",
   "execution_count": 21,
   "metadata": {},
   "outputs": [],
   "source": [
    "adata = adata_healthy.copy()\n",
    "adata.layers['counts'] = adata.X.copy()"
   ]
  },
  {
   "cell_type": "code",
   "execution_count": 25,
   "metadata": {},
   "outputs": [],
   "source": [
    "sc.pp.highly_variable_genes(adata,\n",
    "    flavor = \"seurat_v3\", \n",
    "    n_top_genes = 3000, \n",
    "    layer = \"counts\", \n",
    "    batch_key = \"dataset\", \n",
    "    subset = True\n",
    ")"
   ]
  },
  {
   "cell_type": "markdown",
   "metadata": {},
   "source": [
    "#### Remove unrequired variables prior to model run"
   ]
  },
  {
   "cell_type": "code",
   "execution_count": 26,
   "metadata": {},
   "outputs": [],
   "source": [
    "del caiy2020\n",
    "del caiy2022\n",
    "del adata_yoshida"
   ]
  },
  {
   "cell_type": "markdown",
   "metadata": {},
   "source": [
    "### Integration with scVI\n"
   ]
  },
  {
   "cell_type": "code",
   "execution_count": 28,
   "metadata": {},
   "outputs": [],
   "source": [
    "scvi.model.SCVI.setup_anndata(adata, layer=\"counts\", batch_key=\"dataset\")"
   ]
  },
  {
   "cell_type": "code",
   "execution_count": 29,
   "metadata": {},
   "outputs": [],
   "source": [
    "vae = scvi.model.SCVI(adata, n_layers=3, n_latent=50, gene_likelihood=\"nb\", dispersion=\"gene-batch\")"
   ]
  },
  {
   "cell_type": "code",
   "execution_count": 30,
   "metadata": {},
   "outputs": [
    {
     "data": {
      "text/html": [
       "<pre style=\"white-space:pre;overflow-x:auto;line-height:normal;font-family:Menlo,'DejaVu Sans Mono',consolas,'Courier New',monospace\">Anndata setup with scvi-tools version <span style=\"color: #008080; text-decoration-color: #008080; font-weight: bold\">0.20</span>.<span style=\"color: #008080; text-decoration-color: #008080; font-weight: bold\">3</span>.\n",
       "</pre>\n"
      ],
      "text/plain": [
       "Anndata setup with scvi-tools version \u001b[1;36m0.20\u001b[0m.\u001b[1;36m3\u001b[0m.\n"
      ]
     },
     "metadata": {},
     "output_type": "display_data"
    },
    {
     "data": {
      "text/html": [
       "<pre style=\"white-space:pre;overflow-x:auto;line-height:normal;font-family:Menlo,'DejaVu Sans Mono',consolas,'Courier New',monospace\">\n",
       "</pre>\n"
      ],
      "text/plain": [
       "\n"
      ]
     },
     "metadata": {},
     "output_type": "display_data"
    },
    {
     "data": {
      "text/html": [
       "<pre style=\"white-space:pre;overflow-x:auto;line-height:normal;font-family:Menlo,'DejaVu Sans Mono',consolas,'Courier New',monospace\">Setup via `SCVI.setup_anndata` with arguments:\n",
       "</pre>\n"
      ],
      "text/plain": [
       "Setup via `SCVI.setup_anndata` with arguments:\n"
      ]
     },
     "metadata": {},
     "output_type": "display_data"
    },
    {
     "data": {
      "text/html": [
       "<pre style=\"white-space:pre;overflow-x:auto;line-height:normal;font-family:Menlo,'DejaVu Sans Mono',consolas,'Courier New',monospace\"><span style=\"font-weight: bold\">{</span>\n",
       "<span style=\"color: #7fbf7f; text-decoration-color: #7fbf7f\">│   </span><span style=\"color: #008000; text-decoration-color: #008000\">'layer'</span>: <span style=\"color: #008000; text-decoration-color: #008000\">'counts'</span>,\n",
       "<span style=\"color: #7fbf7f; text-decoration-color: #7fbf7f\">│   </span><span style=\"color: #008000; text-decoration-color: #008000\">'batch_key'</span>: <span style=\"color: #008000; text-decoration-color: #008000\">'dataset'</span>,\n",
       "<span style=\"color: #7fbf7f; text-decoration-color: #7fbf7f\">│   </span><span style=\"color: #008000; text-decoration-color: #008000\">'labels_key'</span>: <span style=\"color: #800080; text-decoration-color: #800080; font-style: italic\">None</span>,\n",
       "<span style=\"color: #7fbf7f; text-decoration-color: #7fbf7f\">│   </span><span style=\"color: #008000; text-decoration-color: #008000\">'size_factor_key'</span>: <span style=\"color: #800080; text-decoration-color: #800080; font-style: italic\">None</span>,\n",
       "<span style=\"color: #7fbf7f; text-decoration-color: #7fbf7f\">│   </span><span style=\"color: #008000; text-decoration-color: #008000\">'categorical_covariate_keys'</span>: <span style=\"color: #800080; text-decoration-color: #800080; font-style: italic\">None</span>,\n",
       "<span style=\"color: #7fbf7f; text-decoration-color: #7fbf7f\">│   </span><span style=\"color: #008000; text-decoration-color: #008000\">'continuous_covariate_keys'</span>: <span style=\"color: #800080; text-decoration-color: #800080; font-style: italic\">None</span>\n",
       "<span style=\"font-weight: bold\">}</span>\n",
       "</pre>\n"
      ],
      "text/plain": [
       "\u001b[1m{\u001b[0m\n",
       "\u001b[2;32m│   \u001b[0m\u001b[32m'layer'\u001b[0m: \u001b[32m'counts'\u001b[0m,\n",
       "\u001b[2;32m│   \u001b[0m\u001b[32m'batch_key'\u001b[0m: \u001b[32m'dataset'\u001b[0m,\n",
       "\u001b[2;32m│   \u001b[0m\u001b[32m'labels_key'\u001b[0m: \u001b[3;35mNone\u001b[0m,\n",
       "\u001b[2;32m│   \u001b[0m\u001b[32m'size_factor_key'\u001b[0m: \u001b[3;35mNone\u001b[0m,\n",
       "\u001b[2;32m│   \u001b[0m\u001b[32m'categorical_covariate_keys'\u001b[0m: \u001b[3;35mNone\u001b[0m,\n",
       "\u001b[2;32m│   \u001b[0m\u001b[32m'continuous_covariate_keys'\u001b[0m: \u001b[3;35mNone\u001b[0m\n",
       "\u001b[1m}\u001b[0m\n"
      ]
     },
     "metadata": {},
     "output_type": "display_data"
    },
    {
     "data": {
      "text/html": [
       "<pre style=\"white-space:pre;overflow-x:auto;line-height:normal;font-family:Menlo,'DejaVu Sans Mono',consolas,'Courier New',monospace\">\n",
       "</pre>\n"
      ],
      "text/plain": [
       "\n"
      ]
     },
     "metadata": {},
     "output_type": "display_data"
    },
    {
     "data": {
      "text/html": [
       "<pre style=\"white-space:pre;overflow-x:auto;line-height:normal;font-family:Menlo,'DejaVu Sans Mono',consolas,'Courier New',monospace\"><span style=\"font-style: italic\">         Summary Statistics          </span>\n",
       "┏━━━━━━━━━━━━━━━━━━━━━━━━━━┳━━━━━━━━┓\n",
       "┃<span style=\"font-weight: bold\">     Summary Stat Key     </span>┃<span style=\"font-weight: bold\"> Value  </span>┃\n",
       "┡━━━━━━━━━━━━━━━━━━━━━━━━━━╇━━━━━━━━┩\n",
       "│<span style=\"color: #0087ff; text-decoration-color: #0087ff\">         n_batch          </span>│<span style=\"color: #af00d7; text-decoration-color: #af00d7\">   2    </span>│\n",
       "│<span style=\"color: #0087ff; text-decoration-color: #0087ff\">         n_cells          </span>│<span style=\"color: #af00d7; text-decoration-color: #af00d7\"> 195733 </span>│\n",
       "│<span style=\"color: #0087ff; text-decoration-color: #0087ff\"> n_extra_categorical_covs </span>│<span style=\"color: #af00d7; text-decoration-color: #af00d7\">   0    </span>│\n",
       "│<span style=\"color: #0087ff; text-decoration-color: #0087ff\"> n_extra_continuous_covs  </span>│<span style=\"color: #af00d7; text-decoration-color: #af00d7\">   0    </span>│\n",
       "│<span style=\"color: #0087ff; text-decoration-color: #0087ff\">         n_labels         </span>│<span style=\"color: #af00d7; text-decoration-color: #af00d7\">   1    </span>│\n",
       "│<span style=\"color: #0087ff; text-decoration-color: #0087ff\">          n_vars          </span>│<span style=\"color: #af00d7; text-decoration-color: #af00d7\">  3000  </span>│\n",
       "└──────────────────────────┴────────┘\n",
       "</pre>\n"
      ],
      "text/plain": [
       "\u001b[3m         Summary Statistics          \u001b[0m\n",
       "┏━━━━━━━━━━━━━━━━━━━━━━━━━━┳━━━━━━━━┓\n",
       "┃\u001b[1m \u001b[0m\u001b[1m    Summary Stat Key    \u001b[0m\u001b[1m \u001b[0m┃\u001b[1m \u001b[0m\u001b[1mValue \u001b[0m\u001b[1m \u001b[0m┃\n",
       "┡━━━━━━━━━━━━━━━━━━━━━━━━━━╇━━━━━━━━┩\n",
       "│\u001b[38;5;33m \u001b[0m\u001b[38;5;33m        n_batch         \u001b[0m\u001b[38;5;33m \u001b[0m│\u001b[38;5;128m \u001b[0m\u001b[38;5;128m  2   \u001b[0m\u001b[38;5;128m \u001b[0m│\n",
       "│\u001b[38;5;33m \u001b[0m\u001b[38;5;33m        n_cells         \u001b[0m\u001b[38;5;33m \u001b[0m│\u001b[38;5;128m \u001b[0m\u001b[38;5;128m195733\u001b[0m\u001b[38;5;128m \u001b[0m│\n",
       "│\u001b[38;5;33m \u001b[0m\u001b[38;5;33mn_extra_categorical_covs\u001b[0m\u001b[38;5;33m \u001b[0m│\u001b[38;5;128m \u001b[0m\u001b[38;5;128m  0   \u001b[0m\u001b[38;5;128m \u001b[0m│\n",
       "│\u001b[38;5;33m \u001b[0m\u001b[38;5;33mn_extra_continuous_covs \u001b[0m\u001b[38;5;33m \u001b[0m│\u001b[38;5;128m \u001b[0m\u001b[38;5;128m  0   \u001b[0m\u001b[38;5;128m \u001b[0m│\n",
       "│\u001b[38;5;33m \u001b[0m\u001b[38;5;33m        n_labels        \u001b[0m\u001b[38;5;33m \u001b[0m│\u001b[38;5;128m \u001b[0m\u001b[38;5;128m  1   \u001b[0m\u001b[38;5;128m \u001b[0m│\n",
       "│\u001b[38;5;33m \u001b[0m\u001b[38;5;33m         n_vars         \u001b[0m\u001b[38;5;33m \u001b[0m│\u001b[38;5;128m \u001b[0m\u001b[38;5;128m 3000 \u001b[0m\u001b[38;5;128m \u001b[0m│\n",
       "└──────────────────────────┴────────┘\n"
      ]
     },
     "metadata": {},
     "output_type": "display_data"
    },
    {
     "data": {
      "text/html": [
       "<pre style=\"white-space:pre;overflow-x:auto;line-height:normal;font-family:Menlo,'DejaVu Sans Mono',consolas,'Courier New',monospace\"><span style=\"font-style: italic\">               Data Registry                </span>\n",
       "┏━━━━━━━━━━━━━━┳━━━━━━━━━━━━━━━━━━━━━━━━━━━┓\n",
       "┃<span style=\"font-weight: bold\"> Registry Key </span>┃<span style=\"font-weight: bold\">    scvi-tools Location    </span>┃\n",
       "┡━━━━━━━━━━━━━━╇━━━━━━━━━━━━━━━━━━━━━━━━━━━┩\n",
       "│<span style=\"color: #0087ff; text-decoration-color: #0087ff\">      X       </span>│<span style=\"color: #af00d7; text-decoration-color: #af00d7\">  adata.layers['counts']   </span>│\n",
       "│<span style=\"color: #0087ff; text-decoration-color: #0087ff\">    batch     </span>│<span style=\"color: #af00d7; text-decoration-color: #af00d7\"> adata.obs['_scvi_batch']  </span>│\n",
       "│<span style=\"color: #0087ff; text-decoration-color: #0087ff\">    labels    </span>│<span style=\"color: #af00d7; text-decoration-color: #af00d7\"> adata.obs['_scvi_labels'] </span>│\n",
       "└──────────────┴───────────────────────────┘\n",
       "</pre>\n"
      ],
      "text/plain": [
       "\u001b[3m               Data Registry                \u001b[0m\n",
       "┏━━━━━━━━━━━━━━┳━━━━━━━━━━━━━━━━━━━━━━━━━━━┓\n",
       "┃\u001b[1m \u001b[0m\u001b[1mRegistry Key\u001b[0m\u001b[1m \u001b[0m┃\u001b[1m \u001b[0m\u001b[1m   scvi-tools Location   \u001b[0m\u001b[1m \u001b[0m┃\n",
       "┡━━━━━━━━━━━━━━╇━━━━━━━━━━━━━━━━━━━━━━━━━━━┩\n",
       "│\u001b[38;5;33m \u001b[0m\u001b[38;5;33m     X      \u001b[0m\u001b[38;5;33m \u001b[0m│\u001b[38;5;128m \u001b[0m\u001b[38;5;128m adata.layers['counts']  \u001b[0m\u001b[38;5;128m \u001b[0m│\n",
       "│\u001b[38;5;33m \u001b[0m\u001b[38;5;33m   batch    \u001b[0m\u001b[38;5;33m \u001b[0m│\u001b[38;5;128m \u001b[0m\u001b[38;5;128madata.obs['_scvi_batch'] \u001b[0m\u001b[38;5;128m \u001b[0m│\n",
       "│\u001b[38;5;33m \u001b[0m\u001b[38;5;33m   labels   \u001b[0m\u001b[38;5;33m \u001b[0m│\u001b[38;5;128m \u001b[0m\u001b[38;5;128madata.obs['_scvi_labels']\u001b[0m\u001b[38;5;128m \u001b[0m│\n",
       "└──────────────┴───────────────────────────┘\n"
      ]
     },
     "metadata": {},
     "output_type": "display_data"
    },
    {
     "data": {
      "text/html": [
       "<pre style=\"white-space:pre;overflow-x:auto;line-height:normal;font-family:Menlo,'DejaVu Sans Mono',consolas,'Courier New',monospace\"><span style=\"font-style: italic\">                    batch State Registry                    </span>\n",
       "┏━━━━━━━━━━━━━━━━━━━━━━┳━━━━━━━━━━━━━┳━━━━━━━━━━━━━━━━━━━━━┓\n",
       "┃<span style=\"font-weight: bold\">   Source Location    </span>┃<span style=\"font-weight: bold\"> Categories  </span>┃<span style=\"font-weight: bold\"> scvi-tools Encoding </span>┃\n",
       "┡━━━━━━━━━━━━━━━━━━━━━━╇━━━━━━━━━━━━━╇━━━━━━━━━━━━━━━━━━━━━┩\n",
       "│<span style=\"color: #0087ff; text-decoration-color: #0087ff\"> adata.obs['dataset'] </span>│<span style=\"color: #008000; text-decoration-color: #008000\">  caiy2022   </span>│<span style=\"color: #af00d7; text-decoration-color: #af00d7\">          0          </span>│\n",
       "│<span style=\"color: #0087ff; text-decoration-color: #0087ff\">                      </span>│<span style=\"color: #008000; text-decoration-color: #008000\"> yoshida2021 </span>│<span style=\"color: #af00d7; text-decoration-color: #af00d7\">          1          </span>│\n",
       "└──────────────────────┴─────────────┴─────────────────────┘\n",
       "</pre>\n"
      ],
      "text/plain": [
       "\u001b[3m                    batch State Registry                    \u001b[0m\n",
       "┏━━━━━━━━━━━━━━━━━━━━━━┳━━━━━━━━━━━━━┳━━━━━━━━━━━━━━━━━━━━━┓\n",
       "┃\u001b[1m \u001b[0m\u001b[1m  Source Location   \u001b[0m\u001b[1m \u001b[0m┃\u001b[1m \u001b[0m\u001b[1mCategories \u001b[0m\u001b[1m \u001b[0m┃\u001b[1m \u001b[0m\u001b[1mscvi-tools Encoding\u001b[0m\u001b[1m \u001b[0m┃\n",
       "┡━━━━━━━━━━━━━━━━━━━━━━╇━━━━━━━━━━━━━╇━━━━━━━━━━━━━━━━━━━━━┩\n",
       "│\u001b[38;5;33m \u001b[0m\u001b[38;5;33madata.obs['dataset']\u001b[0m\u001b[38;5;33m \u001b[0m│\u001b[32m \u001b[0m\u001b[32m caiy2022  \u001b[0m\u001b[32m \u001b[0m│\u001b[38;5;128m \u001b[0m\u001b[38;5;128m         0         \u001b[0m\u001b[38;5;128m \u001b[0m│\n",
       "│\u001b[38;5;33m \u001b[0m\u001b[38;5;33m                    \u001b[0m\u001b[38;5;33m \u001b[0m│\u001b[32m \u001b[0m\u001b[32myoshida2021\u001b[0m\u001b[32m \u001b[0m│\u001b[38;5;128m \u001b[0m\u001b[38;5;128m         1         \u001b[0m\u001b[38;5;128m \u001b[0m│\n",
       "└──────────────────────┴─────────────┴─────────────────────┘\n"
      ]
     },
     "metadata": {},
     "output_type": "display_data"
    },
    {
     "data": {
      "text/html": [
       "<pre style=\"white-space:pre;overflow-x:auto;line-height:normal;font-family:Menlo,'DejaVu Sans Mono',consolas,'Courier New',monospace\"><span style=\"font-style: italic\">                     labels State Registry                      </span>\n",
       "┏━━━━━━━━━━━━━━━━━━━━━━━━━━━┳━━━━━━━━━━━━┳━━━━━━━━━━━━━━━━━━━━━┓\n",
       "┃<span style=\"font-weight: bold\">      Source Location      </span>┃<span style=\"font-weight: bold\"> Categories </span>┃<span style=\"font-weight: bold\"> scvi-tools Encoding </span>┃\n",
       "┡━━━━━━━━━━━━━━━━━━━━━━━━━━━╇━━━━━━━━━━━━╇━━━━━━━━━━━━━━━━━━━━━┩\n",
       "│<span style=\"color: #0087ff; text-decoration-color: #0087ff\"> adata.obs['_scvi_labels'] </span>│<span style=\"color: #008000; text-decoration-color: #008000\">     0      </span>│<span style=\"color: #af00d7; text-decoration-color: #af00d7\">          0          </span>│\n",
       "└───────────────────────────┴────────────┴─────────────────────┘\n",
       "</pre>\n"
      ],
      "text/plain": [
       "\u001b[3m                     labels State Registry                      \u001b[0m\n",
       "┏━━━━━━━━━━━━━━━━━━━━━━━━━━━┳━━━━━━━━━━━━┳━━━━━━━━━━━━━━━━━━━━━┓\n",
       "┃\u001b[1m \u001b[0m\u001b[1m     Source Location     \u001b[0m\u001b[1m \u001b[0m┃\u001b[1m \u001b[0m\u001b[1mCategories\u001b[0m\u001b[1m \u001b[0m┃\u001b[1m \u001b[0m\u001b[1mscvi-tools Encoding\u001b[0m\u001b[1m \u001b[0m┃\n",
       "┡━━━━━━━━━━━━━━━━━━━━━━━━━━━╇━━━━━━━━━━━━╇━━━━━━━━━━━━━━━━━━━━━┩\n",
       "│\u001b[38;5;33m \u001b[0m\u001b[38;5;33madata.obs['_scvi_labels']\u001b[0m\u001b[38;5;33m \u001b[0m│\u001b[32m \u001b[0m\u001b[32m    0     \u001b[0m\u001b[32m \u001b[0m│\u001b[38;5;128m \u001b[0m\u001b[38;5;128m         0         \u001b[0m\u001b[38;5;128m \u001b[0m│\n",
       "└───────────────────────────┴────────────┴─────────────────────┘\n"
      ]
     },
     "metadata": {},
     "output_type": "display_data"
    }
   ],
   "source": [
    "scvi.model.SCVI.view_anndata_setup(vae)"
   ]
  },
  {
   "cell_type": "code",
   "execution_count": null,
   "metadata": {},
   "outputs": [],
   "source": [
    "vae.train()"
   ]
  },
  {
   "cell_type": "code",
   "execution_count": null,
   "metadata": {},
   "outputs": [],
   "source": [
    "adata.obsm[\"X_scVI\"] = vae.get_latent_representation()"
   ]
  },
  {
   "cell_type": "code",
   "execution_count": null,
   "metadata": {},
   "outputs": [],
   "source": [
    "sc.pp.neighbors(adata, n_neighbors=50, use_rep=\"X_scVI\")\n",
    "sc.tl.leiden(adata, resolution=1)\n",
    "sc.tl.umap(adata, min_dist=0.5, spread=8, random_state=0)"
   ]
  },
  {
   "cell_type": "code",
   "execution_count": null,
   "metadata": {},
   "outputs": [],
   "source": [
    "# adata.obsm[\"X_mde\"] = mde(adata.obsm[\"X_scVI\"])"
   ]
  },
  {
   "cell_type": "code",
   "execution_count": null,
   "metadata": {},
   "outputs": [],
   "source": [
    "plt.figure(figsize = (5, 5))"
   ]
  },
  {
   "cell_type": "code",
   "execution_count": null,
   "metadata": {},
   "outputs": [],
   "source": [
    "sc.pl.umap(\n",
    "    adata,\n",
    "    color=[\"batch\", \"leiden\", \"tissue\", \"dataset\", \"donor\"],\n",
    "    frameon=False,\n",
    "    ncols=4,\n",
    "    size=4\n",
    ")\n"
   ]
  },
  {
   "attachments": {},
   "cell_type": "markdown",
   "metadata": {},
   "source": [
    "### SCCAF clustering analysis"
   ]
  },
  {
   "cell_type": "code",
   "execution_count": null,
   "metadata": {},
   "outputs": [],
   "source": [
    "import SCCAF as sccaf\n",
    "from SCCAF import SCCAF_assessment, plot_roc"
   ]
  },
  {
   "cell_type": "code",
   "execution_count": null,
   "metadata": {},
   "outputs": [],
   "source": [
    "# Resolution on a scale from 0 to 1\n",
    "\n",
    "sc.tl.leiden(adata, resolution = 0.1, random_state = 1786)"
   ]
  },
  {
   "cell_type": "code",
   "execution_count": null,
   "metadata": {},
   "outputs": [],
   "source": [
    "# clf ? \n",
    "# cvsm ?\n",
    "\n",
    "y_prob, y_pred, y_test, clf, cvsm, acc = SCCAF_assessment(adata.X, adata.obs['leiden'], n = 100)\n",
    "\n"
   ]
  },
  {
   "cell_type": "code",
   "execution_count": null,
   "metadata": {},
   "outputs": [],
   "source": [
    "plot_roc(y_prob, y_test, clf, cvsm = cvsm, acc = acc)\n",
    "plt.show()"
   ]
  },
  {
   "cell_type": "code",
   "execution_count": null,
   "metadata": {},
   "outputs": [],
   "source": [
    "# Markers chosen here are of interest in healthy blood cells\n",
    "\n",
    "sc.pl.umap(adata, frameon = False, color = ['leiden', 'status', 'CD74', 'tissue', 'FOXI1', 'CDH1', 'CD3E', 'DUSP4'], size = 0.8, legend_fontsize = 5, legend_loc = 'on data')"
   ]
  },
  {
   "cell_type": "markdown",
   "metadata": {},
   "source": [
    "### Export clustered object"
   ]
  },
  {
   "cell_type": "code",
   "execution_count": null,
   "metadata": {},
   "outputs": [],
   "source": [
    "adata\n",
    "caiy_healthy"
   ]
  },
  {
   "cell_type": "code",
   "execution_count": null,
   "metadata": {},
   "outputs": [],
   "source": [
    "# Making a hybrid anndata object using sections from both original anndata object and the cai_tb_gex object\n",
    "adata_export = anndata.AnnData(X = caiy_healthy.X, var = caiy_healthy.var, obs = adata.obs, uns = adata.uns, obsm = adata.obsm, layers = caiy_healthy.layers, obsp = adata.obsp)\n",
    "adata_export"
   ]
  },
  {
   "cell_type": "code",
   "execution_count": null,
   "metadata": {},
   "outputs": [],
   "source": [
    "adata_export.write('/Volumes/Lacie/data_lake/Mairi_example/processed_files/scvi/post_sccaf/CaiY_Yoshida_healthy_scRNA_PBMC_mm230425_scVI-clustered.raw.h5ad')\n"
   ]
  }
 ],
 "metadata": {
  "kernelspec": {
   "display_name": "scvi_sccaf_local",
   "language": "python",
   "name": "python3"
  },
  "language_info": {
   "codemirror_mode": {
    "name": "ipython",
    "version": 3
   },
   "file_extension": ".py",
   "mimetype": "text/x-python",
   "name": "python",
   "nbconvert_exporter": "python",
   "pygments_lexer": "ipython3",
   "version": "3.9.16"
  },
  "orig_nbformat": 4
 },
 "nbformat": 4,
 "nbformat_minor": 2
}
