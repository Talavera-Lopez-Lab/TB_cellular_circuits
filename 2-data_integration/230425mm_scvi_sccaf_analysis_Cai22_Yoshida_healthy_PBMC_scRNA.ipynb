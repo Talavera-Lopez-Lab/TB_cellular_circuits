{
 "cells": [
  {
   "attachments": {},
   "cell_type": "markdown",
   "metadata": {},
   "source": [
    "### Notebook for the integration using ```scVI``` and clustering evaluation with ```SCCAF``` for Healthy PBMCs\n",
    "\n",
    "**Objective**: Integration of healthy PBMCs from Cai 2020 {https://pubmed.ncbi.nlm.nih.gov/32114394/} and Yoshida 2021 {https://www.nature.com/articles/s41591-021-01329-2#data-availability}. \n",
    "\n",
    "**Developed by**: Mairi McClean\n",
    "\n",
    "**Institute of Computational Biology - Helmholtz Zentrum Munich**\n",
    "\n",
    "**v230425**\n"
   ]
  },
  {
   "attachments": {},
   "cell_type": "markdown",
   "metadata": {},
   "source": [
    "### Import required modules"
   ]
  },
  {
   "cell_type": "code",
   "execution_count": 1,
   "metadata": {},
   "outputs": [
    {
     "name": "stderr",
     "output_type": "stream",
     "text": [
      "Global seed set to 0\n",
      "/Users/mairi.mcclean/mambaforge/envs/scvi_sccaf_py39/lib/python3.9/site-packages/tqdm/auto.py:21: TqdmWarning: IProgress not found. Please update jupyter and ipywidgets. See https://ipywidgets.readthedocs.io/en/stable/user_install.html\n",
      "  from .autonotebook import tqdm as notebook_tqdm\n",
      "/Users/mairi.mcclean/mambaforge/envs/scvi_sccaf_py39/lib/python3.9/site-packages/flax/struct.py:132: FutureWarning: jax.tree_util.register_keypaths is deprecated, and will be removed in a future release. Please use `register_pytree_with_keys()` instead.\n",
      "  jax.tree_util.register_keypaths(data_clz, keypaths)\n",
      "/Users/mairi.mcclean/mambaforge/envs/scvi_sccaf_py39/lib/python3.9/site-packages/flax/struct.py:132: FutureWarning: jax.tree_util.register_keypaths is deprecated, and will be removed in a future release. Please use `register_pytree_with_keys()` instead.\n",
      "  jax.tree_util.register_keypaths(data_clz, keypaths)\n",
      "/Users/mairi.mcclean/mambaforge/envs/scvi_sccaf_py39/lib/python3.9/site-packages/flax/struct.py:132: FutureWarning: jax.tree_util.register_keypaths is deprecated, and will be removed in a future release. Please use `register_pytree_with_keys()` instead.\n",
      "  jax.tree_util.register_keypaths(data_clz, keypaths)\n"
     ]
    }
   ],
   "source": [
    "import sys\n",
    "import scvi\n",
    "import torch\n",
    "import anndata\n",
    "import matplotlib\n",
    "import matplotlib.pyplot as plt\n",
    "from matplotlib.colors import LinearSegmentedColormap\n",
    "import seaborn as sns\n",
    "\n",
    "import numpy as np\n",
    "import pandas as pd\n",
    "import scanpy as sc\n",
    "import numpy.random as random\n",
    "\n",
    "\n",
    "from umap import UMAP\n",
    "import warnings; warnings.simplefilter('ignore')"
   ]
  },
  {
   "cell_type": "code",
   "execution_count": 2,
   "metadata": {},
   "outputs": [],
   "source": [
    "sc.set_figure_params(figsize=(4, 4))\n",
    "\n",
    "%config InlineBackend.print_figure_kwargs={'facecolor' : \"w\"}\n",
    "%config InlineBackend.figure_format='retina'"
   ]
  },
  {
   "attachments": {},
   "cell_type": "markdown",
   "metadata": {},
   "source": [
    "### Read in datasets for integration\n"
   ]
  },
  {
   "cell_type": "markdown",
   "metadata": {},
   "source": [
    "- Read in _Cai Y et al 2020_"
   ]
  },
  {
   "cell_type": "code",
   "execution_count": 3,
   "metadata": {},
   "outputs": [
    {
     "data": {
      "text/plain": [
       "AnnData object with n_obs × n_vars = 73146 × 61533\n",
       "    obs: 'study', 'individual', 'sample', 'tissue', 'donor', 'age', 'gender', 'status', 'data_type', 'centre', 'version', 'batch', 'n_genes', 'n_genes_by_counts', 'total_counts', 'total_counts_mt', 'pct_counts_mt', 'total_counts_ribo', 'pct_counts_ribo', 'percent_mt2', 'n_counts', 'percent_chrY', 'XIST-counts', 'S_score', 'G2M_score', 'predicted_doublets'\n",
       "    var: 'gene_id', 'mt', 'ribo', 'n_cells_by_counts', 'mean_counts', 'pct_dropout_by_counts', 'total_counts'\n",
       "    uns: 'donor_colors'\n",
       "    layers: 'counts', 'sqrt_norm'"
      ]
     },
     "execution_count": 3,
     "metadata": {},
     "output_type": "execute_result"
    }
   ],
   "source": [
    "# Remove full file paths\n",
    "\n",
    "caiy2020 = sc.read_h5ad('../data/Cai2020_scRNA_PBMC_mm230315_qcd.h5ad')\n",
    "caiy2020"
   ]
  },
  {
   "cell_type": "code",
   "execution_count": 4,
   "metadata": {},
   "outputs": [
    {
     "data": {
      "text/plain": [
       "status\n",
       "active_TB    33104\n",
       "Healthy      22049\n",
       "latent_TB    17993\n",
       "Name: count, dtype: int64"
      ]
     },
     "execution_count": 4,
     "metadata": {},
     "output_type": "execute_result"
    }
   ],
   "source": [
    "caiy2020.obs['status'].value_counts()"
   ]
  },
  {
   "cell_type": "code",
   "execution_count": 6,
   "metadata": {},
   "outputs": [],
   "source": [
    "caiy_healthy = caiy2020[~caiy2020.obs['status'].isin(['active_TB', 'latent_TB']),:]"
   ]
  },
  {
   "cell_type": "code",
   "execution_count": 7,
   "metadata": {},
   "outputs": [
    {
     "data": {
      "text/plain": [
       "status\n",
       "Healthy    22049\n",
       "Name: count, dtype: int64"
      ]
     },
     "execution_count": 7,
     "metadata": {},
     "output_type": "execute_result"
    }
   ],
   "source": [
    "caiy_healthy.obs['status'].value_counts()"
   ]
  },
  {
   "cell_type": "markdown",
   "metadata": {},
   "source": [
    "- Read in _Yoshida et al 2021_"
   ]
  },
  {
   "cell_type": "code",
   "execution_count": 8,
   "metadata": {},
   "outputs": [
    {
     "data": {
      "text/plain": [
       "AnnData object with n_obs × n_vars = 422220 × 33751\n",
       "    obs: 'patient_id', 'Ethnicity', 'BMI', 'annotation_broad', 'annotation_detailed', 'annotation_detailed_fullNames', 'Age_group', 'COVID_severity', 'COVID_status', 'Group', 'Sex', 'Smoker', 'sample_id', 'sequencing_library', 'Protein_modality_weight'\n",
       "    var: 'name'\n",
       "    obsm: 'X_ umap (wnn derived)', 'X_umap (after harmony ADT)', 'X_umap (after harmony RNA)', 'X_umap (before harmony ADT)', 'X_umap (before harmony RNA)'"
      ]
     },
     "execution_count": 8,
     "metadata": {},
     "output_type": "execute_result"
    }
   ],
   "source": [
    "adata_yoshida = sc.read_h5ad('../data/meyer_nikolic_covid_pbmc.cellxgene.20210813.h5ad')\n",
    "adata_yoshida"
   ]
  },
  {
   "cell_type": "code",
   "execution_count": 11,
   "metadata": {},
   "outputs": [
    {
     "data": {
      "text/plain": [
       "COVID_status\n",
       "Healthy          173684\n",
       "COVID-19         151312\n",
       "Post-COVID-19     97224\n",
       "Name: count, dtype: int64"
      ]
     },
     "execution_count": 11,
     "metadata": {},
     "output_type": "execute_result"
    }
   ],
   "source": [
    "adata_yoshida.obs['COVID_status'].value_counts()"
   ]
  },
  {
   "attachments": {},
   "cell_type": "markdown",
   "metadata": {},
   "source": [
    "- Subset healthy Yoshida data "
   ]
  },
  {
   "cell_type": "code",
   "execution_count": 12,
   "metadata": {},
   "outputs": [],
   "source": [
    "yoshida_healthy = adata_yoshida[~adata_yoshida.obs['COVID_status'].isin(['COVID-19', 'Post-COVID-19']),:]"
   ]
  },
  {
   "cell_type": "code",
   "execution_count": 13,
   "metadata": {},
   "outputs": [
    {
     "data": {
      "text/plain": [
       "COVID_status\n",
       "Healthy    173684\n",
       "Name: count, dtype: int64"
      ]
     },
     "execution_count": 13,
     "metadata": {},
     "output_type": "execute_result"
    }
   ],
   "source": [
    "yoshida_healthy.obs['COVID_status'].value_counts()"
   ]
  },
  {
   "attachments": {},
   "cell_type": "markdown",
   "metadata": {},
   "source": [
    "- Merge _Cai_ and _Yoshida_ data"
   ]
  },
  {
   "cell_type": "code",
   "execution_count": 14,
   "metadata": {},
   "outputs": [
    {
     "data": {
      "text/plain": [
       "AnnData object with n_obs × n_vars = 195733 × 22792\n",
       "    obs: 'study', 'individual', 'sample', 'tissue', 'donor', 'age', 'gender', 'status', 'data_type', 'centre', 'version', 'batch', 'n_genes', 'n_genes_by_counts', 'total_counts', 'total_counts_mt', 'pct_counts_mt', 'total_counts_ribo', 'pct_counts_ribo', 'percent_mt2', 'n_counts', 'percent_chrY', 'XIST-counts', 'S_score', 'G2M_score', 'predicted_doublets', 'patient_id', 'Ethnicity', 'BMI', 'annotation_broad', 'annotation_detailed', 'annotation_detailed_fullNames', 'Age_group', 'COVID_severity', 'COVID_status', 'Group', 'Sex', 'Smoker', 'sample_id', 'sequencing_library', 'Protein_modality_weight', 'dataset'\n",
       "    var: 'gene_id-caiy2022', 'mt-caiy2022', 'ribo-caiy2022', 'n_cells_by_counts-caiy2022', 'mean_counts-caiy2022', 'pct_dropout_by_counts-caiy2022', 'total_counts-caiy2022', 'name-yoshida2021'"
      ]
     },
     "execution_count": 14,
     "metadata": {},
     "output_type": "execute_result"
    }
   ],
   "source": [
    "adata_healthy = caiy_healthy.concatenate(yoshida_healthy, batch_key = 'dataset', batch_categories = ['caiy2022', 'yoshida2021'], join = 'inner')\n",
    "adata_healthy"
   ]
  },
  {
   "cell_type": "code",
   "execution_count": 15,
   "metadata": {},
   "outputs": [
    {
     "data": {
      "text/html": [
       "<div>\n",
       "<style scoped>\n",
       "    .dataframe tbody tr th:only-of-type {\n",
       "        vertical-align: middle;\n",
       "    }\n",
       "\n",
       "    .dataframe tbody tr th {\n",
       "        vertical-align: top;\n",
       "    }\n",
       "\n",
       "    .dataframe thead th {\n",
       "        text-align: right;\n",
       "    }\n",
       "</style>\n",
       "<table border=\"1\" class=\"dataframe\">\n",
       "  <thead>\n",
       "    <tr style=\"text-align: right;\">\n",
       "      <th></th>\n",
       "      <th>study</th>\n",
       "      <th>individual</th>\n",
       "      <th>sample</th>\n",
       "      <th>tissue</th>\n",
       "      <th>donor</th>\n",
       "      <th>age</th>\n",
       "      <th>gender</th>\n",
       "      <th>status</th>\n",
       "      <th>data_type</th>\n",
       "      <th>centre</th>\n",
       "      <th>...</th>\n",
       "      <th>Age_group</th>\n",
       "      <th>COVID_severity</th>\n",
       "      <th>COVID_status</th>\n",
       "      <th>Group</th>\n",
       "      <th>Sex</th>\n",
       "      <th>Smoker</th>\n",
       "      <th>sample_id</th>\n",
       "      <th>sequencing_library</th>\n",
       "      <th>Protein_modality_weight</th>\n",
       "      <th>dataset</th>\n",
       "    </tr>\n",
       "  </thead>\n",
       "  <tbody>\n",
       "    <tr>\n",
       "      <th>AAACCTGAGATGGCGT-H2-caiy2022</th>\n",
       "      <td>CaiY_2021</td>\n",
       "      <td>SAMN14048020</td>\n",
       "      <td>PBMC_HC_2</td>\n",
       "      <td>PBMC</td>\n",
       "      <td>SAMN14048020</td>\n",
       "      <td>30</td>\n",
       "      <td>male</td>\n",
       "      <td>Healthy</td>\n",
       "      <td>scRNAseq</td>\n",
       "      <td>Shenzhen University</td>\n",
       "      <td>...</td>\n",
       "      <td>NaN</td>\n",
       "      <td>NaN</td>\n",
       "      <td>NaN</td>\n",
       "      <td>NaN</td>\n",
       "      <td>NaN</td>\n",
       "      <td>NaN</td>\n",
       "      <td>NaN</td>\n",
       "      <td>NaN</td>\n",
       "      <td>NaN</td>\n",
       "      <td>caiy2022</td>\n",
       "    </tr>\n",
       "    <tr>\n",
       "      <th>AAACCTGAGATGTGTA-H2-caiy2022</th>\n",
       "      <td>CaiY_2021</td>\n",
       "      <td>SAMN14048020</td>\n",
       "      <td>PBMC_HC_2</td>\n",
       "      <td>PBMC</td>\n",
       "      <td>SAMN14048020</td>\n",
       "      <td>30</td>\n",
       "      <td>male</td>\n",
       "      <td>Healthy</td>\n",
       "      <td>scRNAseq</td>\n",
       "      <td>Shenzhen University</td>\n",
       "      <td>...</td>\n",
       "      <td>NaN</td>\n",
       "      <td>NaN</td>\n",
       "      <td>NaN</td>\n",
       "      <td>NaN</td>\n",
       "      <td>NaN</td>\n",
       "      <td>NaN</td>\n",
       "      <td>NaN</td>\n",
       "      <td>NaN</td>\n",
       "      <td>NaN</td>\n",
       "      <td>caiy2022</td>\n",
       "    </tr>\n",
       "    <tr>\n",
       "      <th>AAACCTGAGCAACGGT-H2-caiy2022</th>\n",
       "      <td>CaiY_2021</td>\n",
       "      <td>SAMN14048020</td>\n",
       "      <td>PBMC_HC_2</td>\n",
       "      <td>PBMC</td>\n",
       "      <td>SAMN14048020</td>\n",
       "      <td>30</td>\n",
       "      <td>male</td>\n",
       "      <td>Healthy</td>\n",
       "      <td>scRNAseq</td>\n",
       "      <td>Shenzhen University</td>\n",
       "      <td>...</td>\n",
       "      <td>NaN</td>\n",
       "      <td>NaN</td>\n",
       "      <td>NaN</td>\n",
       "      <td>NaN</td>\n",
       "      <td>NaN</td>\n",
       "      <td>NaN</td>\n",
       "      <td>NaN</td>\n",
       "      <td>NaN</td>\n",
       "      <td>NaN</td>\n",
       "      <td>caiy2022</td>\n",
       "    </tr>\n",
       "    <tr>\n",
       "      <th>AAACCTGAGCCATCGC-H2-caiy2022</th>\n",
       "      <td>CaiY_2021</td>\n",
       "      <td>SAMN14048020</td>\n",
       "      <td>PBMC_HC_2</td>\n",
       "      <td>PBMC</td>\n",
       "      <td>SAMN14048020</td>\n",
       "      <td>30</td>\n",
       "      <td>male</td>\n",
       "      <td>Healthy</td>\n",
       "      <td>scRNAseq</td>\n",
       "      <td>Shenzhen University</td>\n",
       "      <td>...</td>\n",
       "      <td>NaN</td>\n",
       "      <td>NaN</td>\n",
       "      <td>NaN</td>\n",
       "      <td>NaN</td>\n",
       "      <td>NaN</td>\n",
       "      <td>NaN</td>\n",
       "      <td>NaN</td>\n",
       "      <td>NaN</td>\n",
       "      <td>NaN</td>\n",
       "      <td>caiy2022</td>\n",
       "    </tr>\n",
       "    <tr>\n",
       "      <th>AAACCTGAGGTGATTA-H2-caiy2022</th>\n",
       "      <td>CaiY_2021</td>\n",
       "      <td>SAMN14048020</td>\n",
       "      <td>PBMC_HC_2</td>\n",
       "      <td>PBMC</td>\n",
       "      <td>SAMN14048020</td>\n",
       "      <td>30</td>\n",
       "      <td>male</td>\n",
       "      <td>Healthy</td>\n",
       "      <td>scRNAseq</td>\n",
       "      <td>Shenzhen University</td>\n",
       "      <td>...</td>\n",
       "      <td>NaN</td>\n",
       "      <td>NaN</td>\n",
       "      <td>NaN</td>\n",
       "      <td>NaN</td>\n",
       "      <td>NaN</td>\n",
       "      <td>NaN</td>\n",
       "      <td>NaN</td>\n",
       "      <td>NaN</td>\n",
       "      <td>NaN</td>\n",
       "      <td>caiy2022</td>\n",
       "    </tr>\n",
       "    <tr>\n",
       "      <th>...</th>\n",
       "      <td>...</td>\n",
       "      <td>...</td>\n",
       "      <td>...</td>\n",
       "      <td>...</td>\n",
       "      <td>...</td>\n",
       "      <td>...</td>\n",
       "      <td>...</td>\n",
       "      <td>...</td>\n",
       "      <td>...</td>\n",
       "      <td>...</td>\n",
       "      <td>...</td>\n",
       "      <td>...</td>\n",
       "      <td>...</td>\n",
       "      <td>...</td>\n",
       "      <td>...</td>\n",
       "      <td>...</td>\n",
       "      <td>...</td>\n",
       "      <td>...</td>\n",
       "      <td>...</td>\n",
       "      <td>...</td>\n",
       "      <td>...</td>\n",
       "    </tr>\n",
       "    <tr>\n",
       "      <th>S22_TTTGTCAGTCGCATCG-1-yoshida2021</th>\n",
       "      <td>NaN</td>\n",
       "      <td>NaN</td>\n",
       "      <td>NaN</td>\n",
       "      <td>NaN</td>\n",
       "      <td>NaN</td>\n",
       "      <td>NaN</td>\n",
       "      <td>NaN</td>\n",
       "      <td>NaN</td>\n",
       "      <td>NaN</td>\n",
       "      <td>NaN</td>\n",
       "      <td>...</td>\n",
       "      <td>Adolescent</td>\n",
       "      <td>Healthy</td>\n",
       "      <td>Healthy</td>\n",
       "      <td>Paediatric</td>\n",
       "      <td>Male</td>\n",
       "      <td>Non-smoker</td>\n",
       "      <td>NP32</td>\n",
       "      <td>CV001_KM9166642-CV001_KM9166650</td>\n",
       "      <td>0.343914</td>\n",
       "      <td>yoshida2021</td>\n",
       "    </tr>\n",
       "    <tr>\n",
       "      <th>S22_TTTGTCAGTGTAAGTA-1-yoshida2021</th>\n",
       "      <td>NaN</td>\n",
       "      <td>NaN</td>\n",
       "      <td>NaN</td>\n",
       "      <td>NaN</td>\n",
       "      <td>NaN</td>\n",
       "      <td>NaN</td>\n",
       "      <td>NaN</td>\n",
       "      <td>NaN</td>\n",
       "      <td>NaN</td>\n",
       "      <td>NaN</td>\n",
       "      <td>...</td>\n",
       "      <td>Adolescent</td>\n",
       "      <td>Healthy</td>\n",
       "      <td>Healthy</td>\n",
       "      <td>Paediatric</td>\n",
       "      <td>Male</td>\n",
       "      <td>Non-smoker</td>\n",
       "      <td>NP32</td>\n",
       "      <td>CV001_KM9166642-CV001_KM9166650</td>\n",
       "      <td>0.264285</td>\n",
       "      <td>yoshida2021</td>\n",
       "    </tr>\n",
       "    <tr>\n",
       "      <th>S22_TTTGTCATCATGTCCC-1-yoshida2021</th>\n",
       "      <td>NaN</td>\n",
       "      <td>NaN</td>\n",
       "      <td>NaN</td>\n",
       "      <td>NaN</td>\n",
       "      <td>NaN</td>\n",
       "      <td>NaN</td>\n",
       "      <td>NaN</td>\n",
       "      <td>NaN</td>\n",
       "      <td>NaN</td>\n",
       "      <td>NaN</td>\n",
       "      <td>...</td>\n",
       "      <td>Child</td>\n",
       "      <td>Healthy</td>\n",
       "      <td>Healthy</td>\n",
       "      <td>Paediatric</td>\n",
       "      <td>Male</td>\n",
       "      <td>Non-smoker</td>\n",
       "      <td>NP31</td>\n",
       "      <td>CV001_KM9166642-CV001_KM9166650</td>\n",
       "      <td>0.353094</td>\n",
       "      <td>yoshida2021</td>\n",
       "    </tr>\n",
       "    <tr>\n",
       "      <th>S22_TTTGTCATCGAGGTAG-1-yoshida2021</th>\n",
       "      <td>NaN</td>\n",
       "      <td>NaN</td>\n",
       "      <td>NaN</td>\n",
       "      <td>NaN</td>\n",
       "      <td>NaN</td>\n",
       "      <td>NaN</td>\n",
       "      <td>NaN</td>\n",
       "      <td>NaN</td>\n",
       "      <td>NaN</td>\n",
       "      <td>NaN</td>\n",
       "      <td>...</td>\n",
       "      <td>Child</td>\n",
       "      <td>Healthy</td>\n",
       "      <td>Healthy</td>\n",
       "      <td>Paediatric</td>\n",
       "      <td>Male</td>\n",
       "      <td>Non-smoker</td>\n",
       "      <td>NP31</td>\n",
       "      <td>CV001_KM9166642-CV001_KM9166650</td>\n",
       "      <td>0.611991</td>\n",
       "      <td>yoshida2021</td>\n",
       "    </tr>\n",
       "    <tr>\n",
       "      <th>S22_TTTGTCATCTGCTGCT-1-yoshida2021</th>\n",
       "      <td>NaN</td>\n",
       "      <td>NaN</td>\n",
       "      <td>NaN</td>\n",
       "      <td>NaN</td>\n",
       "      <td>NaN</td>\n",
       "      <td>NaN</td>\n",
       "      <td>NaN</td>\n",
       "      <td>NaN</td>\n",
       "      <td>NaN</td>\n",
       "      <td>NaN</td>\n",
       "      <td>...</td>\n",
       "      <td>Adolescent</td>\n",
       "      <td>Healthy</td>\n",
       "      <td>Healthy</td>\n",
       "      <td>Paediatric</td>\n",
       "      <td>Male</td>\n",
       "      <td>Non-smoker</td>\n",
       "      <td>NP32</td>\n",
       "      <td>CV001_KM9166642-CV001_KM9166650</td>\n",
       "      <td>0.437217</td>\n",
       "      <td>yoshida2021</td>\n",
       "    </tr>\n",
       "  </tbody>\n",
       "</table>\n",
       "<p>195733 rows × 42 columns</p>\n",
       "</div>"
      ],
      "text/plain": [
       "                                        study    individual     sample tissue   \n",
       "AAACCTGAGATGGCGT-H2-caiy2022        CaiY_2021  SAMN14048020  PBMC_HC_2   PBMC  \\\n",
       "AAACCTGAGATGTGTA-H2-caiy2022        CaiY_2021  SAMN14048020  PBMC_HC_2   PBMC   \n",
       "AAACCTGAGCAACGGT-H2-caiy2022        CaiY_2021  SAMN14048020  PBMC_HC_2   PBMC   \n",
       "AAACCTGAGCCATCGC-H2-caiy2022        CaiY_2021  SAMN14048020  PBMC_HC_2   PBMC   \n",
       "AAACCTGAGGTGATTA-H2-caiy2022        CaiY_2021  SAMN14048020  PBMC_HC_2   PBMC   \n",
       "...                                       ...           ...        ...    ...   \n",
       "S22_TTTGTCAGTCGCATCG-1-yoshida2021        NaN           NaN        NaN    NaN   \n",
       "S22_TTTGTCAGTGTAAGTA-1-yoshida2021        NaN           NaN        NaN    NaN   \n",
       "S22_TTTGTCATCATGTCCC-1-yoshida2021        NaN           NaN        NaN    NaN   \n",
       "S22_TTTGTCATCGAGGTAG-1-yoshida2021        NaN           NaN        NaN    NaN   \n",
       "S22_TTTGTCATCTGCTGCT-1-yoshida2021        NaN           NaN        NaN    NaN   \n",
       "\n",
       "                                           donor  age gender   status   \n",
       "AAACCTGAGATGGCGT-H2-caiy2022        SAMN14048020   30   male  Healthy  \\\n",
       "AAACCTGAGATGTGTA-H2-caiy2022        SAMN14048020   30   male  Healthy   \n",
       "AAACCTGAGCAACGGT-H2-caiy2022        SAMN14048020   30   male  Healthy   \n",
       "AAACCTGAGCCATCGC-H2-caiy2022        SAMN14048020   30   male  Healthy   \n",
       "AAACCTGAGGTGATTA-H2-caiy2022        SAMN14048020   30   male  Healthy   \n",
       "...                                          ...  ...    ...      ...   \n",
       "S22_TTTGTCAGTCGCATCG-1-yoshida2021           NaN  NaN    NaN      NaN   \n",
       "S22_TTTGTCAGTGTAAGTA-1-yoshida2021           NaN  NaN    NaN      NaN   \n",
       "S22_TTTGTCATCATGTCCC-1-yoshida2021           NaN  NaN    NaN      NaN   \n",
       "S22_TTTGTCATCGAGGTAG-1-yoshida2021           NaN  NaN    NaN      NaN   \n",
       "S22_TTTGTCATCTGCTGCT-1-yoshida2021           NaN  NaN    NaN      NaN   \n",
       "\n",
       "                                   data_type               centre  ...   \n",
       "AAACCTGAGATGGCGT-H2-caiy2022        scRNAseq  Shenzhen University  ...  \\\n",
       "AAACCTGAGATGTGTA-H2-caiy2022        scRNAseq  Shenzhen University  ...   \n",
       "AAACCTGAGCAACGGT-H2-caiy2022        scRNAseq  Shenzhen University  ...   \n",
       "AAACCTGAGCCATCGC-H2-caiy2022        scRNAseq  Shenzhen University  ...   \n",
       "AAACCTGAGGTGATTA-H2-caiy2022        scRNAseq  Shenzhen University  ...   \n",
       "...                                      ...                  ...  ...   \n",
       "S22_TTTGTCAGTCGCATCG-1-yoshida2021       NaN                  NaN  ...   \n",
       "S22_TTTGTCAGTGTAAGTA-1-yoshida2021       NaN                  NaN  ...   \n",
       "S22_TTTGTCATCATGTCCC-1-yoshida2021       NaN                  NaN  ...   \n",
       "S22_TTTGTCATCGAGGTAG-1-yoshida2021       NaN                  NaN  ...   \n",
       "S22_TTTGTCATCTGCTGCT-1-yoshida2021       NaN                  NaN  ...   \n",
       "\n",
       "                                     Age_group COVID_severity  COVID_status   \n",
       "AAACCTGAGATGGCGT-H2-caiy2022               NaN            NaN           NaN  \\\n",
       "AAACCTGAGATGTGTA-H2-caiy2022               NaN            NaN           NaN   \n",
       "AAACCTGAGCAACGGT-H2-caiy2022               NaN            NaN           NaN   \n",
       "AAACCTGAGCCATCGC-H2-caiy2022               NaN            NaN           NaN   \n",
       "AAACCTGAGGTGATTA-H2-caiy2022               NaN            NaN           NaN   \n",
       "...                                        ...            ...           ...   \n",
       "S22_TTTGTCAGTCGCATCG-1-yoshida2021  Adolescent        Healthy       Healthy   \n",
       "S22_TTTGTCAGTGTAAGTA-1-yoshida2021  Adolescent        Healthy       Healthy   \n",
       "S22_TTTGTCATCATGTCCC-1-yoshida2021       Child        Healthy       Healthy   \n",
       "S22_TTTGTCATCGAGGTAG-1-yoshida2021       Child        Healthy       Healthy   \n",
       "S22_TTTGTCATCTGCTGCT-1-yoshida2021  Adolescent        Healthy       Healthy   \n",
       "\n",
       "                                         Group   Sex      Smoker  sample_id   \n",
       "AAACCTGAGATGGCGT-H2-caiy2022               NaN   NaN         NaN        NaN  \\\n",
       "AAACCTGAGATGTGTA-H2-caiy2022               NaN   NaN         NaN        NaN   \n",
       "AAACCTGAGCAACGGT-H2-caiy2022               NaN   NaN         NaN        NaN   \n",
       "AAACCTGAGCCATCGC-H2-caiy2022               NaN   NaN         NaN        NaN   \n",
       "AAACCTGAGGTGATTA-H2-caiy2022               NaN   NaN         NaN        NaN   \n",
       "...                                        ...   ...         ...        ...   \n",
       "S22_TTTGTCAGTCGCATCG-1-yoshida2021  Paediatric  Male  Non-smoker       NP32   \n",
       "S22_TTTGTCAGTGTAAGTA-1-yoshida2021  Paediatric  Male  Non-smoker       NP32   \n",
       "S22_TTTGTCATCATGTCCC-1-yoshida2021  Paediatric  Male  Non-smoker       NP31   \n",
       "S22_TTTGTCATCGAGGTAG-1-yoshida2021  Paediatric  Male  Non-smoker       NP31   \n",
       "S22_TTTGTCATCTGCTGCT-1-yoshida2021  Paediatric  Male  Non-smoker       NP32   \n",
       "\n",
       "                                                 sequencing_library   \n",
       "AAACCTGAGATGGCGT-H2-caiy2022                                    NaN  \\\n",
       "AAACCTGAGATGTGTA-H2-caiy2022                                    NaN   \n",
       "AAACCTGAGCAACGGT-H2-caiy2022                                    NaN   \n",
       "AAACCTGAGCCATCGC-H2-caiy2022                                    NaN   \n",
       "AAACCTGAGGTGATTA-H2-caiy2022                                    NaN   \n",
       "...                                                             ...   \n",
       "S22_TTTGTCAGTCGCATCG-1-yoshida2021  CV001_KM9166642-CV001_KM9166650   \n",
       "S22_TTTGTCAGTGTAAGTA-1-yoshida2021  CV001_KM9166642-CV001_KM9166650   \n",
       "S22_TTTGTCATCATGTCCC-1-yoshida2021  CV001_KM9166642-CV001_KM9166650   \n",
       "S22_TTTGTCATCGAGGTAG-1-yoshida2021  CV001_KM9166642-CV001_KM9166650   \n",
       "S22_TTTGTCATCTGCTGCT-1-yoshida2021  CV001_KM9166642-CV001_KM9166650   \n",
       "\n",
       "                                    Protein_modality_weight      dataset  \n",
       "AAACCTGAGATGGCGT-H2-caiy2022                            NaN     caiy2022  \n",
       "AAACCTGAGATGTGTA-H2-caiy2022                            NaN     caiy2022  \n",
       "AAACCTGAGCAACGGT-H2-caiy2022                            NaN     caiy2022  \n",
       "AAACCTGAGCCATCGC-H2-caiy2022                            NaN     caiy2022  \n",
       "AAACCTGAGGTGATTA-H2-caiy2022                            NaN     caiy2022  \n",
       "...                                                     ...          ...  \n",
       "S22_TTTGTCAGTCGCATCG-1-yoshida2021                 0.343914  yoshida2021  \n",
       "S22_TTTGTCAGTGTAAGTA-1-yoshida2021                 0.264285  yoshida2021  \n",
       "S22_TTTGTCATCATGTCCC-1-yoshida2021                 0.353094  yoshida2021  \n",
       "S22_TTTGTCATCGAGGTAG-1-yoshida2021                 0.611991  yoshida2021  \n",
       "S22_TTTGTCATCTGCTGCT-1-yoshida2021                 0.437217  yoshida2021  \n",
       "\n",
       "[195733 rows x 42 columns]"
      ]
     },
     "execution_count": 15,
     "metadata": {},
     "output_type": "execute_result"
    }
   ],
   "source": [
    "adata_healthy.obs"
   ]
  },
  {
   "attachments": {},
   "cell_type": "markdown",
   "metadata": {},
   "source": [
    "### Harmonize dataset labels"
   ]
  },
  {
   "cell_type": "code",
   "execution_count": 18,
   "metadata": {},
   "outputs": [
    {
     "data": {
      "text/plain": [
       "AAACCTGAGATGGCGT-H2-caiy2022           True\n",
       "AAACCTGAGATGTGTA-H2-caiy2022           True\n",
       "AAACCTGAGCAACGGT-H2-caiy2022           True\n",
       "AAACCTGAGCCATCGC-H2-caiy2022           True\n",
       "AAACCTGAGGTGATTA-H2-caiy2022           True\n",
       "                                      ...  \n",
       "S22_TTTGTCAGTCGCATCG-1-yoshida2021    False\n",
       "S22_TTTGTCAGTGTAAGTA-1-yoshida2021    False\n",
       "S22_TTTGTCATCATGTCCC-1-yoshida2021    False\n",
       "S22_TTTGTCATCGAGGTAG-1-yoshida2021    False\n",
       "S22_TTTGTCATCTGCTGCT-1-yoshida2021    False\n",
       "Name: tissue, Length: 195733, dtype: bool"
      ]
     },
     "execution_count": 18,
     "metadata": {},
     "output_type": "execute_result"
    }
   ],
   "source": [
    "# tissue\n",
    "adata_healthy.obs['tissue'] == 'PBMC'"
   ]
  },
  {
   "cell_type": "code",
   "execution_count": null,
   "metadata": {},
   "outputs": [],
   "source": [
    "# donor - 2 from Cai \"donor\" and X from Yoshida \"sample_id\"\n"
   ]
  },
  {
   "cell_type": "markdown",
   "metadata": {},
   "source": [
    "### Calculate HVGs"
   ]
  },
  {
   "cell_type": "code",
   "execution_count": null,
   "metadata": {},
   "outputs": [],
   "source": [
    "adata = adata_healthy.copy()\n",
    "adata.layers['counts'] = adata.X.copy()"
   ]
  },
  {
   "cell_type": "code",
   "execution_count": null,
   "metadata": {},
   "outputs": [],
   "source": [
    "# Comment from Carlos: \"Is \"dataset\" the most important covariate here?\"\n",
    "\n",
    "sc.pp.highly_variable_genes(adata,\n",
    "    flavor = \"seurat_v3\", \n",
    "    n_top_genes = 3000, \n",
    "    layer = \"counts\", \n",
    "    batch_key = \"dataset\", \n",
    "    subset = True\n",
    ")"
   ]
  },
  {
   "cell_type": "markdown",
   "metadata": {},
   "source": [
    "#### Remove unrequired variables prior to model run"
   ]
  },
  {
   "cell_type": "code",
   "execution_count": null,
   "metadata": {},
   "outputs": [],
   "source": [
    "del caiy2020\n",
    "del caiy2022\n",
    "del adata_yoshida"
   ]
  },
  {
   "cell_type": "markdown",
   "metadata": {},
   "source": [
    "### Integration with scVI\n"
   ]
  },
  {
   "cell_type": "code",
   "execution_count": null,
   "metadata": {},
   "outputs": [],
   "source": [
    "scvi.model.SCVI.setup_anndata(adata, layer=\"counts\", batch_key=\"dataset\")"
   ]
  },
  {
   "cell_type": "code",
   "execution_count": null,
   "metadata": {},
   "outputs": [],
   "source": [
    "vae = scvi.model.SCVI(adata, n_layers=3, n_latent=50, gene_likelihood=\"nb\", dispersion=\"gene-batch\")"
   ]
  },
  {
   "cell_type": "code",
   "execution_count": null,
   "metadata": {},
   "outputs": [],
   "source": [
    "scvi.model.SCVI.view_anndata_setup(vae)"
   ]
  },
  {
   "cell_type": "code",
   "execution_count": null,
   "metadata": {},
   "outputs": [],
   "source": [
    "vae.train()"
   ]
  },
  {
   "cell_type": "code",
   "execution_count": null,
   "metadata": {},
   "outputs": [],
   "source": [
    "adata.obsm[\"X_scVI\"] = vae.get_latent_representation()"
   ]
  },
  {
   "cell_type": "code",
   "execution_count": null,
   "metadata": {},
   "outputs": [],
   "source": [
    "# Add random state command for neighbors and leiden\n",
    "\n",
    "sc.pp.neighbors(adata, n_neighbors=50, use_rep=\"X_scVI\")\n",
    "sc.tl.leiden(adata, resolution=1)\n",
    "\n",
    "# Why is the spread of 8 used?\n",
    "\n",
    "sc.tl.umap(adata, min_dist=0.5, spread=8, random_state=0)"
   ]
  },
  {
   "cell_type": "code",
   "execution_count": null,
   "metadata": {},
   "outputs": [],
   "source": [
    "plt.figure(figsize = (5, 5))"
   ]
  },
  {
   "cell_type": "code",
   "execution_count": null,
   "metadata": {},
   "outputs": [],
   "source": [
    "sc.pl.umap(\n",
    "    adata,\n",
    "    color=[\"leiden\", \"tissue\", \"dataset\", \"donor\"],\n",
    "    frameon=False,\n",
    "    ncols=4,\n",
    "    size=4\n",
    ")\n"
   ]
  },
  {
   "attachments": {},
   "cell_type": "markdown",
   "metadata": {},
   "source": [
    "### SCCAF clustering analysis"
   ]
  },
  {
   "cell_type": "code",
   "execution_count": null,
   "metadata": {},
   "outputs": [],
   "source": [
    "import SCCAF as sccaf\n",
    "from SCCAF import SCCAF_assessment, plot_roc"
   ]
  },
  {
   "cell_type": "code",
   "execution_count": null,
   "metadata": {},
   "outputs": [],
   "source": [
    "# Resolution on a scale from 0 to 1\n",
    "\n",
    "# Comment from Carlos: Why am I running leiden here again?\n",
    "\n",
    "sc.tl.leiden(adata, resolution = 1.0, random_state = 1786)"
   ]
  },
  {
   "cell_type": "code",
   "execution_count": null,
   "metadata": {},
   "outputs": [],
   "source": [
    "# clf ? \n",
    "# cvsm ?\n",
    "\n",
    "y_prob, y_pred, y_test, clf, cvsm, acc = SCCAF_assessment(adata.X, adata.obs['leiden'], n = 100)\n",
    "\n"
   ]
  },
  {
   "cell_type": "code",
   "execution_count": null,
   "metadata": {},
   "outputs": [],
   "source": [
    "plot_roc(y_prob, y_test, clf, cvsm = cvsm, acc = acc)\n",
    "\n",
    "plt.subplots_adjust(left=0.1,\n",
    "                    bottom=0.1,\n",
    "                    right=0.9,\n",
    "                    top=0.9,\n",
    "                    wspace=1.5,\n",
    "                    hspace=1.5)\n",
    "\n",
    "plt.show()"
   ]
  },
  {
   "cell_type": "code",
   "execution_count": null,
   "metadata": {},
   "outputs": [],
   "source": [
    "# Comment from Carlos - what is wrong with the plotting function?"
   ]
  },
  {
   "cell_type": "code",
   "execution_count": null,
   "metadata": {},
   "outputs": [],
   "source": [
    "# Markers chosen here are of interest in healthy blood cells\n",
    "# Removed due to \"could not find\" error: 'FOXI1'\n",
    "\n",
    "# Please do not use the viridis palette as I can't really see it. Please use either magma or RdPu.\n",
    "\n",
    "sc.pl.umap(adata, frameon = False, color = ['leiden', 'CD74', 'CDH1', 'CD3E', 'DUSP4'], size = 0.8, legend_fontsize = 5, legend_loc = 'on data')"
   ]
  },
  {
   "cell_type": "markdown",
   "metadata": {},
   "source": [
    "### Export clustered object"
   ]
  },
  {
   "cell_type": "code",
   "execution_count": null,
   "metadata": {},
   "outputs": [],
   "source": [
    "adata"
   ]
  },
  {
   "cell_type": "code",
   "execution_count": null,
   "metadata": {},
   "outputs": [],
   "source": [
    "adata_healthy"
   ]
  },
  {
   "cell_type": "code",
   "execution_count": null,
   "metadata": {},
   "outputs": [],
   "source": [
    "# Making a hybrid anndata object using sections from both original anndata object and the cai_tb_gex object\n",
    "adata_export = anndata.AnnData(X = adata_healthy.X, var = adata_healthy.var, obs = adata.obs, uns = adata.uns, obsm = adata.obsm, layers = adata_healthy.layers, obsp = adata.obsp)\n",
    "adata_export"
   ]
  },
  {
   "cell_type": "code",
   "execution_count": null,
   "metadata": {},
   "outputs": [],
   "source": [
    "adata_export.write('/Volumes/Lacie/data_lake/Mairi_example/processed_files/scvi/post_sccaf/CaiY_Yoshida_healthy_scRNA_PBMC_mm230426_scVI-clustered.raw.h5ad')\n"
   ]
  },
  {
   "cell_type": "code",
   "execution_count": null,
   "metadata": {},
   "outputs": [],
   "source": []
  }
 ],
 "metadata": {
  "kernelspec": {
   "display_name": "scvi_sccaf_local",
   "language": "python",
   "name": "python3"
  },
  "language_info": {
   "codemirror_mode": {
    "name": "ipython",
    "version": 3
   },
   "file_extension": ".py",
   "mimetype": "text/x-python",
   "name": "python",
   "nbconvert_exporter": "python",
   "pygments_lexer": "ipython3",
   "version": "3.9.16"
  },
  "orig_nbformat": 4
 },
 "nbformat": 4,
 "nbformat_minor": 2
}
