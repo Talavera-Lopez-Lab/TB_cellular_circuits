{
 "cells": [
  {
   "attachments": {},
   "cell_type": "markdown",
   "metadata": {},
   "source": [
    "## scVI data integration for healthy PBMC pilot study (Cai 2020 and Cai 2022)\n",
    "\n",
    "**Objective**: Run scVI data integration model for healthy PBMCs [Cai 2020 and Cai 2022]\n",
    "\n",
    "\n",
    "- **Developed by**: Mairi McClean\n",
    "\n",
    "- **Institute of Computational Biology - Computational Health Centre - Helmholtz Munich**\n",
    "\n",
    "- v230321\n",
    "\n",
    "- Following this tutorial:https://docs.scvi-tools.org/en/stable/tutorials/notebooks/harmonization.html\n",
    "\n"
   ]
  },
  {
   "cell_type": "code",
   "execution_count": 1,
   "metadata": {},
   "outputs": [
    {
     "name": "stderr",
     "output_type": "stream",
     "text": [
      "/Users/mairi.mcclean/mambaforge/envs/scanvi_local/lib/python3.10/site-packages/scvi_colab/_core.py:41: UserWarning: \n",
      "                Not currently in Google Colab environment.\n",
      "\n",
      "                Please run with `run_outside_colab=True` to override.\n",
      "\n",
      "                Returning with no further action.\n",
      "                \n",
      "  warn(\n"
     ]
    }
   ],
   "source": [
    "!pip install --quiet scvi-colab\n",
    "!pip install --quiet scib-metrics\n",
    "from scvi_colab import install\n",
    "\n",
    "install()"
   ]
  },
  {
   "cell_type": "code",
   "execution_count": 2,
   "metadata": {},
   "outputs": [
    {
     "name": "stderr",
     "output_type": "stream",
     "text": [
      "Global seed set to 0\n",
      "/Users/mairi.mcclean/mambaforge/envs/scanvi_local/lib/python3.10/site-packages/tqdm/auto.py:21: TqdmWarning: IProgress not found. Please update jupyter and ipywidgets. See https://ipywidgets.readthedocs.io/en/stable/user_install.html\n",
      "  from .autonotebook import tqdm as notebook_tqdm\n",
      "/Users/mairi.mcclean/mambaforge/envs/scanvi_local/lib/python3.10/site-packages/flax/struct.py:132: FutureWarning: jax.tree_util.register_keypaths is deprecated, and will be removed in a future release. Please use `register_pytree_with_keys()` instead.\n",
      "  jax.tree_util.register_keypaths(data_clz, keypaths)\n",
      "/Users/mairi.mcclean/mambaforge/envs/scanvi_local/lib/python3.10/site-packages/flax/struct.py:132: FutureWarning: jax.tree_util.register_keypaths is deprecated, and will be removed in a future release. Please use `register_pytree_with_keys()` instead.\n",
      "  jax.tree_util.register_keypaths(data_clz, keypaths)\n"
     ]
    }
   ],
   "source": [
    "import scanpy as sc\n",
    "import scvi\n",
    "from rich import print\n",
    "from scib_metrics.benchmark import Benchmarker\n",
    "from scvi.model.utils import mde\n",
    "from scvi_colab import install"
   ]
  },
  {
   "cell_type": "code",
   "execution_count": 3,
   "metadata": {},
   "outputs": [],
   "source": [
    "sc.set_figure_params(figsize=(4, 4))\n",
    "\n",
    "%config InlineBackend.print_figure_kwargs={'facecolor' : \"w\"}\n",
    "%config InlineBackend.figure_format='retina'"
   ]
  },
  {
   "attachments": {},
   "cell_type": "markdown",
   "metadata": {},
   "source": [
    "## Read in datasets for integration\n",
    "> Cai 2020 + Cai 2022"
   ]
  },
  {
   "cell_type": "markdown",
   "metadata": {},
   "source": [
    "### Read in datasets"
   ]
  },
  {
   "cell_type": "markdown",
   "metadata": {},
   "source": [
    "- Read in _Cai Y et al 2020_"
   ]
  },
  {
   "cell_type": "code",
   "execution_count": 4,
   "metadata": {},
   "outputs": [
    {
     "data": {
      "text/plain": [
       "AnnData object with n_obs × n_vars = 73146 × 61533\n",
       "    obs: 'study', 'individual', 'sample', 'tissue', 'donor', 'age', 'gender', 'status', 'data_type', 'centre', 'version', 'batch', 'n_genes', 'n_genes_by_counts', 'total_counts', 'total_counts_mt', 'pct_counts_mt', 'total_counts_ribo', 'pct_counts_ribo', 'percent_mt2', 'n_counts', 'percent_chrY', 'XIST-counts', 'S_score', 'G2M_score', 'predicted_doublets'\n",
       "    var: 'gene_id', 'mt', 'ribo', 'n_cells_by_counts', 'mean_counts', 'pct_dropout_by_counts', 'total_counts'\n",
       "    uns: 'donor_colors'\n",
       "    layers: 'counts', 'sqrt_norm'"
      ]
     },
     "execution_count": 4,
     "metadata": {},
     "output_type": "execute_result"
    }
   ],
   "source": [
    "caiy2020 = sc.read_h5ad('/Volumes/Lacie/data_lake/Mairi_example/processed_files/abridged_qc/human/Cai2020_scRNA_PBMC_mm230315_qcd.h5ad')\n",
    "caiy2020"
   ]
  },
  {
   "cell_type": "code",
   "execution_count": 5,
   "metadata": {},
   "outputs": [
    {
     "data": {
      "text/plain": [
       "active_TB    33104\n",
       "Healthy      22049\n",
       "latent_TB    17993\n",
       "Name: status, dtype: int64"
      ]
     },
     "execution_count": 5,
     "metadata": {},
     "output_type": "execute_result"
    }
   ],
   "source": [
    "caiy2020.obs['status'].value_counts()"
   ]
  },
  {
   "cell_type": "markdown",
   "metadata": {},
   "source": [
    "- Read in _Cai Y et al 2022_"
   ]
  },
  {
   "cell_type": "code",
   "execution_count": 6,
   "metadata": {},
   "outputs": [
    {
     "data": {
      "text/plain": [
       "AnnData object with n_obs × n_vars = 25417 × 61533\n",
       "    obs: 'study', 'individual', 'sample', 'tissue', 'donor', 'data_type', 'centre', 'version', 'object', 'protocol', 'n_genes', 'n_genes_by_counts', 'total_counts', 'total_counts_mt', 'pct_counts_mt', 'total_counts_ribo', 'pct_counts_ribo', 'percent_mt2', 'n_counts', 'percent_chrY', 'XIST-counts', 'S_score', 'G2M_score', 'predicted_doublets', 'status'\n",
       "    var: 'gene_id', 'mt', 'ribo', 'n_cells_by_counts', 'mean_counts', 'pct_dropout_by_counts', 'total_counts'\n",
       "    uns: 'donor_colors', 'sample_colors'\n",
       "    layers: 'counts', 'sqrt_norm'"
      ]
     },
     "execution_count": 6,
     "metadata": {},
     "output_type": "execute_result"
    }
   ],
   "source": [
    "caiy2022 = sc.read_h5ad('/Volumes/Lacie/data_lake/Mairi_example/processed_files/abridged_qc/human/Cai2022_scRNA_PBMC_mm230315_qcd.h5ad')\n",
    "caiy2022.obs['status'] = 'active_TB'\n",
    "caiy2022"
   ]
  },
  {
   "cell_type": "code",
   "execution_count": 7,
   "metadata": {},
   "outputs": [
    {
     "data": {
      "text/plain": [
       "active_TB    25417\n",
       "Name: status, dtype: int64"
      ]
     },
     "execution_count": 7,
     "metadata": {},
     "output_type": "execute_result"
    }
   ],
   "source": [
    "# So Cai2022 has no healthy controls? Publication suggests that all samples were taken from either TPE, pneumonia, or lung cancer\n",
    "\n",
    "caiy2022.obs['status'].value_counts()"
   ]
  },
  {
   "cell_type": "markdown",
   "metadata": {},
   "source": [
    "### Merge datasets"
   ]
  },
  {
   "cell_type": "code",
   "execution_count": 8,
   "metadata": {},
   "outputs": [
    {
     "name": "stderr",
     "output_type": "stream",
     "text": [
      "/Users/mairi.mcclean/mambaforge/envs/scanvi_local/lib/python3.10/site-packages/anndata/_core/anndata.py:1785: FutureWarning: X.dtype being converted to np.float32 from float64. In the next version of anndata (0.9) conversion will not be automatic. Pass dtype explicitly to avoid this warning. Pass `AnnData(X, dtype=X.dtype, ...)` to get the future behavour.\n",
      "  [AnnData(sparse.csr_matrix(a.shape), obs=a.obs) for a in all_adatas],\n",
      "/Users/mairi.mcclean/mambaforge/envs/scanvi_local/lib/python3.10/site-packages/anndata/_core/anndata.py:1785: FutureWarning: X.dtype being converted to np.float32 from float64. In the next version of anndata (0.9) conversion will not be automatic. Pass dtype explicitly to avoid this warning. Pass `AnnData(X, dtype=X.dtype, ...)` to get the future behavour.\n",
      "  [AnnData(sparse.csr_matrix(a.shape), obs=a.obs) for a in all_adatas],\n"
     ]
    },
    {
     "data": {
      "text/plain": [
       "AnnData object with n_obs × n_vars = 98563 × 61533\n",
       "    obs: 'study', 'individual', 'sample', 'tissue', 'donor', 'age', 'gender', 'status', 'data_type', 'centre', 'version', 'batch', 'n_genes', 'n_genes_by_counts', 'total_counts', 'total_counts_mt', 'pct_counts_mt', 'total_counts_ribo', 'pct_counts_ribo', 'percent_mt2', 'n_counts', 'percent_chrY', 'XIST-counts', 'S_score', 'G2M_score', 'predicted_doublets', 'object', 'protocol', 'dataset'\n",
       "    var: 'gene_id', 'mt', 'ribo', 'n_cells_by_counts-caiy2020', 'mean_counts-caiy2020', 'pct_dropout_by_counts-caiy2020', 'total_counts-caiy2020', 'n_cells_by_counts-caiy2022', 'mean_counts-caiy2022', 'pct_dropout_by_counts-caiy2022', 'total_counts-caiy2022'\n",
       "    layers: 'counts', 'sqrt_norm'"
      ]
     },
     "execution_count": 8,
     "metadata": {},
     "output_type": "execute_result"
    }
   ],
   "source": [
    "caiy_tb = caiy2020.concatenate(caiy2022, batch_key = 'dataset', batch_categories = ['caiy2020', 'caiy2022'], join = 'inner')\n",
    "caiy_tb"
   ]
  },
  {
   "cell_type": "markdown",
   "metadata": {},
   "source": [
    "### Check that anndata object only contains PBMC scRNA from healthy donors"
   ]
  },
  {
   "cell_type": "code",
   "execution_count": 9,
   "metadata": {},
   "outputs": [
    {
     "data": {
      "text/html": [
       "<div>\n",
       "<style scoped>\n",
       "    .dataframe tbody tr th:only-of-type {\n",
       "        vertical-align: middle;\n",
       "    }\n",
       "\n",
       "    .dataframe tbody tr th {\n",
       "        vertical-align: top;\n",
       "    }\n",
       "\n",
       "    .dataframe thead th {\n",
       "        text-align: right;\n",
       "    }\n",
       "</style>\n",
       "<table border=\"1\" class=\"dataframe\">\n",
       "  <thead>\n",
       "    <tr style=\"text-align: right;\">\n",
       "      <th></th>\n",
       "      <th>study</th>\n",
       "      <th>individual</th>\n",
       "      <th>sample</th>\n",
       "      <th>tissue</th>\n",
       "      <th>donor</th>\n",
       "      <th>age</th>\n",
       "      <th>gender</th>\n",
       "      <th>status</th>\n",
       "      <th>data_type</th>\n",
       "      <th>centre</th>\n",
       "      <th>...</th>\n",
       "      <th>percent_mt2</th>\n",
       "      <th>n_counts</th>\n",
       "      <th>percent_chrY</th>\n",
       "      <th>XIST-counts</th>\n",
       "      <th>S_score</th>\n",
       "      <th>G2M_score</th>\n",
       "      <th>predicted_doublets</th>\n",
       "      <th>object</th>\n",
       "      <th>protocol</th>\n",
       "      <th>dataset</th>\n",
       "    </tr>\n",
       "    <tr>\n",
       "      <th>barcode</th>\n",
       "      <th></th>\n",
       "      <th></th>\n",
       "      <th></th>\n",
       "      <th></th>\n",
       "      <th></th>\n",
       "      <th></th>\n",
       "      <th></th>\n",
       "      <th></th>\n",
       "      <th></th>\n",
       "      <th></th>\n",
       "      <th></th>\n",
       "      <th></th>\n",
       "      <th></th>\n",
       "      <th></th>\n",
       "      <th></th>\n",
       "      <th></th>\n",
       "      <th></th>\n",
       "      <th></th>\n",
       "      <th></th>\n",
       "      <th></th>\n",
       "      <th></th>\n",
       "    </tr>\n",
       "  </thead>\n",
       "  <tbody>\n",
       "    <tr>\n",
       "      <th>AAACCTGAGAACAATC-acTB3-caiy2020</th>\n",
       "      <td>CaiY_2021</td>\n",
       "      <td>SAMN14048025</td>\n",
       "      <td>PBMC_TB_3</td>\n",
       "      <td>PBMC</td>\n",
       "      <td>SAMN14048025</td>\n",
       "      <td>34</td>\n",
       "      <td>male</td>\n",
       "      <td>active_TB</td>\n",
       "      <td>scRNAseq</td>\n",
       "      <td>Shenzhen University</td>\n",
       "      <td>...</td>\n",
       "      <td>0.060170</td>\n",
       "      <td>5634.0</td>\n",
       "      <td>0.053248</td>\n",
       "      <td>0.0</td>\n",
       "      <td>-0.352188</td>\n",
       "      <td>-0.193287</td>\n",
       "      <td>0.0</td>\n",
       "      <td>NaN</td>\n",
       "      <td>NaN</td>\n",
       "      <td>caiy2020</td>\n",
       "    </tr>\n",
       "    <tr>\n",
       "      <th>AAACCTGAGAAGGTGA-acTB3-caiy2020</th>\n",
       "      <td>CaiY_2021</td>\n",
       "      <td>SAMN14048025</td>\n",
       "      <td>PBMC_TB_3</td>\n",
       "      <td>PBMC</td>\n",
       "      <td>SAMN14048025</td>\n",
       "      <td>34</td>\n",
       "      <td>male</td>\n",
       "      <td>active_TB</td>\n",
       "      <td>scRNAseq</td>\n",
       "      <td>Shenzhen University</td>\n",
       "      <td>...</td>\n",
       "      <td>0.016686</td>\n",
       "      <td>3536.0</td>\n",
       "      <td>0.113122</td>\n",
       "      <td>0.0</td>\n",
       "      <td>-0.064944</td>\n",
       "      <td>-0.071169</td>\n",
       "      <td>0.0</td>\n",
       "      <td>NaN</td>\n",
       "      <td>NaN</td>\n",
       "      <td>caiy2020</td>\n",
       "    </tr>\n",
       "    <tr>\n",
       "      <th>AAACCTGAGATCTGCT-acTB3-caiy2020</th>\n",
       "      <td>CaiY_2021</td>\n",
       "      <td>SAMN14048025</td>\n",
       "      <td>PBMC_TB_3</td>\n",
       "      <td>PBMC</td>\n",
       "      <td>SAMN14048025</td>\n",
       "      <td>34</td>\n",
       "      <td>male</td>\n",
       "      <td>active_TB</td>\n",
       "      <td>scRNAseq</td>\n",
       "      <td>Shenzhen University</td>\n",
       "      <td>...</td>\n",
       "      <td>0.099675</td>\n",
       "      <td>1846.0</td>\n",
       "      <td>0.054171</td>\n",
       "      <td>0.0</td>\n",
       "      <td>-0.231399</td>\n",
       "      <td>-0.080643</td>\n",
       "      <td>0.0</td>\n",
       "      <td>NaN</td>\n",
       "      <td>NaN</td>\n",
       "      <td>caiy2020</td>\n",
       "    </tr>\n",
       "    <tr>\n",
       "      <th>AAACCTGAGCACAGGT-acTB3-caiy2020</th>\n",
       "      <td>CaiY_2021</td>\n",
       "      <td>SAMN14048025</td>\n",
       "      <td>PBMC_TB_3</td>\n",
       "      <td>PBMC</td>\n",
       "      <td>SAMN14048025</td>\n",
       "      <td>34</td>\n",
       "      <td>male</td>\n",
       "      <td>active_TB</td>\n",
       "      <td>scRNAseq</td>\n",
       "      <td>Shenzhen University</td>\n",
       "      <td>...</td>\n",
       "      <td>0.045580</td>\n",
       "      <td>3993.0</td>\n",
       "      <td>0.075131</td>\n",
       "      <td>0.0</td>\n",
       "      <td>-0.227884</td>\n",
       "      <td>-0.258770</td>\n",
       "      <td>0.0</td>\n",
       "      <td>NaN</td>\n",
       "      <td>NaN</td>\n",
       "      <td>caiy2020</td>\n",
       "    </tr>\n",
       "    <tr>\n",
       "      <th>AAACCTGAGCGTGAAC-acTB3-caiy2020</th>\n",
       "      <td>CaiY_2021</td>\n",
       "      <td>SAMN14048025</td>\n",
       "      <td>PBMC_TB_3</td>\n",
       "      <td>PBMC</td>\n",
       "      <td>SAMN14048025</td>\n",
       "      <td>34</td>\n",
       "      <td>male</td>\n",
       "      <td>active_TB</td>\n",
       "      <td>scRNAseq</td>\n",
       "      <td>Shenzhen University</td>\n",
       "      <td>...</td>\n",
       "      <td>0.024570</td>\n",
       "      <td>2035.0</td>\n",
       "      <td>0.147420</td>\n",
       "      <td>0.0</td>\n",
       "      <td>0.020959</td>\n",
       "      <td>0.025030</td>\n",
       "      <td>0.0</td>\n",
       "      <td>NaN</td>\n",
       "      <td>NaN</td>\n",
       "      <td>caiy2020</td>\n",
       "    </tr>\n",
       "    <tr>\n",
       "      <th>...</th>\n",
       "      <td>...</td>\n",
       "      <td>...</td>\n",
       "      <td>...</td>\n",
       "      <td>...</td>\n",
       "      <td>...</td>\n",
       "      <td>...</td>\n",
       "      <td>...</td>\n",
       "      <td>...</td>\n",
       "      <td>...</td>\n",
       "      <td>...</td>\n",
       "      <td>...</td>\n",
       "      <td>...</td>\n",
       "      <td>...</td>\n",
       "      <td>...</td>\n",
       "      <td>...</td>\n",
       "      <td>...</td>\n",
       "      <td>...</td>\n",
       "      <td>...</td>\n",
       "      <td>...</td>\n",
       "      <td>...</td>\n",
       "      <td>...</td>\n",
       "    </tr>\n",
       "    <tr>\n",
       "      <th>TTTGTCAGTCCATCCT-HRS100513-pbmc_scRNAseq-caiy2022</th>\n",
       "      <td>CaiY_2022</td>\n",
       "      <td>HRI068293</td>\n",
       "      <td>HRS100513</td>\n",
       "      <td>PBMC</td>\n",
       "      <td>P4</td>\n",
       "      <td>NaN</td>\n",
       "      <td>NaN</td>\n",
       "      <td>active_TB</td>\n",
       "      <td>scRNAseq</td>\n",
       "      <td>Shenzhen University</td>\n",
       "      <td>...</td>\n",
       "      <td>0.052279</td>\n",
       "      <td>746.0</td>\n",
       "      <td>0.000000</td>\n",
       "      <td>0.0</td>\n",
       "      <td>-0.137711</td>\n",
       "      <td>-0.152166</td>\n",
       "      <td>0.0</td>\n",
       "      <td>HRS100513</td>\n",
       "      <td>pbmc_scRNAseq</td>\n",
       "      <td>caiy2022</td>\n",
       "    </tr>\n",
       "    <tr>\n",
       "      <th>TTTGTCAGTGCTGTAT-HRS100513-pbmc_scRNAseq-caiy2022</th>\n",
       "      <td>CaiY_2022</td>\n",
       "      <td>HRI068293</td>\n",
       "      <td>HRS100513</td>\n",
       "      <td>PBMC</td>\n",
       "      <td>P4</td>\n",
       "      <td>NaN</td>\n",
       "      <td>NaN</td>\n",
       "      <td>active_TB</td>\n",
       "      <td>scRNAseq</td>\n",
       "      <td>Shenzhen University</td>\n",
       "      <td>...</td>\n",
       "      <td>0.051491</td>\n",
       "      <td>369.0</td>\n",
       "      <td>0.000000</td>\n",
       "      <td>0.0</td>\n",
       "      <td>0.130521</td>\n",
       "      <td>0.092987</td>\n",
       "      <td>0.0</td>\n",
       "      <td>HRS100513</td>\n",
       "      <td>pbmc_scRNAseq</td>\n",
       "      <td>caiy2022</td>\n",
       "    </tr>\n",
       "    <tr>\n",
       "      <th>TTTGTCAGTGTGGCTC-HRS100513-pbmc_scRNAseq-caiy2022</th>\n",
       "      <td>CaiY_2022</td>\n",
       "      <td>HRI068293</td>\n",
       "      <td>HRS100513</td>\n",
       "      <td>PBMC</td>\n",
       "      <td>P4</td>\n",
       "      <td>NaN</td>\n",
       "      <td>NaN</td>\n",
       "      <td>active_TB</td>\n",
       "      <td>scRNAseq</td>\n",
       "      <td>Shenzhen University</td>\n",
       "      <td>...</td>\n",
       "      <td>0.028736</td>\n",
       "      <td>348.0</td>\n",
       "      <td>0.000000</td>\n",
       "      <td>0.0</td>\n",
       "      <td>-0.043432</td>\n",
       "      <td>-0.034049</td>\n",
       "      <td>0.0</td>\n",
       "      <td>HRS100513</td>\n",
       "      <td>pbmc_scRNAseq</td>\n",
       "      <td>caiy2022</td>\n",
       "    </tr>\n",
       "    <tr>\n",
       "      <th>TTTGTCATCGTTTATC-HRS100513-pbmc_scRNAseq-caiy2022</th>\n",
       "      <td>CaiY_2022</td>\n",
       "      <td>HRI068293</td>\n",
       "      <td>HRS100513</td>\n",
       "      <td>PBMC</td>\n",
       "      <td>P4</td>\n",
       "      <td>NaN</td>\n",
       "      <td>NaN</td>\n",
       "      <td>active_TB</td>\n",
       "      <td>scRNAseq</td>\n",
       "      <td>Shenzhen University</td>\n",
       "      <td>...</td>\n",
       "      <td>0.079851</td>\n",
       "      <td>1340.0</td>\n",
       "      <td>0.074627</td>\n",
       "      <td>0.0</td>\n",
       "      <td>0.236621</td>\n",
       "      <td>0.071757</td>\n",
       "      <td>0.0</td>\n",
       "      <td>HRS100513</td>\n",
       "      <td>pbmc_scRNAseq</td>\n",
       "      <td>caiy2022</td>\n",
       "    </tr>\n",
       "    <tr>\n",
       "      <th>TTTGTCATCTTACCTA-HRS100513-pbmc_scRNAseq-caiy2022</th>\n",
       "      <td>CaiY_2022</td>\n",
       "      <td>HRI068293</td>\n",
       "      <td>HRS100513</td>\n",
       "      <td>PBMC</td>\n",
       "      <td>P4</td>\n",
       "      <td>NaN</td>\n",
       "      <td>NaN</td>\n",
       "      <td>active_TB</td>\n",
       "      <td>scRNAseq</td>\n",
       "      <td>Shenzhen University</td>\n",
       "      <td>...</td>\n",
       "      <td>0.112329</td>\n",
       "      <td>365.0</td>\n",
       "      <td>0.000000</td>\n",
       "      <td>0.0</td>\n",
       "      <td>0.156833</td>\n",
       "      <td>-0.050452</td>\n",
       "      <td>0.0</td>\n",
       "      <td>HRS100513</td>\n",
       "      <td>pbmc_scRNAseq</td>\n",
       "      <td>caiy2022</td>\n",
       "    </tr>\n",
       "  </tbody>\n",
       "</table>\n",
       "<p>98563 rows × 29 columns</p>\n",
       "</div>"
      ],
      "text/plain": [
       "                                                       study    individual  \\\n",
       "barcode                                                                      \n",
       "AAACCTGAGAACAATC-acTB3-caiy2020                    CaiY_2021  SAMN14048025   \n",
       "AAACCTGAGAAGGTGA-acTB3-caiy2020                    CaiY_2021  SAMN14048025   \n",
       "AAACCTGAGATCTGCT-acTB3-caiy2020                    CaiY_2021  SAMN14048025   \n",
       "AAACCTGAGCACAGGT-acTB3-caiy2020                    CaiY_2021  SAMN14048025   \n",
       "AAACCTGAGCGTGAAC-acTB3-caiy2020                    CaiY_2021  SAMN14048025   \n",
       "...                                                      ...           ...   \n",
       "TTTGTCAGTCCATCCT-HRS100513-pbmc_scRNAseq-caiy2022  CaiY_2022     HRI068293   \n",
       "TTTGTCAGTGCTGTAT-HRS100513-pbmc_scRNAseq-caiy2022  CaiY_2022     HRI068293   \n",
       "TTTGTCAGTGTGGCTC-HRS100513-pbmc_scRNAseq-caiy2022  CaiY_2022     HRI068293   \n",
       "TTTGTCATCGTTTATC-HRS100513-pbmc_scRNAseq-caiy2022  CaiY_2022     HRI068293   \n",
       "TTTGTCATCTTACCTA-HRS100513-pbmc_scRNAseq-caiy2022  CaiY_2022     HRI068293   \n",
       "\n",
       "                                                      sample tissue  \\\n",
       "barcode                                                               \n",
       "AAACCTGAGAACAATC-acTB3-caiy2020                    PBMC_TB_3   PBMC   \n",
       "AAACCTGAGAAGGTGA-acTB3-caiy2020                    PBMC_TB_3   PBMC   \n",
       "AAACCTGAGATCTGCT-acTB3-caiy2020                    PBMC_TB_3   PBMC   \n",
       "AAACCTGAGCACAGGT-acTB3-caiy2020                    PBMC_TB_3   PBMC   \n",
       "AAACCTGAGCGTGAAC-acTB3-caiy2020                    PBMC_TB_3   PBMC   \n",
       "...                                                      ...    ...   \n",
       "TTTGTCAGTCCATCCT-HRS100513-pbmc_scRNAseq-caiy2022  HRS100513   PBMC   \n",
       "TTTGTCAGTGCTGTAT-HRS100513-pbmc_scRNAseq-caiy2022  HRS100513   PBMC   \n",
       "TTTGTCAGTGTGGCTC-HRS100513-pbmc_scRNAseq-caiy2022  HRS100513   PBMC   \n",
       "TTTGTCATCGTTTATC-HRS100513-pbmc_scRNAseq-caiy2022  HRS100513   PBMC   \n",
       "TTTGTCATCTTACCTA-HRS100513-pbmc_scRNAseq-caiy2022  HRS100513   PBMC   \n",
       "\n",
       "                                                          donor  age gender  \\\n",
       "barcode                                                                       \n",
       "AAACCTGAGAACAATC-acTB3-caiy2020                    SAMN14048025   34   male   \n",
       "AAACCTGAGAAGGTGA-acTB3-caiy2020                    SAMN14048025   34   male   \n",
       "AAACCTGAGATCTGCT-acTB3-caiy2020                    SAMN14048025   34   male   \n",
       "AAACCTGAGCACAGGT-acTB3-caiy2020                    SAMN14048025   34   male   \n",
       "AAACCTGAGCGTGAAC-acTB3-caiy2020                    SAMN14048025   34   male   \n",
       "...                                                         ...  ...    ...   \n",
       "TTTGTCAGTCCATCCT-HRS100513-pbmc_scRNAseq-caiy2022            P4  NaN    NaN   \n",
       "TTTGTCAGTGCTGTAT-HRS100513-pbmc_scRNAseq-caiy2022            P4  NaN    NaN   \n",
       "TTTGTCAGTGTGGCTC-HRS100513-pbmc_scRNAseq-caiy2022            P4  NaN    NaN   \n",
       "TTTGTCATCGTTTATC-HRS100513-pbmc_scRNAseq-caiy2022            P4  NaN    NaN   \n",
       "TTTGTCATCTTACCTA-HRS100513-pbmc_scRNAseq-caiy2022            P4  NaN    NaN   \n",
       "\n",
       "                                                      status data_type  \\\n",
       "barcode                                                                  \n",
       "AAACCTGAGAACAATC-acTB3-caiy2020                    active_TB  scRNAseq   \n",
       "AAACCTGAGAAGGTGA-acTB3-caiy2020                    active_TB  scRNAseq   \n",
       "AAACCTGAGATCTGCT-acTB3-caiy2020                    active_TB  scRNAseq   \n",
       "AAACCTGAGCACAGGT-acTB3-caiy2020                    active_TB  scRNAseq   \n",
       "AAACCTGAGCGTGAAC-acTB3-caiy2020                    active_TB  scRNAseq   \n",
       "...                                                      ...       ...   \n",
       "TTTGTCAGTCCATCCT-HRS100513-pbmc_scRNAseq-caiy2022  active_TB  scRNAseq   \n",
       "TTTGTCAGTGCTGTAT-HRS100513-pbmc_scRNAseq-caiy2022  active_TB  scRNAseq   \n",
       "TTTGTCAGTGTGGCTC-HRS100513-pbmc_scRNAseq-caiy2022  active_TB  scRNAseq   \n",
       "TTTGTCATCGTTTATC-HRS100513-pbmc_scRNAseq-caiy2022  active_TB  scRNAseq   \n",
       "TTTGTCATCTTACCTA-HRS100513-pbmc_scRNAseq-caiy2022  active_TB  scRNAseq   \n",
       "\n",
       "                                                                centre  ...  \\\n",
       "barcode                                                                 ...   \n",
       "AAACCTGAGAACAATC-acTB3-caiy2020                    Shenzhen University  ...   \n",
       "AAACCTGAGAAGGTGA-acTB3-caiy2020                    Shenzhen University  ...   \n",
       "AAACCTGAGATCTGCT-acTB3-caiy2020                    Shenzhen University  ...   \n",
       "AAACCTGAGCACAGGT-acTB3-caiy2020                    Shenzhen University  ...   \n",
       "AAACCTGAGCGTGAAC-acTB3-caiy2020                    Shenzhen University  ...   \n",
       "...                                                                ...  ...   \n",
       "TTTGTCAGTCCATCCT-HRS100513-pbmc_scRNAseq-caiy2022  Shenzhen University  ...   \n",
       "TTTGTCAGTGCTGTAT-HRS100513-pbmc_scRNAseq-caiy2022  Shenzhen University  ...   \n",
       "TTTGTCAGTGTGGCTC-HRS100513-pbmc_scRNAseq-caiy2022  Shenzhen University  ...   \n",
       "TTTGTCATCGTTTATC-HRS100513-pbmc_scRNAseq-caiy2022  Shenzhen University  ...   \n",
       "TTTGTCATCTTACCTA-HRS100513-pbmc_scRNAseq-caiy2022  Shenzhen University  ...   \n",
       "\n",
       "                                                  percent_mt2 n_counts  \\\n",
       "barcode                                                                  \n",
       "AAACCTGAGAACAATC-acTB3-caiy2020                      0.060170   5634.0   \n",
       "AAACCTGAGAAGGTGA-acTB3-caiy2020                      0.016686   3536.0   \n",
       "AAACCTGAGATCTGCT-acTB3-caiy2020                      0.099675   1846.0   \n",
       "AAACCTGAGCACAGGT-acTB3-caiy2020                      0.045580   3993.0   \n",
       "AAACCTGAGCGTGAAC-acTB3-caiy2020                      0.024570   2035.0   \n",
       "...                                                       ...      ...   \n",
       "TTTGTCAGTCCATCCT-HRS100513-pbmc_scRNAseq-caiy2022    0.052279    746.0   \n",
       "TTTGTCAGTGCTGTAT-HRS100513-pbmc_scRNAseq-caiy2022    0.051491    369.0   \n",
       "TTTGTCAGTGTGGCTC-HRS100513-pbmc_scRNAseq-caiy2022    0.028736    348.0   \n",
       "TTTGTCATCGTTTATC-HRS100513-pbmc_scRNAseq-caiy2022    0.079851   1340.0   \n",
       "TTTGTCATCTTACCTA-HRS100513-pbmc_scRNAseq-caiy2022    0.112329    365.0   \n",
       "\n",
       "                                                   percent_chrY  XIST-counts  \\\n",
       "barcode                                                                        \n",
       "AAACCTGAGAACAATC-acTB3-caiy2020                        0.053248          0.0   \n",
       "AAACCTGAGAAGGTGA-acTB3-caiy2020                        0.113122          0.0   \n",
       "AAACCTGAGATCTGCT-acTB3-caiy2020                        0.054171          0.0   \n",
       "AAACCTGAGCACAGGT-acTB3-caiy2020                        0.075131          0.0   \n",
       "AAACCTGAGCGTGAAC-acTB3-caiy2020                        0.147420          0.0   \n",
       "...                                                         ...          ...   \n",
       "TTTGTCAGTCCATCCT-HRS100513-pbmc_scRNAseq-caiy2022      0.000000          0.0   \n",
       "TTTGTCAGTGCTGTAT-HRS100513-pbmc_scRNAseq-caiy2022      0.000000          0.0   \n",
       "TTTGTCAGTGTGGCTC-HRS100513-pbmc_scRNAseq-caiy2022      0.000000          0.0   \n",
       "TTTGTCATCGTTTATC-HRS100513-pbmc_scRNAseq-caiy2022      0.074627          0.0   \n",
       "TTTGTCATCTTACCTA-HRS100513-pbmc_scRNAseq-caiy2022      0.000000          0.0   \n",
       "\n",
       "                                                    S_score  G2M_score  \\\n",
       "barcode                                                                  \n",
       "AAACCTGAGAACAATC-acTB3-caiy2020                   -0.352188  -0.193287   \n",
       "AAACCTGAGAAGGTGA-acTB3-caiy2020                   -0.064944  -0.071169   \n",
       "AAACCTGAGATCTGCT-acTB3-caiy2020                   -0.231399  -0.080643   \n",
       "AAACCTGAGCACAGGT-acTB3-caiy2020                   -0.227884  -0.258770   \n",
       "AAACCTGAGCGTGAAC-acTB3-caiy2020                    0.020959   0.025030   \n",
       "...                                                     ...        ...   \n",
       "TTTGTCAGTCCATCCT-HRS100513-pbmc_scRNAseq-caiy2022 -0.137711  -0.152166   \n",
       "TTTGTCAGTGCTGTAT-HRS100513-pbmc_scRNAseq-caiy2022  0.130521   0.092987   \n",
       "TTTGTCAGTGTGGCTC-HRS100513-pbmc_scRNAseq-caiy2022 -0.043432  -0.034049   \n",
       "TTTGTCATCGTTTATC-HRS100513-pbmc_scRNAseq-caiy2022  0.236621   0.071757   \n",
       "TTTGTCATCTTACCTA-HRS100513-pbmc_scRNAseq-caiy2022  0.156833  -0.050452   \n",
       "\n",
       "                                                   predicted_doublets  \\\n",
       "barcode                                                                 \n",
       "AAACCTGAGAACAATC-acTB3-caiy2020                                   0.0   \n",
       "AAACCTGAGAAGGTGA-acTB3-caiy2020                                   0.0   \n",
       "AAACCTGAGATCTGCT-acTB3-caiy2020                                   0.0   \n",
       "AAACCTGAGCACAGGT-acTB3-caiy2020                                   0.0   \n",
       "AAACCTGAGCGTGAAC-acTB3-caiy2020                                   0.0   \n",
       "...                                                               ...   \n",
       "TTTGTCAGTCCATCCT-HRS100513-pbmc_scRNAseq-caiy2022                 0.0   \n",
       "TTTGTCAGTGCTGTAT-HRS100513-pbmc_scRNAseq-caiy2022                 0.0   \n",
       "TTTGTCAGTGTGGCTC-HRS100513-pbmc_scRNAseq-caiy2022                 0.0   \n",
       "TTTGTCATCGTTTATC-HRS100513-pbmc_scRNAseq-caiy2022                 0.0   \n",
       "TTTGTCATCTTACCTA-HRS100513-pbmc_scRNAseq-caiy2022                 0.0   \n",
       "\n",
       "                                                      object       protocol  \\\n",
       "barcode                                                                       \n",
       "AAACCTGAGAACAATC-acTB3-caiy2020                          NaN            NaN   \n",
       "AAACCTGAGAAGGTGA-acTB3-caiy2020                          NaN            NaN   \n",
       "AAACCTGAGATCTGCT-acTB3-caiy2020                          NaN            NaN   \n",
       "AAACCTGAGCACAGGT-acTB3-caiy2020                          NaN            NaN   \n",
       "AAACCTGAGCGTGAAC-acTB3-caiy2020                          NaN            NaN   \n",
       "...                                                      ...            ...   \n",
       "TTTGTCAGTCCATCCT-HRS100513-pbmc_scRNAseq-caiy2022  HRS100513  pbmc_scRNAseq   \n",
       "TTTGTCAGTGCTGTAT-HRS100513-pbmc_scRNAseq-caiy2022  HRS100513  pbmc_scRNAseq   \n",
       "TTTGTCAGTGTGGCTC-HRS100513-pbmc_scRNAseq-caiy2022  HRS100513  pbmc_scRNAseq   \n",
       "TTTGTCATCGTTTATC-HRS100513-pbmc_scRNAseq-caiy2022  HRS100513  pbmc_scRNAseq   \n",
       "TTTGTCATCTTACCTA-HRS100513-pbmc_scRNAseq-caiy2022  HRS100513  pbmc_scRNAseq   \n",
       "\n",
       "                                                    dataset  \n",
       "barcode                                                      \n",
       "AAACCTGAGAACAATC-acTB3-caiy2020                    caiy2020  \n",
       "AAACCTGAGAAGGTGA-acTB3-caiy2020                    caiy2020  \n",
       "AAACCTGAGATCTGCT-acTB3-caiy2020                    caiy2020  \n",
       "AAACCTGAGCACAGGT-acTB3-caiy2020                    caiy2020  \n",
       "AAACCTGAGCGTGAAC-acTB3-caiy2020                    caiy2020  \n",
       "...                                                     ...  \n",
       "TTTGTCAGTCCATCCT-HRS100513-pbmc_scRNAseq-caiy2022  caiy2022  \n",
       "TTTGTCAGTGCTGTAT-HRS100513-pbmc_scRNAseq-caiy2022  caiy2022  \n",
       "TTTGTCAGTGTGGCTC-HRS100513-pbmc_scRNAseq-caiy2022  caiy2022  \n",
       "TTTGTCATCGTTTATC-HRS100513-pbmc_scRNAseq-caiy2022  caiy2022  \n",
       "TTTGTCATCTTACCTA-HRS100513-pbmc_scRNAseq-caiy2022  caiy2022  \n",
       "\n",
       "[98563 rows x 29 columns]"
      ]
     },
     "execution_count": 9,
     "metadata": {},
     "output_type": "execute_result"
    }
   ],
   "source": [
    "caiy_tb.obs"
   ]
  },
  {
   "cell_type": "code",
   "execution_count": 10,
   "metadata": {},
   "outputs": [
    {
     "data": {
      "text/plain": [
       "scRNAseq    98563\n",
       "Name: data_type, dtype: int64"
      ]
     },
     "execution_count": 10,
     "metadata": {},
     "output_type": "execute_result"
    }
   ],
   "source": [
    "caiy_tb.obs['data_type'].value_counts()"
   ]
  },
  {
   "cell_type": "code",
   "execution_count": 11,
   "metadata": {},
   "outputs": [
    {
     "data": {
      "text/plain": [
       "PBMC    98563\n",
       "Name: tissue, dtype: int64"
      ]
     },
     "execution_count": 11,
     "metadata": {},
     "output_type": "execute_result"
    }
   ],
   "source": [
    "caiy_tb.obs['tissue'].value_counts()"
   ]
  },
  {
   "cell_type": "code",
   "execution_count": 12,
   "metadata": {},
   "outputs": [
    {
     "data": {
      "text/plain": [
       "active_TB    58521\n",
       "Healthy      22049\n",
       "latent_TB    17993\n",
       "Name: status, dtype: int64"
      ]
     },
     "execution_count": 12,
     "metadata": {},
     "output_type": "execute_result"
    }
   ],
   "source": [
    "caiy_tb.obs['status'].value_counts()"
   ]
  },
  {
   "cell_type": "code",
   "execution_count": 13,
   "metadata": {},
   "outputs": [],
   "source": [
    "caiy_healthy = caiy_tb[~caiy_tb.obs['status'].isin(['active_TB', 'latent_TB']),:]"
   ]
  },
  {
   "cell_type": "code",
   "execution_count": 14,
   "metadata": {},
   "outputs": [
    {
     "data": {
      "text/plain": [
       "Healthy    22049\n",
       "Name: status, dtype: int64"
      ]
     },
     "execution_count": 14,
     "metadata": {},
     "output_type": "execute_result"
    }
   ],
   "source": [
    "caiy_healthy.obs['status'].value_counts()"
   ]
  },
  {
   "attachments": {},
   "cell_type": "markdown",
   "metadata": {},
   "source": [
    "### Check merged anndata object for downstream analysis\n"
   ]
  },
  {
   "cell_type": "code",
   "execution_count": 15,
   "metadata": {},
   "outputs": [
    {
     "data": {
      "text/plain": [
       "View of AnnData object with n_obs × n_vars = 22049 × 61533\n",
       "    obs: 'study', 'individual', 'sample', 'tissue', 'donor', 'age', 'gender', 'status', 'data_type', 'centre', 'version', 'batch', 'n_genes', 'n_genes_by_counts', 'total_counts', 'total_counts_mt', 'pct_counts_mt', 'total_counts_ribo', 'pct_counts_ribo', 'percent_mt2', 'n_counts', 'percent_chrY', 'XIST-counts', 'S_score', 'G2M_score', 'predicted_doublets', 'object', 'protocol', 'dataset'\n",
       "    var: 'gene_id', 'mt', 'ribo', 'n_cells_by_counts-caiy2020', 'mean_counts-caiy2020', 'pct_dropout_by_counts-caiy2020', 'total_counts-caiy2020', 'n_cells_by_counts-caiy2022', 'mean_counts-caiy2022', 'pct_dropout_by_counts-caiy2022', 'total_counts-caiy2022'\n",
       "    layers: 'counts', 'sqrt_norm'"
      ]
     },
     "execution_count": 15,
     "metadata": {},
     "output_type": "execute_result"
    }
   ],
   "source": [
    "caiy_healthy"
   ]
  },
  {
   "cell_type": "code",
   "execution_count": 16,
   "metadata": {},
   "outputs": [
    {
     "data": {
      "text/plain": [
       "barcode\n",
       "AAACCTGAGATGGCGT-H2-caiy2020    H2\n",
       "AAACCTGAGATGTGTA-H2-caiy2020    H2\n",
       "AAACCTGAGCAACGGT-H2-caiy2020    H2\n",
       "AAACCTGAGCCATCGC-H2-caiy2020    H2\n",
       "AAACCTGAGGTGATTA-H2-caiy2020    H2\n",
       "                                ..\n",
       "TTTGTCAGTCGCGGTT-H1-caiy2020    H1\n",
       "TTTGTCAGTCGCTTCT-H1-caiy2020    H1\n",
       "TTTGTCAGTTCGAATC-H1-caiy2020    H1\n",
       "TTTGTCAGTTTGGGCC-H1-caiy2020    H1\n",
       "TTTGTCATCCCATTAT-H1-caiy2020    H1\n",
       "Name: batch, Length: 22049, dtype: category\n",
       "Categories (2, object): ['H2', 'H1']"
      ]
     },
     "execution_count": 16,
     "metadata": {},
     "output_type": "execute_result"
    }
   ],
   "source": [
    "caiy_healthy.obs['batch']"
   ]
  },
  {
   "cell_type": "code",
   "execution_count": 17,
   "metadata": {},
   "outputs": [
    {
     "data": {
      "text/plain": [
       "barcode\n",
       "AAACCTGAGATGGCGT-H2-caiy2020    SAMN14048020\n",
       "AAACCTGAGATGTGTA-H2-caiy2020    SAMN14048020\n",
       "AAACCTGAGCAACGGT-H2-caiy2020    SAMN14048020\n",
       "AAACCTGAGCCATCGC-H2-caiy2020    SAMN14048020\n",
       "AAACCTGAGGTGATTA-H2-caiy2020    SAMN14048020\n",
       "                                    ...     \n",
       "TTTGTCAGTCGCGGTT-H1-caiy2020    SAMN14048019\n",
       "TTTGTCAGTCGCTTCT-H1-caiy2020    SAMN14048019\n",
       "TTTGTCAGTTCGAATC-H1-caiy2020    SAMN14048019\n",
       "TTTGTCAGTTTGGGCC-H1-caiy2020    SAMN14048019\n",
       "TTTGTCATCCCATTAT-H1-caiy2020    SAMN14048019\n",
       "Name: donor, Length: 22049, dtype: object"
      ]
     },
     "execution_count": 17,
     "metadata": {},
     "output_type": "execute_result"
    }
   ],
   "source": [
    "caiy_healthy.obs['donor']"
   ]
  },
  {
   "cell_type": "code",
   "execution_count": 18,
   "metadata": {},
   "outputs": [
    {
     "data": {
      "text/plain": [
       "CaiY_2021    73146\n",
       "CaiY_2022    25417\n",
       "Name: study, dtype: int64"
      ]
     },
     "execution_count": 18,
     "metadata": {},
     "output_type": "execute_result"
    }
   ],
   "source": [
    "caiy_tb.obs['study'].value_counts()"
   ]
  },
  {
   "cell_type": "code",
   "execution_count": 19,
   "metadata": {},
   "outputs": [
    {
     "data": {
      "text/plain": [
       "<bound method IndexOpsMixin.value_counts of barcode\n",
       "AAACCTGAGATGGCGT-H2-caiy2020    CaiY_2021\n",
       "AAACCTGAGATGTGTA-H2-caiy2020    CaiY_2021\n",
       "AAACCTGAGCAACGGT-H2-caiy2020    CaiY_2021\n",
       "AAACCTGAGCCATCGC-H2-caiy2020    CaiY_2021\n",
       "AAACCTGAGGTGATTA-H2-caiy2020    CaiY_2021\n",
       "                                  ...    \n",
       "TTTGTCAGTCGCGGTT-H1-caiy2020    CaiY_2021\n",
       "TTTGTCAGTCGCTTCT-H1-caiy2020    CaiY_2021\n",
       "TTTGTCAGTTCGAATC-H1-caiy2020    CaiY_2021\n",
       "TTTGTCAGTTTGGGCC-H1-caiy2020    CaiY_2021\n",
       "TTTGTCATCCCATTAT-H1-caiy2020    CaiY_2021\n",
       "Name: study, Length: 22049, dtype: object>"
      ]
     },
     "execution_count": 19,
     "metadata": {},
     "output_type": "execute_result"
    }
   ],
   "source": [
    "caiy_healthy.obs['study'].value_counts"
   ]
  },
  {
   "cell_type": "code",
   "execution_count": 20,
   "metadata": {},
   "outputs": [
    {
     "data": {
      "text/plain": [
       "PBMC_TB_1      11521\n",
       "PBMC_HC_1      11275\n",
       "PBMC_TB_3      11174\n",
       "PBMC_HC_2      10774\n",
       "PBMC_TB_2      10409\n",
       "PBMC_LTBI_2     9846\n",
       "HRS100507       8573\n",
       "PBMC_LTBI_1     8147\n",
       "HRS100513       6828\n",
       "HRS100511       5250\n",
       "HRS180101       2578\n",
       "HRS180103       2188\n",
       "Name: sample, dtype: int64"
      ]
     },
     "execution_count": 20,
     "metadata": {},
     "output_type": "execute_result"
    }
   ],
   "source": [
    "caiy_tb.obs['sample'].value_counts()"
   ]
  },
  {
   "cell_type": "code",
   "execution_count": 21,
   "metadata": {},
   "outputs": [
    {
     "data": {
      "text/plain": [
       "PBMC_HC_1    11275\n",
       "PBMC_HC_2    10774\n",
       "Name: sample, dtype: int64"
      ]
     },
     "execution_count": 21,
     "metadata": {},
     "output_type": "execute_result"
    }
   ],
   "source": [
    "caiy_healthy.obs['sample'].value_counts()"
   ]
  },
  {
   "cell_type": "code",
   "execution_count": 22,
   "metadata": {},
   "outputs": [],
   "source": [
    "# There appears to be no healthy controls in the Cai 2022 data; check this"
   ]
  },
  {
   "cell_type": "markdown",
   "metadata": {},
   "source": [
    "### Calculate HVGs"
   ]
  },
  {
   "cell_type": "code",
   "execution_count": 23,
   "metadata": {},
   "outputs": [],
   "source": [
    "adata = caiy_healthy.copy()\n",
    "adata.layers['counts'] = adata.X.copy()"
   ]
  },
  {
   "cell_type": "code",
   "execution_count": 24,
   "metadata": {},
   "outputs": [
    {
     "name": "stderr",
     "output_type": "stream",
     "text": [
      "/Users/mairi.mcclean/mambaforge/envs/scanvi_local/lib/python3.10/site-packages/scanpy/preprocessing/_highly_variable_genes.py:62: UserWarning: `flavor='seurat_v3'` expects raw count data, but non-integers were found.\n",
      "  warnings.warn(\n"
     ]
    }
   ],
   "source": [
    "sc.pp.highly_variable_genes(\n",
    "    adata,\n",
    "    flavor = \"seurat_v3\",\n",
    "    n_top_genes = 8000,\n",
    "    layer = \"counts\",\n",
    "    batch_key = \"sample\",\n",
    "    subset = True\n",
    ")"
   ]
  },
  {
   "attachments": {},
   "cell_type": "markdown",
   "metadata": {},
   "source": [
    "### Integration with scVI\n"
   ]
  },
  {
   "cell_type": "code",
   "execution_count": 25,
   "metadata": {},
   "outputs": [
    {
     "name": "stderr",
     "output_type": "stream",
     "text": [
      "/Users/mairi.mcclean/mambaforge/envs/scanvi_local/lib/python3.10/site-packages/scvi/data/fields/_layer_field.py:90: UserWarning: adata.layers[counts] does not contain unnormalized count data. Are you sure this is what you want?\n",
      "  warnings.warn(\n"
     ]
    }
   ],
   "source": [
    "scvi.model.SCVI.setup_anndata(adata, layer=\"counts\", batch_key=\"batch\")"
   ]
  },
  {
   "cell_type": "code",
   "execution_count": 26,
   "metadata": {},
   "outputs": [],
   "source": [
    "vae = scvi.model.SCVI(adata, n_layers=3, n_latent=50, gene_likelihood=\"nb\", dispersion=\"gene-batch\")"
   ]
  },
  {
   "cell_type": "code",
   "execution_count": 27,
   "metadata": {},
   "outputs": [
    {
     "data": {
      "text/html": [
       "<pre style=\"white-space:pre;overflow-x:auto;line-height:normal;font-family:Menlo,'DejaVu Sans Mono',consolas,'Courier New',monospace\">Anndata setup with scvi-tools version <span style=\"color: #008080; text-decoration-color: #008080; font-weight: bold\">0.20</span>.<span style=\"color: #008080; text-decoration-color: #008080; font-weight: bold\">2</span>.\n",
       "</pre>\n"
      ],
      "text/plain": [
       "Anndata setup with scvi-tools version \u001b[1;36m0.20\u001b[0m.\u001b[1;36m2\u001b[0m.\n"
      ]
     },
     "metadata": {},
     "output_type": "display_data"
    },
    {
     "data": {
      "text/html": [
       "<pre style=\"white-space:pre;overflow-x:auto;line-height:normal;font-family:Menlo,'DejaVu Sans Mono',consolas,'Courier New',monospace\">\n",
       "</pre>\n"
      ],
      "text/plain": [
       "\n"
      ]
     },
     "metadata": {},
     "output_type": "display_data"
    },
    {
     "data": {
      "text/html": [
       "<pre style=\"white-space:pre;overflow-x:auto;line-height:normal;font-family:Menlo,'DejaVu Sans Mono',consolas,'Courier New',monospace\">Setup via `SCVI.setup_anndata` with arguments:\n",
       "</pre>\n"
      ],
      "text/plain": [
       "Setup via `SCVI.setup_anndata` with arguments:\n"
      ]
     },
     "metadata": {},
     "output_type": "display_data"
    },
    {
     "data": {
      "text/html": [
       "<pre style=\"white-space:pre;overflow-x:auto;line-height:normal;font-family:Menlo,'DejaVu Sans Mono',consolas,'Courier New',monospace\"><span style=\"font-weight: bold\">{</span>\n",
       "<span style=\"color: #7fbf7f; text-decoration-color: #7fbf7f\">│   </span><span style=\"color: #008000; text-decoration-color: #008000\">'layer'</span>: <span style=\"color: #008000; text-decoration-color: #008000\">'counts'</span>,\n",
       "<span style=\"color: #7fbf7f; text-decoration-color: #7fbf7f\">│   </span><span style=\"color: #008000; text-decoration-color: #008000\">'batch_key'</span>: <span style=\"color: #008000; text-decoration-color: #008000\">'batch'</span>,\n",
       "<span style=\"color: #7fbf7f; text-decoration-color: #7fbf7f\">│   </span><span style=\"color: #008000; text-decoration-color: #008000\">'labels_key'</span>: <span style=\"color: #800080; text-decoration-color: #800080; font-style: italic\">None</span>,\n",
       "<span style=\"color: #7fbf7f; text-decoration-color: #7fbf7f\">│   </span><span style=\"color: #008000; text-decoration-color: #008000\">'size_factor_key'</span>: <span style=\"color: #800080; text-decoration-color: #800080; font-style: italic\">None</span>,\n",
       "<span style=\"color: #7fbf7f; text-decoration-color: #7fbf7f\">│   </span><span style=\"color: #008000; text-decoration-color: #008000\">'categorical_covariate_keys'</span>: <span style=\"color: #800080; text-decoration-color: #800080; font-style: italic\">None</span>,\n",
       "<span style=\"color: #7fbf7f; text-decoration-color: #7fbf7f\">│   </span><span style=\"color: #008000; text-decoration-color: #008000\">'continuous_covariate_keys'</span>: <span style=\"color: #800080; text-decoration-color: #800080; font-style: italic\">None</span>\n",
       "<span style=\"font-weight: bold\">}</span>\n",
       "</pre>\n"
      ],
      "text/plain": [
       "\u001b[1m{\u001b[0m\n",
       "\u001b[2;32m│   \u001b[0m\u001b[32m'layer'\u001b[0m: \u001b[32m'counts'\u001b[0m,\n",
       "\u001b[2;32m│   \u001b[0m\u001b[32m'batch_key'\u001b[0m: \u001b[32m'batch'\u001b[0m,\n",
       "\u001b[2;32m│   \u001b[0m\u001b[32m'labels_key'\u001b[0m: \u001b[3;35mNone\u001b[0m,\n",
       "\u001b[2;32m│   \u001b[0m\u001b[32m'size_factor_key'\u001b[0m: \u001b[3;35mNone\u001b[0m,\n",
       "\u001b[2;32m│   \u001b[0m\u001b[32m'categorical_covariate_keys'\u001b[0m: \u001b[3;35mNone\u001b[0m,\n",
       "\u001b[2;32m│   \u001b[0m\u001b[32m'continuous_covariate_keys'\u001b[0m: \u001b[3;35mNone\u001b[0m\n",
       "\u001b[1m}\u001b[0m\n"
      ]
     },
     "metadata": {},
     "output_type": "display_data"
    },
    {
     "data": {
      "text/html": [
       "<pre style=\"white-space:pre;overflow-x:auto;line-height:normal;font-family:Menlo,'DejaVu Sans Mono',consolas,'Courier New',monospace\">\n",
       "</pre>\n"
      ],
      "text/plain": [
       "\n"
      ]
     },
     "metadata": {},
     "output_type": "display_data"
    },
    {
     "data": {
      "text/html": [
       "<pre style=\"white-space:pre;overflow-x:auto;line-height:normal;font-family:Menlo,'DejaVu Sans Mono',consolas,'Courier New',monospace\"><span style=\"font-style: italic\">         Summary Statistics         </span>\n",
       "┏━━━━━━━━━━━━━━━━━━━━━━━━━━┳━━━━━━━┓\n",
       "┃<span style=\"font-weight: bold\">     Summary Stat Key     </span>┃<span style=\"font-weight: bold\"> Value </span>┃\n",
       "┡━━━━━━━━━━━━━━━━━━━━━━━━━━╇━━━━━━━┩\n",
       "│<span style=\"color: #0087ff; text-decoration-color: #0087ff\">         n_batch          </span>│<span style=\"color: #af00d7; text-decoration-color: #af00d7\">   2   </span>│\n",
       "│<span style=\"color: #0087ff; text-decoration-color: #0087ff\">         n_cells          </span>│<span style=\"color: #af00d7; text-decoration-color: #af00d7\"> 22049 </span>│\n",
       "│<span style=\"color: #0087ff; text-decoration-color: #0087ff\"> n_extra_categorical_covs </span>│<span style=\"color: #af00d7; text-decoration-color: #af00d7\">   0   </span>│\n",
       "│<span style=\"color: #0087ff; text-decoration-color: #0087ff\"> n_extra_continuous_covs  </span>│<span style=\"color: #af00d7; text-decoration-color: #af00d7\">   0   </span>│\n",
       "│<span style=\"color: #0087ff; text-decoration-color: #0087ff\">         n_labels         </span>│<span style=\"color: #af00d7; text-decoration-color: #af00d7\">   1   </span>│\n",
       "│<span style=\"color: #0087ff; text-decoration-color: #0087ff\">          n_vars          </span>│<span style=\"color: #af00d7; text-decoration-color: #af00d7\"> 8000  </span>│\n",
       "└──────────────────────────┴───────┘\n",
       "</pre>\n"
      ],
      "text/plain": [
       "\u001b[3m         Summary Statistics         \u001b[0m\n",
       "┏━━━━━━━━━━━━━━━━━━━━━━━━━━┳━━━━━━━┓\n",
       "┃\u001b[1m \u001b[0m\u001b[1m    Summary Stat Key    \u001b[0m\u001b[1m \u001b[0m┃\u001b[1m \u001b[0m\u001b[1mValue\u001b[0m\u001b[1m \u001b[0m┃\n",
       "┡━━━━━━━━━━━━━━━━━━━━━━━━━━╇━━━━━━━┩\n",
       "│\u001b[38;5;33m \u001b[0m\u001b[38;5;33m        n_batch         \u001b[0m\u001b[38;5;33m \u001b[0m│\u001b[38;5;128m \u001b[0m\u001b[38;5;128m  2  \u001b[0m\u001b[38;5;128m \u001b[0m│\n",
       "│\u001b[38;5;33m \u001b[0m\u001b[38;5;33m        n_cells         \u001b[0m\u001b[38;5;33m \u001b[0m│\u001b[38;5;128m \u001b[0m\u001b[38;5;128m22049\u001b[0m\u001b[38;5;128m \u001b[0m│\n",
       "│\u001b[38;5;33m \u001b[0m\u001b[38;5;33mn_extra_categorical_covs\u001b[0m\u001b[38;5;33m \u001b[0m│\u001b[38;5;128m \u001b[0m\u001b[38;5;128m  0  \u001b[0m\u001b[38;5;128m \u001b[0m│\n",
       "│\u001b[38;5;33m \u001b[0m\u001b[38;5;33mn_extra_continuous_covs \u001b[0m\u001b[38;5;33m \u001b[0m│\u001b[38;5;128m \u001b[0m\u001b[38;5;128m  0  \u001b[0m\u001b[38;5;128m \u001b[0m│\n",
       "│\u001b[38;5;33m \u001b[0m\u001b[38;5;33m        n_labels        \u001b[0m\u001b[38;5;33m \u001b[0m│\u001b[38;5;128m \u001b[0m\u001b[38;5;128m  1  \u001b[0m\u001b[38;5;128m \u001b[0m│\n",
       "│\u001b[38;5;33m \u001b[0m\u001b[38;5;33m         n_vars         \u001b[0m\u001b[38;5;33m \u001b[0m│\u001b[38;5;128m \u001b[0m\u001b[38;5;128m8000 \u001b[0m\u001b[38;5;128m \u001b[0m│\n",
       "└──────────────────────────┴───────┘\n"
      ]
     },
     "metadata": {},
     "output_type": "display_data"
    },
    {
     "data": {
      "text/html": [
       "<pre style=\"white-space:pre;overflow-x:auto;line-height:normal;font-family:Menlo,'DejaVu Sans Mono',consolas,'Courier New',monospace\"><span style=\"font-style: italic\">               Data Registry                </span>\n",
       "┏━━━━━━━━━━━━━━┳━━━━━━━━━━━━━━━━━━━━━━━━━━━┓\n",
       "┃<span style=\"font-weight: bold\"> Registry Key </span>┃<span style=\"font-weight: bold\">    scvi-tools Location    </span>┃\n",
       "┡━━━━━━━━━━━━━━╇━━━━━━━━━━━━━━━━━━━━━━━━━━━┩\n",
       "│<span style=\"color: #0087ff; text-decoration-color: #0087ff\">      X       </span>│<span style=\"color: #af00d7; text-decoration-color: #af00d7\">  adata.layers['counts']   </span>│\n",
       "│<span style=\"color: #0087ff; text-decoration-color: #0087ff\">    batch     </span>│<span style=\"color: #af00d7; text-decoration-color: #af00d7\"> adata.obs['_scvi_batch']  </span>│\n",
       "│<span style=\"color: #0087ff; text-decoration-color: #0087ff\">    labels    </span>│<span style=\"color: #af00d7; text-decoration-color: #af00d7\"> adata.obs['_scvi_labels'] </span>│\n",
       "└──────────────┴───────────────────────────┘\n",
       "</pre>\n"
      ],
      "text/plain": [
       "\u001b[3m               Data Registry                \u001b[0m\n",
       "┏━━━━━━━━━━━━━━┳━━━━━━━━━━━━━━━━━━━━━━━━━━━┓\n",
       "┃\u001b[1m \u001b[0m\u001b[1mRegistry Key\u001b[0m\u001b[1m \u001b[0m┃\u001b[1m \u001b[0m\u001b[1m   scvi-tools Location   \u001b[0m\u001b[1m \u001b[0m┃\n",
       "┡━━━━━━━━━━━━━━╇━━━━━━━━━━━━━━━━━━━━━━━━━━━┩\n",
       "│\u001b[38;5;33m \u001b[0m\u001b[38;5;33m     X      \u001b[0m\u001b[38;5;33m \u001b[0m│\u001b[38;5;128m \u001b[0m\u001b[38;5;128m adata.layers['counts']  \u001b[0m\u001b[38;5;128m \u001b[0m│\n",
       "│\u001b[38;5;33m \u001b[0m\u001b[38;5;33m   batch    \u001b[0m\u001b[38;5;33m \u001b[0m│\u001b[38;5;128m \u001b[0m\u001b[38;5;128madata.obs['_scvi_batch'] \u001b[0m\u001b[38;5;128m \u001b[0m│\n",
       "│\u001b[38;5;33m \u001b[0m\u001b[38;5;33m   labels   \u001b[0m\u001b[38;5;33m \u001b[0m│\u001b[38;5;128m \u001b[0m\u001b[38;5;128madata.obs['_scvi_labels']\u001b[0m\u001b[38;5;128m \u001b[0m│\n",
       "└──────────────┴───────────────────────────┘\n"
      ]
     },
     "metadata": {},
     "output_type": "display_data"
    },
    {
     "data": {
      "text/html": [
       "<pre style=\"white-space:pre;overflow-x:auto;line-height:normal;font-family:Menlo,'DejaVu Sans Mono',consolas,'Courier New',monospace\"><span style=\"font-style: italic\">                  batch State Registry                   </span>\n",
       "┏━━━━━━━━━━━━━━━━━━━━┳━━━━━━━━━━━━┳━━━━━━━━━━━━━━━━━━━━━┓\n",
       "┃<span style=\"font-weight: bold\">  Source Location   </span>┃<span style=\"font-weight: bold\"> Categories </span>┃<span style=\"font-weight: bold\"> scvi-tools Encoding </span>┃\n",
       "┡━━━━━━━━━━━━━━━━━━━━╇━━━━━━━━━━━━╇━━━━━━━━━━━━━━━━━━━━━┩\n",
       "│<span style=\"color: #0087ff; text-decoration-color: #0087ff\"> adata.obs['batch'] </span>│<span style=\"color: #008000; text-decoration-color: #008000\">     H2     </span>│<span style=\"color: #af00d7; text-decoration-color: #af00d7\">          0          </span>│\n",
       "│<span style=\"color: #0087ff; text-decoration-color: #0087ff\">                    </span>│<span style=\"color: #008000; text-decoration-color: #008000\">     H1     </span>│<span style=\"color: #af00d7; text-decoration-color: #af00d7\">          1          </span>│\n",
       "└────────────────────┴────────────┴─────────────────────┘\n",
       "</pre>\n"
      ],
      "text/plain": [
       "\u001b[3m                  batch State Registry                   \u001b[0m\n",
       "┏━━━━━━━━━━━━━━━━━━━━┳━━━━━━━━━━━━┳━━━━━━━━━━━━━━━━━━━━━┓\n",
       "┃\u001b[1m \u001b[0m\u001b[1m Source Location  \u001b[0m\u001b[1m \u001b[0m┃\u001b[1m \u001b[0m\u001b[1mCategories\u001b[0m\u001b[1m \u001b[0m┃\u001b[1m \u001b[0m\u001b[1mscvi-tools Encoding\u001b[0m\u001b[1m \u001b[0m┃\n",
       "┡━━━━━━━━━━━━━━━━━━━━╇━━━━━━━━━━━━╇━━━━━━━━━━━━━━━━━━━━━┩\n",
       "│\u001b[38;5;33m \u001b[0m\u001b[38;5;33madata.obs['batch']\u001b[0m\u001b[38;5;33m \u001b[0m│\u001b[32m \u001b[0m\u001b[32m    H2    \u001b[0m\u001b[32m \u001b[0m│\u001b[38;5;128m \u001b[0m\u001b[38;5;128m         0         \u001b[0m\u001b[38;5;128m \u001b[0m│\n",
       "│\u001b[38;5;33m \u001b[0m\u001b[38;5;33m                  \u001b[0m\u001b[38;5;33m \u001b[0m│\u001b[32m \u001b[0m\u001b[32m    H1    \u001b[0m\u001b[32m \u001b[0m│\u001b[38;5;128m \u001b[0m\u001b[38;5;128m         1         \u001b[0m\u001b[38;5;128m \u001b[0m│\n",
       "└────────────────────┴────────────┴─────────────────────┘\n"
      ]
     },
     "metadata": {},
     "output_type": "display_data"
    },
    {
     "data": {
      "text/html": [
       "<pre style=\"white-space:pre;overflow-x:auto;line-height:normal;font-family:Menlo,'DejaVu Sans Mono',consolas,'Courier New',monospace\"><span style=\"font-style: italic\">                     labels State Registry                      </span>\n",
       "┏━━━━━━━━━━━━━━━━━━━━━━━━━━━┳━━━━━━━━━━━━┳━━━━━━━━━━━━━━━━━━━━━┓\n",
       "┃<span style=\"font-weight: bold\">      Source Location      </span>┃<span style=\"font-weight: bold\"> Categories </span>┃<span style=\"font-weight: bold\"> scvi-tools Encoding </span>┃\n",
       "┡━━━━━━━━━━━━━━━━━━━━━━━━━━━╇━━━━━━━━━━━━╇━━━━━━━━━━━━━━━━━━━━━┩\n",
       "│<span style=\"color: #0087ff; text-decoration-color: #0087ff\"> adata.obs['_scvi_labels'] </span>│<span style=\"color: #008000; text-decoration-color: #008000\">     0      </span>│<span style=\"color: #af00d7; text-decoration-color: #af00d7\">          0          </span>│\n",
       "└───────────────────────────┴────────────┴─────────────────────┘\n",
       "</pre>\n"
      ],
      "text/plain": [
       "\u001b[3m                     labels State Registry                      \u001b[0m\n",
       "┏━━━━━━━━━━━━━━━━━━━━━━━━━━━┳━━━━━━━━━━━━┳━━━━━━━━━━━━━━━━━━━━━┓\n",
       "┃\u001b[1m \u001b[0m\u001b[1m     Source Location     \u001b[0m\u001b[1m \u001b[0m┃\u001b[1m \u001b[0m\u001b[1mCategories\u001b[0m\u001b[1m \u001b[0m┃\u001b[1m \u001b[0m\u001b[1mscvi-tools Encoding\u001b[0m\u001b[1m \u001b[0m┃\n",
       "┡━━━━━━━━━━━━━━━━━━━━━━━━━━━╇━━━━━━━━━━━━╇━━━━━━━━━━━━━━━━━━━━━┩\n",
       "│\u001b[38;5;33m \u001b[0m\u001b[38;5;33madata.obs['_scvi_labels']\u001b[0m\u001b[38;5;33m \u001b[0m│\u001b[32m \u001b[0m\u001b[32m    0     \u001b[0m\u001b[32m \u001b[0m│\u001b[38;5;128m \u001b[0m\u001b[38;5;128m         0         \u001b[0m\u001b[38;5;128m \u001b[0m│\n",
       "└───────────────────────────┴────────────┴─────────────────────┘\n"
      ]
     },
     "metadata": {},
     "output_type": "display_data"
    }
   ],
   "source": [
    "scvi.model.SCVI.view_anndata_setup(vae)"
   ]
  },
  {
   "cell_type": "code",
   "execution_count": 28,
   "metadata": {},
   "outputs": [
    {
     "name": "stderr",
     "output_type": "stream",
     "text": [
      "GPU available: True (mps), used: False\n",
      "TPU available: False, using: 0 TPU cores\n",
      "IPU available: False, using: 0 IPUs\n",
      "HPU available: False, using: 0 HPUs\n",
      "/Users/mairi.mcclean/mambaforge/envs/scanvi_local/lib/python3.10/site-packages/pytorch_lightning/trainer/setup.py:201: UserWarning: MPS available but not used. Set `accelerator` and `devices` using `Trainer(accelerator='mps', devices=1)`.\n",
      "  rank_zero_warn(\n"
     ]
    },
    {
     "name": "stdout",
     "output_type": "stream",
     "text": [
      "Epoch 363/363: 100%|██████████| 363/363 [47:33<00:00,  7.50s/it, loss=2.2e+03, v_num=1] "
     ]
    },
    {
     "name": "stderr",
     "output_type": "stream",
     "text": [
      "`Trainer.fit` stopped: `max_epochs=363` reached.\n"
     ]
    },
    {
     "name": "stdout",
     "output_type": "stream",
     "text": [
      "Epoch 363/363: 100%|██████████| 363/363 [47:33<00:00,  7.86s/it, loss=2.2e+03, v_num=1]\n"
     ]
    }
   ],
   "source": [
    "vae.train()"
   ]
  },
  {
   "cell_type": "code",
   "execution_count": 29,
   "metadata": {},
   "outputs": [],
   "source": [
    "adata.obsm[\"X_scVI\"] = vae.get_latent_representation()"
   ]
  },
  {
   "cell_type": "code",
   "execution_count": 30,
   "metadata": {},
   "outputs": [],
   "source": [
    "sc.pp.neighbors(adata, use_rep=\"X_scVI\")\n",
    "sc.tl.leiden(adata)"
   ]
  },
  {
   "cell_type": "code",
   "execution_count": 31,
   "metadata": {},
   "outputs": [],
   "source": [
    "# adata.obsm[\"X_mde\"] = mde(adata.obsm[\"X_scVI\"])"
   ]
  },
  {
   "cell_type": "code",
   "execution_count": 33,
   "metadata": {},
   "outputs": [],
   "source": [
    "sc.tl.umap(adata)"
   ]
  },
  {
   "cell_type": "code",
   "execution_count": 35,
   "metadata": {},
   "outputs": [],
   "source": [
    "sc.pl.umap(\n",
    "    adata,\n",
    "    color=[\"batch\", \"leiden\", \"tissue\", \"dataset\", \"donor\"],\n",
    "    frameon=False,\n",
    "    ncols=4,\n",
    ")\n"
   ]
  },
  {
   "cell_type": "code",
   "execution_count": null,
   "metadata": {},
   "outputs": [],
   "source": []
  }
 ],
 "metadata": {
  "kernelspec": {
   "display_name": "scanvi_local",
   "language": "python",
   "name": "python3"
  },
  "language_info": {
   "codemirror_mode": {
    "name": "ipython",
    "version": 3
   },
   "file_extension": ".py",
   "mimetype": "text/x-python",
   "name": "python",
   "nbconvert_exporter": "python",
   "pygments_lexer": "ipython3",
   "version": "3.10.9"
  },
  "orig_nbformat": 4
 },
 "nbformat": 4,
 "nbformat_minor": 2
}
