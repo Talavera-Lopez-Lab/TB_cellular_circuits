{
 "cells": [
  {
   "cell_type": "markdown",
   "metadata": {},
   "source": [
    "### Notebook for the evaluation of `scNym` label transfer for HHH vs DCM immune populations\n",
    "\n",
    "- **Developed by**: Carlos Talavera-López Ph.D\n",
    "- **Institute of Computational Biology - Computational Health Centre - Helmholtz Munich**\n",
    "- v220414 "
   ]
  },
  {
   "cell_type": "markdown",
   "metadata": {},
   "source": [
    "### Import required modules"
   ]
  },
  {
   "cell_type": "code",
   "execution_count": 1,
   "metadata": {},
   "outputs": [],
   "source": [
    "import anndata\n",
    "import scipy as sp\n",
    "import numpy as np\n",
    "import pandas as pd\n",
    "import scanpy as sc"
   ]
  },
  {
   "cell_type": "markdown",
   "metadata": {},
   "source": [
    "### Set up working environment"
   ]
  },
  {
   "cell_type": "code",
   "execution_count": 2,
   "metadata": {},
   "outputs": [
    {
     "name": "stdout",
     "output_type": "stream",
     "text": [
      "-----\n",
      "anndata     0.8.0\n",
      "scanpy      1.9.1\n",
      "-----\n",
      "PIL                         8.4.0\n",
      "anyio                       NA\n",
      "appnope                     0.1.2\n",
      "attr                        21.2.0\n",
      "babel                       2.9.1\n",
      "backcall                    0.2.0\n",
      "beta_ufunc                  NA\n",
      "binom_ufunc                 NA\n",
      "bottleneck                  1.3.2\n",
      "brotli                      NA\n",
      "certifi                     2021.10.08\n",
      "cffi                        1.14.6\n",
      "chardet                     4.0.0\n",
      "charset_normalizer          2.0.4\n",
      "cloudpickle                 2.0.0\n",
      "colorama                    0.4.4\n",
      "cycler                      0.10.0\n",
      "cython_runtime              NA\n",
      "cytoolz                     0.11.0\n",
      "dask                        2021.10.0\n",
      "dateutil                    2.8.2\n",
      "debugpy                     1.4.1\n",
      "decorator                   5.1.0\n",
      "defusedxml                  0.7.1\n",
      "entrypoints                 0.3\n",
      "fsspec                      2021.08.1\n",
      "google                      NA\n",
      "h5py                        3.6.0\n",
      "hypergeom_ufunc             NA\n",
      "idna                        3.2\n",
      "igraph                      0.9.9\n",
      "ipykernel                   6.4.1\n",
      "ipython_genutils            0.2.0\n",
      "jedi                        0.18.0\n",
      "jinja2                      2.11.3\n",
      "joblib                      1.1.0\n",
      "json5                       NA\n",
      "jsonschema                  3.2.0\n",
      "jupyter_server              1.4.1\n",
      "jupyterlab_server           2.8.2\n",
      "kiwisolver                  1.3.1\n",
      "leidenalg                   0.8.9\n",
      "llvmlite                    0.37.0\n",
      "louvain                     0.7.1\n",
      "markupsafe                  1.1.1\n",
      "matplotlib                  3.4.3\n",
      "matplotlib_inline           NA\n",
      "mpl_toolkits                NA\n",
      "natsort                     8.1.0\n",
      "nbclassic                   NA\n",
      "nbformat                    5.1.3\n",
      "nbinom_ufunc                NA\n",
      "numba                       0.54.1\n",
      "numexpr                     2.7.3\n",
      "numpy                       1.20.0\n",
      "packaging                   21.3\n",
      "pandas                      1.4.2\n",
      "parso                       0.8.2\n",
      "pexpect                     4.8.0\n",
      "pickleshare                 0.7.5\n",
      "pkg_resources               NA\n",
      "prometheus_client           NA\n",
      "prompt_toolkit              3.0.20\n",
      "psutil                      5.8.0\n",
      "ptyprocess                  0.7.0\n",
      "pvectorc                    NA\n",
      "pydev_ipython               NA\n",
      "pydevconsole                NA\n",
      "pydevd                      2.4.1\n",
      "pydevd_concurrency_analyser NA\n",
      "pydevd_file_utils           NA\n",
      "pydevd_plugins              NA\n",
      "pydevd_tracing              NA\n",
      "pyexpat                     NA\n",
      "pygments                    2.10.0\n",
      "pyparsing                   3.0.8\n",
      "pyrsistent                  NA\n",
      "pytz                        2022.1\n",
      "requests                    2.26.0\n",
      "scipy                       1.8.0\n",
      "send2trash                  NA\n",
      "session_info                1.0.0\n",
      "setuptools_scm              NA\n",
      "six                         1.16.0\n",
      "sklearn                     0.24.2\n",
      "sniffio                     1.2.0\n",
      "socks                       1.7.1\n",
      "sphinxcontrib               NA\n",
      "storemagic                  NA\n",
      "tblib                       1.7.0\n",
      "texttable                   1.6.4\n",
      "tlz                         0.11.0\n",
      "toolz                       0.11.1\n",
      "tornado                     6.1\n",
      "traitlets                   5.1.0\n",
      "typing_extensions           NA\n",
      "urllib3                     1.26.7\n",
      "wcwidth                     0.2.5\n",
      "yaml                        6.0\n",
      "zmq                         22.2.1\n",
      "zope                        NA\n",
      "-----\n",
      "IPython             7.29.0\n",
      "jupyter_client      6.1.12\n",
      "jupyter_core        4.8.1\n",
      "jupyterlab          3.2.1\n",
      "notebook            6.4.5\n",
      "-----\n",
      "Python 3.9.7 (default, Sep 16 2021, 08:50:36) [Clang 10.0.0 ]\n",
      "macOS-10.16-x86_64-i386-64bit\n",
      "-----\n",
      "Session information updated at 2022-04-14 17:12\n"
     ]
    }
   ],
   "source": [
    "sc.settings.verbosity = 3\n",
    "sc.logging.print_versions()\n",
    "sc.settings.set_figure_params(dpi = 140, color_map = 'magma_r', dpi_save = 300, vector_friendly = True, format = 'svg')"
   ]
  },
  {
   "cell_type": "markdown",
   "metadata": {},
   "source": [
    "### Read in `scNym`-annotated object"
   ]
  },
  {
   "cell_type": "code",
   "execution_count": 3,
   "metadata": {},
   "outputs": [
    {
     "data": {
      "text/plain": [
       "AnnData object with n_obs × n_vars = 142914 × 15172\n",
       "    obs: 'NRP', 'age_group', 'cell_source', 'cell_type', 'donor', 'gender', 'n_counts', 'n_genes', 'percent_mito', 'percent_ribo', 'region', 'sample', 'scrublet_score', 'source', 'type', 'version', 'cell_states', 'Used', 'Cells_Nuclei', 'combined', 'label', 'study', 'Type', 'Individual', 'state', 'leiden', '_scvi_labels', '_scvi_batch', 'leiden_annotated', 'set', 'scNym', 'scNym_confidence', 'Patient', 'Sample', 'Gender', 'Gene', 'Diagnosis', 'Clinical.dominant.mutation', 'Age', 'Mutation.Type', 'Genomic.location', 'Region', 'Origin', 'X10X_version'\n",
       "    var: 'gene_ids-query', 'feature_types-query', 'genome-query', 'gene_ids-Harvard-Nuclei-full-reference-reference', 'feature_types-Harvard-Nuclei-full-reference-reference', 'gene_ids-Sanger-Nuclei-full-reference-reference', 'feature_types-Sanger-Nuclei-full-reference-reference', 'gene_ids-Sanger-Cells-full-reference-reference', 'feature_types-Sanger-Cells-full-reference-reference', 'gene_ids-Sanger-CD45-full-reference-reference', 'feature_types-Sanger-CD45-full-reference-reference', 'n_cells-myeloid-reference-reference', 'n_counts-myeloid-reference-reference', 'n_cells-reference', 'n_counts-reference', 'n_cells', 'n_counts'\n",
       "    uns: 'cell_states_colors', 'neighbors', 'scNym_colors', 'scNym_probabilities', 'scNym_train_results', 'study_colors', 'umap'\n",
       "    obsm: 'X_scnym', 'X_umap'\n",
       "    obsp: 'connectivities', 'distances'"
      ]
     },
     "execution_count": 3,
     "metadata": {},
     "output_type": "execute_result"
    }
   ],
   "source": [
    "heart_immune = sc.read_h5ad('/Volumes/Bf110/ct5/raw_data/heart/analysis/subpopulations/3-immune/immune_HHH_vs_DCM_scNym.v1.h5ad')\n",
    "heart_immune"
   ]
  },
  {
   "cell_type": "markdown",
   "metadata": {},
   "source": [
    "### Fix labels for downstream analyses"
   ]
  },
  {
   "cell_type": "markdown",
   "metadata": {},
   "source": [
    "- Add disease status label"
   ]
  },
  {
   "cell_type": "code",
   "execution_count": 4,
   "metadata": {},
   "outputs": [
    {
     "data": {
      "text/plain": [
       "Index(['Litvinukova_2020', 'MDC_2022', 'Rao_2021', 'Tucker_2020', 'Wang_2019',\n",
       "       'clara'],\n",
       "      dtype='object')"
      ]
     },
     "execution_count": 4,
     "metadata": {},
     "output_type": "execute_result"
    }
   ],
   "source": [
    "  heart_immune.obs['study'].cat.categories"
   ]
  },
  {
   "cell_type": "code",
   "execution_count": 5,
   "metadata": {},
   "outputs": [
    {
     "data": {
      "text/plain": [
       "Index(['DCM', 'Healthy'], dtype='object')"
      ]
     },
     "execution_count": 5,
     "metadata": {},
     "output_type": "execute_result"
    }
   ],
   "source": [
    "heart_immune.obs['disease_status'] = 'Healthy'\n",
    "heart_immune.obs.loc[heart_immune.obs['study'] == 'clara', ['disease_status']] = 'DCM'\n",
    "heart_immune.obs['disease_status'] = heart_immune.obs['disease_status'].astype('category')\n",
    "heart_immune.obs['disease_status'].cat.categories"
   ]
  },
  {
   "cell_type": "markdown",
   "metadata": {},
   "source": [
    "- Normalise `adata.obs['region']` and `adata.obs['donor']`"
   ]
  },
  {
   "cell_type": "code",
   "execution_count": 6,
   "metadata": {},
   "outputs": [
    {
     "data": {
      "text/plain": [
       "View of AnnData object with n_obs × n_vars = 60312 × 15172\n",
       "    obs: 'NRP', 'age_group', 'cell_source', 'cell_type', 'donor', 'gender', 'n_counts', 'n_genes', 'percent_mito', 'percent_ribo', 'region', 'sample', 'scrublet_score', 'source', 'type', 'version', 'cell_states', 'Used', 'Cells_Nuclei', 'combined', 'label', 'study', 'Type', 'Individual', 'state', 'leiden', '_scvi_labels', '_scvi_batch', 'leiden_annotated', 'set', 'scNym', 'scNym_confidence', 'Patient', 'Sample', 'Gender', 'Gene', 'Diagnosis', 'Clinical.dominant.mutation', 'Age', 'Mutation.Type', 'Genomic.location', 'Region', 'Origin', 'X10X_version', 'disease_status'\n",
       "    var: 'gene_ids-query', 'feature_types-query', 'genome-query', 'gene_ids-Harvard-Nuclei-full-reference-reference', 'feature_types-Harvard-Nuclei-full-reference-reference', 'gene_ids-Sanger-Nuclei-full-reference-reference', 'feature_types-Sanger-Nuclei-full-reference-reference', 'gene_ids-Sanger-Cells-full-reference-reference', 'feature_types-Sanger-Cells-full-reference-reference', 'gene_ids-Sanger-CD45-full-reference-reference', 'feature_types-Sanger-CD45-full-reference-reference', 'n_cells-myeloid-reference-reference', 'n_counts-myeloid-reference-reference', 'n_cells-reference', 'n_counts-reference', 'n_cells', 'n_counts'\n",
       "    uns: 'cell_states_colors', 'neighbors', 'scNym_colors', 'scNym_probabilities', 'scNym_train_results', 'study_colors', 'umap'\n",
       "    obsm: 'X_scnym', 'X_umap'\n",
       "    obsp: 'connectivities', 'distances'"
      ]
     },
     "execution_count": 6,
     "metadata": {},
     "output_type": "execute_result"
    }
   ],
   "source": [
    "  heart_immune_dcm =   heart_immune[heart_immune.obs['disease_status'].isin(['DCM'])]\n",
    "  heart_immune_dcm"
   ]
  },
  {
   "cell_type": "code",
   "execution_count": 10,
   "metadata": {},
   "outputs": [
    {
     "data": {
      "text/plain": [
       "Index(['clara'], dtype='object')"
      ]
     },
     "execution_count": 10,
     "metadata": {},
     "output_type": "execute_result"
    }
   ],
   "source": [
    "heart_immune_dcm.obs['study'].cat.categories"
   ]
  },
  {
   "cell_type": "code",
   "execution_count": 11,
   "metadata": {},
   "outputs": [
    {
     "name": "stderr",
     "output_type": "stream",
     "text": [
      "/var/folders/zf/ybmkpvjn0k732x9nytyv3t2r0000gn/T/ipykernel_9203/737687654.py:1: ImplicitModificationWarning: Trying to modify attribute `.obs` of view, initializing view as actual.\n",
      "  heart_immune_dcm.obs['region'] = heart_immune_dcm.obs['Region']\n"
     ]
    }
   ],
   "source": [
    "heart_immune_dcm.obs['region'] = heart_immune_dcm.obs['Region']\n",
    "heart_immune_dcm.obs['cell_source'] = 'MDC-Nuclei'"
   ]
  },
  {
   "cell_type": "code",
   "execution_count": 12,
   "metadata": {},
   "outputs": [
    {
     "name": "stderr",
     "output_type": "stream",
     "text": [
      "/var/folders/zf/ybmkpvjn0k732x9nytyv3t2r0000gn/T/ipykernel_9203/3054979306.py:7: SettingWithCopyWarning: \n",
      "A value is trying to be set on a copy of a slice from a DataFrame\n",
      "\n",
      "See the caveats in the documentation: https://pandas.pydata.org/pandas-docs/stable/user_guide/indexing.html#returning-a-view-versus-a-copy\n",
      "  heart_immune_dcm.obs['region'][heart_immune_dcm.obs['region'] == leiden_from] = celltype\n",
      "/var/folders/zf/ybmkpvjn0k732x9nytyv3t2r0000gn/T/ipykernel_9203/3054979306.py:7: SettingWithCopyWarning: \n",
      "A value is trying to be set on a copy of a slice from a DataFrame\n",
      "\n",
      "See the caveats in the documentation: https://pandas.pydata.org/pandas-docs/stable/user_guide/indexing.html#returning-a-view-versus-a-copy\n",
      "  heart_immune_dcm.obs['region'][heart_immune_dcm.obs['region'] == leiden_from] = celltype\n",
      "/var/folders/zf/ybmkpvjn0k732x9nytyv3t2r0000gn/T/ipykernel_9203/3054979306.py:7: SettingWithCopyWarning: \n",
      "A value is trying to be set on a copy of a slice from a DataFrame\n",
      "\n",
      "See the caveats in the documentation: https://pandas.pydata.org/pandas-docs/stable/user_guide/indexing.html#returning-a-view-versus-a-copy\n",
      "  heart_immune_dcm.obs['region'][heart_immune_dcm.obs['region'] == leiden_from] = celltype\n",
      "/var/folders/zf/ybmkpvjn0k732x9nytyv3t2r0000gn/T/ipykernel_9203/3054979306.py:7: SettingWithCopyWarning: \n",
      "A value is trying to be set on a copy of a slice from a DataFrame\n",
      "\n",
      "See the caveats in the documentation: https://pandas.pydata.org/pandas-docs/stable/user_guide/indexing.html#returning-a-view-versus-a-copy\n",
      "  heart_immune_dcm.obs['region'][heart_immune_dcm.obs['region'] == leiden_from] = celltype\n",
      "/var/folders/zf/ybmkpvjn0k732x9nytyv3t2r0000gn/T/ipykernel_9203/3054979306.py:7: SettingWithCopyWarning: \n",
      "A value is trying to be set on a copy of a slice from a DataFrame\n",
      "\n",
      "See the caveats in the documentation: https://pandas.pydata.org/pandas-docs/stable/user_guide/indexing.html#returning-a-view-versus-a-copy\n",
      "  heart_immune_dcm.obs['region'][heart_immune_dcm.obs['region'] == leiden_from] = celltype\n",
      "/var/folders/zf/ybmkpvjn0k732x9nytyv3t2r0000gn/T/ipykernel_9203/3054979306.py:7: SettingWithCopyWarning: \n",
      "A value is trying to be set on a copy of a slice from a DataFrame\n",
      "\n",
      "See the caveats in the documentation: https://pandas.pydata.org/pandas-docs/stable/user_guide/indexing.html#returning-a-view-versus-a-copy\n",
      "  heart_immune_dcm.obs['region'][heart_immune_dcm.obs['region'] == leiden_from] = celltype\n",
      "/var/folders/zf/ybmkpvjn0k732x9nytyv3t2r0000gn/T/ipykernel_9203/3054979306.py:7: SettingWithCopyWarning: \n",
      "A value is trying to be set on a copy of a slice from a DataFrame\n",
      "\n",
      "See the caveats in the documentation: https://pandas.pydata.org/pandas-docs/stable/user_guide/indexing.html#returning-a-view-versus-a-copy\n",
      "  heart_immune_dcm.obs['region'][heart_immune_dcm.obs['region'] == leiden_from] = celltype\n",
      "/var/folders/zf/ybmkpvjn0k732x9nytyv3t2r0000gn/T/ipykernel_9203/3054979306.py:7: SettingWithCopyWarning: \n",
      "A value is trying to be set on a copy of a slice from a DataFrame\n",
      "\n",
      "See the caveats in the documentation: https://pandas.pydata.org/pandas-docs/stable/user_guide/indexing.html#returning-a-view-versus-a-copy\n",
      "  heart_immune_dcm.obs['region'][heart_immune_dcm.obs['region'] == leiden_from] = celltype\n",
      "/var/folders/zf/ybmkpvjn0k732x9nytyv3t2r0000gn/T/ipykernel_9203/3054979306.py:7: SettingWithCopyWarning: \n",
      "A value is trying to be set on a copy of a slice from a DataFrame\n",
      "\n",
      "See the caveats in the documentation: https://pandas.pydata.org/pandas-docs/stable/user_guide/indexing.html#returning-a-view-versus-a-copy\n",
      "  heart_immune_dcm.obs['region'][heart_immune_dcm.obs['region'] == leiden_from] = celltype\n",
      "/var/folders/zf/ybmkpvjn0k732x9nytyv3t2r0000gn/T/ipykernel_9203/3054979306.py:7: SettingWithCopyWarning: \n",
      "A value is trying to be set on a copy of a slice from a DataFrame\n",
      "\n",
      "See the caveats in the documentation: https://pandas.pydata.org/pandas-docs/stable/user_guide/indexing.html#returning-a-view-versus-a-copy\n",
      "  heart_immune_dcm.obs['region'][heart_immune_dcm.obs['region'] == leiden_from] = celltype\n"
     ]
    }
   ],
   "source": [
    "trans_from=[['AP', 'AX'],['S', 'SP'],['RV'],['FW', 'LV'],['RA'],['LA'],['nan']]\n",
    "trans_to = ['AX', 'SP', 'RV', 'LV', 'RA', 'LA', 'U']\n",
    "\n",
    "heart_immune_dcm.obs['region'] = [str(i) for i in heart_immune_dcm.obs['region']]\n",
    "for leiden,celltype in zip(trans_from, trans_to):\n",
    "    for leiden_from in leiden:\n",
    "        heart_immune_dcm.obs['region'][heart_immune_dcm.obs['region'] == leiden_from] = celltype"
   ]
  },
  {
   "cell_type": "code",
   "execution_count": 13,
   "metadata": {},
   "outputs": [
    {
     "data": {
      "text/plain": [
       "Index(['AX', 'LV', 'RV', 'SP'], dtype='object')"
      ]
     },
     "execution_count": 13,
     "metadata": {},
     "output_type": "execute_result"
    }
   ],
   "source": [
    "heart_immune_dcm.obs['region'] = heart_immune_dcm.obs['region'].astype('category')\n",
    "heart_immune_dcm.obs['region'].cat.categories"
   ]
  },
  {
   "cell_type": "code",
   "execution_count": 14,
   "metadata": {},
   "outputs": [
    {
     "data": {
      "text/plain": [
       "View of AnnData object with n_obs × n_vars = 82602 × 15172\n",
       "    obs: 'NRP', 'age_group', 'cell_source', 'cell_type', 'donor', 'gender', 'n_counts', 'n_genes', 'percent_mito', 'percent_ribo', 'region', 'sample', 'scrublet_score', 'source', 'type', 'version', 'cell_states', 'Used', 'Cells_Nuclei', 'combined', 'label', 'study', 'Type', 'Individual', 'state', 'leiden', '_scvi_labels', '_scvi_batch', 'leiden_annotated', 'set', 'scNym', 'scNym_confidence', 'Patient', 'Sample', 'Gender', 'Gene', 'Diagnosis', 'Clinical.dominant.mutation', 'Age', 'Mutation.Type', 'Genomic.location', 'Region', 'Origin', 'X10X_version', 'disease_status'\n",
       "    var: 'gene_ids-query', 'feature_types-query', 'genome-query', 'gene_ids-Harvard-Nuclei-full-reference-reference', 'feature_types-Harvard-Nuclei-full-reference-reference', 'gene_ids-Sanger-Nuclei-full-reference-reference', 'feature_types-Sanger-Nuclei-full-reference-reference', 'gene_ids-Sanger-Cells-full-reference-reference', 'feature_types-Sanger-Cells-full-reference-reference', 'gene_ids-Sanger-CD45-full-reference-reference', 'feature_types-Sanger-CD45-full-reference-reference', 'n_cells-myeloid-reference-reference', 'n_counts-myeloid-reference-reference', 'n_cells-reference', 'n_counts-reference', 'n_cells', 'n_counts'\n",
       "    uns: 'cell_states_colors', 'neighbors', 'scNym_colors', 'scNym_probabilities', 'scNym_train_results', 'study_colors', 'umap'\n",
       "    obsm: 'X_scnym', 'X_umap'\n",
       "    obsp: 'connectivities', 'distances'"
      ]
     },
     "execution_count": 14,
     "metadata": {},
     "output_type": "execute_result"
    }
   ],
   "source": [
    "  heart_immune_h =   heart_immune[~heart_immune.obs['disease_status'].isin(['DCM'])]\n",
    "  heart_immune_h"
   ]
  },
  {
   "cell_type": "markdown",
   "metadata": {},
   "source": [
    "- Merge objects"
   ]
  },
  {
   "cell_type": "code",
   "execution_count": 15,
   "metadata": {},
   "outputs": [
    {
     "name": "stderr",
     "output_type": "stream",
     "text": [
      "/Users/carlostalavera-lopez/anaconda3/lib/python3.9/site-packages/anndata/_core/anndata.py:1785: FutureWarning: X.dtype being converted to np.float32 from float64. In the next version of anndata (0.9) conversion will not be automatic. Pass dtype explicitly to avoid this warning. Pass `AnnData(X, dtype=X.dtype, ...)` to get the future behavour.\n",
      "  [AnnData(sparse.csr_matrix(a.shape), obs=a.obs) for a in all_adatas],\n"
     ]
    },
    {
     "data": {
      "text/plain": [
       "AnnData object with n_obs × n_vars = 142914 × 15172\n",
       "    obs: 'NRP', 'age_group', 'cell_source', 'cell_type', 'donor', 'gender', 'n_counts', 'n_genes', 'percent_mito', 'percent_ribo', 'region', 'sample', 'scrublet_score', 'source', 'type', 'version', 'cell_states', 'Used', 'Cells_Nuclei', 'combined', 'label', 'study', 'Type', 'Individual', 'state', 'leiden', '_scvi_labels', '_scvi_batch', 'leiden_annotated', 'set', 'scNym', 'scNym_confidence', 'Patient', 'Sample', 'Gender', 'Gene', 'Diagnosis', 'Clinical.dominant.mutation', 'Age', 'Mutation.Type', 'Genomic.location', 'Region', 'Origin', 'X10X_version', 'disease_status', 'diagnosis'\n",
       "    var: 'gene_ids-query', 'feature_types-query', 'genome-query', 'gene_ids-Harvard-Nuclei-full-reference-reference', 'feature_types-Harvard-Nuclei-full-reference-reference', 'gene_ids-Sanger-Nuclei-full-reference-reference', 'feature_types-Sanger-Nuclei-full-reference-reference', 'gene_ids-Sanger-Cells-full-reference-reference', 'feature_types-Sanger-Cells-full-reference-reference', 'gene_ids-Sanger-CD45-full-reference-reference', 'feature_types-Sanger-CD45-full-reference-reference', 'n_cells-myeloid-reference-reference', 'n_counts-myeloid-reference-reference', 'n_cells-reference', 'n_counts-reference', 'n_cells', 'n_counts'\n",
       "    obsm: 'X_scnym', 'X_umap'"
      ]
     },
     "execution_count": 15,
     "metadata": {},
     "output_type": "execute_result"
    }
   ],
   "source": [
    "cardiac_immune = heart_immune_dcm.concatenate(heart_immune_h, batch_key = 'diagnosis', batch_categories = ['dcm', 'no_dcm'], join = 'inner')\n",
    "cardiac_immune"
   ]
  },
  {
   "cell_type": "markdown",
   "metadata": {},
   "source": [
    "### Clean up object `adata.obs` and `adata.var`"
   ]
  },
  {
   "cell_type": "code",
   "execution_count": 16,
   "metadata": {},
   "outputs": [
    {
     "data": {
      "text/plain": [
       "AnnData object with n_obs × n_vars = 142914 × 15172\n",
       "    obs: 'NRP', 'age_group', 'cell_source', 'cell_type', 'donor', 'gender', 'n_counts', 'n_genes', 'percent_mito', 'percent_ribo', 'region', 'sample', 'scrublet_score', 'source', 'type', 'version', 'cell_states', 'Used', 'Cells_Nuclei', 'combined', 'label', 'study', 'Type', 'Individual', 'state', 'leiden', '_scvi_labels', '_scvi_batch', 'leiden_annotated', 'set', 'scNym', 'scNym_confidence', 'Patient', 'Sample', 'Gender', 'Gene', 'Diagnosis', 'Clinical.dominant.mutation', 'Age', 'Mutation.Type', 'Genomic.location', 'Region', 'Origin', 'X10X_version', 'disease_status', 'diagnosis'\n",
       "    var: 'gene_ids-query', 'feature_types-query', 'genome-query', 'gene_ids-Harvard-Nuclei-full-reference-reference', 'feature_types-Harvard-Nuclei-full-reference-reference', 'gene_ids-Sanger-Nuclei-full-reference-reference', 'feature_types-Sanger-Nuclei-full-reference-reference', 'gene_ids-Sanger-Cells-full-reference-reference', 'feature_types-Sanger-Cells-full-reference-reference', 'gene_ids-Sanger-CD45-full-reference-reference', 'feature_types-Sanger-CD45-full-reference-reference', 'n_cells-myeloid-reference-reference', 'n_counts-myeloid-reference-reference', 'n_cells-reference', 'n_counts-reference', 'n_cells', 'n_counts'\n",
       "    obsm: 'X_scnym', 'X_umap'"
      ]
     },
     "execution_count": 16,
     "metadata": {},
     "output_type": "execute_result"
    }
   ],
   "source": [
    "cardiac_immune"
   ]
  },
  {
   "cell_type": "code",
   "execution_count": 17,
   "metadata": {},
   "outputs": [
    {
     "data": {
      "text/plain": [
       "AnnData object with n_obs × n_vars = 142914 × 15172\n",
       "    obs: 'cell_source', 'donor', 'region', 'type', 'cell_states', 'study', 'Individual', 'scNym', 'scNym_confidence', 'Patient', 'Gene', 'disease_status'\n",
       "    var: 'gene_ids-query', 'feature_types-query', 'genome-query', 'gene_ids-Harvard-Nuclei-full-reference-reference', 'feature_types-Harvard-Nuclei-full-reference-reference', 'gene_ids-Sanger-Nuclei-full-reference-reference', 'feature_types-Sanger-Nuclei-full-reference-reference', 'gene_ids-Sanger-Cells-full-reference-reference', 'feature_types-Sanger-Cells-full-reference-reference', 'gene_ids-Sanger-CD45-full-reference-reference', 'feature_types-Sanger-CD45-full-reference-reference', 'n_cells-myeloid-reference-reference', 'n_counts-myeloid-reference-reference', 'n_cells-reference', 'n_counts-reference', 'n_cells', 'n_counts'\n",
       "    obsm: 'X_scnym', 'X_umap'"
      ]
     },
     "execution_count": 17,
     "metadata": {},
     "output_type": "execute_result"
    }
   ],
   "source": [
    "del(cardiac_immune.obs['NRP'])\n",
    "del(cardiac_immune.obs['age_group'])\n",
    "del(cardiac_immune.obs['cell_type'])\n",
    "del(cardiac_immune.obs['gender'])\n",
    "del(cardiac_immune.obs['n_counts'])\n",
    "del(cardiac_immune.obs['n_genes'])\n",
    "del(cardiac_immune.obs['percent_mito'])\n",
    "del(cardiac_immune.obs['percent_ribo'])\n",
    "del(cardiac_immune.obs['sample'])\n",
    "del(cardiac_immune.obs['scrublet_score'])\n",
    "del(cardiac_immune.obs['source'])\n",
    "del(cardiac_immune.obs['version'])\n",
    "del(cardiac_immune.obs['Used'])\n",
    "del(cardiac_immune.obs['Cells_Nuclei'])\n",
    "del(cardiac_immune.obs['combined'])\n",
    "del(cardiac_immune.obs['label'])\n",
    "del(cardiac_immune.obs['Type'])\n",
    "del(cardiac_immune.obs['state'])\n",
    "del(cardiac_immune.obs['leiden'])\n",
    "del(cardiac_immune.obs['_scvi_labels'])\n",
    "del(cardiac_immune.obs['_scvi_batch'])\n",
    "del(cardiac_immune.obs['leiden_annotated'])\n",
    "del(cardiac_immune.obs['set'])\n",
    "del(cardiac_immune.obs['Sample'])\n",
    "del(cardiac_immune.obs['Gender'])\n",
    "del(cardiac_immune.obs['Diagnosis'])\n",
    "del(cardiac_immune.obs['Clinical.dominant.mutation'])\n",
    "del(cardiac_immune.obs['Age'])\n",
    "del(cardiac_immune.obs['Mutation.Type'])\n",
    "del(cardiac_immune.obs['Genomic.location'])\n",
    "del(cardiac_immune.obs['Region'])\n",
    "del(cardiac_immune.obs['Origin'])\n",
    "del(cardiac_immune.obs['X10X_version'])\n",
    "del(cardiac_immune.obs['diagnosis'])\n",
    "cardiac_immune"
   ]
  },
  {
   "cell_type": "code",
   "execution_count": 18,
   "metadata": {},
   "outputs": [
    {
     "data": {
      "text/plain": [
       "AnnData object with n_obs × n_vars = 142914 × 15172\n",
       "    obs: 'cell_source', 'donor', 'region', 'type', 'cell_states', 'study', 'Individual', 'scNym', 'scNym_confidence', 'Patient', 'Gene', 'disease_status'\n",
       "    obsm: 'X_scnym', 'X_umap'"
      ]
     },
     "execution_count": 18,
     "metadata": {},
     "output_type": "execute_result"
    }
   ],
   "source": [
    "del(cardiac_immune.var['gene_ids-query'])\n",
    "del(cardiac_immune.var['feature_types-query'])\n",
    "del(cardiac_immune.var['genome-query'])\n",
    "del(cardiac_immune.var['gene_ids-Harvard-Nuclei-full-reference-reference'])\n",
    "del(cardiac_immune.var['feature_types-Harvard-Nuclei-full-reference-reference'])\n",
    "del(cardiac_immune.var['gene_ids-Sanger-Nuclei-full-reference-reference'])\n",
    "del(cardiac_immune.var['feature_types-Sanger-Nuclei-full-reference-reference'])\n",
    "del(cardiac_immune.var['gene_ids-Sanger-Cells-full-reference-reference'])\n",
    "del(cardiac_immune.var['feature_types-Sanger-Cells-full-reference-reference'])\n",
    "del(cardiac_immune.var['gene_ids-Sanger-CD45-full-reference-reference'])\n",
    "del(cardiac_immune.var['feature_types-Sanger-CD45-full-reference-reference'])\n",
    "del(cardiac_immune.var['n_cells-myeloid-reference-reference'])\n",
    "del(cardiac_immune.var['n_counts-myeloid-reference-reference'])\n",
    "del(cardiac_immune.var['n_cells-reference'])\n",
    "del(cardiac_immune.var['n_counts-reference'])\n",
    "del(cardiac_immune.var['n_cells'])\n",
    "del(cardiac_immune.var['n_counts'])\n",
    "cardiac_immune"
   ]
  },
  {
   "cell_type": "code",
   "execution_count": 19,
   "metadata": {},
   "outputs": [
    {
     "data": {
      "text/plain": [
       "AnnData object with n_obs × n_vars = 142914 × 15172\n",
       "    obs: 'cell_source', 'donor', 'region', 'type', 'cell_states', 'study', 'Individual', 'scNym', 'scNym_confidence', 'Patient', 'Gene', 'disease_status'"
      ]
     },
     "execution_count": 19,
     "metadata": {},
     "output_type": "execute_result"
    }
   ],
   "source": [
    "del(cardiac_immune.obsm)\n",
    "cardiac_immune"
   ]
  },
  {
   "cell_type": "code",
   "execution_count": 20,
   "metadata": {},
   "outputs": [
    {
     "name": "stderr",
     "output_type": "stream",
     "text": [
      "... storing 'cell_source' as categorical\n",
      "... storing 'donor' as categorical\n",
      "... storing 'region' as categorical\n",
      "... storing 'type' as categorical\n",
      "... storing 'cell_states' as categorical\n",
      "... storing 'study' as categorical\n",
      "... storing 'Individual' as categorical\n",
      "... storing 'Patient' as categorical\n",
      "... storing 'Gene' as categorical\n",
      "... storing 'disease_status' as categorical\n"
     ]
    }
   ],
   "source": [
    "cardiac_immune.write('/Volumes/Bf110/ct5/raw_data/heart/analysis/subpopulations/3-immune/immune_HHH-DCM_scNym.raw.h5ad')"
   ]
  },
  {
   "cell_type": "code",
   "execution_count": 23,
   "metadata": {},
   "outputs": [
    {
     "name": "stdout",
     "output_type": "stream",
     "text": [
      "normalizing by total count per cell\n",
      "    finished (0:00:02): normalized adata.X and added    'n_counts', counts per cell before normalization (adata.obs)\n"
     ]
    }
   ],
   "source": [
    "sc.pp.normalize_per_cell(cardiac_immune, counts_per_cell_after = 1e4)\n",
    "sc.pp.log1p(cardiac_immune)\n",
    "cardiac_immune.X = cardiac_immune.X.tocsc() ### Thanks to `kp9` for help with this!"
   ]
  },
  {
   "cell_type": "markdown",
   "metadata": {},
   "source": [
    "### Export object"
   ]
  },
  {
   "cell_type": "code",
   "execution_count": 24,
   "metadata": {},
   "outputs": [
    {
     "data": {
      "text/plain": [
       "AnnData object with n_obs × n_vars = 142914 × 15172\n",
       "    obs: 'cell_source', 'donor', 'region', 'type', 'cell_states', 'study', 'Individual', 'scNym', 'scNym_confidence', 'Patient', 'Gene', 'disease_status', 'n_counts'"
      ]
     },
     "execution_count": 24,
     "metadata": {},
     "output_type": "execute_result"
    }
   ],
   "source": [
    "adata_export = anndata.AnnData(X = cardiac_immune.X.todense(), var = cardiac_immune.var, obs = cardiac_immune.obs)\n",
    "adata_export"
   ]
  },
  {
   "cell_type": "markdown",
   "metadata": {},
   "source": [
    "- Split between healthy and diseased"
   ]
  },
  {
   "cell_type": "code",
   "execution_count": 27,
   "metadata": {},
   "outputs": [
    {
     "data": {
      "text/plain": [
       "Index(['DCM', 'Healthy'], dtype='object')"
      ]
     },
     "execution_count": 27,
     "metadata": {},
     "output_type": "execute_result"
    }
   ],
   "source": [
    "adata_export.obs['disease_status'].cat.categories"
   ]
  },
  {
   "cell_type": "code",
   "execution_count": 29,
   "metadata": {},
   "outputs": [],
   "source": [
    "\n",
    "adata_export_H = adata_export[adata_export.obs['disease_status'].isin(['Healthy'])]\n",
    "adata_export_D = adata_export[adata_export.obs['disease_status'].isin(['DCM'])]"
   ]
  },
  {
   "cell_type": "code",
   "execution_count": 30,
   "metadata": {},
   "outputs": [],
   "source": [
    "adata_export_H.write('/Volumes/Bf110/ct5/raw_data/heart/analysis/subpopulations/3-immune/immune_HHH_scNym.log.h5ad')"
   ]
  },
  {
   "cell_type": "code",
   "execution_count": 31,
   "metadata": {},
   "outputs": [],
   "source": [
    "adata_export_D.write('/Volumes/Bf110/ct5/raw_data/heart/analysis/subpopulations/3-immune/immune_DCM_scNym.log.h5ad')"
   ]
  },
  {
   "cell_type": "code",
   "execution_count": null,
   "metadata": {},
   "outputs": [],
   "source": []
  }
 ],
 "metadata": {
  "interpreter": {
   "hash": "0d0c781dca95c877d1b0d51ca62b821f8d509d7b3b1321143ceb586b5028cab7"
  },
  "kernelspec": {
   "display_name": "Python 3.9.7 ('base')",
   "language": "python",
   "name": "python3"
  },
  "language_info": {
   "codemirror_mode": {
    "name": "ipython",
    "version": 3
   },
   "file_extension": ".py",
   "mimetype": "text/x-python",
   "name": "python",
   "nbconvert_exporter": "python",
   "pygments_lexer": "ipython3",
   "version": "3.9.7"
  },
  "orig_nbformat": 4
 },
 "nbformat": 4,
 "nbformat_minor": 2
}
