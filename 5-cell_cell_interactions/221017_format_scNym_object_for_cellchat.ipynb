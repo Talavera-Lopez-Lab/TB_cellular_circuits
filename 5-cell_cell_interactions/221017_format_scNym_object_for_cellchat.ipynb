{
 "cells": [
  {
   "cell_type": "markdown",
   "metadata": {},
   "source": [
    "### Notebook for the formatting of TB PBMC objects as input for `scNym`\n",
    "\n",
    "- **Developed by**: Carlos Talavera-López Ph.D\n",
    "- **Institute of Computational Biology - Computational Health Centre - Helmholtz Munich**\n",
    "- v221017"
   ]
  },
  {
   "cell_type": "markdown",
   "metadata": {},
   "source": [
    "### Import required modules"
   ]
  },
  {
   "cell_type": "code",
   "execution_count": 1,
   "metadata": {},
   "outputs": [],
   "source": [
    "import anndata\n",
    "import scipy as sp\n",
    "import numpy as np\n",
    "import pandas as pd\n",
    "import scanpy as sc"
   ]
  },
  {
   "cell_type": "markdown",
   "metadata": {},
   "source": [
    "### Set up working environment"
   ]
  },
  {
   "cell_type": "code",
   "execution_count": 2,
   "metadata": {},
   "outputs": [
    {
     "name": "stdout",
     "output_type": "stream",
     "text": [
      "-----\n",
      "anndata     0.8.0\n",
      "scanpy      1.9.1\n",
      "-----\n",
      "PIL                         9.1.0\n",
      "anyio                       NA\n",
      "appnope                     0.1.2\n",
      "attr                        21.2.0\n",
      "babel                       2.9.1\n",
      "backcall                    0.2.0\n",
      "beta_ufunc                  NA\n",
      "binom_ufunc                 NA\n",
      "bottleneck                  1.3.2\n",
      "brotli                      NA\n",
      "certifi                     2021.10.08\n",
      "cffi                        1.14.6\n",
      "chardet                     4.0.0\n",
      "charset_normalizer          2.0.4\n",
      "cloudpickle                 2.0.0\n",
      "colorama                    0.4.4\n",
      "cycler                      0.10.0\n",
      "cython_runtime              NA\n",
      "cytoolz                     0.11.0\n",
      "dask                        2021.10.0\n",
      "dateutil                    2.8.2\n",
      "debugpy                     1.4.1\n",
      "decorator                   5.1.0\n",
      "defusedxml                  0.7.1\n",
      "entrypoints                 0.3\n",
      "fsspec                      2021.08.1\n",
      "google                      NA\n",
      "h5py                        3.6.0\n",
      "hypergeom_ufunc             NA\n",
      "idna                        3.2\n",
      "igraph                      0.9.9\n",
      "ipykernel                   6.4.1\n",
      "ipython_genutils            0.2.0\n",
      "jedi                        0.18.0\n",
      "jinja2                      2.11.3\n",
      "joblib                      1.1.0\n",
      "json5                       NA\n",
      "jsonschema                  3.2.0\n",
      "jupyter_server              1.4.1\n",
      "jupyterlab_server           2.8.2\n",
      "kiwisolver                  1.4.2\n",
      "leidenalg                   0.8.9\n",
      "llvmlite                    0.38.0\n",
      "louvain                     0.7.1\n",
      "markupsafe                  1.1.1\n",
      "matplotlib                  3.5.1\n",
      "matplotlib_inline           NA\n",
      "mpl_toolkits                NA\n",
      "natsort                     8.1.0\n",
      "nbclassic                   NA\n",
      "nbformat                    5.1.3\n",
      "nbinom_ufunc                NA\n",
      "numba                       0.55.1\n",
      "numexpr                     2.7.3\n",
      "numpy                       1.19.5\n",
      "packaging                   21.3\n",
      "pandas                      1.4.2\n",
      "parso                       0.8.2\n",
      "pexpect                     4.8.0\n",
      "pickleshare                 0.7.5\n",
      "pkg_resources               NA\n",
      "prometheus_client           NA\n",
      "prompt_toolkit              3.0.20\n",
      "psutil                      5.8.0\n",
      "ptyprocess                  0.7.0\n",
      "pvectorc                    NA\n",
      "pydev_ipython               NA\n",
      "pydevconsole                NA\n",
      "pydevd                      2.4.1\n",
      "pydevd_concurrency_analyser NA\n",
      "pydevd_file_utils           NA\n",
      "pydevd_plugins              NA\n",
      "pydevd_tracing              NA\n",
      "pyexpat                     NA\n",
      "pygments                    2.10.0\n",
      "pyparsing                   3.0.8\n",
      "pyrsistent                  NA\n",
      "pytz                        2022.1\n",
      "requests                    2.26.0\n",
      "scipy                       1.8.0\n",
      "send2trash                  NA\n",
      "session_info                1.0.0\n",
      "setuptools                  62.1.0\n",
      "setuptools_scm              NA\n",
      "six                         1.16.0\n",
      "sklearn                     1.0.2\n",
      "sniffio                     1.2.0\n",
      "socks                       1.7.1\n",
      "sphinxcontrib               NA\n",
      "storemagic                  NA\n",
      "tblib                       1.7.0\n",
      "texttable                   1.6.4\n",
      "threadpoolctl               3.1.0\n",
      "tlz                         0.11.0\n",
      "toolz                       0.11.1\n",
      "tornado                     6.1\n",
      "traitlets                   5.1.0\n",
      "typing_extensions           NA\n",
      "urllib3                     1.26.7\n",
      "wcwidth                     0.2.5\n",
      "yaml                        6.0\n",
      "zipp                        NA\n",
      "zmq                         22.2.1\n",
      "zope                        NA\n",
      "-----\n",
      "IPython             7.29.0\n",
      "jupyter_client      6.1.12\n",
      "jupyter_core        4.8.1\n",
      "jupyterlab          3.2.1\n",
      "notebook            6.4.5\n",
      "-----\n",
      "Python 3.9.7 (default, Sep 16 2021, 08:50:36) [Clang 10.0.0 ]\n",
      "macOS-10.16-x86_64-i386-64bit\n",
      "-----\n",
      "Session information updated at 2022-10-18 06:18\n"
     ]
    }
   ],
   "source": [
    "sc.settings.verbosity = 3\n",
    "sc.logging.print_versions()\n",
    "sc.settings.set_figure_params(dpi = 140, color_map = 'magma_r', dpi_save = 300, vector_friendly = True, format = 'svg')"
   ]
  },
  {
   "cell_type": "markdown",
   "metadata": {},
   "source": [
    "### Read in `scNym`-annotated object"
   ]
  },
  {
   "cell_type": "code",
   "execution_count": 3,
   "metadata": {},
   "outputs": [
    {
     "data": {
      "text/plain": [
       "AnnData object with n_obs × n_vars = 145381 × 61533\n",
       "    obs: 'study', 'individual', 'sample', 'tissue', 'donor', 'age', 'gender', 'status', 'data_type', 'centre', 'version', 'batch', 'n_genes', 'n_genes_by_counts', 'total_counts', 'total_counts_mt', 'pct_counts_mt', 'total_counts_ribo', 'pct_counts_ribo', 'percent_mt2', 'n_counts', 'percent_chrY', 'XIST-counts', 'S_score', 'G2M_score', 'doublet_scores', 'predicted_doublets', 'object', 'protocol', 'dataset', 'scNym', 'scNym_confidence', 'cell_type'\n",
       "    var: 'gene_id', 'mt', 'ribo', 'n_cells_by_counts-caiy2020', 'mean_counts-caiy2020', 'pct_dropout_by_counts-caiy2020', 'total_counts-caiy2020', 'n_cells_by_counts-caiy2022', 'mean_counts-caiy2022', 'pct_dropout_by_counts-caiy2022', 'total_counts-caiy2022'\n",
       "    layers: 'counts', 'sqrt_norm'"
      ]
     },
     "execution_count": 3,
     "metadata": {},
     "output_type": "execute_result"
    }
   ],
   "source": [
    "tb_pbmc = sc.read_h5ad('/Users/carlostalavera-lopez/Downloads/CaiY_TB-PBMC_scnym_annotated_ctl221017.h5ad')\n",
    "tb_pbmc"
   ]
  },
  {
   "cell_type": "markdown",
   "metadata": {},
   "source": [
    "### Transform counts to `cellchat` liking"
   ]
  },
  {
   "cell_type": "code",
   "execution_count": 4,
   "metadata": {},
   "outputs": [
    {
     "name": "stdout",
     "output_type": "stream",
     "text": [
      "normalizing by total count per cell\n",
      "    finished (0:00:03): normalized adata.X and added    'n_counts', counts per cell before normalization (adata.obs)\n"
     ]
    }
   ],
   "source": [
    "sc.pp.normalize_per_cell(tb_pbmc, counts_per_cell_after = 1e4)\n",
    "sc.pp.log1p(tb_pbmc)\n",
    "tb_pbmc.X = tb_pbmc.X.tocsc() ### Thanks to `kp9` for help with this!"
   ]
  },
  {
   "cell_type": "markdown",
   "metadata": {},
   "source": [
    "### Split dataset by tissue"
   ]
  },
  {
   "cell_type": "code",
   "execution_count": 5,
   "metadata": {},
   "outputs": [
    {
     "data": {
      "text/plain": [
       "Index(['PBMC', 'PFMC'], dtype='object')"
      ]
     },
     "execution_count": 5,
     "metadata": {},
     "output_type": "execute_result"
    }
   ],
   "source": [
    "tb_pbmc.obs['tissue'].cat.categories"
   ]
  },
  {
   "cell_type": "code",
   "execution_count": 6,
   "metadata": {},
   "outputs": [
    {
     "data": {
      "text/plain": [
       "active_TB    105339\n",
       "Healthy       22049\n",
       "latent_TB     17993\n",
       "Name: status, dtype: int64"
      ]
     },
     "execution_count": 6,
     "metadata": {},
     "output_type": "execute_result"
    }
   ],
   "source": [
    "tb_pbmc.obs['status'].value_counts()"
   ]
  },
  {
   "cell_type": "code",
   "execution_count": 7,
   "metadata": {},
   "outputs": [
    {
     "data": {
      "text/plain": [
       "PBMC    100600\n",
       "PFMC     44781\n",
       "Name: tissue, dtype: int64"
      ]
     },
     "execution_count": 7,
     "metadata": {},
     "output_type": "execute_result"
    }
   ],
   "source": [
    "tb_pbmc.obs['tissue'].value_counts()"
   ]
  },
  {
   "cell_type": "code",
   "execution_count": 8,
   "metadata": {},
   "outputs": [
    {
     "data": {
      "text/plain": [
       "View of AnnData object with n_obs × n_vars = 100600 × 61533\n",
       "    obs: 'study', 'individual', 'sample', 'tissue', 'donor', 'age', 'gender', 'status', 'data_type', 'centre', 'version', 'batch', 'n_genes', 'n_genes_by_counts', 'total_counts', 'total_counts_mt', 'pct_counts_mt', 'total_counts_ribo', 'pct_counts_ribo', 'percent_mt2', 'n_counts', 'percent_chrY', 'XIST-counts', 'S_score', 'G2M_score', 'doublet_scores', 'predicted_doublets', 'object', 'protocol', 'dataset', 'scNym', 'scNym_confidence', 'cell_type'\n",
       "    var: 'gene_id', 'mt', 'ribo', 'n_cells_by_counts-caiy2020', 'mean_counts-caiy2020', 'pct_dropout_by_counts-caiy2020', 'total_counts-caiy2020', 'n_cells_by_counts-caiy2022', 'mean_counts-caiy2022', 'pct_dropout_by_counts-caiy2022', 'total_counts-caiy2022'\n",
       "    uns: 'log1p'\n",
       "    layers: 'counts', 'sqrt_norm'"
      ]
     },
     "execution_count": 8,
     "metadata": {},
     "output_type": "execute_result"
    }
   ],
   "source": [
    "pbmc = tb_pbmc[tb_pbmc.obs['tissue'].isin(['PBMC'])]\n",
    "pbmc"
   ]
  },
  {
   "cell_type": "code",
   "execution_count": 9,
   "metadata": {},
   "outputs": [
    {
     "data": {
      "text/plain": [
       "active_TB    60558\n",
       "Healthy      22049\n",
       "latent_TB    17993\n",
       "Name: status, dtype: int64"
      ]
     },
     "execution_count": 9,
     "metadata": {},
     "output_type": "execute_result"
    }
   ],
   "source": [
    "pbmc.obs['status'].value_counts()"
   ]
  },
  {
   "cell_type": "code",
   "execution_count": 10,
   "metadata": {},
   "outputs": [
    {
     "data": {
      "text/plain": [
       "View of AnnData object with n_obs × n_vars = 44781 × 61533\n",
       "    obs: 'study', 'individual', 'sample', 'tissue', 'donor', 'age', 'gender', 'status', 'data_type', 'centre', 'version', 'batch', 'n_genes', 'n_genes_by_counts', 'total_counts', 'total_counts_mt', 'pct_counts_mt', 'total_counts_ribo', 'pct_counts_ribo', 'percent_mt2', 'n_counts', 'percent_chrY', 'XIST-counts', 'S_score', 'G2M_score', 'doublet_scores', 'predicted_doublets', 'object', 'protocol', 'dataset', 'scNym', 'scNym_confidence', 'cell_type'\n",
       "    var: 'gene_id', 'mt', 'ribo', 'n_cells_by_counts-caiy2020', 'mean_counts-caiy2020', 'pct_dropout_by_counts-caiy2020', 'total_counts-caiy2020', 'n_cells_by_counts-caiy2022', 'mean_counts-caiy2022', 'pct_dropout_by_counts-caiy2022', 'total_counts-caiy2022'\n",
       "    uns: 'log1p'\n",
       "    layers: 'counts', 'sqrt_norm'"
      ]
     },
     "execution_count": 10,
     "metadata": {},
     "output_type": "execute_result"
    }
   ],
   "source": [
    "pfmc = tb_pbmc[tb_pbmc.obs['tissue'].isin(['PFMC'])]\n",
    "pfmc"
   ]
  },
  {
   "cell_type": "markdown",
   "metadata": {},
   "source": [
    "### Split PBMCs by status"
   ]
  },
  {
   "cell_type": "code",
   "execution_count": 11,
   "metadata": {},
   "outputs": [
    {
     "data": {
      "text/plain": [
       "View of AnnData object with n_obs × n_vars = 22049 × 61533\n",
       "    obs: 'study', 'individual', 'sample', 'tissue', 'donor', 'age', 'gender', 'status', 'data_type', 'centre', 'version', 'batch', 'n_genes', 'n_genes_by_counts', 'total_counts', 'total_counts_mt', 'pct_counts_mt', 'total_counts_ribo', 'pct_counts_ribo', 'percent_mt2', 'n_counts', 'percent_chrY', 'XIST-counts', 'S_score', 'G2M_score', 'doublet_scores', 'predicted_doublets', 'object', 'protocol', 'dataset', 'scNym', 'scNym_confidence', 'cell_type'\n",
       "    var: 'gene_id', 'mt', 'ribo', 'n_cells_by_counts-caiy2020', 'mean_counts-caiy2020', 'pct_dropout_by_counts-caiy2020', 'total_counts-caiy2020', 'n_cells_by_counts-caiy2022', 'mean_counts-caiy2022', 'pct_dropout_by_counts-caiy2022', 'total_counts-caiy2022'\n",
       "    uns: 'log1p'\n",
       "    layers: 'counts', 'sqrt_norm'"
      ]
     },
     "execution_count": 11,
     "metadata": {},
     "output_type": "execute_result"
    }
   ],
   "source": [
    "healthy_pbmc = pbmc[pbmc.obs['status'].isin(['Healthy'])]\n",
    "healthy_pbmc"
   ]
  },
  {
   "cell_type": "code",
   "execution_count": 12,
   "metadata": {},
   "outputs": [
    {
     "data": {
      "text/plain": [
       "View of AnnData object with n_obs × n_vars = 60558 × 61533\n",
       "    obs: 'study', 'individual', 'sample', 'tissue', 'donor', 'age', 'gender', 'status', 'data_type', 'centre', 'version', 'batch', 'n_genes', 'n_genes_by_counts', 'total_counts', 'total_counts_mt', 'pct_counts_mt', 'total_counts_ribo', 'pct_counts_ribo', 'percent_mt2', 'n_counts', 'percent_chrY', 'XIST-counts', 'S_score', 'G2M_score', 'doublet_scores', 'predicted_doublets', 'object', 'protocol', 'dataset', 'scNym', 'scNym_confidence', 'cell_type'\n",
       "    var: 'gene_id', 'mt', 'ribo', 'n_cells_by_counts-caiy2020', 'mean_counts-caiy2020', 'pct_dropout_by_counts-caiy2020', 'total_counts-caiy2020', 'n_cells_by_counts-caiy2022', 'mean_counts-caiy2022', 'pct_dropout_by_counts-caiy2022', 'total_counts-caiy2022'\n",
       "    uns: 'log1p'\n",
       "    layers: 'counts', 'sqrt_norm'"
      ]
     },
     "execution_count": 12,
     "metadata": {},
     "output_type": "execute_result"
    }
   ],
   "source": [
    "active_pbmc = pbmc[pbmc.obs['status'].isin(['active_TB'])]\n",
    "active_pbmc"
   ]
  },
  {
   "cell_type": "code",
   "execution_count": 13,
   "metadata": {},
   "outputs": [
    {
     "data": {
      "text/plain": [
       "View of AnnData object with n_obs × n_vars = 17993 × 61533\n",
       "    obs: 'study', 'individual', 'sample', 'tissue', 'donor', 'age', 'gender', 'status', 'data_type', 'centre', 'version', 'batch', 'n_genes', 'n_genes_by_counts', 'total_counts', 'total_counts_mt', 'pct_counts_mt', 'total_counts_ribo', 'pct_counts_ribo', 'percent_mt2', 'n_counts', 'percent_chrY', 'XIST-counts', 'S_score', 'G2M_score', 'doublet_scores', 'predicted_doublets', 'object', 'protocol', 'dataset', 'scNym', 'scNym_confidence', 'cell_type'\n",
       "    var: 'gene_id', 'mt', 'ribo', 'n_cells_by_counts-caiy2020', 'mean_counts-caiy2020', 'pct_dropout_by_counts-caiy2020', 'total_counts-caiy2020', 'n_cells_by_counts-caiy2022', 'mean_counts-caiy2022', 'pct_dropout_by_counts-caiy2022', 'total_counts-caiy2022'\n",
       "    uns: 'log1p'\n",
       "    layers: 'counts', 'sqrt_norm'"
      ]
     },
     "execution_count": 13,
     "metadata": {},
     "output_type": "execute_result"
    }
   ],
   "source": [
    "latent_pbmc = pbmc[pbmc.obs['status'].isin(['latent_TB'])]\n",
    "latent_pbmc"
   ]
  },
  {
   "cell_type": "markdown",
   "metadata": {},
   "source": [
    "### Export object"
   ]
  },
  {
   "cell_type": "code",
   "execution_count": 14,
   "metadata": {},
   "outputs": [],
   "source": [
    "pfmc_export = anndata.AnnData(X = pfmc.X, var = pfmc.var, obs = pfmc.obs)\n",
    "\n",
    "healthy_export = anndata.AnnData(X = healthy_pbmc.X, var = healthy_pbmc.var, obs = healthy_pbmc.obs)\n",
    "active_export = anndata.AnnData(X = active_pbmc.X, var = active_pbmc.var, obs = active_pbmc.obs)\n",
    "latent_export = anndata.AnnData(X = latent_pbmc.X, var = latent_pbmc.var, obs = latent_pbmc.obs)"
   ]
  },
  {
   "cell_type": "code",
   "execution_count": 15,
   "metadata": {},
   "outputs": [],
   "source": [
    "healthy_export.write('/Users/carlostalavera-lopez/Downloads/CaiY_Healthy-PBMC_cellchat-ready.log.h5ad')"
   ]
  },
  {
   "cell_type": "code",
   "execution_count": 16,
   "metadata": {},
   "outputs": [],
   "source": [
    "active_export.write('/Users/carlostalavera-lopez/Downloads/CaiY_activeTB-PBMC_cellchat-ready.log.h5ad')"
   ]
  },
  {
   "cell_type": "code",
   "execution_count": 17,
   "metadata": {},
   "outputs": [],
   "source": [
    "latent_export.write('/Users/carlostalavera-lopez/Downloads/CaiY_latentTB-PBMC_cellchat-ready.log.h5ad')"
   ]
  },
  {
   "cell_type": "code",
   "execution_count": 18,
   "metadata": {},
   "outputs": [],
   "source": [
    "pfmc_export.write('/Users/carlostalavera-lopez/Downloads/CaiY_TB-PFMC_cellchat-ready.log.h5ad')"
   ]
  },
  {
   "cell_type": "code",
   "execution_count": null,
   "metadata": {},
   "outputs": [],
   "source": []
  }
 ],
 "metadata": {
  "kernelspec": {
   "display_name": "Python 3.9.7 ('base')",
   "language": "python",
   "name": "python3"
  },
  "language_info": {
   "codemirror_mode": {
    "name": "ipython",
    "version": 3
   },
   "file_extension": ".py",
   "mimetype": "text/x-python",
   "name": "python",
   "nbconvert_exporter": "python",
   "pygments_lexer": "ipython3",
   "version": "3.9.7"
  },
  "orig_nbformat": 4,
  "vscode": {
   "interpreter": {
    "hash": "0d0c781dca95c877d1b0d51ca62b821f8d509d7b3b1321143ceb586b5028cab7"
   }
  }
 },
 "nbformat": 4,
 "nbformat_minor": 2
}
