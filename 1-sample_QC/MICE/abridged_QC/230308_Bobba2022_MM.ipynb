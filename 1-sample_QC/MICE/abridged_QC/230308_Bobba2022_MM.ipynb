{
 "cells": [
  {
   "attachments": {},
   "cell_type": "markdown",
   "metadata": {},
   "source": [
    "#### Bobba 2022 abridged QC\n",
    "\n",
    "**Objective**: Run QC steps without normalisation/UMAP for Bobba 2022 data\n",
    "\n",
    "**Developed by**: Mairi McClean\n",
    "\n",
    "**Affiliation**: Institute of Computational Biology, Helmholtz Zentrum Munich\n",
    "\n",
    "**v230308**"
   ]
  },
  {
   "cell_type": "code",
   "execution_count": 1,
   "metadata": {},
   "outputs": [],
   "source": [
    "import anndata\n",
    "import logging\n",
    "import numpy as np\n",
    "import pandas as pd\n",
    "import scanpy as sc\n",
    "import seaborn as sb\n",
    "import scrublet as scr\n",
    "import matplotlib.pyplot as plt\n",
    "import pybiomart as biomart\n",
    "from matplotlib import colors\n",
    "from matplotlib import rcParams"
   ]
  },
  {
   "cell_type": "code",
   "execution_count": 2,
   "metadata": {},
   "outputs": [
    {
     "name": "stdout",
     "output_type": "stream",
     "text": [
      "-----\n",
      "anndata     0.8.0\n",
      "scanpy      1.9.2\n",
      "-----\n",
      "PIL                 8.2.0\n",
      "anyio               NA\n",
      "appnope             0.1.3\n",
      "arrow               1.2.3\n",
      "asttokens           NA\n",
      "attr                22.2.0\n",
      "babel               2.12.1\n",
      "backcall            0.2.0\n",
      "beta_ufunc          NA\n",
      "binom_ufunc         NA\n",
      "brotli              NA\n",
      "certifi             2022.12.07\n",
      "cffi                1.15.1\n",
      "charset_normalizer  2.1.1\n",
      "colorama            0.4.6\n",
      "comm                0.1.2\n",
      "cycler              0.10.0\n",
      "cython_runtime      NA\n",
      "dateutil            2.8.2\n",
      "debugpy             1.6.6\n",
      "decorator           5.1.1\n",
      "executing           1.2.0\n",
      "fastjsonschema      NA\n",
      "fqdn                NA\n",
      "future              0.18.3\n",
      "h5py                3.8.0\n",
      "hypergeom_ufunc     NA\n",
      "idna                3.4\n",
      "igraph              0.10.4\n",
      "ipykernel           6.21.2\n",
      "ipython_genutils    0.2.0\n",
      "isoduration         NA\n",
      "jedi                0.18.2\n",
      "jinja2              3.1.2\n",
      "joblib              1.2.0\n",
      "json5               NA\n",
      "jsonpointer         2.3\n",
      "jsonschema          4.17.3\n",
      "jupyter_events      0.6.3\n",
      "jupyter_server      2.4.0\n",
      "jupyterlab_server   2.20.0\n",
      "kiwisolver          1.4.4\n",
      "leidenalg           0.9.1\n",
      "llvmlite            0.39.1\n",
      "markupsafe          2.1.2\n",
      "matplotlib          3.5.3\n",
      "mpl_toolkits        NA\n",
      "natsort             8.3.1\n",
      "nbformat            5.7.3\n",
      "nbinom_ufunc        NA\n",
      "ncf_ufunc           NA\n",
      "numba               0.56.4\n",
      "numpy               1.23.5\n",
      "packaging           23.0\n",
      "pandas              1.5.3\n",
      "parso               0.8.3\n",
      "pexpect             4.8.0\n",
      "pickleshare         0.7.5\n",
      "pkg_resources       NA\n",
      "platformdirs        3.1.0\n",
      "prometheus_client   NA\n",
      "prompt_toolkit      3.0.38\n",
      "psutil              5.9.4\n",
      "ptyprocess          0.7.0\n",
      "pure_eval           0.2.2\n",
      "pvectorc            NA\n",
      "pybiomart           0.2.0\n",
      "pydev_ipython       NA\n",
      "pydevconsole        NA\n",
      "pydevd              2.9.5\n",
      "pydevd_file_utils   NA\n",
      "pydevd_plugins      NA\n",
      "pydevd_tracing      NA\n",
      "pygments            2.14.0\n",
      "pyparsing           3.0.9\n",
      "pyrsistent          NA\n",
      "pythonjsonlogger    NA\n",
      "pytz                2022.7.1\n",
      "requests            2.28.2\n",
      "requests_cache      0.4.13\n",
      "rfc3339_validator   0.1.4\n",
      "rfc3986_validator   0.1.1\n",
      "scipy               1.9.1\n",
      "scrublet            NA\n",
      "seaborn             0.12.2\n",
      "send2trash          NA\n",
      "session_info        1.0.0\n",
      "setuptools          67.5.0\n",
      "six                 1.16.0\n",
      "sklearn             1.2.1\n",
      "sniffio             1.3.0\n",
      "socks               1.7.1\n",
      "stack_data          0.6.2\n",
      "statsmodels         0.13.5\n",
      "texttable           1.6.7\n",
      "threadpoolctl       3.1.0\n",
      "tornado             6.2\n",
      "traitlets           5.9.0\n",
      "typing_extensions   NA\n",
      "unicodedata2        NA\n",
      "uri_template        NA\n",
      "urllib3             1.26.14\n",
      "wcwidth             0.2.6\n",
      "webcolors           1.11.1\n",
      "websocket           1.5.1\n",
      "yaml                6.0\n",
      "zipp                NA\n",
      "zmq                 25.0.1\n",
      "zoneinfo            NA\n",
      "-----\n",
      "IPython             8.11.0\n",
      "jupyter_client      8.0.3\n",
      "jupyter_core        5.2.0\n",
      "jupyterlab          3.6.1\n",
      "notebook            6.5.3\n",
      "-----\n",
      "Python 3.9.16 | packaged by conda-forge | (main, Feb  1 2023, 21:38:11) [Clang 14.0.6 ]\n",
      "macOS-12.5.1-arm64-arm-64bit\n",
      "-----\n",
      "Session information updated at 2023-03-30 16:58\n"
     ]
    }
   ],
   "source": [
    "sc.settings.verbosity = 3\n",
    "sc.logging.print_versions()\n",
    "sc.settings.set_figure_params(dpi = 160, color_map = 'RdPu', dpi_save = 180, vector_friendly = True, format = 'svg')"
   ]
  },
  {
   "attachments": {},
   "cell_type": "markdown",
   "metadata": {},
   "source": [
    "### Read in datasets"
   ]
  },
  {
   "attachments": {},
   "cell_type": "markdown",
   "metadata": {},
   "source": [
    "##### Control data"
   ]
  },
  {
   "cell_type": "code",
   "execution_count": 7,
   "metadata": {},
   "outputs": [
    {
     "name": "stdout",
     "output_type": "stream",
     "text": [
      "--> This might be very slow. Consider passing `cache=True`, which enables much faster reading from a cache file.\n"
     ]
    },
    {
     "data": {
      "text/plain": [
       "AnnData object with n_obs × n_vars = 661 × 27998\n",
       "    var: 'gene_ids'"
      ]
     },
     "execution_count": 7,
     "metadata": {},
     "output_type": "execute_result"
    }
   ],
   "source": [
    "adata_1 = sc.read_10x_mtx('/Volumes/LaCie/data_lake/Mairi_example/INBOX/sc_downloads/bobba_2022/GSE176423_RAW/ctl/')\n",
    "adata_1"
   ]
  },
  {
   "attachments": {},
   "cell_type": "markdown",
   "metadata": {},
   "source": [
    "##### h445y"
   ]
  },
  {
   "cell_type": "code",
   "execution_count": 10,
   "metadata": {},
   "outputs": [
    {
     "name": "stdout",
     "output_type": "stream",
     "text": [
      "--> This might be very slow. Consider passing `cache=True`, which enables much faster reading from a cache file.\n"
     ]
    },
    {
     "data": {
      "text/plain": [
       "AnnData object with n_obs × n_vars = 1849 × 27998\n",
       "    var: 'gene_ids'"
      ]
     },
     "execution_count": 10,
     "metadata": {},
     "output_type": "execute_result"
    }
   ],
   "source": [
    "adata_2 = sc.read_10x_mtx('/Volumes/LaCie/data_lake/Mairi_example/INBOX/sc_downloads/bobba_2022/GSE176423_RAW/h445y/')\n",
    "adata_2\n"
   ]
  },
  {
   "attachments": {},
   "cell_type": "markdown",
   "metadata": {},
   "source": [
    "##### hn878"
   ]
  },
  {
   "cell_type": "code",
   "execution_count": 11,
   "metadata": {},
   "outputs": [
    {
     "name": "stdout",
     "output_type": "stream",
     "text": [
      "--> This might be very slow. Consider passing `cache=True`, which enables much faster reading from a cache file.\n"
     ]
    },
    {
     "data": {
      "text/plain": [
       "AnnData object with n_obs × n_vars = 858 × 27998\n",
       "    var: 'gene_ids'"
      ]
     },
     "execution_count": 11,
     "metadata": {},
     "output_type": "execute_result"
    }
   ],
   "source": [
    "adata_3 = sc.read_10x_mtx('/Volumes/Lacie/data_lake/Mairi_example/INBOX/sc_downloads/bobba_2022/GSE176423_RAW/hn878/')\n",
    "adata_3\n"
   ]
  },
  {
   "cell_type": "code",
   "execution_count": 12,
   "metadata": {},
   "outputs": [
    {
     "data": {
      "text/html": [
       "<div>\n",
       "<style scoped>\n",
       "    .dataframe tbody tr th:only-of-type {\n",
       "        vertical-align: middle;\n",
       "    }\n",
       "\n",
       "    .dataframe tbody tr th {\n",
       "        vertical-align: top;\n",
       "    }\n",
       "\n",
       "    .dataframe thead th {\n",
       "        text-align: right;\n",
       "    }\n",
       "</style>\n",
       "<table border=\"1\" class=\"dataframe\">\n",
       "  <thead>\n",
       "    <tr style=\"text-align: right;\">\n",
       "      <th></th>\n",
       "      <th>gene_ids</th>\n",
       "    </tr>\n",
       "  </thead>\n",
       "  <tbody>\n",
       "    <tr>\n",
       "      <th>Xkr4</th>\n",
       "      <td>ENSMUSG00000051951</td>\n",
       "    </tr>\n",
       "    <tr>\n",
       "      <th>Gm1992</th>\n",
       "      <td>ENSMUSG00000089699</td>\n",
       "    </tr>\n",
       "    <tr>\n",
       "      <th>Gm37381</th>\n",
       "      <td>ENSMUSG00000102343</td>\n",
       "    </tr>\n",
       "    <tr>\n",
       "      <th>Rp1</th>\n",
       "      <td>ENSMUSG00000025900</td>\n",
       "    </tr>\n",
       "    <tr>\n",
       "      <th>Rp1-1</th>\n",
       "      <td>ENSMUSG00000109048</td>\n",
       "    </tr>\n",
       "    <tr>\n",
       "      <th>...</th>\n",
       "      <td>...</td>\n",
       "    </tr>\n",
       "    <tr>\n",
       "      <th>AC168977.1</th>\n",
       "      <td>ENSMUSG00000079808</td>\n",
       "    </tr>\n",
       "    <tr>\n",
       "      <th>PISD</th>\n",
       "      <td>ENSMUSG00000095041</td>\n",
       "    </tr>\n",
       "    <tr>\n",
       "      <th>DHRSX</th>\n",
       "      <td>ENSMUSG00000063897</td>\n",
       "    </tr>\n",
       "    <tr>\n",
       "      <th>Vmn2r122</th>\n",
       "      <td>ENSMUSG00000096730</td>\n",
       "    </tr>\n",
       "    <tr>\n",
       "      <th>CAAA01147332.1</th>\n",
       "      <td>ENSMUSG00000095742</td>\n",
       "    </tr>\n",
       "  </tbody>\n",
       "</table>\n",
       "<p>27998 rows × 1 columns</p>\n",
       "</div>"
      ],
      "text/plain": [
       "                          gene_ids\n",
       "Xkr4            ENSMUSG00000051951\n",
       "Gm1992          ENSMUSG00000089699\n",
       "Gm37381         ENSMUSG00000102343\n",
       "Rp1             ENSMUSG00000025900\n",
       "Rp1-1           ENSMUSG00000109048\n",
       "...                            ...\n",
       "AC168977.1      ENSMUSG00000079808\n",
       "PISD            ENSMUSG00000095041\n",
       "DHRSX           ENSMUSG00000063897\n",
       "Vmn2r122        ENSMUSG00000096730\n",
       "CAAA01147332.1  ENSMUSG00000095742\n",
       "\n",
       "[27998 rows x 1 columns]"
      ]
     },
     "execution_count": 12,
     "metadata": {},
     "output_type": "execute_result"
    }
   ],
   "source": [
    "adata_1.var\n"
   ]
  },
  {
   "cell_type": "code",
   "execution_count": 13,
   "metadata": {},
   "outputs": [
    {
     "data": {
      "text/html": [
       "<div>\n",
       "<style scoped>\n",
       "    .dataframe tbody tr th:only-of-type {\n",
       "        vertical-align: middle;\n",
       "    }\n",
       "\n",
       "    .dataframe tbody tr th {\n",
       "        vertical-align: top;\n",
       "    }\n",
       "\n",
       "    .dataframe thead th {\n",
       "        text-align: right;\n",
       "    }\n",
       "</style>\n",
       "<table border=\"1\" class=\"dataframe\">\n",
       "  <thead>\n",
       "    <tr style=\"text-align: right;\">\n",
       "      <th></th>\n",
       "      <th>gene_ids</th>\n",
       "    </tr>\n",
       "  </thead>\n",
       "  <tbody>\n",
       "    <tr>\n",
       "      <th>Xkr4</th>\n",
       "      <td>ENSMUSG00000051951</td>\n",
       "    </tr>\n",
       "    <tr>\n",
       "      <th>Gm1992</th>\n",
       "      <td>ENSMUSG00000089699</td>\n",
       "    </tr>\n",
       "    <tr>\n",
       "      <th>Gm37381</th>\n",
       "      <td>ENSMUSG00000102343</td>\n",
       "    </tr>\n",
       "    <tr>\n",
       "      <th>Rp1</th>\n",
       "      <td>ENSMUSG00000025900</td>\n",
       "    </tr>\n",
       "    <tr>\n",
       "      <th>Rp1-1</th>\n",
       "      <td>ENSMUSG00000109048</td>\n",
       "    </tr>\n",
       "    <tr>\n",
       "      <th>...</th>\n",
       "      <td>...</td>\n",
       "    </tr>\n",
       "    <tr>\n",
       "      <th>AC168977.1</th>\n",
       "      <td>ENSMUSG00000079808</td>\n",
       "    </tr>\n",
       "    <tr>\n",
       "      <th>PISD</th>\n",
       "      <td>ENSMUSG00000095041</td>\n",
       "    </tr>\n",
       "    <tr>\n",
       "      <th>DHRSX</th>\n",
       "      <td>ENSMUSG00000063897</td>\n",
       "    </tr>\n",
       "    <tr>\n",
       "      <th>Vmn2r122</th>\n",
       "      <td>ENSMUSG00000096730</td>\n",
       "    </tr>\n",
       "    <tr>\n",
       "      <th>CAAA01147332.1</th>\n",
       "      <td>ENSMUSG00000095742</td>\n",
       "    </tr>\n",
       "  </tbody>\n",
       "</table>\n",
       "<p>27998 rows × 1 columns</p>\n",
       "</div>"
      ],
      "text/plain": [
       "                          gene_ids\n",
       "Xkr4            ENSMUSG00000051951\n",
       "Gm1992          ENSMUSG00000089699\n",
       "Gm37381         ENSMUSG00000102343\n",
       "Rp1             ENSMUSG00000025900\n",
       "Rp1-1           ENSMUSG00000109048\n",
       "...                            ...\n",
       "AC168977.1      ENSMUSG00000079808\n",
       "PISD            ENSMUSG00000095041\n",
       "DHRSX           ENSMUSG00000063897\n",
       "Vmn2r122        ENSMUSG00000096730\n",
       "CAAA01147332.1  ENSMUSG00000095742\n",
       "\n",
       "[27998 rows x 1 columns]"
      ]
     },
     "execution_count": 13,
     "metadata": {},
     "output_type": "execute_result"
    }
   ],
   "source": [
    "adata_2.var"
   ]
  },
  {
   "cell_type": "code",
   "execution_count": 14,
   "metadata": {},
   "outputs": [
    {
     "data": {
      "text/html": [
       "<div>\n",
       "<style scoped>\n",
       "    .dataframe tbody tr th:only-of-type {\n",
       "        vertical-align: middle;\n",
       "    }\n",
       "\n",
       "    .dataframe tbody tr th {\n",
       "        vertical-align: top;\n",
       "    }\n",
       "\n",
       "    .dataframe thead th {\n",
       "        text-align: right;\n",
       "    }\n",
       "</style>\n",
       "<table border=\"1\" class=\"dataframe\">\n",
       "  <thead>\n",
       "    <tr style=\"text-align: right;\">\n",
       "      <th></th>\n",
       "      <th>gene_ids</th>\n",
       "    </tr>\n",
       "  </thead>\n",
       "  <tbody>\n",
       "    <tr>\n",
       "      <th>Xkr4</th>\n",
       "      <td>ENSMUSG00000051951</td>\n",
       "    </tr>\n",
       "    <tr>\n",
       "      <th>Gm1992</th>\n",
       "      <td>ENSMUSG00000089699</td>\n",
       "    </tr>\n",
       "    <tr>\n",
       "      <th>Gm37381</th>\n",
       "      <td>ENSMUSG00000102343</td>\n",
       "    </tr>\n",
       "    <tr>\n",
       "      <th>Rp1</th>\n",
       "      <td>ENSMUSG00000025900</td>\n",
       "    </tr>\n",
       "    <tr>\n",
       "      <th>Rp1-1</th>\n",
       "      <td>ENSMUSG00000109048</td>\n",
       "    </tr>\n",
       "    <tr>\n",
       "      <th>...</th>\n",
       "      <td>...</td>\n",
       "    </tr>\n",
       "    <tr>\n",
       "      <th>AC168977.1</th>\n",
       "      <td>ENSMUSG00000079808</td>\n",
       "    </tr>\n",
       "    <tr>\n",
       "      <th>PISD</th>\n",
       "      <td>ENSMUSG00000095041</td>\n",
       "    </tr>\n",
       "    <tr>\n",
       "      <th>DHRSX</th>\n",
       "      <td>ENSMUSG00000063897</td>\n",
       "    </tr>\n",
       "    <tr>\n",
       "      <th>Vmn2r122</th>\n",
       "      <td>ENSMUSG00000096730</td>\n",
       "    </tr>\n",
       "    <tr>\n",
       "      <th>CAAA01147332.1</th>\n",
       "      <td>ENSMUSG00000095742</td>\n",
       "    </tr>\n",
       "  </tbody>\n",
       "</table>\n",
       "<p>27998 rows × 1 columns</p>\n",
       "</div>"
      ],
      "text/plain": [
       "                          gene_ids\n",
       "Xkr4            ENSMUSG00000051951\n",
       "Gm1992          ENSMUSG00000089699\n",
       "Gm37381         ENSMUSG00000102343\n",
       "Rp1             ENSMUSG00000025900\n",
       "Rp1-1           ENSMUSG00000109048\n",
       "...                            ...\n",
       "AC168977.1      ENSMUSG00000079808\n",
       "PISD            ENSMUSG00000095041\n",
       "DHRSX           ENSMUSG00000063897\n",
       "Vmn2r122        ENSMUSG00000096730\n",
       "CAAA01147332.1  ENSMUSG00000095742\n",
       "\n",
       "[27998 rows x 1 columns]"
      ]
     },
     "execution_count": 14,
     "metadata": {},
     "output_type": "execute_result"
    }
   ],
   "source": [
    "adata_3.var"
   ]
  },
  {
   "cell_type": "code",
   "execution_count": 15,
   "metadata": {},
   "outputs": [
    {
     "data": {
      "text/html": [
       "<div>\n",
       "<style scoped>\n",
       "    .dataframe tbody tr th:only-of-type {\n",
       "        vertical-align: middle;\n",
       "    }\n",
       "\n",
       "    .dataframe tbody tr th {\n",
       "        vertical-align: top;\n",
       "    }\n",
       "\n",
       "    .dataframe thead th {\n",
       "        text-align: right;\n",
       "    }\n",
       "</style>\n",
       "<table border=\"1\" class=\"dataframe\">\n",
       "  <thead>\n",
       "    <tr style=\"text-align: right;\">\n",
       "      <th></th>\n",
       "    </tr>\n",
       "  </thead>\n",
       "  <tbody>\n",
       "    <tr>\n",
       "      <th>AAACCCATCTGAGGCC-1</th>\n",
       "    </tr>\n",
       "    <tr>\n",
       "      <th>AAACGAAAGAGGTTTA-1</th>\n",
       "    </tr>\n",
       "    <tr>\n",
       "      <th>AAAGAACAGTTGTCAC-1</th>\n",
       "    </tr>\n",
       "    <tr>\n",
       "      <th>AAAGAACCAAGTGGCA-1</th>\n",
       "    </tr>\n",
       "    <tr>\n",
       "      <th>AAAGAACGTAGCGTCC-1</th>\n",
       "    </tr>\n",
       "    <tr>\n",
       "      <th>...</th>\n",
       "    </tr>\n",
       "    <tr>\n",
       "      <th>TTTGACTCAATAGTAG-1</th>\n",
       "    </tr>\n",
       "    <tr>\n",
       "      <th>TTTGACTCACAAAGCG-1</th>\n",
       "    </tr>\n",
       "    <tr>\n",
       "      <th>TTTGACTTCTCCCAAC-1</th>\n",
       "    </tr>\n",
       "    <tr>\n",
       "      <th>TTTGTTGCACACAGAG-1</th>\n",
       "    </tr>\n",
       "    <tr>\n",
       "      <th>TTTGTTGTCGTTATCT-1</th>\n",
       "    </tr>\n",
       "  </tbody>\n",
       "</table>\n",
       "<p>661 rows × 0 columns</p>\n",
       "</div>"
      ],
      "text/plain": [
       "Empty DataFrame\n",
       "Columns: []\n",
       "Index: [AAACCCATCTGAGGCC-1, AAACGAAAGAGGTTTA-1, AAAGAACAGTTGTCAC-1, AAAGAACCAAGTGGCA-1, AAAGAACGTAGCGTCC-1, AAAGGATAGATAGGGA-1, AAAGGGCAGAACGTGC-1, AAAGTGACAACGGTAG-1, AACAACCAGCGGACAT-1, AACAGGGCAGCGGATA-1, AACCACAGTCACATTG-1, AACGAAAAGGCTCTAT-1, AAGAACAAGGCTGAAC-1, AAGATAGCACAAATCC-1, AAGCCATAGAGGTTAT-1, AAGCGAGAGATGTAGT-1, AAGCGAGAGCGTATGG-1, AAGCGTTAGGCCGCTT-1, AAGGAATTCGGCGATC-1, AAGGTAAAGGTACTGG-1, AAGTCGTTCGCCGAGT-1, AAGTCGTTCTAGCAAC-1, AATCGACGTGAGCGAT-1, AATCGTGAGCGGGTAT-1, AATGCCAAGCTCAGAG-1, AATGCCAGTCGAGTTT-1, AATGGCTAGTCATCGT-1, AATGGCTTCCTTATGT-1, AATTCCTGTCGACTTA-1, ACAACCAAGGCCACCT-1, ACAACCACACGACGTC-1, ACACAGTAGCCGGAAT-1, ACACCAATCTACGCGG-1, ACACGCGAGGTCACAG-1, ACAGGGATCAAGCCGC-1, ACATTTCGTGGGACAT-1, ACCAACAGTCGCTTGG-1, ACCACAACAAGTGGTG-1, ACCATTTTCAGACCTA-1, ACCCTCATCGATACGT-1, ACCTACCGTATTCCTT-1, ACCTGAAAGCTAGAAT-1, ACCTGTCAGAGGCCAT-1, ACGGGTCCAACCGATT-1, ACGGTTATCCACCTCA-1, ACGTAACGTATCAGGG-1, ACGTACACACCTTCGT-1, ACGTACATCTGACAGT-1, ACGTAGTAGTAAACTG-1, ACGTCCTCAAGCACCC-1, ACGTTCCAGAGGTCGT-1, ACTACGAGTCTCGGGT-1, ACTATGGGTGAGCTCC-1, ACTCCCACATGACTCA-1, ACTCCCATCATCGCTC-1, ACTCCCATCTATCGTT-1, ACTCCCATCTTTGCTA-1, ACTGCAACAGCGAGTA-1, ACTGTCCCACCGTCGA-1, ACTGTCCCAGAGTCAG-1, ACTGTGACAGCTGTGC-1, ACTTAGGCAGGTCAGA-1, ACTTAGGTCCATGATG-1, ACTTCCGTCGATAACC-1, ACTTCGCGTATGGAGC-1, ACTTCGCGTCGTTTCC-1, ACTTCGCTCGGACGTC-1, ACTTTCATCTCCGTGT-1, AGAAATGCACTTGTGA-1, AGAACAAAGAGCATCG-1, AGAACAACAGTGCCTG-1, AGAACCTGTCTGGTTA-1, AGACAAAGTGCGGCTT-1, AGACCATGTAACAGGC-1, AGACCATGTATCAGCT-1, AGACCATGTCAGACTT-1, AGACCCGTCCACTAGA-1, AGACCCGTCGCCTCTA-1, AGACTCAAGGGACACT-1, AGAGCAGCATAACAGA-1, AGATCGTAGCCATATC-1, AGATGCTTCCATCAGA-1, AGCCACGTCTGCATAG-1, AGCCAGCCACACGTGC-1, AGCGATTCAAGGTTGG-1, AGCGCTGCAGCCATTA-1, AGCGCTGTCAAGAAAC-1, AGCGTATTCCACTGAA-1, AGCGTATTCTACCCAC-1, AGCGTCGAGTATGATG-1, AGCGTCGCATGACGGA-1, AGCTTCCCAGCGGTCT-1, AGGAATATCATCGCCT-1, AGGACTTCACCATATG-1, AGGACTTCATTGCCTC-1, AGGGAGTCAATTGCAC-1, AGGGAGTCATCAGCGC-1, AGGGCTCAGTATGGCG-1, AGGGCTCGTATGAAAC-1, AGGGTCCGTACAGAGC-1, ...]\n",
       "\n",
       "[661 rows x 0 columns]"
      ]
     },
     "execution_count": 15,
     "metadata": {},
     "output_type": "execute_result"
    }
   ],
   "source": [
    "adata_1.obs"
   ]
  },
  {
   "cell_type": "code",
   "execution_count": 16,
   "metadata": {},
   "outputs": [
    {
     "data": {
      "text/html": [
       "<div>\n",
       "<style scoped>\n",
       "    .dataframe tbody tr th:only-of-type {\n",
       "        vertical-align: middle;\n",
       "    }\n",
       "\n",
       "    .dataframe tbody tr th {\n",
       "        vertical-align: top;\n",
       "    }\n",
       "\n",
       "    .dataframe thead th {\n",
       "        text-align: right;\n",
       "    }\n",
       "</style>\n",
       "<table border=\"1\" class=\"dataframe\">\n",
       "  <thead>\n",
       "    <tr style=\"text-align: right;\">\n",
       "      <th></th>\n",
       "    </tr>\n",
       "  </thead>\n",
       "  <tbody>\n",
       "    <tr>\n",
       "      <th>AAACGAAAGCGATTCT-1</th>\n",
       "    </tr>\n",
       "    <tr>\n",
       "      <th>AAACGAAAGTCGAAGC-1</th>\n",
       "    </tr>\n",
       "    <tr>\n",
       "      <th>AAACGAACAAAGCTAA-1</th>\n",
       "    </tr>\n",
       "    <tr>\n",
       "      <th>AAACGAAGTATCGTTG-1</th>\n",
       "    </tr>\n",
       "    <tr>\n",
       "      <th>AAACGCTAGCACGTCC-1</th>\n",
       "    </tr>\n",
       "    <tr>\n",
       "      <th>...</th>\n",
       "    </tr>\n",
       "    <tr>\n",
       "      <th>TTTGATCTCTACCACC-1</th>\n",
       "    </tr>\n",
       "    <tr>\n",
       "      <th>TTTGGAGAGACCATGG-1</th>\n",
       "    </tr>\n",
       "    <tr>\n",
       "      <th>TTTGGAGGTACCCGCA-1</th>\n",
       "    </tr>\n",
       "    <tr>\n",
       "      <th>TTTGGAGTCTCATAGG-1</th>\n",
       "    </tr>\n",
       "    <tr>\n",
       "      <th>TTTGTTGTCATTCCTA-1</th>\n",
       "    </tr>\n",
       "  </tbody>\n",
       "</table>\n",
       "<p>1849 rows × 0 columns</p>\n",
       "</div>"
      ],
      "text/plain": [
       "Empty DataFrame\n",
       "Columns: []\n",
       "Index: [AAACGAAAGCGATTCT-1, AAACGAAAGTCGAAGC-1, AAACGAACAAAGCTAA-1, AAACGAAGTATCGTTG-1, AAACGCTAGCACGTCC-1, AAACGCTCACATACTG-1, AAACGCTCACTTGGCG-1, AAACGCTGTAGACAGC-1, AAAGAACCACCTGAAT-1, AAAGGATCAACACGTT-1, AAAGGATCAGCGGATA-1, AAAGGATTCTGGGCAC-1, AAAGGATTCTTAAGGC-1, AAAGGGCCAGGTATGG-1, AAAGGGCGTACAAGCG-1, AAAGGTAAGAGTTGTA-1, AAAGGTAAGTAGACCG-1, AAAGGTAGTGCCAAGA-1, AAAGTCCAGGCTTAAA-1, AAAGTCCTCATCGGGC-1, AAAGTGAAGTGTAGAT-1, AAAGTGACACCAATTG-1, AAAGTGATCGAGTACT-1, AACAAAGAGGTTGGTG-1, AACAAAGCACGCTGCA-1, AACAACCAGGGCATGT-1, AACAACCTCTTGGATG-1, AACAAGAAGAATTCAG-1, AACAAGAGTTCGCGTG-1, AACAAGAGTTGCGAAG-1, AACAAGAGTTGGAGGT-1, AACACACGTATGCGTT-1, AACACACTCATGACAC-1, AACAGGGCACGCTGCA-1, AACAGGGCAGAGGGTT-1, AACCAACCACATGACT-1, AACCAACGTTAGGAGC-1, AACCACAAGTTAGAAC-1, AACCACATCTCGTCAC-1, AACCCAAAGTACAGCG-1, AACCCAATCCACGTAA-1, AACCTTTAGAGCTGAC-1, AACCTTTAGCGTCTCG-1, AACCTTTCAGACAATA-1, AACCTTTCATTGCAAC-1, AACGAAAAGGACTGGT-1, AACGAAAGTCAAGCCC-1, AACGGGACAGGATCTT-1, AACTTCTTCATGACAC-1, AAGAACATCCCTCGAT-1, AAGACAACAAATCAAG-1, AAGACAACACCTCAGG-1, AAGACTCAGATTGACA-1, AAGATAGTCCAAATGC-1, AAGATAGTCGTTACCC-1, AAGCCATAGATGTTCC-1, AAGCGTTAGACTCGAG-1, AAGCGTTAGCCGATTT-1, AAGCGTTAGCTCGGCT-1, AAGCGTTAGGCAGTCA-1, AAGCGTTTCGCGCTGA-1, AAGGAATAGCCTCAGC-1, AAGGAATCAACAGTGG-1, AAGGAATGTCGTGGTC-1, AAGGAATGTGATTAGA-1, AAGGTAAGTGCCAAGA-1, AAGTACCAGAATCGTA-1, AAGTACCGTCGAGATG-1, AAGTCGTAGCAGTAAT-1, AAGTCGTAGGGCAGAG-1, AAGTCGTCAACGGCCT-1, AAGTGAACAGAACCGA-1, AAGTTCGCACTAGAGG-1, AAGTTCGTCGGCAGTC-1, AATCACGAGCACTCTA-1, AATCACGAGCTTCTAG-1, AATCACGCAGTTAGGG-1, AATCACGTCACCGCTT-1, AATCACGTCGCTCTCA-1, AATCACGTCGGCACTG-1, AATCGACCAGCTGAGA-1, AATCGACGTATCCTCC-1, AATCGACTCTGCACCT-1, AATGAAGAGAGTCTTC-1, AATGAAGCAACAAGTA-1, AATGACCGTACCCGCA-1, AATGACCGTGCATACT-1, AATGACCTCCGGACGT-1, AATGGAAAGAGGTTAT-1, AATGGAAGTATGATCC-1, AATGGAATCTACCTTA-1, AATGGCTGTTGTTGAC-1, AATGGCTTCTGTAAGC-1, AATTCCTAGACCAGCA-1, AATTCCTCAGACTGCC-1, AATTTCCAGGATTTCC-1, AATTTCCCAGCCGGTT-1, ACAAAGAAGGTTTGAA-1, ACAACCAGTAATGCGG-1, ACAACCAGTCCAATCA-1, ...]\n",
       "\n",
       "[1849 rows x 0 columns]"
      ]
     },
     "execution_count": 16,
     "metadata": {},
     "output_type": "execute_result"
    }
   ],
   "source": [
    "adata_2.obs"
   ]
  },
  {
   "cell_type": "code",
   "execution_count": 17,
   "metadata": {},
   "outputs": [
    {
     "data": {
      "text/html": [
       "<div>\n",
       "<style scoped>\n",
       "    .dataframe tbody tr th:only-of-type {\n",
       "        vertical-align: middle;\n",
       "    }\n",
       "\n",
       "    .dataframe tbody tr th {\n",
       "        vertical-align: top;\n",
       "    }\n",
       "\n",
       "    .dataframe thead th {\n",
       "        text-align: right;\n",
       "    }\n",
       "</style>\n",
       "<table border=\"1\" class=\"dataframe\">\n",
       "  <thead>\n",
       "    <tr style=\"text-align: right;\">\n",
       "      <th></th>\n",
       "    </tr>\n",
       "  </thead>\n",
       "  <tbody>\n",
       "    <tr>\n",
       "      <th>AAACGAAGTCGCTTGG-1</th>\n",
       "    </tr>\n",
       "    <tr>\n",
       "      <th>AAACGAATCCATCACC-1</th>\n",
       "    </tr>\n",
       "    <tr>\n",
       "      <th>AAAGAACTCATTTGCT-1</th>\n",
       "    </tr>\n",
       "    <tr>\n",
       "      <th>AAAGGGCCAACAAGAT-1</th>\n",
       "    </tr>\n",
       "    <tr>\n",
       "      <th>AAAGGGCCAGTAACGG-1</th>\n",
       "    </tr>\n",
       "    <tr>\n",
       "      <th>...</th>\n",
       "    </tr>\n",
       "    <tr>\n",
       "      <th>TTTCAGTTCGAGGCAA-1</th>\n",
       "    </tr>\n",
       "    <tr>\n",
       "      <th>TTTCATGAGGTTAGTA-1</th>\n",
       "    </tr>\n",
       "    <tr>\n",
       "      <th>TTTCCTCTCTCCACTG-1</th>\n",
       "    </tr>\n",
       "    <tr>\n",
       "      <th>TTTGATCTCCCTGGTT-1</th>\n",
       "    </tr>\n",
       "    <tr>\n",
       "      <th>TTTGGAGTCTAACGGT-1</th>\n",
       "    </tr>\n",
       "  </tbody>\n",
       "</table>\n",
       "<p>858 rows × 0 columns</p>\n",
       "</div>"
      ],
      "text/plain": [
       "Empty DataFrame\n",
       "Columns: []\n",
       "Index: [AAACGAAGTCGCTTGG-1, AAACGAATCCATCACC-1, AAAGAACTCATTTGCT-1, AAAGGGCCAACAAGAT-1, AAAGGGCCAGTAACGG-1, AAAGGGCGTTATAGCC-1, AAATGGAGTTCGTAAC-1, AACAAGACATAAGCGG-1, AACACACTCCTTACCG-1, AACAGGGGTAGGCAAC-1, AACAGGGGTTTCACAG-1, AACCAACCAAAGCTAA-1, AACCCAAGTCAGACGA-1, AACCTTTGTAGATCGG-1, AACCTTTGTTCGAAGG-1, AACGAAAAGAGGATCC-1, AACGAAACACTTGTCC-1, AAGAACAAGACTCGAG-1, AAGAACAGTACTTGTG-1, AAGATAGAGTATCCTG-1, AAGCATCAGTGCACAG-1, AAGCATCCACCATAAC-1, AAGCATCCAGCTACAT-1, AAGCATCTCACAATGC-1, AAGCGTTGTACTCCCT-1, AAGGTAAAGGTCCGAA-1, AAGGTAACACTTGAAC-1, AAGGTAACAGAACTCT-1, AAGGTAATCGGTCATA-1, AAGTCGTTCCGTTTCG-1, AAGTTCGGTAACACGG-1, AAGTTCGTCACCTCGT-1, AATAGAGTCTGTCAGA-1, AATCGACAGTTCGCAT-1, AATCGACGTGAGTAGC-1, AATGGAATCCACCTCA-1, AATGGAATCGATACGT-1, ACAAAGACACACCGCA-1, ACAACCACATCGGATT-1, ACAACCAGTAATGCGG-1, ACAACCAGTCAGACGA-1, ACACAGTGTTAGCGGA-1, ACACCAACATCAGTGT-1, ACACGCGAGTTACGAA-1, ACAGAAAAGACAACTA-1, ACAGCCGAGGACGCTA-1, ACAGCCGCATCTCCCA-1, ACAGCCGGTAACCCTA-1, ACAGCCGGTGCAGTGA-1, ACATGCAAGTTGGAAT-1, ACATGCACACTCAGAT-1, ACCAAACAGTCCTGTA-1, ACCAAACCACCTTCCA-1, ACCCTCAGTCAAGCCC-1, ACCCTTGCAAAGACTA-1, ACCGTTCGTCACTGAT-1, ACCTACCGTCGGCTAC-1, ACCTACCTCGTGCGAC-1, ACCTGAACAGTCGAGA-1, ACCTGAAGTCGTGTTA-1, ACCTGTCCACATACGT-1, ACGATGTAGGACCCAA-1, ACGATGTTCGGACTTA-1, ACGGAAGAGTGGCGAT-1, ACGGAAGTCACCCTGT-1, ACGGGTCCAAGTATCC-1, ACGTAACTCAAACGAA-1, ACGTAACTCCCAGCGA-1, ACGTAGTAGAAGCCTG-1, ACGTCCTCAGGTGGAT-1, ACTACGAAGGGAGAAT-1, ACTACGAGTTCCTAGA-1, ACTATCTAGGCCTGCT-1, ACTATGGGTGTTATCG-1, ACTCCCAGTATGCAAA-1, ACTGATGAGCCAACCC-1, ACTGCAAAGGTTACAA-1, ACTGCAAGTAGCACGA-1, ACTGTCCAGCACTCGC-1, ACTGTGACATGTGCCG-1, ACTTATCTCTGGGATT-1, ACTTCGCCACGTAACT-1, ACTTCGCCACTGAGTT-1, ACTTTCAGTCACGACC-1, ACTTTCAGTTAGGCTT-1, ACTTTGTAGAGTACCG-1, ACTTTGTAGCAATAAC-1, ACTTTGTCAACCACGC-1, ACTTTGTCAGTCTACA-1, AGAACCTAGCACGTCC-1, AGAACCTCATCAGCAT-1, AGAAGCGAGAGTTCGG-1, AGAAGCGTCTCGGTCT-1, AGACACTAGGAAGTAG-1, AGACCCGTCAGGGATG-1, AGAGAATAGCGACAGT-1, AGAGAATGTAGCCCTG-1, AGAGAATGTTCCGGTG-1, AGAGAATTCGAGCTGC-1, AGAGCCCCATGAGAAT-1, ...]\n",
       "\n",
       "[858 rows x 0 columns]"
      ]
     },
     "execution_count": 17,
     "metadata": {},
     "output_type": "execute_result"
    }
   ],
   "source": [
    "adata_3.obs"
   ]
  },
  {
   "attachments": {},
   "cell_type": "markdown",
   "metadata": {},
   "source": [
    "#### Concatenate objects?"
   ]
  },
  {
   "cell_type": "code",
   "execution_count": 19,
   "metadata": {},
   "outputs": [
    {
     "name": "stderr",
     "output_type": "stream",
     "text": [
      "/Users/mairi.mcclean/mambaforge/envs/scanpy_local/lib/python3.9/site-packages/anndata/_core/anndata.py:1785: FutureWarning: X.dtype being converted to np.float32 from float64. In the next version of anndata (0.9) conversion will not be automatic. Pass dtype explicitly to avoid this warning. Pass `AnnData(X, dtype=X.dtype, ...)` to get the future behavour.\n",
      "  [AnnData(sparse.csr_matrix(a.shape), obs=a.obs) for a in all_adatas],\n",
      "/Users/mairi.mcclean/mambaforge/envs/scanpy_local/lib/python3.9/site-packages/anndata/_core/anndata.py:1785: FutureWarning: X.dtype being converted to np.float32 from float64. In the next version of anndata (0.9) conversion will not be automatic. Pass dtype explicitly to avoid this warning. Pass `AnnData(X, dtype=X.dtype, ...)` to get the future behavour.\n",
      "  [AnnData(sparse.csr_matrix(a.shape), obs=a.obs) for a in all_adatas],\n",
      "/Users/mairi.mcclean/mambaforge/envs/scanpy_local/lib/python3.9/site-packages/anndata/_core/anndata.py:1785: FutureWarning: X.dtype being converted to np.float32 from float64. In the next version of anndata (0.9) conversion will not be automatic. Pass dtype explicitly to avoid this warning. Pass `AnnData(X, dtype=X.dtype, ...)` to get the future behavour.\n",
      "  [AnnData(sparse.csr_matrix(a.shape), obs=a.obs) for a in all_adatas],\n"
     ]
    },
    {
     "data": {
      "text/plain": [
       "AnnData object with n_obs × n_vars = 3368 × 27998\n",
       "    obs: 'batch'\n",
       "    var: 'gene_ids'"
      ]
     },
     "execution_count": 19,
     "metadata": {},
     "output_type": "execute_result"
    }
   ],
   "source": [
    "adata_total = adata_1.concatenate(adata_2, adata_3, join=\"inner\", batch_key=\"batch\")\n",
    "adata_total"
   ]
  },
  {
   "attachments": {},
   "cell_type": "markdown",
   "metadata": {},
   "source": [
    "### Check concatenated anndata object\n"
   ]
  },
  {
   "cell_type": "code",
   "execution_count": null,
   "metadata": {},
   "outputs": [],
   "source": [
    "# checks the number of molecules counted per barcode(?), using \"donor\" as proxy(?)\n",
    "adata_1.obs['donor'].value_counts()"
   ]
  },
  {
   "cell_type": "code",
   "execution_count": null,
   "metadata": {},
   "outputs": [],
   "source": [
    "# check omics mode\n",
    "adata_1.obs['data_type'].value_counts"
   ]
  },
  {
   "cell_type": "code",
   "execution_count": null,
   "metadata": {},
   "outputs": [],
   "source": [
    "# check tissue type\n"
   ]
  },
  {
   "cell_type": "code",
   "execution_count": null,
   "metadata": {},
   "outputs": [],
   "source": [
    "# Make names unique to avoid computational issues re repeated gene names\n",
    "adata.var_names_make_unique()\n",
    "sample_object = adata.copy()\n",
    "sample_object"
   ]
  },
  {
   "attachments": {},
   "cell_type": "markdown",
   "metadata": {},
   "source": [
    "### Replace gene symbols\n",
    "#### Performed to ensure that index concatenation is smoother\n",
    "\n",
    "> required for this particular dataset?"
   ]
  },
  {
   "cell_type": "code",
   "execution_count": null,
   "metadata": {},
   "outputs": [],
   "source": [
    "sample_object.var['gene_id'] = sample_object.var.index.copy()\n",
    "sample_object.var.set_index('gene_name', inplace = True)\n",
    "sample_object.var.head()"
   ]
  },
  {
   "cell_type": "code",
   "execution_count": null,
   "metadata": {},
   "outputs": [],
   "source": [
    "sample_object.var_names = [str(i) for i in sample_object.var_names]\n",
    "sample_object.var_names_make_unique()"
   ]
  },
  {
   "attachments": {},
   "cell_type": "markdown",
   "metadata": {},
   "source": [
    "### Top 20 scatterplot"
   ]
  },
  {
   "cell_type": "code",
   "execution_count": null,
   "metadata": {},
   "outputs": [],
   "source": [
    "sc.pl.highest_expr_genes(sample_object, n_top=20)"
   ]
  },
  {
   "attachments": {},
   "cell_type": "markdown",
   "metadata": {},
   "source": [
    "### Filter cells by gene number"
   ]
  },
  {
   "cell_type": "code",
   "execution_count": null,
   "metadata": {},
   "outputs": [],
   "source": [
    "sc.pp.filter_cells(sample_object, min_genes = 200)\n",
    "print(sample_object.n_obs, sample_object.n_vars)"
   ]
  },
  {
   "cell_type": "code",
   "execution_count": null,
   "metadata": {},
   "outputs": [],
   "source": [
    "sample_object.shape"
   ]
  },
  {
   "cell_type": "code",
   "execution_count": null,
   "metadata": {},
   "outputs": [],
   "source": [
    "sample_object.var"
   ]
  },
  {
   "attachments": {},
   "cell_type": "markdown",
   "metadata": {},
   "source": [
    "### Filter genes by cell number"
   ]
  },
  {
   "cell_type": "code",
   "execution_count": null,
   "metadata": {},
   "outputs": [],
   "source": [
    "# sc.pp.filter_genes(sample_object, min_cells = 3)\n",
    "# sample_object.shape\n",
    "\n",
    "# removed because of erroneous QC visualisation graphs"
   ]
  },
  {
   "attachments": {},
   "cell_type": "markdown",
   "metadata": {},
   "source": [
    "### QC metrics"
   ]
  },
  {
   "cell_type": "code",
   "execution_count": null,
   "metadata": {},
   "outputs": [],
   "source": [
    "sample_object.var['mt'] = sample_object.var_names.str.startswith('MT-')\n",
    "sample_object.var['ribo'] = sample_object.var_names.str.startswith((\"RPS\",\"RPL\"))\n",
    "sample_object.var"
   ]
  },
  {
   "cell_type": "code",
   "execution_count": null,
   "metadata": {},
   "outputs": [],
   "source": [
    "sc.pp.calculate_qc_metrics(sample_object, qc_vars = ['mt', 'ribo'], percent_top = None, log1p = False, inplace = True)"
   ]
  },
  {
   "cell_type": "code",
   "execution_count": null,
   "metadata": {},
   "outputs": [],
   "source": [
    "# for each cell compute fraction of counts in mito genes vs. all genes\n",
    "# the `.A1` is only necessary as X is sparse (to transform to a dense array after summing)\n",
    "# add the total counts per cell as observations-annotation to adata\n",
    "\n",
    "mito_genes = sample_object.var_names.str.startswith('MT-')\n",
    "sample_object.obs['percent_mt2'] = np.sum(\n",
    "    sample_object[:, mito_genes].X, axis = 1).A1 / np.sum(sample_object.X, axis = 1).A1\n",
    "sample_object.obs['n_counts'] = sample_object.X.sum(axis = 1).A1"
   ]
  },
  {
   "cell_type": "code",
   "execution_count": null,
   "metadata": {},
   "outputs": [],
   "source": [
    "sample_object"
   ]
  },
  {
   "attachments": {},
   "cell_type": "markdown",
   "metadata": {},
   "source": [
    "### QC visualisation"
   ]
  },
  {
   "cell_type": "code",
   "execution_count": null,
   "metadata": {},
   "outputs": [],
   "source": [
    "sample_object.var_names"
   ]
  },
  {
   "cell_type": "code",
   "execution_count": null,
   "metadata": {},
   "outputs": [],
   "source": [
    "sc.pl.violin(sample_object, ['n_genes_by_counts', 'total_counts', 'pct_counts_mt', 'pct_counts_ribo'],\n",
    "             jitter=0.4, multi_panel=True)"
   ]
  },
  {
   "cell_type": "code",
   "execution_count": null,
   "metadata": {},
   "outputs": [],
   "source": [
    "sc.pl.violin(sample_object, ['n_genes_by_counts', 'total_counts', 'pct_counts_mt','pct_counts_ribo'],\n",
    "             jitter=0.4, groupby = 'status', rotation = 45)"
   ]
  },
  {
   "cell_type": "code",
   "execution_count": null,
   "metadata": {},
   "outputs": [],
   "source": [
    "sc.pl.scatter(sample_object, x='total_counts', y='n_genes_by_counts', color = \"donor\")"
   ]
  },
  {
   "attachments": {},
   "cell_type": "markdown",
   "metadata": {},
   "source": [
    "### Add sample sex covariate"
   ]
  },
  {
   "cell_type": "code",
   "execution_count": null,
   "metadata": {},
   "outputs": [],
   "source": [
    "annot = sc.queries.biomart_annotations(\n",
    "        \"hsapiens\",\n",
    "        [\"ensembl_gene_id\", \"external_gene_name\", \"start_position\", \"end_position\", \"chromosome_name\"],\n",
    "    ).set_index(\"external_gene_name\")"
   ]
  },
  {
   "cell_type": "code",
   "execution_count": null,
   "metadata": {},
   "outputs": [],
   "source": [
    "annot.head()"
   ]
  },
  {
   "cell_type": "code",
   "execution_count": null,
   "metadata": {},
   "outputs": [],
   "source": [
    "chrY_genes = sample_object.var_names.intersection(annot.index[annot.chromosome_name == \"Y\"])\n",
    "chrY_genes"
   ]
  },
  {
   "cell_type": "code",
   "execution_count": null,
   "metadata": {},
   "outputs": [],
   "source": [
    "sample_object.obs['percent_chrY'] = np.sum(\n",
    "    sample_object[:, chrY_genes].X, axis = 1).A1 / np.sum(sample_object.X, axis = 1).A1 * 100"
   ]
  },
  {
   "attachments": {},
   "cell_type": "markdown",
   "metadata": {},
   "source": [
    "sample_object.obs[\"XIST-counts\"] = sample_object.X[:,sample_object.var_names.str.match('XIST')].toarray()\n"
   ]
  },
  {
   "attachments": {},
   "cell_type": "markdown",
   "metadata": {},
   "source": [
    "### Cell cycle scores"
   ]
  },
  {
   "cell_type": "code",
   "execution_count": null,
   "metadata": {},
   "outputs": [],
   "source": [
    "!if [ ! -f /Users/mairi.mcclean/data/qc_files/cell_cycle_gene.txt ]; then curl -o /Users/mairi.mcclean/data/qc_files/cell_cycle_gene.txt https://raw.githubusercontent."
   ]
  },
  {
   "cell_type": "code",
   "execution_count": null,
   "metadata": {},
   "outputs": [],
   "source": [
    "cell_cycle_genes = [x.strip() for x in open('/Users/mairi.mcclean/data/qc_files/cell_cycle_gene')]\n",
    "print(len(cell_cycle_genes))\n",
    "\n",
    "# Split into 2 lists\n",
    "s_genes = cell_cycle_genes[:43]\n",
    "g2m_genes = cell_cycle_genes[43:]\n",
    "\n",
    "cell_cycle_genes = [x for x in cell_cycle_genes if x in sample_object.var_names]\n",
    "print(len(cell_cycle_genes))"
   ]
  },
  {
   "cell_type": "code",
   "execution_count": null,
   "metadata": {},
   "outputs": [],
   "source": [
    "# create other anndata object for score calculation\n",
    "\n",
    "adata_log = anndata.AnnData(X = sample_object.X,  var = sample_object.var, obs = sample_object.obs)\n",
    "sc.pp.normalize_total(adata_log, target_sum = 1e6, exclude_highly_expressed = True)\n",
    "sc.pp.log1p(adata_log)"
   ]
  },
  {
   "cell_type": "code",
   "execution_count": null,
   "metadata": {},
   "outputs": [],
   "source": [
    "sc.tl.score_genes_cell_cycle(adata_log, s_genes = s_genes, g2m_genes = g2m_genes)\n",
    "sc.pl.violin(adata_log, ['S_score', 'G2M_score'],\n",
    "             jitter = 0.4, groupby = 'donor', rotation = 45)"
   ]
  },
  {
   "cell_type": "code",
   "execution_count": null,
   "metadata": {},
   "outputs": [],
   "source": [
    "sample_object.obs['S_score'] = adata_log.obs['S_score']\n",
    "sample_object.obs['G2M_score'] = adata_log.obs['G2M_score']\n",
    "sample_object"
   ]
  },
  {
   "attachments": {},
   "cell_type": "markdown",
   "metadata": {},
   "source": [
    "### Predict doublets"
   ]
  },
  {
   "cell_type": "code",
   "execution_count": null,
   "metadata": {},
   "outputs": [],
   "source": [
    "holder = np.zeros((sample_object.shape[0],))\n",
    "for smp in np.unique(sample_object.obs['sample']):\n",
    "    if smp == []:\n",
    "        continue\n",
    "    adata_smp = sample_object[sample_object.obs['sample'] == smp]\n",
    "    scrub = scr.Scrublet(adata_smp.X)\n",
    "    adata_smp.obs['doublet_scores'], adata_smp.obs['predicted_doublets'] = scrub.scrub_doublets()\n",
    "    holder[sample_object.obs['sample'] == smp] = adata_smp.obs['predicted_doublets']\n",
    "sample_object.obs['predicted_doublets'] = holder\n",
    "\n",
    "sum(sample_object.obs['predicted_doublets'])\n",
    "sample_object"
   ]
  },
  {
   "cell_type": "code",
   "execution_count": null,
   "metadata": {},
   "outputs": [],
   "source": [
    "scrub.plot_histogram()"
   ]
  },
  {
   "cell_type": "code",
   "execution_count": null,
   "metadata": {},
   "outputs": [],
   "source": [
    "#check if our predicted doublets also have more detected genes in general\n",
    "\n",
    "sc.pl.violin(sample_object, ['n_genes_by_counts', 'total_counts', 'pct_counts_mt','pct_counts_ribo', 'predicted_doublets'],\n",
    "             jitter = 0.2, groupby = 'donor', rotation = 45)"
   ]
  },
  {
   "attachments": {},
   "cell_type": "markdown",
   "metadata": {},
   "source": [
    "### Prepare counts for individual slots"
   ]
  },
  {
   "cell_type": "code",
   "execution_count": null,
   "metadata": {},
   "outputs": [],
   "source": [
    "sample_object.raw = sample_object.copy()\n",
    "sample_object.layers['counts'] = sample_object.X.copy()\n",
    "sample_object.layers[\"sqrt_norm\"] = np.sqrt(\n",
    "    sc.pp.normalize_total(sample_object, inplace = False)[\"X\"]\n",
    ")\n",
    "sample_object"
   ]
  },
  {
   "attachments": {},
   "cell_type": "markdown",
   "metadata": {},
   "source": [
    "### Export object"
   ]
  },
  {
   "cell_type": "code",
   "execution_count": null,
   "metadata": {},
   "outputs": [],
   "source": [
    "sample_object.write('/Volumes/Lacie/data_lake/Mairi_example/processed_files/abridged_qc/mice/Bobba2022_mm230308.h5ad')"
   ]
  },
  {
   "cell_type": "code",
   "execution_count": null,
   "metadata": {},
   "outputs": [],
   "source": []
  }
 ],
 "metadata": {
  "kernelspec": {
   "display_name": "scanpy_local",
   "language": "python",
   "name": "python3"
  },
  "language_info": {
   "codemirror_mode": {
    "name": "ipython",
    "version": 3
   },
   "file_extension": ".py",
   "mimetype": "text/x-python",
   "name": "python",
   "nbconvert_exporter": "python",
   "pygments_lexer": "ipython3",
   "version": "3.9.16"
  },
  "orig_nbformat": 4,
  "vscode": {
   "interpreter": {
    "hash": "ffd69a565c8d7e2e7368c81b440bbdab965f91e21d81cb98f1cffcbf22a73be4"
   }
  }
 },
 "nbformat": 4,
 "nbformat_minor": 2
}
