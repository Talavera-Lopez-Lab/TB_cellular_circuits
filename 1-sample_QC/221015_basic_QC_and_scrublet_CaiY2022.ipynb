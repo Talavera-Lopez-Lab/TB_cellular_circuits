{
 "cells": [
  {
   "cell_type": "markdown",
   "metadata": {},
   "source": [
    "### Run basic `scanpy` QC and doublet detection with `scrublet` for **PBMC Tuberculosis** _Cai Y et al 2022_\n",
    "\n",
    "**Objective**: Review QC process and suggest changes\n",
    "\n",
    "- **Developed by**: Carlos Talavera-López PhD\n",
    "- **Modified by**: Mairi McClean\n",
    "- **Computational Health Centre - Helmholtz Munich**\n",
    "- ORIGINAL: v221015; MODIFIED: v221116"
   ]
  },
  {
   "cell_type": "markdown",
   "metadata": {},
   "source": [
    "### Load required modules"
   ]
  },
  {
   "cell_type": "code",
   "execution_count": null,
   "metadata": {},
   "outputs": [],
   "source": [
    "import anndata\n",
    "import logging\n",
    "import numpy as np\n",
    "import pandas as pd\n",
    "import scanpy as sc\n",
    "import seaborn as sb\n",
    "import scrublet as scr\n",
    "import matplotlib.pyplot as plt\n",
    "from matplotlib import colors\n",
    "from matplotlib import rcParams"
   ]
  },
  {
   "cell_type": "code",
   "execution_count": null,
   "metadata": {
    "tags": []
   },
   "outputs": [],
   "source": [
    "sc.settings.verbosity = 3\n",
    "sc.logging.print_versions()\n",
    "sc.settings.set_figure_params(dpi = 160, color_map = 'RdPu', dpi_save = 180, vector_friendly = True, format = 'svg')"
   ]
  },
  {
   "cell_type": "markdown",
   "metadata": {},
   "source": [
    "### Read datasets"
   ]
  },
  {
   "cell_type": "code",
   "execution_count": null,
   "metadata": {},
   "outputs": [],
   "source": [
    "adata = sc.read_h5ad('/Users/mairi.mcclean/github/data/tb_pbmc_datasets/CaiY2022_TB.raw.h5ad')\n",
    "adata"
   ]
  },
  {
   "cell_type": "code",
   "execution_count": null,
   "metadata": {},
   "outputs": [],
   "source": [
    "adata.var"
   ]
  },
  {
   "cell_type": "code",
   "execution_count": null,
   "metadata": {},
   "outputs": [],
   "source": [
    "adata.obs['donor'].value_counts()"
   ]
  },
  {
   "cell_type": "code",
   "execution_count": null,
   "metadata": {},
   "outputs": [],
   "source": [
    "adata.obs['data_type'].values"
   ]
  },
  {
   "cell_type": "code",
   "execution_count": null,
   "metadata": {},
   "outputs": [],
   "source": [
    "adata.var_names_make_unique()\n",
    "sample_object = adata.copy()\n",
    "sample_object"
   ]
  },
  {
   "cell_type": "markdown",
   "metadata": {},
   "source": [
    "### Replace gene symbols "
   ]
  },
  {
   "cell_type": "code",
   "execution_count": null,
   "metadata": {},
   "outputs": [],
   "source": [
    "sample_object.var['gene_id'] = sample_object.var.index.copy()\n",
    "sample_object.var.set_index('gene_name', inplace = True)\n",
    "sample_object.var.head()"
   ]
  },
  {
   "cell_type": "code",
   "execution_count": null,
   "metadata": {},
   "outputs": [],
   "source": [
    "sample_object.var_names = [str(i) for i in sample_object.var_names]\n",
    "sample_object.var_names_make_unique()\n"
   ]
  },
  {
   "cell_type": "markdown",
   "metadata": {},
   "source": [
    "### Inital scatterplot of top 20"
   ]
  },
  {
   "cell_type": "code",
   "execution_count": null,
   "metadata": {},
   "outputs": [],
   "source": [
    "\n",
    "# highest fraction of counts per cell\n",
    "\n",
    "sc.pl.highest_expr_genes(sample_object, n_top=20)"
   ]
  },
  {
   "cell_type": "markdown",
   "metadata": {},
   "source": [
    "### Filter cells with less than 200 genes"
   ]
  },
  {
   "cell_type": "code",
   "execution_count": null,
   "metadata": {},
   "outputs": [],
   "source": [
    "sc.pp.filter_cells(sample_object, min_genes = 200)\n",
    "print(sample_object.n_obs, sample_object.n_vars)"
   ]
  },
  {
   "cell_type": "code",
   "execution_count": null,
   "metadata": {},
   "outputs": [],
   "source": [
    "sample_object.shape"
   ]
  },
  {
   "cell_type": "code",
   "execution_count": null,
   "metadata": {},
   "outputs": [],
   "source": [
    "sample_object.var"
   ]
  },
  {
   "cell_type": "markdown",
   "metadata": {},
   "source": [
    "### Filter genes in less than 5 cells\n"
   ]
  },
  {
   "cell_type": "code",
   "execution_count": null,
   "metadata": {},
   "outputs": [
    {
     "name": "stdout",
     "output_type": "stream",
     "text": [
      "filtered out 26143 genes that are detected in less than 3 cells\n"
     ]
    }
   ],
   "source": [
    "# Parameters (cells=3) taken from scanpy tutorial; others say 5? Will revisit\n",
    "sc.pp.filter_genes(sample_object, min_cells=3)"
   ]
  },
  {
   "cell_type": "markdown",
   "metadata": {},
   "source": [
    "### Remove all data that is not scRNAseq"
   ]
  },
  {
   "cell_type": "code",
   "execution_count": null,
   "metadata": {},
   "outputs": [
    {
     "data": {
      "text/html": [
       "<div>\n",
       "<style scoped>\n",
       "    .dataframe tbody tr th:only-of-type {\n",
       "        vertical-align: middle;\n",
       "    }\n",
       "\n",
       "    .dataframe tbody tr th {\n",
       "        vertical-align: top;\n",
       "    }\n",
       "\n",
       "    .dataframe thead th {\n",
       "        text-align: right;\n",
       "    }\n",
       "</style>\n",
       "<table border=\"1\" class=\"dataframe\">\n",
       "  <thead>\n",
       "    <tr style=\"text-align: right;\">\n",
       "      <th></th>\n",
       "      <th>study</th>\n",
       "      <th>individual</th>\n",
       "      <th>sample</th>\n",
       "      <th>tissue</th>\n",
       "      <th>donor</th>\n",
       "      <th>data_type</th>\n",
       "      <th>centre</th>\n",
       "      <th>version</th>\n",
       "      <th>object</th>\n",
       "      <th>protocol</th>\n",
       "      <th>n_genes</th>\n",
       "      <th>n_genes_by_counts</th>\n",
       "      <th>total_counts</th>\n",
       "      <th>total_counts_mt</th>\n",
       "      <th>pct_counts_mt</th>\n",
       "      <th>total_counts_ribo</th>\n",
       "      <th>pct_counts_ribo</th>\n",
       "      <th>percent_mt2</th>\n",
       "      <th>n_counts</th>\n",
       "    </tr>\n",
       "    <tr>\n",
       "      <th>barcode</th>\n",
       "      <th></th>\n",
       "      <th></th>\n",
       "      <th></th>\n",
       "      <th></th>\n",
       "      <th></th>\n",
       "      <th></th>\n",
       "      <th></th>\n",
       "      <th></th>\n",
       "      <th></th>\n",
       "      <th></th>\n",
       "      <th></th>\n",
       "      <th></th>\n",
       "      <th></th>\n",
       "      <th></th>\n",
       "      <th></th>\n",
       "      <th></th>\n",
       "      <th></th>\n",
       "      <th></th>\n",
       "      <th></th>\n",
       "    </tr>\n",
       "  </thead>\n",
       "  <tbody>\n",
       "    <tr>\n",
       "      <th>AAACCTGGTATAGGGC-HRS180101-pbmc_scRNAseq</th>\n",
       "      <td>CaiY_2022</td>\n",
       "      <td>HRI111687</td>\n",
       "      <td>HRS180101</td>\n",
       "      <td>PBMC</td>\n",
       "      <td>P5</td>\n",
       "      <td>scRNAseq</td>\n",
       "      <td>Shenzhen University</td>\n",
       "      <td>10XV2</td>\n",
       "      <td>HRS180101</td>\n",
       "      <td>pbmc_scRNAseq</td>\n",
       "      <td>213</td>\n",
       "      <td>213</td>\n",
       "      <td>402.0</td>\n",
       "      <td>20.0</td>\n",
       "      <td>4.975124</td>\n",
       "      <td>6.0</td>\n",
       "      <td>1.492537</td>\n",
       "      <td>0.049751</td>\n",
       "      <td>402.0</td>\n",
       "    </tr>\n",
       "    <tr>\n",
       "      <th>AAACCTGTCTTTAGTC-HRS180101-pbmc_scRNAseq</th>\n",
       "      <td>CaiY_2022</td>\n",
       "      <td>HRI111687</td>\n",
       "      <td>HRS180101</td>\n",
       "      <td>PBMC</td>\n",
       "      <td>P5</td>\n",
       "      <td>scRNAseq</td>\n",
       "      <td>Shenzhen University</td>\n",
       "      <td>10XV2</td>\n",
       "      <td>HRS180101</td>\n",
       "      <td>pbmc_scRNAseq</td>\n",
       "      <td>206</td>\n",
       "      <td>206</td>\n",
       "      <td>421.0</td>\n",
       "      <td>53.0</td>\n",
       "      <td>12.589073</td>\n",
       "      <td>19.0</td>\n",
       "      <td>4.513064</td>\n",
       "      <td>0.125891</td>\n",
       "      <td>421.0</td>\n",
       "    </tr>\n",
       "    <tr>\n",
       "      <th>AAACGGGAGTTAACGA-HRS180101-pbmc_scRNAseq</th>\n",
       "      <td>CaiY_2022</td>\n",
       "      <td>HRI111687</td>\n",
       "      <td>HRS180101</td>\n",
       "      <td>PBMC</td>\n",
       "      <td>P5</td>\n",
       "      <td>scRNAseq</td>\n",
       "      <td>Shenzhen University</td>\n",
       "      <td>10XV2</td>\n",
       "      <td>HRS180101</td>\n",
       "      <td>pbmc_scRNAseq</td>\n",
       "      <td>201</td>\n",
       "      <td>201</td>\n",
       "      <td>312.0</td>\n",
       "      <td>28.0</td>\n",
       "      <td>8.974360</td>\n",
       "      <td>3.0</td>\n",
       "      <td>0.961538</td>\n",
       "      <td>0.089744</td>\n",
       "      <td>312.0</td>\n",
       "    </tr>\n",
       "    <tr>\n",
       "      <th>AAAGATGAGCAGACTG-HRS180101-pbmc_scRNAseq</th>\n",
       "      <td>CaiY_2022</td>\n",
       "      <td>HRI111687</td>\n",
       "      <td>HRS180101</td>\n",
       "      <td>PBMC</td>\n",
       "      <td>P5</td>\n",
       "      <td>scRNAseq</td>\n",
       "      <td>Shenzhen University</td>\n",
       "      <td>10XV2</td>\n",
       "      <td>HRS180101</td>\n",
       "      <td>pbmc_scRNAseq</td>\n",
       "      <td>237</td>\n",
       "      <td>237</td>\n",
       "      <td>430.0</td>\n",
       "      <td>33.0</td>\n",
       "      <td>7.674418</td>\n",
       "      <td>11.0</td>\n",
       "      <td>2.558140</td>\n",
       "      <td>0.076744</td>\n",
       "      <td>430.0</td>\n",
       "    </tr>\n",
       "    <tr>\n",
       "      <th>AAAGATGAGGACGAAA-HRS180101-pbmc_scRNAseq</th>\n",
       "      <td>CaiY_2022</td>\n",
       "      <td>HRI111687</td>\n",
       "      <td>HRS180101</td>\n",
       "      <td>PBMC</td>\n",
       "      <td>P5</td>\n",
       "      <td>scRNAseq</td>\n",
       "      <td>Shenzhen University</td>\n",
       "      <td>10XV2</td>\n",
       "      <td>HRS180101</td>\n",
       "      <td>pbmc_scRNAseq</td>\n",
       "      <td>255</td>\n",
       "      <td>255</td>\n",
       "      <td>464.0</td>\n",
       "      <td>52.0</td>\n",
       "      <td>11.206897</td>\n",
       "      <td>17.0</td>\n",
       "      <td>3.663793</td>\n",
       "      <td>0.112069</td>\n",
       "      <td>464.0</td>\n",
       "    </tr>\n",
       "    <tr>\n",
       "      <th>...</th>\n",
       "      <td>...</td>\n",
       "      <td>...</td>\n",
       "      <td>...</td>\n",
       "      <td>...</td>\n",
       "      <td>...</td>\n",
       "      <td>...</td>\n",
       "      <td>...</td>\n",
       "      <td>...</td>\n",
       "      <td>...</td>\n",
       "      <td>...</td>\n",
       "      <td>...</td>\n",
       "      <td>...</td>\n",
       "      <td>...</td>\n",
       "      <td>...</td>\n",
       "      <td>...</td>\n",
       "      <td>...</td>\n",
       "      <td>...</td>\n",
       "      <td>...</td>\n",
       "      <td>...</td>\n",
       "    </tr>\n",
       "    <tr>\n",
       "      <th>TTTGTCAAGTGTTAGA-HRS100514-pfmc_scTCRseq</th>\n",
       "      <td>CaiY_2022</td>\n",
       "      <td>HRI068293</td>\n",
       "      <td>HRS100514</td>\n",
       "      <td>PFMC</td>\n",
       "      <td>P4</td>\n",
       "      <td>scTCRseq</td>\n",
       "      <td>Shenzhen University</td>\n",
       "      <td>10XV2</td>\n",
       "      <td>HRS100514</td>\n",
       "      <td>pfmc_scTCRseq</td>\n",
       "      <td>233</td>\n",
       "      <td>233</td>\n",
       "      <td>433.0</td>\n",
       "      <td>50.0</td>\n",
       "      <td>11.547344</td>\n",
       "      <td>14.0</td>\n",
       "      <td>3.233256</td>\n",
       "      <td>0.115473</td>\n",
       "      <td>433.0</td>\n",
       "    </tr>\n",
       "    <tr>\n",
       "      <th>TTTGTCACATCTACGA-HRS100514-pfmc_scTCRseq</th>\n",
       "      <td>CaiY_2022</td>\n",
       "      <td>HRI068293</td>\n",
       "      <td>HRS100514</td>\n",
       "      <td>PFMC</td>\n",
       "      <td>P4</td>\n",
       "      <td>scTCRseq</td>\n",
       "      <td>Shenzhen University</td>\n",
       "      <td>10XV2</td>\n",
       "      <td>HRS100514</td>\n",
       "      <td>pfmc_scTCRseq</td>\n",
       "      <td>264</td>\n",
       "      <td>264</td>\n",
       "      <td>441.0</td>\n",
       "      <td>44.0</td>\n",
       "      <td>9.977324</td>\n",
       "      <td>5.0</td>\n",
       "      <td>1.133787</td>\n",
       "      <td>0.099773</td>\n",
       "      <td>441.0</td>\n",
       "    </tr>\n",
       "    <tr>\n",
       "      <th>TTTGTCATCTAACTCT-HRS100514-pfmc_scTCRseq</th>\n",
       "      <td>CaiY_2022</td>\n",
       "      <td>HRI068293</td>\n",
       "      <td>HRS100514</td>\n",
       "      <td>PFMC</td>\n",
       "      <td>P4</td>\n",
       "      <td>scTCRseq</td>\n",
       "      <td>Shenzhen University</td>\n",
       "      <td>10XV2</td>\n",
       "      <td>HRS100514</td>\n",
       "      <td>pfmc_scTCRseq</td>\n",
       "      <td>271</td>\n",
       "      <td>271</td>\n",
       "      <td>572.0</td>\n",
       "      <td>127.0</td>\n",
       "      <td>22.202797</td>\n",
       "      <td>10.0</td>\n",
       "      <td>1.748252</td>\n",
       "      <td>0.222028</td>\n",
       "      <td>572.0</td>\n",
       "    </tr>\n",
       "    <tr>\n",
       "      <th>TTTGTCATCTCGTTTA-HRS100514-pfmc_scTCRseq</th>\n",
       "      <td>CaiY_2022</td>\n",
       "      <td>HRI068293</td>\n",
       "      <td>HRS100514</td>\n",
       "      <td>PFMC</td>\n",
       "      <td>P4</td>\n",
       "      <td>scTCRseq</td>\n",
       "      <td>Shenzhen University</td>\n",
       "      <td>10XV2</td>\n",
       "      <td>HRS100514</td>\n",
       "      <td>pfmc_scTCRseq</td>\n",
       "      <td>522</td>\n",
       "      <td>522</td>\n",
       "      <td>924.0</td>\n",
       "      <td>70.0</td>\n",
       "      <td>7.575758</td>\n",
       "      <td>20.0</td>\n",
       "      <td>2.164502</td>\n",
       "      <td>0.075758</td>\n",
       "      <td>924.0</td>\n",
       "    </tr>\n",
       "    <tr>\n",
       "      <th>TTTGTCATCTTGTCAT-HRS100514-pfmc_scTCRseq</th>\n",
       "      <td>CaiY_2022</td>\n",
       "      <td>HRI068293</td>\n",
       "      <td>HRS100514</td>\n",
       "      <td>PFMC</td>\n",
       "      <td>P4</td>\n",
       "      <td>scTCRseq</td>\n",
       "      <td>Shenzhen University</td>\n",
       "      <td>10XV2</td>\n",
       "      <td>HRS100514</td>\n",
       "      <td>pfmc_scTCRseq</td>\n",
       "      <td>274</td>\n",
       "      <td>274</td>\n",
       "      <td>462.0</td>\n",
       "      <td>40.0</td>\n",
       "      <td>8.658009</td>\n",
       "      <td>13.0</td>\n",
       "      <td>2.813853</td>\n",
       "      <td>0.086580</td>\n",
       "      <td>462.0</td>\n",
       "    </tr>\n",
       "  </tbody>\n",
       "</table>\n",
       "<p>72235 rows × 19 columns</p>\n",
       "</div>"
      ],
      "text/plain": [
       "                                              study individual     sample  \\\n",
       "barcode                                                                     \n",
       "AAACCTGGTATAGGGC-HRS180101-pbmc_scRNAseq  CaiY_2022  HRI111687  HRS180101   \n",
       "AAACCTGTCTTTAGTC-HRS180101-pbmc_scRNAseq  CaiY_2022  HRI111687  HRS180101   \n",
       "AAACGGGAGTTAACGA-HRS180101-pbmc_scRNAseq  CaiY_2022  HRI111687  HRS180101   \n",
       "AAAGATGAGCAGACTG-HRS180101-pbmc_scRNAseq  CaiY_2022  HRI111687  HRS180101   \n",
       "AAAGATGAGGACGAAA-HRS180101-pbmc_scRNAseq  CaiY_2022  HRI111687  HRS180101   \n",
       "...                                             ...        ...        ...   \n",
       "TTTGTCAAGTGTTAGA-HRS100514-pfmc_scTCRseq  CaiY_2022  HRI068293  HRS100514   \n",
       "TTTGTCACATCTACGA-HRS100514-pfmc_scTCRseq  CaiY_2022  HRI068293  HRS100514   \n",
       "TTTGTCATCTAACTCT-HRS100514-pfmc_scTCRseq  CaiY_2022  HRI068293  HRS100514   \n",
       "TTTGTCATCTCGTTTA-HRS100514-pfmc_scTCRseq  CaiY_2022  HRI068293  HRS100514   \n",
       "TTTGTCATCTTGTCAT-HRS100514-pfmc_scTCRseq  CaiY_2022  HRI068293  HRS100514   \n",
       "\n",
       "                                         tissue donor data_type  \\\n",
       "barcode                                                           \n",
       "AAACCTGGTATAGGGC-HRS180101-pbmc_scRNAseq   PBMC    P5  scRNAseq   \n",
       "AAACCTGTCTTTAGTC-HRS180101-pbmc_scRNAseq   PBMC    P5  scRNAseq   \n",
       "AAACGGGAGTTAACGA-HRS180101-pbmc_scRNAseq   PBMC    P5  scRNAseq   \n",
       "AAAGATGAGCAGACTG-HRS180101-pbmc_scRNAseq   PBMC    P5  scRNAseq   \n",
       "AAAGATGAGGACGAAA-HRS180101-pbmc_scRNAseq   PBMC    P5  scRNAseq   \n",
       "...                                         ...   ...       ...   \n",
       "TTTGTCAAGTGTTAGA-HRS100514-pfmc_scTCRseq   PFMC    P4  scTCRseq   \n",
       "TTTGTCACATCTACGA-HRS100514-pfmc_scTCRseq   PFMC    P4  scTCRseq   \n",
       "TTTGTCATCTAACTCT-HRS100514-pfmc_scTCRseq   PFMC    P4  scTCRseq   \n",
       "TTTGTCATCTCGTTTA-HRS100514-pfmc_scTCRseq   PFMC    P4  scTCRseq   \n",
       "TTTGTCATCTTGTCAT-HRS100514-pfmc_scTCRseq   PFMC    P4  scTCRseq   \n",
       "\n",
       "                                                       centre version  \\\n",
       "barcode                                                                 \n",
       "AAACCTGGTATAGGGC-HRS180101-pbmc_scRNAseq  Shenzhen University   10XV2   \n",
       "AAACCTGTCTTTAGTC-HRS180101-pbmc_scRNAseq  Shenzhen University   10XV2   \n",
       "AAACGGGAGTTAACGA-HRS180101-pbmc_scRNAseq  Shenzhen University   10XV2   \n",
       "AAAGATGAGCAGACTG-HRS180101-pbmc_scRNAseq  Shenzhen University   10XV2   \n",
       "AAAGATGAGGACGAAA-HRS180101-pbmc_scRNAseq  Shenzhen University   10XV2   \n",
       "...                                                       ...     ...   \n",
       "TTTGTCAAGTGTTAGA-HRS100514-pfmc_scTCRseq  Shenzhen University   10XV2   \n",
       "TTTGTCACATCTACGA-HRS100514-pfmc_scTCRseq  Shenzhen University   10XV2   \n",
       "TTTGTCATCTAACTCT-HRS100514-pfmc_scTCRseq  Shenzhen University   10XV2   \n",
       "TTTGTCATCTCGTTTA-HRS100514-pfmc_scTCRseq  Shenzhen University   10XV2   \n",
       "TTTGTCATCTTGTCAT-HRS100514-pfmc_scTCRseq  Shenzhen University   10XV2   \n",
       "\n",
       "                                             object       protocol  n_genes  \\\n",
       "barcode                                                                       \n",
       "AAACCTGGTATAGGGC-HRS180101-pbmc_scRNAseq  HRS180101  pbmc_scRNAseq      213   \n",
       "AAACCTGTCTTTAGTC-HRS180101-pbmc_scRNAseq  HRS180101  pbmc_scRNAseq      206   \n",
       "AAACGGGAGTTAACGA-HRS180101-pbmc_scRNAseq  HRS180101  pbmc_scRNAseq      201   \n",
       "AAAGATGAGCAGACTG-HRS180101-pbmc_scRNAseq  HRS180101  pbmc_scRNAseq      237   \n",
       "AAAGATGAGGACGAAA-HRS180101-pbmc_scRNAseq  HRS180101  pbmc_scRNAseq      255   \n",
       "...                                             ...            ...      ...   \n",
       "TTTGTCAAGTGTTAGA-HRS100514-pfmc_scTCRseq  HRS100514  pfmc_scTCRseq      233   \n",
       "TTTGTCACATCTACGA-HRS100514-pfmc_scTCRseq  HRS100514  pfmc_scTCRseq      264   \n",
       "TTTGTCATCTAACTCT-HRS100514-pfmc_scTCRseq  HRS100514  pfmc_scTCRseq      271   \n",
       "TTTGTCATCTCGTTTA-HRS100514-pfmc_scTCRseq  HRS100514  pfmc_scTCRseq      522   \n",
       "TTTGTCATCTTGTCAT-HRS100514-pfmc_scTCRseq  HRS100514  pfmc_scTCRseq      274   \n",
       "\n",
       "                                          n_genes_by_counts  total_counts  \\\n",
       "barcode                                                                     \n",
       "AAACCTGGTATAGGGC-HRS180101-pbmc_scRNAseq                213         402.0   \n",
       "AAACCTGTCTTTAGTC-HRS180101-pbmc_scRNAseq                206         421.0   \n",
       "AAACGGGAGTTAACGA-HRS180101-pbmc_scRNAseq                201         312.0   \n",
       "AAAGATGAGCAGACTG-HRS180101-pbmc_scRNAseq                237         430.0   \n",
       "AAAGATGAGGACGAAA-HRS180101-pbmc_scRNAseq                255         464.0   \n",
       "...                                                     ...           ...   \n",
       "TTTGTCAAGTGTTAGA-HRS100514-pfmc_scTCRseq                233         433.0   \n",
       "TTTGTCACATCTACGA-HRS100514-pfmc_scTCRseq                264         441.0   \n",
       "TTTGTCATCTAACTCT-HRS100514-pfmc_scTCRseq                271         572.0   \n",
       "TTTGTCATCTCGTTTA-HRS100514-pfmc_scTCRseq                522         924.0   \n",
       "TTTGTCATCTTGTCAT-HRS100514-pfmc_scTCRseq                274         462.0   \n",
       "\n",
       "                                          total_counts_mt  pct_counts_mt  \\\n",
       "barcode                                                                    \n",
       "AAACCTGGTATAGGGC-HRS180101-pbmc_scRNAseq             20.0       4.975124   \n",
       "AAACCTGTCTTTAGTC-HRS180101-pbmc_scRNAseq             53.0      12.589073   \n",
       "AAACGGGAGTTAACGA-HRS180101-pbmc_scRNAseq             28.0       8.974360   \n",
       "AAAGATGAGCAGACTG-HRS180101-pbmc_scRNAseq             33.0       7.674418   \n",
       "AAAGATGAGGACGAAA-HRS180101-pbmc_scRNAseq             52.0      11.206897   \n",
       "...                                                   ...            ...   \n",
       "TTTGTCAAGTGTTAGA-HRS100514-pfmc_scTCRseq             50.0      11.547344   \n",
       "TTTGTCACATCTACGA-HRS100514-pfmc_scTCRseq             44.0       9.977324   \n",
       "TTTGTCATCTAACTCT-HRS100514-pfmc_scTCRseq            127.0      22.202797   \n",
       "TTTGTCATCTCGTTTA-HRS100514-pfmc_scTCRseq             70.0       7.575758   \n",
       "TTTGTCATCTTGTCAT-HRS100514-pfmc_scTCRseq             40.0       8.658009   \n",
       "\n",
       "                                          total_counts_ribo  pct_counts_ribo  \\\n",
       "barcode                                                                        \n",
       "AAACCTGGTATAGGGC-HRS180101-pbmc_scRNAseq                6.0         1.492537   \n",
       "AAACCTGTCTTTAGTC-HRS180101-pbmc_scRNAseq               19.0         4.513064   \n",
       "AAACGGGAGTTAACGA-HRS180101-pbmc_scRNAseq                3.0         0.961538   \n",
       "AAAGATGAGCAGACTG-HRS180101-pbmc_scRNAseq               11.0         2.558140   \n",
       "AAAGATGAGGACGAAA-HRS180101-pbmc_scRNAseq               17.0         3.663793   \n",
       "...                                                     ...              ...   \n",
       "TTTGTCAAGTGTTAGA-HRS100514-pfmc_scTCRseq               14.0         3.233256   \n",
       "TTTGTCACATCTACGA-HRS100514-pfmc_scTCRseq                5.0         1.133787   \n",
       "TTTGTCATCTAACTCT-HRS100514-pfmc_scTCRseq               10.0         1.748252   \n",
       "TTTGTCATCTCGTTTA-HRS100514-pfmc_scTCRseq               20.0         2.164502   \n",
       "TTTGTCATCTTGTCAT-HRS100514-pfmc_scTCRseq               13.0         2.813853   \n",
       "\n",
       "                                          percent_mt2  n_counts  \n",
       "barcode                                                          \n",
       "AAACCTGGTATAGGGC-HRS180101-pbmc_scRNAseq     0.049751     402.0  \n",
       "AAACCTGTCTTTAGTC-HRS180101-pbmc_scRNAseq     0.125891     421.0  \n",
       "AAACGGGAGTTAACGA-HRS180101-pbmc_scRNAseq     0.089744     312.0  \n",
       "AAAGATGAGCAGACTG-HRS180101-pbmc_scRNAseq     0.076744     430.0  \n",
       "AAAGATGAGGACGAAA-HRS180101-pbmc_scRNAseq     0.112069     464.0  \n",
       "...                                               ...       ...  \n",
       "TTTGTCAAGTGTTAGA-HRS100514-pfmc_scTCRseq     0.115473     433.0  \n",
       "TTTGTCACATCTACGA-HRS100514-pfmc_scTCRseq     0.099773     441.0  \n",
       "TTTGTCATCTAACTCT-HRS100514-pfmc_scTCRseq     0.222028     572.0  \n",
       "TTTGTCATCTCGTTTA-HRS100514-pfmc_scTCRseq     0.075758     924.0  \n",
       "TTTGTCATCTTGTCAT-HRS100514-pfmc_scTCRseq     0.086580     462.0  \n",
       "\n",
       "[72235 rows x 19 columns]"
      ]
     },
     "metadata": {},
     "output_type": "display_data"
    }
   ],
   "source": [
    "sample_object.obs"
   ]
  },
  {
   "cell_type": "code",
   "execution_count": null,
   "metadata": {},
   "outputs": [
    {
     "data": {
      "text/plain": [
       "barcode\n",
       "AAACCTGGTATAGGGC-HRS180101-pbmc_scRNAseq    scRNAseq\n",
       "AAACCTGTCTTTAGTC-HRS180101-pbmc_scRNAseq    scRNAseq\n",
       "AAACGGGAGTTAACGA-HRS180101-pbmc_scRNAseq    scRNAseq\n",
       "AAAGATGAGCAGACTG-HRS180101-pbmc_scRNAseq    scRNAseq\n",
       "AAAGATGAGGACGAAA-HRS180101-pbmc_scRNAseq    scRNAseq\n",
       "                                              ...   \n",
       "TTTGTCAAGTGTTAGA-HRS100514-pfmc_scTCRseq    scTCRseq\n",
       "TTTGTCACATCTACGA-HRS100514-pfmc_scTCRseq    scTCRseq\n",
       "TTTGTCATCTAACTCT-HRS100514-pfmc_scTCRseq    scTCRseq\n",
       "TTTGTCATCTCGTTTA-HRS100514-pfmc_scTCRseq    scTCRseq\n",
       "TTTGTCATCTTGTCAT-HRS100514-pfmc_scTCRseq    scTCRseq\n",
       "Name: data_type, Length: 72235, dtype: category\n",
       "Categories (2, object): ['scRNAseq', 'scTCRseq']"
      ]
     },
     "metadata": {},
     "output_type": "display_data"
    }
   ],
   "source": [
    "sample_object.obs['data_type']"
   ]
  },
  {
   "cell_type": "code",
   "execution_count": null,
   "metadata": {},
   "outputs": [
    {
     "data": {
      "text/plain": [
       "Index(['scRNAseq', 'scTCRseq'], dtype='object')"
      ]
     },
     "metadata": {},
     "output_type": "display_data"
    }
   ],
   "source": [
    "sample_object.obs['data_type'].cat.categories"
   ]
  },
  {
   "cell_type": "code",
   "execution_count": null,
   "metadata": {},
   "outputs": [],
   "source": [
    "# Code from https://scanpy.discourse.group/t/filter-out-specific-clusters-using-their-cluster-number/82\n",
    "\n",
    "sample_object_new = sample_object[~sample_object.obs['data_type'].isin(['scTCRseq']),:]"
   ]
  },
  {
   "cell_type": "code",
   "execution_count": null,
   "metadata": {},
   "outputs": [
    {
     "data": {
      "text/plain": [
       "View of AnnData object with n_obs × n_vars = 66560 × 35390\n",
       "    obs: 'study', 'individual', 'sample', 'tissue', 'donor', 'data_type', 'centre', 'version', 'object', 'protocol', 'n_genes', 'n_genes_by_counts', 'total_counts', 'total_counts_mt', 'pct_counts_mt', 'total_counts_ribo', 'pct_counts_ribo', 'percent_mt2', 'n_counts'\n",
       "    var: 'gene_id', 'n_cells', 'mt', 'n_cells_by_counts', 'mean_counts', 'pct_dropout_by_counts', 'total_counts', 'ribo'\n",
       "    uns: 'donor_colors'"
      ]
     },
     "metadata": {},
     "output_type": "display_data"
    }
   ],
   "source": [
    "sample_object_new"
   ]
  },
  {
   "cell_type": "code",
   "execution_count": null,
   "metadata": {},
   "outputs": [
    {
     "data": {
      "text/plain": [
       "Index(['scRNAseq'], dtype='object')"
      ]
     },
     "metadata": {},
     "output_type": "display_data"
    }
   ],
   "source": [
    "sample_object_new.obs['data_type'].cat.categories"
   ]
  },
  {
   "cell_type": "markdown",
   "metadata": {},
   "source": [
    "### Compute QC stats"
   ]
  },
  {
   "cell_type": "markdown",
   "metadata": {},
   "source": [
    "#### Remove mt genes"
   ]
  },
  {
   "cell_type": "code",
   "execution_count": null,
   "metadata": {},
   "outputs": [],
   "source": [
    "sample_object_new.shape"
   ]
  },
  {
   "cell_type": "code",
   "execution_count": null,
   "metadata": {},
   "outputs": [],
   "source": [
    "sample_object_new.var['mt'] = sample_object_new.var_names.str.startswith('MT-')\n",
    "sc.pp.calculate_qc_metrics(sample_object_new, qc_vars = ['mt'], percent_top = None, log1p = False, inplace = True)\n",
    "sample_object_new.var"
   ]
  },
  {
   "cell_type": "markdown",
   "metadata": {},
   "source": [
    "#### Remove ribosomal RNA\n",
    "\n",
    "###### When would you not remove ribosomal RNA?"
   ]
  },
  {
   "cell_type": "code",
   "execution_count": null,
   "metadata": {},
   "outputs": [
    {
     "data": {
      "text/html": [
       "<div>\n",
       "<style scoped>\n",
       "    .dataframe tbody tr th:only-of-type {\n",
       "        vertical-align: middle;\n",
       "    }\n",
       "\n",
       "    .dataframe tbody tr th {\n",
       "        vertical-align: top;\n",
       "    }\n",
       "\n",
       "    .dataframe thead th {\n",
       "        text-align: right;\n",
       "    }\n",
       "</style>\n",
       "<table border=\"1\" class=\"dataframe\">\n",
       "  <thead>\n",
       "    <tr style=\"text-align: right;\">\n",
       "      <th></th>\n",
       "      <th>gene_id</th>\n",
       "      <th>n_cells</th>\n",
       "      <th>mt</th>\n",
       "      <th>n_cells_by_counts</th>\n",
       "      <th>mean_counts</th>\n",
       "      <th>pct_dropout_by_counts</th>\n",
       "      <th>total_counts</th>\n",
       "      <th>ribo</th>\n",
       "    </tr>\n",
       "  </thead>\n",
       "  <tbody>\n",
       "    <tr>\n",
       "      <th>DDX11L1</th>\n",
       "      <td>ENSG00000223972.5</td>\n",
       "      <td>9</td>\n",
       "      <td>False</td>\n",
       "      <td>9</td>\n",
       "      <td>0.000138</td>\n",
       "      <td>99.987541</td>\n",
       "      <td>10.0</td>\n",
       "      <td>False</td>\n",
       "    </tr>\n",
       "    <tr>\n",
       "      <th>WASH7P</th>\n",
       "      <td>ENSG00000227232.5</td>\n",
       "      <td>41</td>\n",
       "      <td>False</td>\n",
       "      <td>41</td>\n",
       "      <td>0.000568</td>\n",
       "      <td>99.943241</td>\n",
       "      <td>41.0</td>\n",
       "      <td>False</td>\n",
       "    </tr>\n",
       "    <tr>\n",
       "      <th>OR4G11P</th>\n",
       "      <td>ENSG00000240361.2</td>\n",
       "      <td>4</td>\n",
       "      <td>False</td>\n",
       "      <td>4</td>\n",
       "      <td>0.000069</td>\n",
       "      <td>99.994463</td>\n",
       "      <td>5.0</td>\n",
       "      <td>False</td>\n",
       "    </tr>\n",
       "    <tr>\n",
       "      <th>OR4F5</th>\n",
       "      <td>ENSG00000186092.7</td>\n",
       "      <td>6</td>\n",
       "      <td>False</td>\n",
       "      <td>6</td>\n",
       "      <td>0.000083</td>\n",
       "      <td>99.991694</td>\n",
       "      <td>6.0</td>\n",
       "      <td>False</td>\n",
       "    </tr>\n",
       "    <tr>\n",
       "      <th>ENSG00000238009</th>\n",
       "      <td>ENSG00000238009.6</td>\n",
       "      <td>54</td>\n",
       "      <td>False</td>\n",
       "      <td>54</td>\n",
       "      <td>0.000761</td>\n",
       "      <td>99.925244</td>\n",
       "      <td>55.0</td>\n",
       "      <td>False</td>\n",
       "    </tr>\n",
       "    <tr>\n",
       "      <th>...</th>\n",
       "      <td>...</td>\n",
       "      <td>...</td>\n",
       "      <td>...</td>\n",
       "      <td>...</td>\n",
       "      <td>...</td>\n",
       "      <td>...</td>\n",
       "      <td>...</td>\n",
       "      <td>...</td>\n",
       "    </tr>\n",
       "    <tr>\n",
       "      <th>MT-ND6</th>\n",
       "      <td>ENSG00000198695.2</td>\n",
       "      <td>32012</td>\n",
       "      <td>True</td>\n",
       "      <td>32012</td>\n",
       "      <td>0.770444</td>\n",
       "      <td>55.683533</td>\n",
       "      <td>55653.0</td>\n",
       "      <td>False</td>\n",
       "    </tr>\n",
       "    <tr>\n",
       "      <th>MT-TE</th>\n",
       "      <td>ENSG00000210194.1</td>\n",
       "      <td>1062</td>\n",
       "      <td>True</td>\n",
       "      <td>1062</td>\n",
       "      <td>0.016031</td>\n",
       "      <td>98.529799</td>\n",
       "      <td>1158.0</td>\n",
       "      <td>False</td>\n",
       "    </tr>\n",
       "    <tr>\n",
       "      <th>MT-CYB</th>\n",
       "      <td>ENSG00000198727.2</td>\n",
       "      <td>43682</td>\n",
       "      <td>True</td>\n",
       "      <td>43682</td>\n",
       "      <td>2.059542</td>\n",
       "      <td>39.527930</td>\n",
       "      <td>148771.0</td>\n",
       "      <td>False</td>\n",
       "    </tr>\n",
       "    <tr>\n",
       "      <th>MT-TT</th>\n",
       "      <td>ENSG00000210195.2</td>\n",
       "      <td>84</td>\n",
       "      <td>True</td>\n",
       "      <td>84</td>\n",
       "      <td>0.001163</td>\n",
       "      <td>99.883713</td>\n",
       "      <td>84.0</td>\n",
       "      <td>False</td>\n",
       "    </tr>\n",
       "    <tr>\n",
       "      <th>MT-TP</th>\n",
       "      <td>ENSG00000210196.2</td>\n",
       "      <td>5329</td>\n",
       "      <td>True</td>\n",
       "      <td>5329</td>\n",
       "      <td>0.082204</td>\n",
       "      <td>92.622690</td>\n",
       "      <td>5938.0</td>\n",
       "      <td>False</td>\n",
       "    </tr>\n",
       "  </tbody>\n",
       "</table>\n",
       "<p>35390 rows × 8 columns</p>\n",
       "</div>"
      ],
      "text/plain": [
       "                           gene_id  n_cells     mt  n_cells_by_counts  \\\n",
       "DDX11L1          ENSG00000223972.5        9  False                  9   \n",
       "WASH7P           ENSG00000227232.5       41  False                 41   \n",
       "OR4G11P          ENSG00000240361.2        4  False                  4   \n",
       "OR4F5            ENSG00000186092.7        6  False                  6   \n",
       "ENSG00000238009  ENSG00000238009.6       54  False                 54   \n",
       "...                            ...      ...    ...                ...   \n",
       "MT-ND6           ENSG00000198695.2    32012   True              32012   \n",
       "MT-TE            ENSG00000210194.1     1062   True               1062   \n",
       "MT-CYB           ENSG00000198727.2    43682   True              43682   \n",
       "MT-TT            ENSG00000210195.2       84   True                 84   \n",
       "MT-TP            ENSG00000210196.2     5329   True               5329   \n",
       "\n",
       "                 mean_counts  pct_dropout_by_counts  total_counts   ribo  \n",
       "DDX11L1             0.000138              99.987541          10.0  False  \n",
       "WASH7P              0.000568              99.943241          41.0  False  \n",
       "OR4G11P             0.000069              99.994463           5.0  False  \n",
       "OR4F5               0.000083              99.991694           6.0  False  \n",
       "ENSG00000238009     0.000761              99.925244          55.0  False  \n",
       "...                      ...                    ...           ...    ...  \n",
       "MT-ND6              0.770444              55.683533       55653.0  False  \n",
       "MT-TE               0.016031              98.529799        1158.0  False  \n",
       "MT-CYB              2.059542              39.527930      148771.0  False  \n",
       "MT-TT               0.001163              99.883713          84.0  False  \n",
       "MT-TP               0.082204              92.622690        5938.0  False  \n",
       "\n",
       "[35390 rows x 8 columns]"
      ]
     },
     "metadata": {},
     "output_type": "display_data"
    }
   ],
   "source": [
    "sample_object_new.var['ribo'] = sample_object_new.var_names.str.startswith((\"RPS\",\"RPL\"))\n",
    "sc.pp.calculate_qc_metrics(sample_object_new, qc_vars = ['ribo'], percent_top = None, log1p = False, inplace = True)\n",
    "sample_object_new.var"
   ]
  },
  {
   "cell_type": "code",
   "execution_count": null,
   "metadata": {},
   "outputs": [],
   "source": [
    "# for each cell compute fraction of counts in mito genes vs. all genes\n",
    "# the `.A1` is only necessary as X is sparse (to transform to a dense array after summing)\n",
    "# add the total counts per cell as observations-annotation to adata\n",
    "\n",
    "mito_genes = sample_object_new.var_names.str.startswith('MT-')\n",
    "sample_object_new.obs['percent_mt2'] = np.sum(\n",
    "    sample_object_new[:, mito_genes].X, axis = 1).A1 / np.sum(sample_object_new.X, axis = 1).A1\n",
    "sample_object_new.obs['n_counts'] = sample_object_new.X.sum(axis = 1).A1"
   ]
  },
  {
   "cell_type": "code",
   "execution_count": null,
   "metadata": {},
   "outputs": [],
   "source": [
    "sample_object_new "
   ]
  },
  {
   "cell_type": "markdown",
   "metadata": {},
   "source": [
    "### Visualise QC metrics"
   ]
  },
  {
   "cell_type": "code",
   "execution_count": null,
   "metadata": {},
   "outputs": [],
   "source": [
    "sample_object_new.var_names"
   ]
  },
  {
   "cell_type": "code",
   "execution_count": null,
   "metadata": {},
   "outputs": [],
   "source": [
    "# From Anna's notebook?\n",
    "sc.pl.violin(sample_object_new, ['n_genes_by_counts', 'total_counts', 'pct_counts_mt', 'pct_counts_ribo'],\n",
    "             jitter=0.4, multi_panel=True)"
   ]
  },
  {
   "cell_type": "code",
   "execution_count": null,
   "metadata": {},
   "outputs": [],
   "source": [
    "sc.pl.violin(sample_object_new, ['n_genes_by_counts', 'total_counts', 'pct_counts_mt','pct_counts_ribo'],\n",
    "             jitter = 0.2, groupby = 'donor', rotation = 45)"
   ]
  },
  {
   "cell_type": "code",
   "execution_count": null,
   "metadata": {},
   "outputs": [],
   "source": [
    "sc.pl.violin(sample_object_new, ['n_genes_by_counts', 'total_counts', 'pct_counts_mt','pct_counts_ribo'],\n",
    "             jitter=0.4, groupby = 'tissue', rotation = 45)"
   ]
  },
  {
   "cell_type": "code",
   "execution_count": null,
   "metadata": {},
   "outputs": [],
   "source": [
    "sc.pl.scatter(sample_object_new, x = 'total_counts', y = 'pct_counts_mt', color = \"donor\")"
   ]
  },
  {
   "cell_type": "code",
   "execution_count": null,
   "metadata": {},
   "outputs": [],
   "source": [
    "sc.pl.scatter(sample_object_new, x='total_counts', y='n_genes_by_counts', color = \"donor\")"
   ]
  },
  {
   "cell_type": "markdown",
   "metadata": {},
   "source": [
    "### Filtering step\n",
    "\n",
    "##### Values taken from Scanpy tutorial [https://scanpy-tutorials.readthedocs.io/en/latest/pbmc3k.html]"
   ]
  },
  {
   "cell_type": "code",
   "execution_count": null,
   "metadata": {},
   "outputs": [],
   "source": [
    "sample_object_new = sample_object_new[sample_object_new.obs.n_genes_by_counts < 2500, :]\n",
    "sample_object_new = sample_object_new[sample_object_new.obs.pct_counts_mt < 5, :]"
   ]
  },
  {
   "cell_type": "markdown",
   "metadata": {},
   "source": [
    "### Add sample sex covariate"
   ]
  },
  {
   "cell_type": "code",
   "execution_count": null,
   "metadata": {},
   "outputs": [],
   "source": [
    "annot = sc.queries.biomart_annotations(\n",
    "        \"hsapiens\",\n",
    "        [\"ensembl_gene_id\", \"external_gene_name\", \"start_position\", \"end_position\", \"chromosome_name\"],\n",
    "    ).set_index(\"external_gene_name\")"
   ]
  },
  {
   "cell_type": "code",
   "execution_count": null,
   "metadata": {},
   "outputs": [],
   "source": [
    "annot.head()"
   ]
  },
  {
   "cell_type": "code",
   "execution_count": null,
   "metadata": {},
   "outputs": [],
   "source": [
    "chrY_genes = sample_object_new.var_names.intersection(annot.index[annot.chromosome_name == \"Y\"])\n",
    "chrY_genes"
   ]
  },
  {
   "cell_type": "code",
   "execution_count": null,
   "metadata": {},
   "outputs": [],
   "source": [
    "sample_object_new.obs['percent_chrY'] = np.sum(\n",
    "    sample_object_new[:, chrY_genes].X, axis = 1).A1 / np.sum(sample_object_new.X, axis = 1).A1 * 100"
   ]
  },
  {
   "cell_type": "code",
   "execution_count": null,
   "metadata": {},
   "outputs": [],
   "source": [
    "sample_object_new.obs[\"XIST-counts\"] = sample_object_new.X[:,sample_object_new.var_names.str.match('XIST')].toarray()\n",
    "\n",
    "sc.pl.scatter(sample_object_new, x = 'XIST-counts', y = 'percent_chrY', color = \"donor\")"
   ]
  },
  {
   "cell_type": "code",
   "execution_count": null,
   "metadata": {},
   "outputs": [],
   "source": [
    "sc.pl.violin(sample_object_new, [\"XIST-counts\", \"percent_chrY\"], jitter = 0.4, groupby = 'donor', rotation = 45)"
   ]
  },
  {
   "cell_type": "markdown",
   "metadata": {},
   "source": [
    "### Calculate cell cycle scores"
   ]
  },
  {
   "cell_type": "code",
   "execution_count": null,
   "metadata": {},
   "outputs": [],
   "source": [
    "!if [ ! -f /Users/mairi.mcclean/cell_cycle_gene.txt ]; then curl -o /Users/mairi.mcclean/cell_cycle_gene.txt https://raw.githubusercontent.com/theislab/scanpy_usage/master/180209_cell_cycle/data/regev_lab_cell_cycle_genes.txt; fi"
   ]
  },
  {
   "cell_type": "code",
   "execution_count": null,
   "metadata": {},
   "outputs": [],
   "source": [
    "cell_cycle_genes = [x.strip() for x in open('/Users/mairi.mcclean/cell_cycle_gene.txt')]\n",
    "print(len(cell_cycle_genes))\n",
    "\n",
    "# Split into 2 lists\n",
    "s_genes = cell_cycle_genes[:43]\n",
    "g2m_genes = cell_cycle_genes[43:]\n",
    "\n",
    "cell_cycle_genes = [x for x in cell_cycle_genes if x in sample_object_new.var_names]\n",
    "print(len(cell_cycle_genes))"
   ]
  },
  {
   "cell_type": "markdown",
   "metadata": {},
   "source": [
    "- Create basic `anndata` for score calculation"
   ]
  },
  {
   "cell_type": "code",
   "execution_count": null,
   "metadata": {},
   "outputs": [],
   "source": [
    "adata_log = anndata.AnnData(X = sample_object_new.X,  var = sample_object_new.var, obs = sample_object_new.obs)\n",
    "sc.pp.normalize_total(adata_log, target_sum = 1e6, exclude_highly_expressed = True)\n",
    "sc.pp.log1p(adata_log)"
   ]
  },
  {
   "cell_type": "code",
   "execution_count": null,
   "metadata": {},
   "outputs": [],
   "source": [
    "sc.tl.score_genes_cell_cycle(adata_log, s_genes = s_genes, g2m_genes = g2m_genes)\n",
    "sc.pl.violin(adata_log, ['S_score', 'G2M_score'],\n",
    "             jitter = 0.4, groupby = 'donor', rotation = 45)"
   ]
  },
  {
   "cell_type": "code",
   "execution_count": null,
   "metadata": {},
   "outputs": [],
   "source": [
    "sample_object_new.obs['S_score'] = adata_log.obs['S_score']\n",
    "sample_object_new.obs['G2M_score'] = adata_log.obs['G2M_score']\n",
    "sample_object_new"
   ]
  },
  {
   "cell_type": "markdown",
   "metadata": {},
   "source": [
    "### Predict doublets"
   ]
  },
  {
   "cell_type": "code",
   "execution_count": null,
   "metadata": {},
   "outputs": [],
   "source": [
    "scrub = scr.Scrublet(sample_object_new.X)\n",
    "sample_object_new.obs['doublet_scores'], sample_object_new.obs['predicted_doublets'] = scrub.scrub_doublets()\n",
    "scrub.plot_histogram()\n",
    "\n",
    "sum(sample_object_new.obs['predicted_doublets'])"
   ]
  },
  {
   "cell_type": "code",
   "execution_count": null,
   "metadata": {},
   "outputs": [],
   "source": [
    "#check if our predicted doublets also have more detected genes in general\n",
    "\n",
    "sc.pl.violin(sample_object_new, ['n_genes_by_counts', 'total_counts', 'pct_counts_mt','pct_counts_ribo', 'predicted_doublets'],\n",
    "             jitter = 0.2, groupby = 'donor', rotation = 45)"
   ]
  },
  {
   "cell_type": "code",
   "execution_count": null,
   "metadata": {},
   "outputs": [],
   "source": [
    "sc.pl.violin(sample_object_new, ['n_genes_by_counts', 'total_counts', 'pct_counts_mt','pct_counts_ribo', 'predicted_doublets'],\n",
    "             jitter = 0.2, groupby = 'sample', rotation = 45)"
   ]
  },
  {
   "cell_type": "markdown",
   "metadata": {},
   "source": [
    "### Prepare counts for individual slots\n",
    "\n",
    "#### Preparation for data normalization\n",
    ">> not QC?"
   ]
  },
  {
   "cell_type": "code",
   "execution_count": null,
   "metadata": {},
   "outputs": [],
   "source": [
    "sample_object_new.raw = sample_object_new.copy()\n",
    "sample_object_new.layers['counts'] = sample_object_new.X.copy()\n",
    "sample_object_new.layers[\"sqrt_norm\"] = np.sqrt(\n",
    "    sc.pp.normalize_total(sample_object_new, inplace = False)[\"X\"]\n",
    ")\n",
    "sample_object_new"
   ]
  },
  {
   "cell_type": "markdown",
   "metadata": {},
   "source": [
    "### Identification of highly variable genes\n",
    "\n",
    "#### Where should this be done? After log transformation?"
   ]
  },
  {
   "cell_type": "code",
   "execution_count": null,
   "metadata": {},
   "outputs": [],
   "source": [
    "sc.pp.highly_variable_genes(sample_object_new, min_mean=0.0125, max_mean=3, min_disp=0.5)\n"
   ]
  },
  {
   "cell_type": "code",
   "execution_count": null,
   "metadata": {},
   "outputs": [],
   "source": [
    "sc.pl.highly_variable_genes(sample_object_new)\n"
   ]
  },
  {
   "cell_type": "markdown",
   "metadata": {},
   "source": [
    "### Export object"
   ]
  },
  {
   "cell_type": "code",
   "execution_count": null,
   "metadata": {},
   "outputs": [],
   "source": [
    "sample_object_new.write('/home/cartalop/data/single_cell/lung/tb/caiy2022/CaiY2022_TB_QCed_pre-process_ctl221015.h5ad')"
   ]
  }
 ],
 "metadata": {
  "kernelspec": {
   "display_name": "Python 3.11.0 64-bit",
   "language": "python",
   "name": "python3"
  },
  "language_info": {
   "codemirror_mode": {
    "name": "ipython",
    "version": 3
   },
   "file_extension": ".py",
   "mimetype": "text/x-python",
   "name": "python",
   "nbconvert_exporter": "python",
   "pygments_lexer": "ipython3",
   "version": "3.11.0"
  },
  "vscode": {
   "interpreter": {
    "hash": "aee8b7b246df8f9039afb4144a1f6fd8d2ca17a180786b69acc140d282b71a49"
   }
  }
 },
 "nbformat": 4,
 "nbformat_minor": 4
}
