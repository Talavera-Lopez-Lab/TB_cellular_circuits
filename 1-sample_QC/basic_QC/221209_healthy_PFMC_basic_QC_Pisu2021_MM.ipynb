{
 "cells": [
  {
   "cell_type": "markdown",
   "metadata": {},
   "source": [
    "## Healthy PFMC basic QC \n",
    "\n",
    "### Objective: Run basic QC for healthy BAL samples \n",
    "\n",
    "**Developed by**: Mairi McClean\n",
    "\n",
    "**Affiliation**: Institute of Computational Biology - Computational Health Centre - Helmholtz Munich\n",
    "\n",
    "**v221209**"
   ]
  },
  {
   "cell_type": "markdown",
   "metadata": {},
   "source": [
    "### Load modules"
   ]
  },
  {
   "cell_type": "code",
   "execution_count": 1,
   "metadata": {},
   "outputs": [],
   "source": [
    "import anndata\n",
    "import logging\n",
    "import numpy as np\n",
    "import pandas as pd\n",
    "import scanpy as sc\n",
    "import seaborn as sb\n",
    "import scrublet as scr\n",
    "import matplotlib.pyplot as plt\n",
    "from matplotlib import colors\n",
    "from matplotlib import rcParams"
   ]
  },
  {
   "cell_type": "markdown",
   "metadata": {},
   "source": [
    "### Log file and figure output settings"
   ]
  },
  {
   "cell_type": "code",
   "execution_count": 2,
   "metadata": {},
   "outputs": [
    {
     "name": "stdout",
     "output_type": "stream",
     "text": [
      "-----\n",
      "anndata     0.8.0\n",
      "scanpy      1.9.1\n",
      "-----\n",
      "PIL                 9.2.0\n",
      "appnope             0.1.3\n",
      "asttokens           NA\n",
      "backcall            0.2.0\n",
      "beta_ufunc          NA\n",
      "binom_ufunc         NA\n",
      "cffi                1.15.1\n",
      "colorama            0.4.6\n",
      "cycler              0.10.0\n",
      "cython_runtime      NA\n",
      "dateutil            2.8.2\n",
      "debugpy             1.6.3\n",
      "decorator           5.1.1\n",
      "entrypoints         0.4\n",
      "executing           1.1.1\n",
      "google              NA\n",
      "h5py                3.6.0\n",
      "hypergeom_ufunc     NA\n",
      "igraph              0.10.2\n",
      "ipykernel           6.16.2\n",
      "ipywidgets          8.0.2\n",
      "jedi                0.18.1\n",
      "joblib              1.2.0\n",
      "kiwisolver          1.4.4\n",
      "leidenalg           0.9.0\n",
      "llvmlite            0.39.1\n",
      "louvain             0.8.0\n",
      "matplotlib          3.6.1\n",
      "mpl_toolkits        NA\n",
      "natsort             8.2.0\n",
      "nbinom_ufunc        NA\n",
      "ncf_ufunc           NA\n",
      "numba               0.56.3\n",
      "numexpr             2.8.1\n",
      "numpy               1.23.4\n",
      "packaging           21.3\n",
      "pandas              1.5.1\n",
      "parso               0.8.3\n",
      "pexpect             4.8.0\n",
      "pickleshare         0.7.5\n",
      "pkg_resources       NA\n",
      "prompt_toolkit      3.0.31\n",
      "psutil              5.9.3\n",
      "ptyprocess          0.7.0\n",
      "pure_eval           0.2.2\n",
      "pydev_ipython       NA\n",
      "pydevconsole        NA\n",
      "pydevd              2.8.0\n",
      "pydevd_file_utils   NA\n",
      "pydevd_plugins      NA\n",
      "pydevd_tracing      NA\n",
      "pygments            2.13.0\n",
      "pyparsing           3.0.9\n",
      "pytz                2022.5\n",
      "scipy               1.9.3\n",
      "scrublet            NA\n",
      "seaborn             0.12.0\n",
      "session_info        1.0.0\n",
      "setuptools          65.5.0\n",
      "six                 1.16.0\n",
      "sklearn             1.1.3\n",
      "sphinxcontrib       NA\n",
      "stack_data          0.5.1\n",
      "statsmodels         0.13.2\n",
      "texttable           1.6.7\n",
      "threadpoolctl       3.1.0\n",
      "tornado             6.2\n",
      "traitlets           5.5.0\n",
      "typing_extensions   NA\n",
      "wcwidth             0.2.5\n",
      "yaml                6.0\n",
      "zmq                 24.0.1\n",
      "zoneinfo            NA\n",
      "-----\n",
      "IPython             8.5.0\n",
      "jupyter_client      7.4.4\n",
      "jupyter_core        4.11.2\n",
      "-----\n",
      "Python 3.10.6 | packaged by conda-forge | (main, Aug 22 2022, 20:38:29) [Clang 13.0.1 ]\n",
      "macOS-12.5.1-arm64-arm-64bit\n",
      "-----\n",
      "Session information updated at 2022-12-09 12:44\n"
     ]
    }
   ],
   "source": [
    "sc.settings.verbosity = 3\n",
    "sc.logging.print_versions()\n",
    "sc.settings.set_figure_params(dpi = 160, color_map = 'RdPu', dpi_save = 180, vector_friendly = True, format = 'svg')"
   ]
  },
  {
   "cell_type": "markdown",
   "metadata": {},
   "source": [
    "### Read in dataset"
   ]
  },
  {
   "cell_type": "code",
   "execution_count": 3,
   "metadata": {},
   "outputs": [],
   "source": [
    "adata = sc.read_csv('/Users/mairi.mcclean/github/data/tb_pfmcs/GSE167232_bal_integrated.csv')"
   ]
  },
  {
   "cell_type": "code",
   "execution_count": 4,
   "metadata": {},
   "outputs": [
    {
     "data": {
      "text/plain": [
       "AnnData object with n_obs × n_vars = 20631 × 10357"
      ]
     },
     "execution_count": 4,
     "metadata": {},
     "output_type": "execute_result"
    }
   ],
   "source": [
    "adata"
   ]
  },
  {
   "cell_type": "code",
   "execution_count": 5,
   "metadata": {},
   "outputs": [
    {
     "data": {
      "text/html": [
       "<div>\n",
       "<style scoped>\n",
       "    .dataframe tbody tr th:only-of-type {\n",
       "        vertical-align: middle;\n",
       "    }\n",
       "\n",
       "    .dataframe tbody tr th {\n",
       "        vertical-align: top;\n",
       "    }\n",
       "\n",
       "    .dataframe thead th {\n",
       "        text-align: right;\n",
       "    }\n",
       "</style>\n",
       "<table border=\"1\" class=\"dataframe\">\n",
       "  <thead>\n",
       "    <tr style=\"text-align: right;\">\n",
       "      <th></th>\n",
       "    </tr>\n",
       "  </thead>\n",
       "  <tbody>\n",
       "    <tr>\n",
       "      <th>OR4F5</th>\n",
       "    </tr>\n",
       "    <tr>\n",
       "      <th>OR4F29</th>\n",
       "    </tr>\n",
       "    <tr>\n",
       "      <th>OR4F16</th>\n",
       "    </tr>\n",
       "    <tr>\n",
       "      <th>SAMD11</th>\n",
       "    </tr>\n",
       "    <tr>\n",
       "      <th>NOC2L</th>\n",
       "    </tr>\n",
       "    <tr>\n",
       "      <th>...</th>\n",
       "    </tr>\n",
       "    <tr>\n",
       "      <th>rev</th>\n",
       "    </tr>\n",
       "    <tr>\n",
       "      <th>vpu</th>\n",
       "    </tr>\n",
       "    <tr>\n",
       "      <th>env</th>\n",
       "    </tr>\n",
       "    <tr>\n",
       "      <th>nef</th>\n",
       "    </tr>\n",
       "    <tr>\n",
       "      <th>3-LTR</th>\n",
       "    </tr>\n",
       "  </tbody>\n",
       "</table>\n",
       "<p>20631 rows × 0 columns</p>\n",
       "</div>"
      ],
      "text/plain": [
       "Empty DataFrame\n",
       "Columns: []\n",
       "Index: [OR4F5, OR4F29, OR4F16, SAMD11, NOC2L, KLHL17, PLEKHN1, PERM1, HES4, ISG15, AGRN, RNF223, C1orf159, TTLL10, TNFRSF18, TNFRSF4, SDF4, B3GALT6, C1QTNF12, UBE2J2, SCNN1D, ACAP3, PUSL1, INTS11, CPTP, TAS1R3, DVL1, MXRA8, AURKAIP1, CCNL2, MRPL20, ANKRD65, TMEM88B, VWA1, ATAD3C, ATAD3B, ATAD3A, TMEM240, SSU72, FNDC10, MIB2, MMP23B, CDK11B, SLC35E2B, CDK11A, SLC35E2A, NADK, GNB1, CALML6, TMEM52, CFAP74, GABRD, PRKCZ, FAAP20, SKI, MORN1, RER1, PEX10, PLCH2, PANK4, HES5, TNFRSF14, PRXL2B, MMEL1, TTC34, ACTRT2, PRDM16, ARHGEF16, MEGF6, TPRG1L, WRAP73, TP73, CCDC27, SMIM1, LRRC47, CEP104, DFFB, C1orf174, AJAP1, NPHP4, KCNAB2, CHD5, AL031847.2, RPL22, RNF207, ICMT, HES3, GPR153, ACOT7, HES2, ESPN, TNFRSF25, PLEKHG5, NOL9, TAS1R1, ZBTB48, KLHL21, PHF13, THAP3, DNAJC11, ...]\n",
       "\n",
       "[20631 rows x 0 columns]"
      ]
     },
     "execution_count": 5,
     "metadata": {},
     "output_type": "execute_result"
    }
   ],
   "source": [
    "adata.obs"
   ]
  },
  {
   "cell_type": "code",
   "execution_count": 6,
   "metadata": {},
   "outputs": [
    {
     "data": {
      "text/html": [
       "<div>\n",
       "<style scoped>\n",
       "    .dataframe tbody tr th:only-of-type {\n",
       "        vertical-align: middle;\n",
       "    }\n",
       "\n",
       "    .dataframe tbody tr th {\n",
       "        vertical-align: top;\n",
       "    }\n",
       "\n",
       "    .dataframe thead th {\n",
       "        text-align: right;\n",
       "    }\n",
       "</style>\n",
       "<table border=\"1\" class=\"dataframe\">\n",
       "  <thead>\n",
       "    <tr style=\"text-align: right;\">\n",
       "      <th></th>\n",
       "    </tr>\n",
       "  </thead>\n",
       "  <tbody>\n",
       "    <tr>\n",
       "      <th>AAACCCAAGTGCACCC_1</th>\n",
       "    </tr>\n",
       "    <tr>\n",
       "      <th>AAACCCAGTGAGCTCC_1</th>\n",
       "    </tr>\n",
       "    <tr>\n",
       "      <th>AAACCCAGTTCTTAGG_1</th>\n",
       "    </tr>\n",
       "    <tr>\n",
       "      <th>AAACGAACATACATCG_1</th>\n",
       "    </tr>\n",
       "    <tr>\n",
       "      <th>AAACGCTAGTCGAATA_1</th>\n",
       "    </tr>\n",
       "    <tr>\n",
       "      <th>...</th>\n",
       "    </tr>\n",
       "    <tr>\n",
       "      <th>TTTGTTGAGCGCAATG_3</th>\n",
       "    </tr>\n",
       "    <tr>\n",
       "      <th>TTTGTTGAGTGCTCAT_3</th>\n",
       "    </tr>\n",
       "    <tr>\n",
       "      <th>TTTGTTGCAATAAGGT_3</th>\n",
       "    </tr>\n",
       "    <tr>\n",
       "      <th>TTTGTTGCAATCGAAA_3</th>\n",
       "    </tr>\n",
       "    <tr>\n",
       "      <th>TTTGTTGCACCAGCCA_3</th>\n",
       "    </tr>\n",
       "  </tbody>\n",
       "</table>\n",
       "<p>10357 rows × 0 columns</p>\n",
       "</div>"
      ],
      "text/plain": [
       "Empty DataFrame\n",
       "Columns: []\n",
       "Index: [AAACCCAAGTGCACCC_1, AAACCCAGTGAGCTCC_1, AAACCCAGTTCTTAGG_1, AAACGAACATACATCG_1, AAACGCTAGTCGAATA_1, AAACGCTAGTTTAGGA_1, AAAGAACAGAAATTGC_1, AAAGAACAGAGGCGGA_1, AAAGAACCAGCGGATA_1, AAAGGATAGGAAAGTG_1, AAAGGATCAAACTCTG_1, AAAGGATCATTGCAAC_1, AAAGGATTCTACCACC_1, AAAGGGCAGGCGCTCT_1, AAAGGGCGTCAATCTG_1, AAAGGGCTCACTCACC_1, AAAGGGCTCCGTGGGT_1, AAAGGGCTCTGTGCTC_1, AAAGGTACACGACTAT_1, AAAGTCCAGAGGGCGA_1, AAAGTCCAGCTCTTCC_1, AAAGTCCAGCTTCTAG_1, AAAGTCCCACAAGCCC_1, AAAGTCCGTAGGTACG_1, AAAGTCCTCGCACGAC_1, AAAGTGAAGCGGTAAC_1, AAAGTGAAGCTTAGTC_1, AAAGTGAAGGTGCTGA_1, AAAGTGAGTGGCACTC_1, AAATGGAAGCACGATG_1, AAATGGAAGCGACAGT_1, AAATGGAAGGGTTTCT_1, AAATGGAAGTGATAGT_1, AACAAAGAGCGACATG_1, AACAAAGCAAGCAGGT_1, AACAAAGGTGAGTAGC_1, AACAAAGTCTGCGAGC_1, AACAACCAGACCCGCT_1, AACAACCAGACTACCT_1, AACAACCTCTATCACT_1, AACAAGAAGGCTAACG_1, AACAAGAAGTAACCTC_1, AACAAGACAAGACCTT_1, AACAAGAGTCAAAGCG_1, AACAAGAGTCGAAGCA_1, AACAAGAGTTCTCAGA_1, AACAAGATCGGTTCAA_1, AACAGGGAGCGACCCT_1, AACAGGGCAACGACTT_1, AACAGGGGTAGCTCGC_1, AACAGGGGTGTAAACA_1, AACAGGGGTTGGCCGT_1, AACAGGGTCATCGCAA_1, AACCAACCAATACGAA_1, AACCAACGTCTTTCAT_1, AACCACACACTACACA_1, AACCATGTCGAGAGCA_1, AACCCAAAGTAACAGT_1, AACCCAAGTCCTGTTC_1, AACCCAATCCCATGGG_1, AACCCAATCGTTCTAT_1, AACCTGACACGAAAGC_1, AACCTGAGTTTACACG_1, AACCTGATCTTGTTAC_1, AACCTTTTCATCTCTA_1, AACCTTTTCCGTCACT_1, AACCTTTTCTAGATCG_1, AACGAAAAGCTACAAA_1, AACGAAAGTCGGTACC_1, AACGAAATCGCTATTT_1, AACGAAATCTAGTACG_1, AACGGGATCGTGGGAA_1, AACGTCAGTTCGGCGT_1, AACGTCATCCGCAACG_1, AACTTCTCATGCAGGA_1, AACTTCTGTCGACGCT_1, AACTTCTGTTGGGAAC_1, AAGAACACAACACACT_1, AAGAACATCCGTATAG_1, AAGACAAAGGCGTCCT_1, AAGACAATCGCCTCTA_1, AAGACTCAGTACCCTA_1, AAGACTCCAATCGCAT_1, AAGACTCGTTGCTAGT_1, AAGATAGCAATCGTCA_1, AAGATAGCAGAAGCTG_1, AAGCATCGTCTTACTT_1, AAGCATCGTTCTCCAC_1, AAGCATCTCGCGATCG_1, AAGCCATCAATCCTTT_1, AAGCCATGTACTGAGG_1, AAGCGAGAGCCGAACA_1, AAGCGAGAGGTGCTAG_1, AAGCGAGCAACTACGT_1, AAGCGTTCATGCAGGA_1, AAGCGTTTCAACTTTC_1, AAGGAATAGCATCCTA_1, AAGGAATAGCCTGCCA_1, AAGGAATAGTACAGCG_1, AAGTACCCAGGACTTT_1, ...]\n",
       "\n",
       "[10357 rows x 0 columns]"
      ]
     },
     "execution_count": 6,
     "metadata": {},
     "output_type": "execute_result"
    }
   ],
   "source": [
    "adata.var"
   ]
  },
  {
   "cell_type": "code",
   "execution_count": null,
   "metadata": {},
   "outputs": [],
   "source": [
    "# Note: description of object is not the same as with h5ad files. Incorrect?"
   ]
  }
 ],
 "metadata": {
  "kernelspec": {
   "display_name": "Python 3.10.6 ('scanpy_v1.9.1')",
   "language": "python",
   "name": "python3"
  },
  "language_info": {
   "codemirror_mode": {
    "name": "ipython",
    "version": 3
   },
   "file_extension": ".py",
   "mimetype": "text/x-python",
   "name": "python",
   "nbconvert_exporter": "python",
   "pygments_lexer": "ipython3",
   "version": "3.10.6"
  },
  "orig_nbformat": 4,
  "vscode": {
   "interpreter": {
    "hash": "3286f64efcd51e75474e118062933d5d27de43155a6d92a2a8432c07c489444c"
   }
  }
 },
 "nbformat": 4,
 "nbformat_minor": 2
}
