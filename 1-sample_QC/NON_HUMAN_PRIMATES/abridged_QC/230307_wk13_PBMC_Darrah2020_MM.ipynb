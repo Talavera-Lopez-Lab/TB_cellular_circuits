{
 "cells": [
  {
   "attachments": {},
   "cell_type": "markdown",
   "metadata": {},
   "source": [
    "#### Darrah 2020 abridged QC\n",
    "\n",
    "**Objective**: Run QC steps without normalisation/UMAP for Darrah 2020 data\n",
    "\n",
    "**Developed by**: Mairi McClean\n",
    "\n",
    "**Affiliation**: Institute of Computational Biology, Helmholtz Zentrum Munich\n",
    "\n",
    "**v230307**"
   ]
  },
  {
   "cell_type": "code",
   "execution_count": 2,
   "metadata": {},
   "outputs": [],
   "source": [
    "import anndata\n",
    "import logging\n",
    "import numpy as np\n",
    "import pandas as pd\n",
    "import scanpy as sc\n",
    "import seaborn as sb\n",
    "import scrublet as scr\n",
    "import matplotlib.pyplot as plt\n",
    "import pybiomart as biomart\n",
    "from matplotlib import colors\n",
    "from matplotlib import rcParams"
   ]
  },
  {
   "cell_type": "code",
   "execution_count": 3,
   "metadata": {},
   "outputs": [
    {
     "name": "stdout",
     "output_type": "stream",
     "text": [
      "-----\n",
      "anndata     0.8.0\n",
      "scanpy      1.9.2\n",
      "-----\n",
      "PIL                 8.2.0\n",
      "anyio               NA\n",
      "appnope             0.1.3\n",
      "arrow               1.2.3\n",
      "asttokens           NA\n",
      "attr                22.2.0\n",
      "babel               2.12.1\n",
      "backcall            0.2.0\n",
      "beta_ufunc          NA\n",
      "binom_ufunc         NA\n",
      "brotli              NA\n",
      "certifi             2022.12.07\n",
      "cffi                1.15.1\n",
      "charset_normalizer  2.1.1\n",
      "colorama            0.4.6\n",
      "comm                0.1.2\n",
      "cycler              0.10.0\n",
      "cython_runtime      NA\n",
      "dateutil            2.8.2\n",
      "debugpy             1.6.6\n",
      "decorator           5.1.1\n",
      "executing           1.2.0\n",
      "fastjsonschema      NA\n",
      "fqdn                NA\n",
      "future              0.18.3\n",
      "h5py                3.8.0\n",
      "hypergeom_ufunc     NA\n",
      "idna                3.4\n",
      "igraph              0.10.4\n",
      "ipykernel           6.21.2\n",
      "ipython_genutils    0.2.0\n",
      "isoduration         NA\n",
      "jedi                0.18.2\n",
      "jinja2              3.1.2\n",
      "joblib              1.2.0\n",
      "json5               NA\n",
      "jsonpointer         2.3\n",
      "jsonschema          4.17.3\n",
      "jupyter_events      0.6.3\n",
      "jupyter_server      2.4.0\n",
      "jupyterlab_server   2.20.0\n",
      "kiwisolver          1.4.4\n",
      "leidenalg           0.9.1\n",
      "llvmlite            0.39.1\n",
      "markupsafe          2.1.2\n",
      "matplotlib          3.5.3\n",
      "mpl_toolkits        NA\n",
      "natsort             8.3.1\n",
      "nbformat            5.7.3\n",
      "nbinom_ufunc        NA\n",
      "ncf_ufunc           NA\n",
      "numba               0.56.4\n",
      "numpy               1.23.5\n",
      "packaging           23.0\n",
      "pandas              1.5.3\n",
      "parso               0.8.3\n",
      "pexpect             4.8.0\n",
      "pickleshare         0.7.5\n",
      "pkg_resources       NA\n",
      "platformdirs        3.1.0\n",
      "prometheus_client   NA\n",
      "prompt_toolkit      3.0.38\n",
      "psutil              5.9.4\n",
      "ptyprocess          0.7.0\n",
      "pure_eval           0.2.2\n",
      "pvectorc            NA\n",
      "pybiomart           0.2.0\n",
      "pydev_ipython       NA\n",
      "pydevconsole        NA\n",
      "pydevd              2.9.5\n",
      "pydevd_file_utils   NA\n",
      "pydevd_plugins      NA\n",
      "pydevd_tracing      NA\n",
      "pygments            2.14.0\n",
      "pyparsing           3.0.9\n",
      "pyrsistent          NA\n",
      "pythonjsonlogger    NA\n",
      "pytz                2022.7.1\n",
      "requests            2.28.2\n",
      "requests_cache      0.4.13\n",
      "rfc3339_validator   0.1.4\n",
      "rfc3986_validator   0.1.1\n",
      "scipy               1.9.1\n",
      "scrublet            NA\n",
      "seaborn             0.12.2\n",
      "send2trash          NA\n",
      "session_info        1.0.0\n",
      "setuptools          67.5.0\n",
      "six                 1.16.0\n",
      "sklearn             1.2.1\n",
      "sniffio             1.3.0\n",
      "socks               1.7.1\n",
      "stack_data          0.6.2\n",
      "statsmodels         0.13.5\n",
      "texttable           1.6.7\n",
      "threadpoolctl       3.1.0\n",
      "tornado             6.2\n",
      "traitlets           5.9.0\n",
      "typing_extensions   NA\n",
      "unicodedata2        NA\n",
      "uri_template        NA\n",
      "urllib3             1.26.14\n",
      "wcwidth             0.2.6\n",
      "webcolors           1.11.1\n",
      "websocket           1.5.1\n",
      "yaml                6.0\n",
      "zipp                NA\n",
      "zmq                 25.0.1\n",
      "zoneinfo            NA\n",
      "-----\n",
      "IPython             8.11.0\n",
      "jupyter_client      8.0.3\n",
      "jupyter_core        5.2.0\n",
      "jupyterlab          3.6.1\n",
      "notebook            6.5.3\n",
      "-----\n",
      "Python 3.9.16 | packaged by conda-forge | (main, Feb  1 2023, 21:38:11) [Clang 14.0.6 ]\n",
      "macOS-12.5.1-arm64-arm-64bit\n",
      "-----\n",
      "Session information updated at 2023-03-30 18:30\n"
     ]
    }
   ],
   "source": [
    "sc.settings.verbosity = 3\n",
    "sc.logging.print_versions()\n",
    "sc.settings.set_figure_params(dpi = 160, color_map = 'RdPu', dpi_save = 180, vector_friendly = True, format = 'svg')"
   ]
  },
  {
   "attachments": {},
   "cell_type": "markdown",
   "metadata": {},
   "source": [
    "### Read in datasets"
   ]
  },
  {
   "cell_type": "code",
   "execution_count": 4,
   "metadata": {},
   "outputs": [
    {
     "data": {
      "text/plain": [
       "AnnData object with n_obs × n_vars = 98993 × 32681\n",
       "    obs: 'species', 'species__ontology_label', 'library_preparation_protocol', 'library_preparation_protocol__ontology_label', 'cellID', 'organ', 'organ__ontology_label', 'vaccination', 'vaccination__ontology_label', 'sex', 'is_living', 'sample_type', 'biosample_id', 'end_bias', 'cell_type', 'cell_type__ontology_label', 'disease', 'disease__ontology_label', 'donor_id', 'Stimulated', 'VaccineRoute', 'VaccineRouteUnique', 'VaccineRouteUniqueGroup', 'sequencing_instrument_manufacturer_model', 'sequencing_instrument_manufacturer_model__ontology_label', 'paired_ends', 'read_length', 'vaccination_route', 'vaccination__time_since', 'vaccination__time_since__unit', 'vaccination__time_since__unit_label', 'vaccination__dosage'"
      ]
     },
     "execution_count": 4,
     "metadata": {},
     "output_type": "execute_result"
    }
   ],
   "source": [
    "adata_wk13 = sc.read_h5ad('/Volumes/Lacie/data_lake/Mairi_example/INBOX/sc_downloads/Darrah2020/SCP796/SCP796_Week13_postBCG.raw.h5ad')\n",
    "adata_wk13"
   ]
  },
  {
   "cell_type": "code",
   "execution_count": 5,
   "metadata": {},
   "outputs": [
    {
     "data": {
      "text/plain": [
       "AnnData object with n_obs × n_vars = 63497 × 32580\n",
       "    obs: 'species', 'species__ontology_label', 'library_preparation_protocol', 'library_preparation_protocol__ontology_label', 'cellID', 'organ', 'organ__ontology_label', 'vaccination', 'vaccination__ontology_label', 'sex', 'is_living', 'sample_type', 'biosample_id', 'end_bias', 'cell_type', 'cell_type__ontology_label', 'disease', 'disease__ontology_label', 'donor_id', 'Stimulated', 'VaccineRoute', 'VaccineRouteUnique', 'VaccineRouteUniqueGroup', 'sequencing_instrument_manufacturer_model', 'sequencing_instrument_manufacturer_model__ontology_label', 'paired_ends', 'read_length', 'vaccination_route', 'vaccination__time_since', 'vaccination__time_since__unit', 'vaccination__time_since__unit_label', 'vaccination__dosage'"
      ]
     },
     "execution_count": 5,
     "metadata": {},
     "output_type": "execute_result"
    }
   ],
   "source": [
    "adata_wk25 = sc.read_h5ad('/Volumes/Lacie/data_lake/Mairi_example/INBOX/sc_downloads/Darrah2020/SCP796/SCP796_Week25_postBCG.raw.h5ad')\n",
    "adata_wk25"
   ]
  },
  {
   "attachments": {},
   "cell_type": "markdown",
   "metadata": {},
   "source": [
    "### Concatenate objects"
   ]
  },
  {
   "cell_type": "code",
   "execution_count": 13,
   "metadata": {},
   "outputs": [
    {
     "name": "stderr",
     "output_type": "stream",
     "text": [
      "/Users/mairi.mcclean/mambaforge/envs/scanpy_local/lib/python3.9/site-packages/anndata/_core/anndata.py:1785: FutureWarning: X.dtype being converted to np.float32 from float64. In the next version of anndata (0.9) conversion will not be automatic. Pass dtype explicitly to avoid this warning. Pass `AnnData(X, dtype=X.dtype, ...)` to get the future behavour.\n",
      "  [AnnData(sparse.csr_matrix(a.shape), obs=a.obs) for a in all_adatas],\n",
      "/Users/mairi.mcclean/mambaforge/envs/scanpy_local/lib/python3.9/site-packages/anndata/_core/anndata.py:1785: FutureWarning: X.dtype being converted to np.float32 from float64. In the next version of anndata (0.9) conversion will not be automatic. Pass dtype explicitly to avoid this warning. Pass `AnnData(X, dtype=X.dtype, ...)` to get the future behavour.\n",
      "  [AnnData(sparse.csr_matrix(a.shape), obs=a.obs) for a in all_adatas],\n"
     ]
    },
    {
     "data": {
      "text/plain": [
       "AnnData object with n_obs × n_vars = 162490 × 32437\n",
       "    obs: 'species', 'species__ontology_label', 'library_preparation_protocol', 'library_preparation_protocol__ontology_label', 'cellID', 'organ', 'organ__ontology_label', 'vaccination', 'vaccination__ontology_label', 'sex', 'is_living', 'sample_type', 'biosample_id', 'end_bias', 'cell_type', 'cell_type__ontology_label', 'disease', 'disease__ontology_label', 'donor_id', 'Stimulated', 'VaccineRoute', 'VaccineRouteUnique', 'VaccineRouteUniqueGroup', 'sequencing_instrument_manufacturer_model', 'sequencing_instrument_manufacturer_model__ontology_label', 'paired_ends', 'read_length', 'vaccination_route', 'vaccination__time_since', 'vaccination__time_since__unit', 'vaccination__time_since__unit_label', 'vaccination__dosage', 'time'"
      ]
     },
     "execution_count": 13,
     "metadata": {},
     "output_type": "execute_result"
    }
   ],
   "source": [
    "adata_total = adata_wk13.concatenate(adata_wk25, join='inner', batch_key='time', batch_categories=['13', '25'])\n",
    "adata_total"
   ]
  },
  {
   "cell_type": "code",
   "execution_count": 14,
   "metadata": {},
   "outputs": [
    {
     "data": {
      "text/html": [
       "<div>\n",
       "<style scoped>\n",
       "    .dataframe tbody tr th:only-of-type {\n",
       "        vertical-align: middle;\n",
       "    }\n",
       "\n",
       "    .dataframe tbody tr th {\n",
       "        vertical-align: top;\n",
       "    }\n",
       "\n",
       "    .dataframe thead th {\n",
       "        text-align: right;\n",
       "    }\n",
       "</style>\n",
       "<table border=\"1\" class=\"dataframe\">\n",
       "  <thead>\n",
       "    <tr style=\"text-align: right;\">\n",
       "      <th></th>\n",
       "    </tr>\n",
       "  </thead>\n",
       "  <tbody>\n",
       "    <tr>\n",
       "      <th>A1BG</th>\n",
       "    </tr>\n",
       "    <tr>\n",
       "      <th>A1CF</th>\n",
       "    </tr>\n",
       "    <tr>\n",
       "      <th>A2M</th>\n",
       "    </tr>\n",
       "    <tr>\n",
       "      <th>A2ML1</th>\n",
       "    </tr>\n",
       "    <tr>\n",
       "      <th>A3GALT2</th>\n",
       "    </tr>\n",
       "    <tr>\n",
       "      <th>...</th>\n",
       "    </tr>\n",
       "    <tr>\n",
       "      <th>ZYG11A</th>\n",
       "    </tr>\n",
       "    <tr>\n",
       "      <th>ZYG11B</th>\n",
       "    </tr>\n",
       "    <tr>\n",
       "      <th>ZYX</th>\n",
       "    </tr>\n",
       "    <tr>\n",
       "      <th>ZZEF1</th>\n",
       "    </tr>\n",
       "    <tr>\n",
       "      <th>ZZZ3</th>\n",
       "    </tr>\n",
       "  </tbody>\n",
       "</table>\n",
       "<p>32437 rows × 0 columns</p>\n",
       "</div>"
      ],
      "text/plain": [
       "Empty DataFrame\n",
       "Columns: []\n",
       "Index: [A1BG, A1CF, A2M, A2ML1, A3GALT2, A4GALT, A4GNT, AAAS, AACS, AADACL2, AADACL3, AADACL4, AADAT, AAED1, AAGAB, AAK1, AAMDC, AAMP, AANAT, AAR2, AARD, AARS, AARS2, AARSD1, AASDH, AASDHPPT, AASS, AATF, AATK, ABAT, ABCA1, ABCA10, ABCA12, ABCA13, ABCA15, ABCA2, ABCA3, ABCA4, ABCA5, ABCA6, ABCA7, ABCA8, ABCA9, ABCB1, ABCB10, ABCB11, ABCB4, ABCB5, ABCB6, ABCB7, ABCB8, ABCB9, ABCC1, ABCC10, ABCC11, ABCC12, ABCC13, ABCC2, ABCC3, ABCC5, ABCC6, ABCC8, ABCC9, ABCD1, ABCD2, ABCD3, ABCD4, ABCE1, ABCF1, ABCF2, ABCF3, ABCG1, ABCG2, ABCG4, ABCG5, ABCG8, ABHD1, ABHD10, ABHD11, ABHD12, ABHD12B, ABHD13, ABHD14A, ABHD14B, ABHD15, ABHD16A, ABHD16B, ABHD17A, ABHD17B, ABHD17C, ABHD18, ABHD2, ABHD3, ABHD4, ABHD5, ABHD6, ABHD8, ABI1, ABI2, ABI3, ...]\n",
       "\n",
       "[32437 rows x 0 columns]"
      ]
     },
     "execution_count": 14,
     "metadata": {},
     "output_type": "execute_result"
    }
   ],
   "source": [
    "adata_total.var"
   ]
  },
  {
   "cell_type": "code",
   "execution_count": 15,
   "metadata": {},
   "outputs": [
    {
     "data": {
      "text/html": [
       "<div>\n",
       "<style scoped>\n",
       "    .dataframe tbody tr th:only-of-type {\n",
       "        vertical-align: middle;\n",
       "    }\n",
       "\n",
       "    .dataframe tbody tr th {\n",
       "        vertical-align: top;\n",
       "    }\n",
       "\n",
       "    .dataframe thead th {\n",
       "        text-align: right;\n",
       "    }\n",
       "</style>\n",
       "<table border=\"1\" class=\"dataframe\">\n",
       "  <thead>\n",
       "    <tr style=\"text-align: right;\">\n",
       "      <th></th>\n",
       "      <th>species</th>\n",
       "      <th>species__ontology_label</th>\n",
       "      <th>library_preparation_protocol</th>\n",
       "      <th>library_preparation_protocol__ontology_label</th>\n",
       "      <th>cellID</th>\n",
       "      <th>organ</th>\n",
       "      <th>organ__ontology_label</th>\n",
       "      <th>vaccination</th>\n",
       "      <th>vaccination__ontology_label</th>\n",
       "      <th>sex</th>\n",
       "      <th>...</th>\n",
       "      <th>sequencing_instrument_manufacturer_model</th>\n",
       "      <th>sequencing_instrument_manufacturer_model__ontology_label</th>\n",
       "      <th>paired_ends</th>\n",
       "      <th>read_length</th>\n",
       "      <th>vaccination_route</th>\n",
       "      <th>vaccination__time_since</th>\n",
       "      <th>vaccination__time_since__unit</th>\n",
       "      <th>vaccination__time_since__unit_label</th>\n",
       "      <th>vaccination__dosage</th>\n",
       "      <th>time</th>\n",
       "    </tr>\n",
       "  </thead>\n",
       "  <tbody>\n",
       "    <tr>\n",
       "      <th>Week13_DF16_100-13</th>\n",
       "      <td>NCBITaxon_9544</td>\n",
       "      <td>Macaca mulatta</td>\n",
       "      <td>EFO_0008919</td>\n",
       "      <td>Seq-Well</td>\n",
       "      <td>Week13_DF16_100</td>\n",
       "      <td>UBERON_0002048</td>\n",
       "      <td>lung</td>\n",
       "      <td>VO_0000771</td>\n",
       "      <td>BCG vaccine</td>\n",
       "      <td>unknown</td>\n",
       "      <td>...</td>\n",
       "      <td>EFO_0009173</td>\n",
       "      <td>Illumina NextSeq 500</td>\n",
       "      <td>True</td>\n",
       "      <td>20-50</td>\n",
       "      <td>intradermal</td>\n",
       "      <td>13</td>\n",
       "      <td>UO_0000034</td>\n",
       "      <td>week</td>\n",
       "      <td>Low</td>\n",
       "      <td>13</td>\n",
       "    </tr>\n",
       "    <tr>\n",
       "      <th>Week13_DF16_1000-13</th>\n",
       "      <td>NCBITaxon_9544</td>\n",
       "      <td>Macaca mulatta</td>\n",
       "      <td>EFO_0008919</td>\n",
       "      <td>Seq-Well</td>\n",
       "      <td>Week13_DF16_1000</td>\n",
       "      <td>UBERON_0002048</td>\n",
       "      <td>lung</td>\n",
       "      <td>VO_0000771</td>\n",
       "      <td>BCG vaccine</td>\n",
       "      <td>unknown</td>\n",
       "      <td>...</td>\n",
       "      <td>EFO_0009173</td>\n",
       "      <td>Illumina NextSeq 500</td>\n",
       "      <td>True</td>\n",
       "      <td>20-50</td>\n",
       "      <td>intradermal</td>\n",
       "      <td>13</td>\n",
       "      <td>UO_0000034</td>\n",
       "      <td>week</td>\n",
       "      <td>Low</td>\n",
       "      <td>13</td>\n",
       "    </tr>\n",
       "    <tr>\n",
       "      <th>Week13_DF16_1002-13</th>\n",
       "      <td>NCBITaxon_9544</td>\n",
       "      <td>Macaca mulatta</td>\n",
       "      <td>EFO_0008919</td>\n",
       "      <td>Seq-Well</td>\n",
       "      <td>Week13_DF16_1002</td>\n",
       "      <td>UBERON_0002048</td>\n",
       "      <td>lung</td>\n",
       "      <td>VO_0000771</td>\n",
       "      <td>BCG vaccine</td>\n",
       "      <td>unknown</td>\n",
       "      <td>...</td>\n",
       "      <td>EFO_0009173</td>\n",
       "      <td>Illumina NextSeq 500</td>\n",
       "      <td>True</td>\n",
       "      <td>20-50</td>\n",
       "      <td>intradermal</td>\n",
       "      <td>13</td>\n",
       "      <td>UO_0000034</td>\n",
       "      <td>week</td>\n",
       "      <td>Low</td>\n",
       "      <td>13</td>\n",
       "    </tr>\n",
       "    <tr>\n",
       "      <th>Week13_DF16_1004-13</th>\n",
       "      <td>NCBITaxon_9544</td>\n",
       "      <td>Macaca mulatta</td>\n",
       "      <td>EFO_0008919</td>\n",
       "      <td>Seq-Well</td>\n",
       "      <td>Week13_DF16_1004</td>\n",
       "      <td>UBERON_0002048</td>\n",
       "      <td>lung</td>\n",
       "      <td>VO_0000771</td>\n",
       "      <td>BCG vaccine</td>\n",
       "      <td>unknown</td>\n",
       "      <td>...</td>\n",
       "      <td>EFO_0009173</td>\n",
       "      <td>Illumina NextSeq 500</td>\n",
       "      <td>True</td>\n",
       "      <td>20-50</td>\n",
       "      <td>intradermal</td>\n",
       "      <td>13</td>\n",
       "      <td>UO_0000034</td>\n",
       "      <td>week</td>\n",
       "      <td>Low</td>\n",
       "      <td>13</td>\n",
       "    </tr>\n",
       "    <tr>\n",
       "      <th>Week13_DF16_1005-13</th>\n",
       "      <td>NCBITaxon_9544</td>\n",
       "      <td>Macaca mulatta</td>\n",
       "      <td>EFO_0008919</td>\n",
       "      <td>Seq-Well</td>\n",
       "      <td>Week13_DF16_1005</td>\n",
       "      <td>UBERON_0002048</td>\n",
       "      <td>lung</td>\n",
       "      <td>VO_0000771</td>\n",
       "      <td>BCG vaccine</td>\n",
       "      <td>unknown</td>\n",
       "      <td>...</td>\n",
       "      <td>EFO_0009173</td>\n",
       "      <td>Illumina NextSeq 500</td>\n",
       "      <td>True</td>\n",
       "      <td>20-50</td>\n",
       "      <td>intradermal</td>\n",
       "      <td>13</td>\n",
       "      <td>UO_0000034</td>\n",
       "      <td>week</td>\n",
       "      <td>Low</td>\n",
       "      <td>13</td>\n",
       "    </tr>\n",
       "    <tr>\n",
       "      <th>...</th>\n",
       "      <td>...</td>\n",
       "      <td>...</td>\n",
       "      <td>...</td>\n",
       "      <td>...</td>\n",
       "      <td>...</td>\n",
       "      <td>...</td>\n",
       "      <td>...</td>\n",
       "      <td>...</td>\n",
       "      <td>...</td>\n",
       "      <td>...</td>\n",
       "      <td>...</td>\n",
       "      <td>...</td>\n",
       "      <td>...</td>\n",
       "      <td>...</td>\n",
       "      <td>...</td>\n",
       "      <td>...</td>\n",
       "      <td>...</td>\n",
       "      <td>...</td>\n",
       "      <td>...</td>\n",
       "      <td>...</td>\n",
       "      <td>...</td>\n",
       "    </tr>\n",
       "    <tr>\n",
       "      <th>Week25_OVN.stim_995-25</th>\n",
       "      <td>NCBITaxon_9544</td>\n",
       "      <td>Macaca mulatta</td>\n",
       "      <td>EFO_0008919</td>\n",
       "      <td>Seq-Well</td>\n",
       "      <td>Week25_OVN.stim_995</td>\n",
       "      <td>UBERON_0002048</td>\n",
       "      <td>lung</td>\n",
       "      <td>VO_0000771</td>\n",
       "      <td>BCG vaccine</td>\n",
       "      <td>unknown</td>\n",
       "      <td>...</td>\n",
       "      <td>EFO_0009173</td>\n",
       "      <td>Illumina NextSeq 500</td>\n",
       "      <td>True</td>\n",
       "      <td>20-50</td>\n",
       "      <td>intradermal</td>\n",
       "      <td>25</td>\n",
       "      <td>UO_0000034</td>\n",
       "      <td>week</td>\n",
       "      <td>High</td>\n",
       "      <td>25</td>\n",
       "    </tr>\n",
       "    <tr>\n",
       "      <th>Week25_OVN.stim_996-25</th>\n",
       "      <td>NCBITaxon_9544</td>\n",
       "      <td>Macaca mulatta</td>\n",
       "      <td>EFO_0008919</td>\n",
       "      <td>Seq-Well</td>\n",
       "      <td>Week25_OVN.stim_996</td>\n",
       "      <td>UBERON_0002048</td>\n",
       "      <td>lung</td>\n",
       "      <td>VO_0000771</td>\n",
       "      <td>BCG vaccine</td>\n",
       "      <td>unknown</td>\n",
       "      <td>...</td>\n",
       "      <td>EFO_0009173</td>\n",
       "      <td>Illumina NextSeq 500</td>\n",
       "      <td>True</td>\n",
       "      <td>20-50</td>\n",
       "      <td>intradermal</td>\n",
       "      <td>25</td>\n",
       "      <td>UO_0000034</td>\n",
       "      <td>week</td>\n",
       "      <td>High</td>\n",
       "      <td>25</td>\n",
       "    </tr>\n",
       "    <tr>\n",
       "      <th>Week25_OVN.stim_997-25</th>\n",
       "      <td>NCBITaxon_9544</td>\n",
       "      <td>Macaca mulatta</td>\n",
       "      <td>EFO_0008919</td>\n",
       "      <td>Seq-Well</td>\n",
       "      <td>Week25_OVN.stim_997</td>\n",
       "      <td>UBERON_0002048</td>\n",
       "      <td>lung</td>\n",
       "      <td>VO_0000771</td>\n",
       "      <td>BCG vaccine</td>\n",
       "      <td>unknown</td>\n",
       "      <td>...</td>\n",
       "      <td>EFO_0009173</td>\n",
       "      <td>Illumina NextSeq 500</td>\n",
       "      <td>True</td>\n",
       "      <td>20-50</td>\n",
       "      <td>intradermal</td>\n",
       "      <td>25</td>\n",
       "      <td>UO_0000034</td>\n",
       "      <td>week</td>\n",
       "      <td>High</td>\n",
       "      <td>25</td>\n",
       "    </tr>\n",
       "    <tr>\n",
       "      <th>Week25_OVN.stim_998-25</th>\n",
       "      <td>NCBITaxon_9544</td>\n",
       "      <td>Macaca mulatta</td>\n",
       "      <td>EFO_0008919</td>\n",
       "      <td>Seq-Well</td>\n",
       "      <td>Week25_OVN.stim_998</td>\n",
       "      <td>UBERON_0002048</td>\n",
       "      <td>lung</td>\n",
       "      <td>VO_0000771</td>\n",
       "      <td>BCG vaccine</td>\n",
       "      <td>unknown</td>\n",
       "      <td>...</td>\n",
       "      <td>EFO_0009173</td>\n",
       "      <td>Illumina NextSeq 500</td>\n",
       "      <td>True</td>\n",
       "      <td>20-50</td>\n",
       "      <td>intradermal</td>\n",
       "      <td>25</td>\n",
       "      <td>UO_0000034</td>\n",
       "      <td>week</td>\n",
       "      <td>High</td>\n",
       "      <td>25</td>\n",
       "    </tr>\n",
       "    <tr>\n",
       "      <th>Week25_OVN.stim_999-25</th>\n",
       "      <td>NCBITaxon_9544</td>\n",
       "      <td>Macaca mulatta</td>\n",
       "      <td>EFO_0008919</td>\n",
       "      <td>Seq-Well</td>\n",
       "      <td>Week25_OVN.stim_999</td>\n",
       "      <td>UBERON_0002048</td>\n",
       "      <td>lung</td>\n",
       "      <td>VO_0000771</td>\n",
       "      <td>BCG vaccine</td>\n",
       "      <td>unknown</td>\n",
       "      <td>...</td>\n",
       "      <td>EFO_0009173</td>\n",
       "      <td>Illumina NextSeq 500</td>\n",
       "      <td>True</td>\n",
       "      <td>20-50</td>\n",
       "      <td>intradermal</td>\n",
       "      <td>25</td>\n",
       "      <td>UO_0000034</td>\n",
       "      <td>week</td>\n",
       "      <td>High</td>\n",
       "      <td>25</td>\n",
       "    </tr>\n",
       "  </tbody>\n",
       "</table>\n",
       "<p>162490 rows × 33 columns</p>\n",
       "</div>"
      ],
      "text/plain": [
       "                               species species__ontology_label  \\\n",
       "Week13_DF16_100-13      NCBITaxon_9544          Macaca mulatta   \n",
       "Week13_DF16_1000-13     NCBITaxon_9544          Macaca mulatta   \n",
       "Week13_DF16_1002-13     NCBITaxon_9544          Macaca mulatta   \n",
       "Week13_DF16_1004-13     NCBITaxon_9544          Macaca mulatta   \n",
       "Week13_DF16_1005-13     NCBITaxon_9544          Macaca mulatta   \n",
       "...                                ...                     ...   \n",
       "Week25_OVN.stim_995-25  NCBITaxon_9544          Macaca mulatta   \n",
       "Week25_OVN.stim_996-25  NCBITaxon_9544          Macaca mulatta   \n",
       "Week25_OVN.stim_997-25  NCBITaxon_9544          Macaca mulatta   \n",
       "Week25_OVN.stim_998-25  NCBITaxon_9544          Macaca mulatta   \n",
       "Week25_OVN.stim_999-25  NCBITaxon_9544          Macaca mulatta   \n",
       "\n",
       "                       library_preparation_protocol  \\\n",
       "Week13_DF16_100-13                      EFO_0008919   \n",
       "Week13_DF16_1000-13                     EFO_0008919   \n",
       "Week13_DF16_1002-13                     EFO_0008919   \n",
       "Week13_DF16_1004-13                     EFO_0008919   \n",
       "Week13_DF16_1005-13                     EFO_0008919   \n",
       "...                                             ...   \n",
       "Week25_OVN.stim_995-25                  EFO_0008919   \n",
       "Week25_OVN.stim_996-25                  EFO_0008919   \n",
       "Week25_OVN.stim_997-25                  EFO_0008919   \n",
       "Week25_OVN.stim_998-25                  EFO_0008919   \n",
       "Week25_OVN.stim_999-25                  EFO_0008919   \n",
       "\n",
       "                       library_preparation_protocol__ontology_label  \\\n",
       "Week13_DF16_100-13                                         Seq-Well   \n",
       "Week13_DF16_1000-13                                        Seq-Well   \n",
       "Week13_DF16_1002-13                                        Seq-Well   \n",
       "Week13_DF16_1004-13                                        Seq-Well   \n",
       "Week13_DF16_1005-13                                        Seq-Well   \n",
       "...                                                             ...   \n",
       "Week25_OVN.stim_995-25                                     Seq-Well   \n",
       "Week25_OVN.stim_996-25                                     Seq-Well   \n",
       "Week25_OVN.stim_997-25                                     Seq-Well   \n",
       "Week25_OVN.stim_998-25                                     Seq-Well   \n",
       "Week25_OVN.stim_999-25                                     Seq-Well   \n",
       "\n",
       "                                     cellID           organ  \\\n",
       "Week13_DF16_100-13          Week13_DF16_100  UBERON_0002048   \n",
       "Week13_DF16_1000-13        Week13_DF16_1000  UBERON_0002048   \n",
       "Week13_DF16_1002-13        Week13_DF16_1002  UBERON_0002048   \n",
       "Week13_DF16_1004-13        Week13_DF16_1004  UBERON_0002048   \n",
       "Week13_DF16_1005-13        Week13_DF16_1005  UBERON_0002048   \n",
       "...                                     ...             ...   \n",
       "Week25_OVN.stim_995-25  Week25_OVN.stim_995  UBERON_0002048   \n",
       "Week25_OVN.stim_996-25  Week25_OVN.stim_996  UBERON_0002048   \n",
       "Week25_OVN.stim_997-25  Week25_OVN.stim_997  UBERON_0002048   \n",
       "Week25_OVN.stim_998-25  Week25_OVN.stim_998  UBERON_0002048   \n",
       "Week25_OVN.stim_999-25  Week25_OVN.stim_999  UBERON_0002048   \n",
       "\n",
       "                       organ__ontology_label vaccination  \\\n",
       "Week13_DF16_100-13                      lung  VO_0000771   \n",
       "Week13_DF16_1000-13                     lung  VO_0000771   \n",
       "Week13_DF16_1002-13                     lung  VO_0000771   \n",
       "Week13_DF16_1004-13                     lung  VO_0000771   \n",
       "Week13_DF16_1005-13                     lung  VO_0000771   \n",
       "...                                      ...         ...   \n",
       "Week25_OVN.stim_995-25                  lung  VO_0000771   \n",
       "Week25_OVN.stim_996-25                  lung  VO_0000771   \n",
       "Week25_OVN.stim_997-25                  lung  VO_0000771   \n",
       "Week25_OVN.stim_998-25                  lung  VO_0000771   \n",
       "Week25_OVN.stim_999-25                  lung  VO_0000771   \n",
       "\n",
       "                       vaccination__ontology_label      sex  ...  \\\n",
       "Week13_DF16_100-13                     BCG vaccine  unknown  ...   \n",
       "Week13_DF16_1000-13                    BCG vaccine  unknown  ...   \n",
       "Week13_DF16_1002-13                    BCG vaccine  unknown  ...   \n",
       "Week13_DF16_1004-13                    BCG vaccine  unknown  ...   \n",
       "Week13_DF16_1005-13                    BCG vaccine  unknown  ...   \n",
       "...                                            ...      ...  ...   \n",
       "Week25_OVN.stim_995-25                 BCG vaccine  unknown  ...   \n",
       "Week25_OVN.stim_996-25                 BCG vaccine  unknown  ...   \n",
       "Week25_OVN.stim_997-25                 BCG vaccine  unknown  ...   \n",
       "Week25_OVN.stim_998-25                 BCG vaccine  unknown  ...   \n",
       "Week25_OVN.stim_999-25                 BCG vaccine  unknown  ...   \n",
       "\n",
       "                       sequencing_instrument_manufacturer_model  \\\n",
       "Week13_DF16_100-13                                  EFO_0009173   \n",
       "Week13_DF16_1000-13                                 EFO_0009173   \n",
       "Week13_DF16_1002-13                                 EFO_0009173   \n",
       "Week13_DF16_1004-13                                 EFO_0009173   \n",
       "Week13_DF16_1005-13                                 EFO_0009173   \n",
       "...                                                         ...   \n",
       "Week25_OVN.stim_995-25                              EFO_0009173   \n",
       "Week25_OVN.stim_996-25                              EFO_0009173   \n",
       "Week25_OVN.stim_997-25                              EFO_0009173   \n",
       "Week25_OVN.stim_998-25                              EFO_0009173   \n",
       "Week25_OVN.stim_999-25                              EFO_0009173   \n",
       "\n",
       "                       sequencing_instrument_manufacturer_model__ontology_label  \\\n",
       "Week13_DF16_100-13                                   Illumina NextSeq 500         \n",
       "Week13_DF16_1000-13                                  Illumina NextSeq 500         \n",
       "Week13_DF16_1002-13                                  Illumina NextSeq 500         \n",
       "Week13_DF16_1004-13                                  Illumina NextSeq 500         \n",
       "Week13_DF16_1005-13                                  Illumina NextSeq 500         \n",
       "...                                                                   ...         \n",
       "Week25_OVN.stim_995-25                               Illumina NextSeq 500         \n",
       "Week25_OVN.stim_996-25                               Illumina NextSeq 500         \n",
       "Week25_OVN.stim_997-25                               Illumina NextSeq 500         \n",
       "Week25_OVN.stim_998-25                               Illumina NextSeq 500         \n",
       "Week25_OVN.stim_999-25                               Illumina NextSeq 500         \n",
       "\n",
       "                       paired_ends read_length vaccination_route  \\\n",
       "Week13_DF16_100-13            True       20-50       intradermal   \n",
       "Week13_DF16_1000-13           True       20-50       intradermal   \n",
       "Week13_DF16_1002-13           True       20-50       intradermal   \n",
       "Week13_DF16_1004-13           True       20-50       intradermal   \n",
       "Week13_DF16_1005-13           True       20-50       intradermal   \n",
       "...                            ...         ...               ...   \n",
       "Week25_OVN.stim_995-25        True       20-50       intradermal   \n",
       "Week25_OVN.stim_996-25        True       20-50       intradermal   \n",
       "Week25_OVN.stim_997-25        True       20-50       intradermal   \n",
       "Week25_OVN.stim_998-25        True       20-50       intradermal   \n",
       "Week25_OVN.stim_999-25        True       20-50       intradermal   \n",
       "\n",
       "                       vaccination__time_since vaccination__time_since__unit  \\\n",
       "Week13_DF16_100-13                          13                    UO_0000034   \n",
       "Week13_DF16_1000-13                         13                    UO_0000034   \n",
       "Week13_DF16_1002-13                         13                    UO_0000034   \n",
       "Week13_DF16_1004-13                         13                    UO_0000034   \n",
       "Week13_DF16_1005-13                         13                    UO_0000034   \n",
       "...                                        ...                           ...   \n",
       "Week25_OVN.stim_995-25                      25                    UO_0000034   \n",
       "Week25_OVN.stim_996-25                      25                    UO_0000034   \n",
       "Week25_OVN.stim_997-25                      25                    UO_0000034   \n",
       "Week25_OVN.stim_998-25                      25                    UO_0000034   \n",
       "Week25_OVN.stim_999-25                      25                    UO_0000034   \n",
       "\n",
       "                       vaccination__time_since__unit_label  \\\n",
       "Week13_DF16_100-13                                    week   \n",
       "Week13_DF16_1000-13                                   week   \n",
       "Week13_DF16_1002-13                                   week   \n",
       "Week13_DF16_1004-13                                   week   \n",
       "Week13_DF16_1005-13                                   week   \n",
       "...                                                    ...   \n",
       "Week25_OVN.stim_995-25                                week   \n",
       "Week25_OVN.stim_996-25                                week   \n",
       "Week25_OVN.stim_997-25                                week   \n",
       "Week25_OVN.stim_998-25                                week   \n",
       "Week25_OVN.stim_999-25                                week   \n",
       "\n",
       "                       vaccination__dosage time  \n",
       "Week13_DF16_100-13                     Low   13  \n",
       "Week13_DF16_1000-13                    Low   13  \n",
       "Week13_DF16_1002-13                    Low   13  \n",
       "Week13_DF16_1004-13                    Low   13  \n",
       "Week13_DF16_1005-13                    Low   13  \n",
       "...                                    ...  ...  \n",
       "Week25_OVN.stim_995-25                High   25  \n",
       "Week25_OVN.stim_996-25                High   25  \n",
       "Week25_OVN.stim_997-25                High   25  \n",
       "Week25_OVN.stim_998-25                High   25  \n",
       "Week25_OVN.stim_999-25                High   25  \n",
       "\n",
       "[162490 rows x 33 columns]"
      ]
     },
     "execution_count": 15,
     "metadata": {},
     "output_type": "execute_result"
    }
   ],
   "source": [
    "adata_total.obs"
   ]
  },
  {
   "cell_type": "code",
   "execution_count": 6,
   "metadata": {},
   "outputs": [
    {
     "data": {
      "text/plain": [
       "AnnData object with n_obs × n_vars = 98993 × 32681\n",
       "    obs: 'species', 'species__ontology_label', 'library_preparation_protocol', 'library_preparation_protocol__ontology_label', 'cellID', 'organ', 'organ__ontology_label', 'vaccination', 'vaccination__ontology_label', 'sex', 'is_living', 'sample_type', 'biosample_id', 'end_bias', 'cell_type', 'cell_type__ontology_label', 'disease', 'disease__ontology_label', 'donor_id', 'Stimulated', 'VaccineRoute', 'VaccineRouteUnique', 'VaccineRouteUniqueGroup', 'sequencing_instrument_manufacturer_model', 'sequencing_instrument_manufacturer_model__ontology_label', 'paired_ends', 'read_length', 'vaccination_route', 'vaccination__time_since', 'vaccination__time_since__unit', 'vaccination__time_since__unit_label', 'vaccination__dosage'"
      ]
     },
     "execution_count": 6,
     "metadata": {},
     "output_type": "execute_result"
    }
   ],
   "source": [
    "# Make names unique to avoid computational issues re repeated gene names\n",
    "adata.var_names_make_unique()\n",
    "sample_object = adata.copy()\n",
    "sample_object"
   ]
  },
  {
   "cell_type": "code",
   "execution_count": 7,
   "metadata": {},
   "outputs": [
    {
     "data": {
      "text/html": [
       "<div>\n",
       "<style scoped>\n",
       "    .dataframe tbody tr th:only-of-type {\n",
       "        vertical-align: middle;\n",
       "    }\n",
       "\n",
       "    .dataframe tbody tr th {\n",
       "        vertical-align: top;\n",
       "    }\n",
       "\n",
       "    .dataframe thead th {\n",
       "        text-align: right;\n",
       "    }\n",
       "</style>\n",
       "<table border=\"1\" class=\"dataframe\">\n",
       "  <thead>\n",
       "    <tr style=\"text-align: right;\">\n",
       "      <th></th>\n",
       "    </tr>\n",
       "  </thead>\n",
       "  <tbody>\n",
       "    <tr>\n",
       "      <th>A1BG</th>\n",
       "    </tr>\n",
       "    <tr>\n",
       "      <th>A1CF</th>\n",
       "    </tr>\n",
       "    <tr>\n",
       "      <th>A2M</th>\n",
       "    </tr>\n",
       "    <tr>\n",
       "      <th>A2ML1</th>\n",
       "    </tr>\n",
       "    <tr>\n",
       "      <th>A3GALT2</th>\n",
       "    </tr>\n",
       "    <tr>\n",
       "      <th>...</th>\n",
       "    </tr>\n",
       "    <tr>\n",
       "      <th>ZYG11A</th>\n",
       "    </tr>\n",
       "    <tr>\n",
       "      <th>ZYG11B</th>\n",
       "    </tr>\n",
       "    <tr>\n",
       "      <th>ZYX</th>\n",
       "    </tr>\n",
       "    <tr>\n",
       "      <th>ZZEF1</th>\n",
       "    </tr>\n",
       "    <tr>\n",
       "      <th>ZZZ3</th>\n",
       "    </tr>\n",
       "  </tbody>\n",
       "</table>\n",
       "<p>32681 rows × 0 columns</p>\n",
       "</div>"
      ],
      "text/plain": [
       "Empty DataFrame\n",
       "Columns: []\n",
       "Index: [A1BG, A1CF, A2M, A2ML1, A3GALT2, A4GALT, A4GNT, AAAS, AACS, AADACL2, AADACL3, AADACL4, AADAT, AAED1, AAGAB, AAK1, AAMDC, AAMP, AANAT, AAR2, AARD, AARS, AARS2, AARSD1, AASDH, AASDHPPT, AASS, AATF, AATK, ABAT, ABCA1, ABCA10, ABCA12, ABCA13, ABCA15, ABCA2, ABCA3, ABCA4, ABCA5, ABCA6, ABCA7, ABCA8, ABCA9, ABCB1, ABCB10, ABCB11, ABCB4, ABCB5, ABCB6, ABCB7, ABCB8, ABCB9, ABCC1, ABCC10, ABCC11, ABCC12, ABCC13, ABCC2, ABCC3, ABCC5, ABCC6, ABCC8, ABCC9, ABCD1, ABCD2, ABCD3, ABCD4, ABCE1, ABCF1, ABCF2, ABCF3, ABCG1, ABCG2, ABCG4, ABCG5, ABCG8, ABHD1, ABHD10, ABHD11, ABHD12, ABHD12B, ABHD13, ABHD14A, ABHD14B, ABHD15, ABHD16A, ABHD16B, ABHD17A, ABHD17B, ABHD17C, ABHD18, ABHD2, ABHD3, ABHD4, ABHD5, ABHD6, ABHD8, ABI1, ABI2, ABI3, ...]\n",
       "\n",
       "[32681 rows x 0 columns]"
      ]
     },
     "execution_count": 7,
     "metadata": {},
     "output_type": "execute_result"
    }
   ],
   "source": [
    "sample_object.var"
   ]
  },
  {
   "cell_type": "code",
   "execution_count": null,
   "metadata": {},
   "outputs": [],
   "source": [
    "sample_object.var_names = [str(i) for i in sample_object.var_names]\n",
    "sample_object.var_names_make_unique()\n",
    "\n"
   ]
  },
  {
   "attachments": {},
   "cell_type": "markdown",
   "metadata": {},
   "source": [
    "### Top 20 scatterplot"
   ]
  },
  {
   "cell_type": "code",
   "execution_count": 9,
   "metadata": {},
   "outputs": [
    {
     "name": "stdout",
     "output_type": "stream",
     "text": [
      "normalizing counts per cell\n",
      "    finished (0:00:01)\n"
     ]
    },
    {
     "data": {
      "image/png": "[encoded data removed]",
      "text/plain": [
       "<Figure size 800x880 with 1 Axes>"
      ]
     },
     "metadata": {
      "image/png": {
       "height": 782,
       "width": 842
      }
     },
     "output_type": "display_data"
    }
   ],
   "source": [
    "sc.pl.highest_expr_genes(sample_object, n_top=20)"
   ]
  },
  {
   "attachments": {},
   "cell_type": "markdown",
   "metadata": {},
   "source": [
    "### Filter cells by gene number"
   ]
  },
  {
   "cell_type": "code",
   "execution_count": 10,
   "metadata": {},
   "outputs": [
    {
     "name": "stdout",
     "output_type": "stream",
     "text": [
      "98993 32681\n"
     ]
    }
   ],
   "source": [
    "sc.pp.filter_cells(sample_object, min_genes = 200)\n",
    "print(sample_object.n_obs, sample_object.n_vars)"
   ]
  },
  {
   "cell_type": "code",
   "execution_count": 11,
   "metadata": {},
   "outputs": [
    {
     "data": {
      "text/plain": [
       "(98993, 32681)"
      ]
     },
     "execution_count": 11,
     "metadata": {},
     "output_type": "execute_result"
    }
   ],
   "source": [
    "sample_object.shape"
   ]
  },
  {
   "cell_type": "code",
   "execution_count": 12,
   "metadata": {},
   "outputs": [
    {
     "data": {
      "text/html": [
       "<div>\n",
       "<style scoped>\n",
       "    .dataframe tbody tr th:only-of-type {\n",
       "        vertical-align: middle;\n",
       "    }\n",
       "\n",
       "    .dataframe tbody tr th {\n",
       "        vertical-align: top;\n",
       "    }\n",
       "\n",
       "    .dataframe thead th {\n",
       "        text-align: right;\n",
       "    }\n",
       "</style>\n",
       "<table border=\"1\" class=\"dataframe\">\n",
       "  <thead>\n",
       "    <tr style=\"text-align: right;\">\n",
       "      <th></th>\n",
       "    </tr>\n",
       "  </thead>\n",
       "  <tbody>\n",
       "    <tr>\n",
       "      <th>A1BG</th>\n",
       "    </tr>\n",
       "    <tr>\n",
       "      <th>A1CF</th>\n",
       "    </tr>\n",
       "    <tr>\n",
       "      <th>A2M</th>\n",
       "    </tr>\n",
       "    <tr>\n",
       "      <th>A2ML1</th>\n",
       "    </tr>\n",
       "    <tr>\n",
       "      <th>A3GALT2</th>\n",
       "    </tr>\n",
       "    <tr>\n",
       "      <th>...</th>\n",
       "    </tr>\n",
       "    <tr>\n",
       "      <th>ZYG11A</th>\n",
       "    </tr>\n",
       "    <tr>\n",
       "      <th>ZYG11B</th>\n",
       "    </tr>\n",
       "    <tr>\n",
       "      <th>ZYX</th>\n",
       "    </tr>\n",
       "    <tr>\n",
       "      <th>ZZEF1</th>\n",
       "    </tr>\n",
       "    <tr>\n",
       "      <th>ZZZ3</th>\n",
       "    </tr>\n",
       "  </tbody>\n",
       "</table>\n",
       "<p>32681 rows × 0 columns</p>\n",
       "</div>"
      ],
      "text/plain": [
       "Empty DataFrame\n",
       "Columns: []\n",
       "Index: [A1BG, A1CF, A2M, A2ML1, A3GALT2, A4GALT, A4GNT, AAAS, AACS, AADACL2, AADACL3, AADACL4, AADAT, AAED1, AAGAB, AAK1, AAMDC, AAMP, AANAT, AAR2, AARD, AARS, AARS2, AARSD1, AASDH, AASDHPPT, AASS, AATF, AATK, ABAT, ABCA1, ABCA10, ABCA12, ABCA13, ABCA15, ABCA2, ABCA3, ABCA4, ABCA5, ABCA6, ABCA7, ABCA8, ABCA9, ABCB1, ABCB10, ABCB11, ABCB4, ABCB5, ABCB6, ABCB7, ABCB8, ABCB9, ABCC1, ABCC10, ABCC11, ABCC12, ABCC13, ABCC2, ABCC3, ABCC5, ABCC6, ABCC8, ABCC9, ABCD1, ABCD2, ABCD3, ABCD4, ABCE1, ABCF1, ABCF2, ABCF3, ABCG1, ABCG2, ABCG4, ABCG5, ABCG8, ABHD1, ABHD10, ABHD11, ABHD12, ABHD12B, ABHD13, ABHD14A, ABHD14B, ABHD15, ABHD16A, ABHD16B, ABHD17A, ABHD17B, ABHD17C, ABHD18, ABHD2, ABHD3, ABHD4, ABHD5, ABHD6, ABHD8, ABI1, ABI2, ABI3, ...]\n",
       "\n",
       "[32681 rows x 0 columns]"
      ]
     },
     "execution_count": 12,
     "metadata": {},
     "output_type": "execute_result"
    }
   ],
   "source": [
    "sample_object.var"
   ]
  },
  {
   "attachments": {},
   "cell_type": "markdown",
   "metadata": {},
   "source": [
    "### Filter genes by cell number"
   ]
  },
  {
   "cell_type": "code",
   "execution_count": null,
   "metadata": {},
   "outputs": [],
   "source": [
    "# sc.pp.filter_genes(sample_object, min_cells = 3)\n",
    "# sample_object.shape\n",
    "\n",
    "# removed because of erroneous QC visualisation graphs"
   ]
  },
  {
   "attachments": {},
   "cell_type": "markdown",
   "metadata": {},
   "source": [
    "### QC metrics"
   ]
  },
  {
   "cell_type": "code",
   "execution_count": 14,
   "metadata": {},
   "outputs": [
    {
     "name": "stdout",
     "output_type": "stream",
     "text": [
      "['RNR1', 'TV', 'TY', 'ATP8', 'ATP6', 'CO1', 'CO2', 'CO3', 'CYB', 'ND1', 'ND2', 'ND3', 'ND4L', 'ND4', 'ND5', 'ND6', 'RNR2', 'TA', 'TR', 'TN', 'TD', 'TC', 'TE', 'TQ', 'TG', 'TH', 'TI', 'TL1', 'TL2', 'TK', 'TM', 'TF', 'TP', 'TS1', 'TS2', 'TT', 'TW', 'TY', 'TV', 'RNR1']\n"
     ]
    }
   ],
   "source": [
    "# identify mitochondrial and ribosomal genes manually\n",
    "## str.startswith taken from scanpy pbmc tutorial\n",
    "# Step 1: Make df of mito genes\n",
    "\n",
    "mito_genes = ['RNR1', 'TV', 'TY', 'ATP8', 'ATP6', 'CO1', 'CO2', 'CO3', 'CYB', 'ND1', 'ND2', 'ND3', 'ND4L', 'ND4', 'ND5', 'ND6', 'RNR2', 'TA', 'TR', 'TN', 'TD', 'TC', 'TE', 'TQ', 'TG', 'TH', 'TI', 'TL1', 'TL2', 'TK', 'TM', 'TF', 'TP', 'TS1', 'TS2', 'TT', 'TW', 'TY', 'TV', 'RNR1']\n",
    "print(mito_genes)"
   ]
  },
  {
   "cell_type": "code",
   "execution_count": 15,
   "metadata": {},
   "outputs": [
    {
     "name": "stdout",
     "output_type": "stream",
     "text": [
      "       0\n",
      "0   RNR1\n",
      "1     TV\n",
      "2     TY\n",
      "3   ATP8\n",
      "4   ATP6\n",
      "5    CO1\n",
      "6    CO2\n",
      "7    CO3\n",
      "8    CYB\n",
      "9    ND1\n",
      "10   ND2\n",
      "11   ND3\n",
      "12  ND4L\n",
      "13   ND4\n",
      "14   ND5\n",
      "15   ND6\n",
      "16  RNR2\n",
      "17    TA\n",
      "18    TR\n",
      "19    TN\n",
      "20    TD\n",
      "21    TC\n",
      "22    TE\n",
      "23    TQ\n",
      "24    TG\n",
      "25    TH\n",
      "26    TI\n",
      "27   TL1\n",
      "28   TL2\n",
      "29    TK\n",
      "30    TM\n",
      "31    TF\n",
      "32    TP\n",
      "33   TS1\n",
      "34   TS2\n",
      "35    TT\n",
      "36    TW\n",
      "37    TY\n",
      "38    TV\n",
      "39  RNR1\n"
     ]
    }
   ],
   "source": [
    "# Make list into df\n",
    "mito_genes_df = pd.DataFrame(mito_genes)\n",
    "print(mito_genes_df)"
   ]
  },
  {
   "cell_type": "code",
   "execution_count": 16,
   "metadata": {},
   "outputs": [
    {
     "ename": "ValueError",
     "evalue": "Cannot set a DataFrame with multiple columns to the single column mito",
     "output_type": "error",
     "traceback": [
      "\u001b[0;31m---------------------------------------------------------------------------\u001b[0m",
      "\u001b[0;31mValueError\u001b[0m                                Traceback (most recent call last)",
      "Cell \u001b[0;32mIn[16], line 3\u001b[0m\n\u001b[1;32m      1\u001b[0m \u001b[39m# This makes a new column in \"adata.var\" called \"mito\" that will print \"true/false\" if the same information in gene_id is found in the mito_genes dataframe.\u001b[39;00m\n\u001b[0;32m----> 3\u001b[0m sample_object\u001b[39m.\u001b[39;49mvar[\u001b[39m'\u001b[39;49m\u001b[39mmito\u001b[39;49m\u001b[39m'\u001b[39;49m] \u001b[39m=\u001b[39m sample_object\u001b[39m.\u001b[39mvar\u001b[39m.\u001b[39misin(mito_genes_df[\u001b[39m0\u001b[39m]\u001b[39m.\u001b[39mvalues)\n",
      "File \u001b[0;32m~/mambaforge/envs/scanpy_local/lib/python3.9/site-packages/pandas/core/frame.py:3970\u001b[0m, in \u001b[0;36mDataFrame.__setitem__\u001b[0;34m(self, key, value)\u001b[0m\n\u001b[1;32m   3968\u001b[0m     \u001b[39mself\u001b[39m\u001b[39m.\u001b[39m_setitem_array(key, value)\n\u001b[1;32m   3969\u001b[0m \u001b[39melif\u001b[39;00m \u001b[39misinstance\u001b[39m(value, DataFrame):\n\u001b[0;32m-> 3970\u001b[0m     \u001b[39mself\u001b[39;49m\u001b[39m.\u001b[39;49m_set_item_frame_value(key, value)\n\u001b[1;32m   3971\u001b[0m \u001b[39melif\u001b[39;00m (\n\u001b[1;32m   3972\u001b[0m     is_list_like(value)\n\u001b[1;32m   3973\u001b[0m     \u001b[39mand\u001b[39;00m \u001b[39mnot\u001b[39;00m \u001b[39mself\u001b[39m\u001b[39m.\u001b[39mcolumns\u001b[39m.\u001b[39mis_unique\n\u001b[1;32m   3974\u001b[0m     \u001b[39mand\u001b[39;00m \u001b[39m1\u001b[39m \u001b[39m<\u001b[39m \u001b[39mlen\u001b[39m(\u001b[39mself\u001b[39m\u001b[39m.\u001b[39mcolumns\u001b[39m.\u001b[39mget_indexer_for([key])) \u001b[39m==\u001b[39m \u001b[39mlen\u001b[39m(value)\n\u001b[1;32m   3975\u001b[0m ):\n\u001b[1;32m   3976\u001b[0m     \u001b[39m# Column to set is duplicated\u001b[39;00m\n\u001b[1;32m   3977\u001b[0m     \u001b[39mself\u001b[39m\u001b[39m.\u001b[39m_setitem_array([key], value)\n",
      "File \u001b[0;32m~/mambaforge/envs/scanpy_local/lib/python3.9/site-packages/pandas/core/frame.py:4125\u001b[0m, in \u001b[0;36mDataFrame._set_item_frame_value\u001b[0;34m(self, key, value)\u001b[0m\n\u001b[1;32m   4122\u001b[0m     \u001b[39mreturn\u001b[39;00m\n\u001b[1;32m   4124\u001b[0m \u001b[39mif\u001b[39;00m \u001b[39mlen\u001b[39m(value\u001b[39m.\u001b[39mcolumns) \u001b[39m!=\u001b[39m \u001b[39m1\u001b[39m:\n\u001b[0;32m-> 4125\u001b[0m     \u001b[39mraise\u001b[39;00m \u001b[39mValueError\u001b[39;00m(\n\u001b[1;32m   4126\u001b[0m         \u001b[39m\"\u001b[39m\u001b[39mCannot set a DataFrame with multiple columns to the single \u001b[39m\u001b[39m\"\u001b[39m\n\u001b[1;32m   4127\u001b[0m         \u001b[39mf\u001b[39m\u001b[39m\"\u001b[39m\u001b[39mcolumn \u001b[39m\u001b[39m{\u001b[39;00mkey\u001b[39m}\u001b[39;00m\u001b[39m\"\u001b[39m\n\u001b[1;32m   4128\u001b[0m     )\n\u001b[1;32m   4130\u001b[0m \u001b[39mself\u001b[39m[key] \u001b[39m=\u001b[39m value[value\u001b[39m.\u001b[39mcolumns[\u001b[39m0\u001b[39m]]\n",
      "\u001b[0;31mValueError\u001b[0m: Cannot set a DataFrame with multiple columns to the single column mito"
     ]
    }
   ],
   "source": [
    "# This makes a new column in \"adata.var\" called \"mito\" that will print \"true/false\" if the same information in gene_id is found in the mito_genes dataframe.\n",
    "\n",
    "sample_object.var['mito'] = sample_object.var.gene_id.isin(mito_genes_df[0].values)"
   ]
  },
  {
   "cell_type": "code",
   "execution_count": null,
   "metadata": {},
   "outputs": [],
   "source": [
    "sample_object.var"
   ]
  },
  {
   "cell_type": "code",
   "execution_count": null,
   "metadata": {},
   "outputs": [],
   "source": [
    "# Same for ribo genes\n",
    "\n",
    "ribo_url = \"http://software.broadinstitute.org/gsea/msigdb/download_geneset.jsp?geneSetName=KEGG_RIBOSOME&fileType=txt\""
   ]
  },
  {
   "cell_type": "code",
   "execution_count": null,
   "metadata": {},
   "outputs": [],
   "source": [
    "ribo_genes = pd.read_table(ribo_url, skiprows=2, header = None)\n",
    "ribo_genes"
   ]
  },
  {
   "cell_type": "code",
   "execution_count": null,
   "metadata": {},
   "outputs": [],
   "source": [
    "# Make a new column in the .var object called \"ribo\"\n",
    "sample_object.var['ribo'] = adata.var_names.isin(ribo_genes[0].values)"
   ]
  },
  {
   "cell_type": "code",
   "execution_count": null,
   "metadata": {},
   "outputs": [],
   "source": [
    "sample_object.var"
   ]
  },
  {
   "cell_type": "code",
   "execution_count": null,
   "metadata": {},
   "outputs": [],
   "source": [
    "sample_object.obs"
   ]
  },
  {
   "attachments": {},
   "cell_type": "markdown",
   "metadata": {},
   "source": [
    "##### Calculate qc metrics"
   ]
  },
  {
   "cell_type": "code",
   "execution_count": null,
   "metadata": {},
   "outputs": [],
   "source": [
    "sc.pp.calculate_qc_metrics(sample_object, qc_vars = ['mt', 'ribo'], percent_top = None, log1p = False, inplace = True)"
   ]
  },
  {
   "cell_type": "code",
   "execution_count": null,
   "metadata": {},
   "outputs": [],
   "source": [
    "# for each cell compute fraction of counts in mito genes vs. all genes\n",
    "# the `.A1` is only necessary as X is sparse (to transform to a dense array after summing)\n",
    "# add the total counts per cell as observations-annotation to adata\n",
    "\n",
    "mito_genes = sample_object.var_names.str.startswith('MT-')\n",
    "sample_object.obs['percent_mt2'] = np.sum(\n",
    "    sample_object[:, mito_genes].X, axis = 1).A1 / np.sum(sample_object.X, axis = 1).A1\n",
    "sample_object.obs['n_counts'] = sample_object.X.sum(axis = 1).A1"
   ]
  },
  {
   "cell_type": "code",
   "execution_count": null,
   "metadata": {},
   "outputs": [],
   "source": [
    "sample_object"
   ]
  },
  {
   "attachments": {},
   "cell_type": "markdown",
   "metadata": {},
   "source": [
    "### QC visualisation"
   ]
  },
  {
   "cell_type": "code",
   "execution_count": null,
   "metadata": {},
   "outputs": [],
   "source": [
    "sample_object.var_names"
   ]
  },
  {
   "cell_type": "code",
   "execution_count": null,
   "metadata": {},
   "outputs": [],
   "source": [
    "sc.pl.violin(sample_object, ['n_genes_by_counts', 'total_counts', 'pct_counts_mt', 'pct_counts_ribo'],\n",
    "             jitter=0.4, multi_panel=True)"
   ]
  },
  {
   "cell_type": "code",
   "execution_count": null,
   "metadata": {},
   "outputs": [],
   "source": [
    "sc.pl.violin(sample_object, ['n_genes_by_counts', 'total_counts', 'pct_counts_mt','pct_counts_ribo'],\n",
    "             jitter=0.4, groupby = 'status', rotation = 45)"
   ]
  },
  {
   "cell_type": "code",
   "execution_count": null,
   "metadata": {},
   "outputs": [],
   "source": [
    "sc.pl.scatter(sample_object, x='total_counts', y='n_genes_by_counts', color = \"donor\")"
   ]
  },
  {
   "attachments": {},
   "cell_type": "markdown",
   "metadata": {},
   "source": [
    "### Add sample sex covariate"
   ]
  },
  {
   "cell_type": "code",
   "execution_count": null,
   "metadata": {},
   "outputs": [],
   "source": [
    "annot = sc.queries.biomart_annotations(\n",
    "        \"hsapiens\",\n",
    "        [\"ensembl_gene_id\", \"external_gene_name\", \"start_position\", \"end_position\", \"chromosome_name\"],\n",
    "    ).set_index(\"external_gene_name\")"
   ]
  },
  {
   "cell_type": "code",
   "execution_count": null,
   "metadata": {},
   "outputs": [],
   "source": [
    "annot.head()"
   ]
  },
  {
   "cell_type": "code",
   "execution_count": null,
   "metadata": {},
   "outputs": [],
   "source": [
    "chrY_genes = sample_object.var_names.intersection(annot.index[annot.chromosome_name == \"Y\"])\n",
    "chrY_genes"
   ]
  },
  {
   "cell_type": "code",
   "execution_count": null,
   "metadata": {},
   "outputs": [],
   "source": [
    "sample_object.obs['percent_chrY'] = np.sum(\n",
    "    sample_object[:, chrY_genes].X, axis = 1).A1 / np.sum(sample_object.X, axis = 1).A1 * 100"
   ]
  },
  {
   "attachments": {},
   "cell_type": "markdown",
   "metadata": {},
   "source": [
    "sample_object.obs[\"XIST-counts\"] = sample_object.X[:,sample_object.var_names.str.match('XIST')].toarray()\n"
   ]
  },
  {
   "attachments": {},
   "cell_type": "markdown",
   "metadata": {},
   "source": [
    "### Cell cycle scores"
   ]
  },
  {
   "cell_type": "code",
   "execution_count": null,
   "metadata": {},
   "outputs": [],
   "source": [
    "!if [ ! -f /Users/mairi.mcclean/data/qc_files/cell_cycle_gene.txt ]; then curl -o /Users/mairi.mcclean/data/qc_files/cell_cycle_gene.txt https://raw.githubusercontent."
   ]
  },
  {
   "cell_type": "code",
   "execution_count": null,
   "metadata": {},
   "outputs": [],
   "source": [
    "cell_cycle_genes = [x.strip() for x in open('/Users/mairi.mcclean/data/qc_files/cell_cycle_gene')]\n",
    "print(len(cell_cycle_genes))\n",
    "\n",
    "# Split into 2 lists\n",
    "s_genes = cell_cycle_genes[:43]\n",
    "g2m_genes = cell_cycle_genes[43:]\n",
    "\n",
    "cell_cycle_genes = [x for x in cell_cycle_genes if x in sample_object.var_names]\n",
    "print(len(cell_cycle_genes))"
   ]
  },
  {
   "cell_type": "code",
   "execution_count": null,
   "metadata": {},
   "outputs": [],
   "source": [
    "# create other anndata object for score calculation\n",
    "\n",
    "adata_log = anndata.AnnData(X = sample_object.X,  var = sample_object.var, obs = sample_object.obs)\n",
    "sc.pp.normalize_total(adata_log, target_sum = 1e6, exclude_highly_expressed = True)\n",
    "sc.pp.log1p(adata_log)"
   ]
  },
  {
   "cell_type": "code",
   "execution_count": null,
   "metadata": {},
   "outputs": [],
   "source": [
    "sc.tl.score_genes_cell_cycle(adata_log, s_genes = s_genes, g2m_genes = g2m_genes)\n",
    "sc.pl.violin(adata_log, ['S_score', 'G2M_score'],\n",
    "             jitter = 0.4, groupby = 'donor', rotation = 45)"
   ]
  },
  {
   "cell_type": "code",
   "execution_count": null,
   "metadata": {},
   "outputs": [],
   "source": [
    "sample_object.obs['S_score'] = adata_log.obs['S_score']\n",
    "sample_object.obs['G2M_score'] = adata_log.obs['G2M_score']\n",
    "sample_object"
   ]
  },
  {
   "attachments": {},
   "cell_type": "markdown",
   "metadata": {},
   "source": [
    "### Predict doublets"
   ]
  },
  {
   "cell_type": "code",
   "execution_count": null,
   "metadata": {},
   "outputs": [],
   "source": [
    "holder = np.zeros((sample_object.shape[0],))\n",
    "for smp in np.unique(sample_object.obs['sample']):\n",
    "    if smp == []:\n",
    "        continue\n",
    "    adata_smp = sample_object[sample_object.obs['sample'] == smp]\n",
    "    scrub = scr.Scrublet(adata_smp.X)\n",
    "    adata_smp.obs['doublet_scores'], adata_smp.obs['predicted_doublets'] = scrub.scrub_doublets()\n",
    "    holder[sample_object.obs['sample'] == smp] = adata_smp.obs['predicted_doublets']\n",
    "sample_object.obs['predicted_doublets'] = holder\n",
    "\n",
    "sum(sample_object.obs['predicted_doublets'])\n",
    "sample_object"
   ]
  },
  {
   "cell_type": "code",
   "execution_count": null,
   "metadata": {},
   "outputs": [],
   "source": [
    "scrub.plot_histogram()"
   ]
  },
  {
   "cell_type": "code",
   "execution_count": null,
   "metadata": {},
   "outputs": [],
   "source": [
    "#check if our predicted doublets also have more detected genes in general\n",
    "\n",
    "sc.pl.violin(sample_object, ['n_genes_by_counts', 'total_counts', 'pct_counts_mt','pct_counts_ribo', 'predicted_doublets'],\n",
    "             jitter = 0.2, groupby = 'donor', rotation = 45)"
   ]
  },
  {
   "attachments": {},
   "cell_type": "markdown",
   "metadata": {},
   "source": [
    "### Prepare counts for individual slots"
   ]
  },
  {
   "cell_type": "code",
   "execution_count": null,
   "metadata": {},
   "outputs": [],
   "source": [
    "sample_object.raw = sample_object.copy()\n",
    "sample_object.layers['counts'] = sample_object.X.copy()\n",
    "sample_object.layers[\"sqrt_norm\"] = np.sqrt(\n",
    "    sc.pp.normalize_total(sample_object, inplace = False)[\"X\"]\n",
    ")\n",
    "sample_object"
   ]
  },
  {
   "attachments": {},
   "cell_type": "markdown",
   "metadata": {},
   "source": [
    "### Export object"
   ]
  },
  {
   "cell_type": "code",
   "execution_count": null,
   "metadata": {},
   "outputs": [],
   "source": [
    "sample_object.write('/Volumes/LaCie/data_lake/Mairi_example/processed_files/abridged_qc/nhp/Darrah2020_BAL_mm230307.h5ad')"
   ]
  },
  {
   "cell_type": "code",
   "execution_count": null,
   "metadata": {},
   "outputs": [],
   "source": []
  }
 ],
 "metadata": {
  "kernelspec": {
   "display_name": "scanpy_local",
   "language": "python",
   "name": "python3"
  },
  "language_info": {
   "codemirror_mode": {
    "name": "ipython",
    "version": 3
   },
   "file_extension": ".py",
   "mimetype": "text/x-python",
   "name": "python",
   "nbconvert_exporter": "python",
   "pygments_lexer": "ipython3",
   "version": "3.9.16"
  },
  "orig_nbformat": 4,
  "vscode": {
   "interpreter": {
    "hash": "ffd69a565c8d7e2e7368c81b440bbdab965f91e21d81cb98f1cffcbf22a73be4"
   }
  }
 },
 "nbformat": 4,
 "nbformat_minor": 2
}
