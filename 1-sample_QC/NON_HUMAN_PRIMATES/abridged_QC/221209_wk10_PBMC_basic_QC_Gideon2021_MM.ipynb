{
 "cells": [
  {
   "cell_type": "markdown",
   "metadata": {},
   "source": [
    "### Basic QC for non-human primate samples (Gideon)\n",
    "\n",
    "#### Objective: Run basic QC for week 10 BAL samples in non-human primates from Gideon et al 2021\n",
    "\n",
    "**Developed by**: Mairi McClean\n",
    "\n",
    "**Affiliation**: Institute of Computational Biology - Computational Health Centre - Helmholtz Munich\n",
    "\n",
    "-v221209"
   ]
  },
  {
   "cell_type": "markdown",
   "metadata": {},
   "source": [
    "## Load modules"
   ]
  },
  {
   "cell_type": "code",
   "execution_count": 1,
   "metadata": {},
   "outputs": [],
   "source": [
    "import anndata\n",
    "import logging\n",
    "import numpy as np\n",
    "import pandas as pd\n",
    "import scanpy as sc\n",
    "import seaborn as sb\n",
    "import scrublet as scr\n",
    "import matplotlib.pyplot as plt\n",
    "import igraph as ig\n",
    "from matplotlib import colors\n",
    "from matplotlib import rcParams"
   ]
  },
  {
   "cell_type": "code",
   "execution_count": 2,
   "metadata": {},
   "outputs": [
    {
     "name": "stdout",
     "output_type": "stream",
     "text": [
      "-----\n",
      "anndata     0.8.0\n",
      "scanpy      1.9.1\n",
      "-----\n",
      "PIL                 9.2.0\n",
      "appnope             0.1.3\n",
      "asttokens           NA\n",
      "backcall            0.2.0\n",
      "beta_ufunc          NA\n",
      "binom_ufunc         NA\n",
      "cffi                1.15.1\n",
      "colorama            0.4.6\n",
      "cycler              0.10.0\n",
      "cython_runtime      NA\n",
      "dateutil            2.8.2\n",
      "debugpy             1.6.3\n",
      "decorator           5.1.1\n",
      "entrypoints         0.4\n",
      "executing           1.1.1\n",
      "google              NA\n",
      "h5py                3.6.0\n",
      "hypergeom_ufunc     NA\n",
      "igraph              0.10.2\n",
      "ipykernel           6.16.2\n",
      "ipywidgets          8.0.2\n",
      "jedi                0.18.1\n",
      "joblib              1.2.0\n",
      "kiwisolver          1.4.4\n",
      "leidenalg           0.9.0\n",
      "llvmlite            0.39.1\n",
      "louvain             0.8.0\n",
      "matplotlib          3.6.1\n",
      "mpl_toolkits        NA\n",
      "natsort             8.2.0\n",
      "nbinom_ufunc        NA\n",
      "ncf_ufunc           NA\n",
      "numba               0.56.3\n",
      "numexpr             2.8.1\n",
      "numpy               1.23.4\n",
      "packaging           21.3\n",
      "pandas              1.5.1\n",
      "parso               0.8.3\n",
      "pexpect             4.8.0\n",
      "pickleshare         0.7.5\n",
      "pkg_resources       NA\n",
      "prompt_toolkit      3.0.31\n",
      "psutil              5.9.3\n",
      "ptyprocess          0.7.0\n",
      "pure_eval           0.2.2\n",
      "pydev_ipython       NA\n",
      "pydevconsole        NA\n",
      "pydevd              2.8.0\n",
      "pydevd_file_utils   NA\n",
      "pydevd_plugins      NA\n",
      "pydevd_tracing      NA\n",
      "pygments            2.13.0\n",
      "pyparsing           3.0.9\n",
      "pytz                2022.5\n",
      "scipy               1.9.3\n",
      "scrublet            NA\n",
      "seaborn             0.12.0\n",
      "session_info        1.0.0\n",
      "setuptools          65.5.0\n",
      "six                 1.16.0\n",
      "sklearn             1.1.3\n",
      "sphinxcontrib       NA\n",
      "stack_data          0.5.1\n",
      "statsmodels         0.13.2\n",
      "texttable           1.6.7\n",
      "threadpoolctl       3.1.0\n",
      "tornado             6.2\n",
      "traitlets           5.5.0\n",
      "typing_extensions   NA\n",
      "wcwidth             0.2.5\n",
      "yaml                6.0\n",
      "zmq                 24.0.1\n",
      "zoneinfo            NA\n",
      "-----\n",
      "IPython             8.5.0\n",
      "jupyter_client      7.4.4\n",
      "jupyter_core        4.11.2\n",
      "-----\n",
      "Python 3.10.6 | packaged by conda-forge | (main, Aug 22 2022, 20:38:29) [Clang 13.0.1 ]\n",
      "macOS-12.5.1-arm64-arm-64bit\n",
      "-----\n",
      "Session information updated at 2022-12-09 14:59\n"
     ]
    }
   ],
   "source": [
    "sc.settings.verbosity = 3\n",
    "sc.logging.print_versions()\n",
    "sc.settings.set_figure_params(dpi = 160, color_map = 'RdPu', dpi_save = 180, vector_friendly = True, format = 'svg')"
   ]
  },
  {
   "cell_type": "markdown",
   "metadata": {},
   "source": [
    "## Read in datasets"
   ]
  },
  {
   "cell_type": "code",
   "execution_count": 4,
   "metadata": {},
   "outputs": [
    {
     "ename": "UnicodeDecodeError",
     "evalue": "'utf-8' codec can't decode byte 0x8b in position 1: invalid start byte",
     "output_type": "error",
     "traceback": [
      "\u001b[0;31m---------------------------------------------------------------------------\u001b[0m",
      "\u001b[0;31mUnicodeDecodeError\u001b[0m                        Traceback (most recent call last)",
      "Cell \u001b[0;32mIn [4], line 1\u001b[0m\n\u001b[0;32m----> 1\u001b[0m adata \u001b[39m=\u001b[39m sc\u001b[39m.\u001b[39;49mread_csv(\u001b[39m'\u001b[39;49m\u001b[39m/Users/mairi.mcclean/github/data/tb_pbmc_datasets/non_human_primates/counts_pt_2_wk10.csv.gz.csv\u001b[39;49m\u001b[39m'\u001b[39;49m)\n",
      "File \u001b[0;32m/opt/homebrew/Caskroom/mambaforge/base/envs/scanpy_v1.9.1/lib/python3.10/site-packages/anndata/_io/read.py:53\u001b[0m, in \u001b[0;36mread_csv\u001b[0;34m(filename, delimiter, first_column_names, dtype)\u001b[0m\n\u001b[1;32m     29\u001b[0m \u001b[39mdef\u001b[39;00m \u001b[39mread_csv\u001b[39m(\n\u001b[1;32m     30\u001b[0m     filename: Union[PathLike, Iterator[\u001b[39mstr\u001b[39m]],\n\u001b[1;32m     31\u001b[0m     delimiter: Optional[\u001b[39mstr\u001b[39m] \u001b[39m=\u001b[39m \u001b[39m\"\u001b[39m\u001b[39m,\u001b[39m\u001b[39m\"\u001b[39m,\n\u001b[1;32m     32\u001b[0m     first_column_names: Optional[\u001b[39mbool\u001b[39m] \u001b[39m=\u001b[39m \u001b[39mNone\u001b[39;00m,\n\u001b[1;32m     33\u001b[0m     dtype: \u001b[39mstr\u001b[39m \u001b[39m=\u001b[39m \u001b[39m\"\u001b[39m\u001b[39mfloat32\u001b[39m\u001b[39m\"\u001b[39m,\n\u001b[1;32m     34\u001b[0m ) \u001b[39m-\u001b[39m\u001b[39m>\u001b[39m AnnData:\n\u001b[1;32m     35\u001b[0m     \u001b[39m\"\"\"\\\u001b[39;00m\n\u001b[1;32m     36\u001b[0m \u001b[39m    Read `.csv` file.\u001b[39;00m\n\u001b[1;32m     37\u001b[0m \n\u001b[0;32m   (...)\u001b[0m\n\u001b[1;32m     51\u001b[0m \u001b[39m        Numpy data type.\u001b[39;00m\n\u001b[1;32m     52\u001b[0m \u001b[39m    \"\"\"\u001b[39;00m\n\u001b[0;32m---> 53\u001b[0m     \u001b[39mreturn\u001b[39;00m read_text(filename, delimiter, first_column_names, dtype)\n",
      "File \u001b[0;32m/opt/homebrew/Caskroom/mambaforge/base/envs/scanpy_v1.9.1/lib/python3.10/site-packages/anndata/_io/read.py:360\u001b[0m, in \u001b[0;36mread_text\u001b[0;34m(filename, delimiter, first_column_names, dtype)\u001b[0m\n\u001b[1;32m    358\u001b[0m \u001b[39melse\u001b[39;00m:\n\u001b[1;32m    359\u001b[0m     \u001b[39mwith\u001b[39;00m filename\u001b[39m.\u001b[39mopen() \u001b[39mas\u001b[39;00m f:\n\u001b[0;32m--> 360\u001b[0m         \u001b[39mreturn\u001b[39;00m _read_text(f, delimiter, first_column_names, dtype)\n",
      "File \u001b[0;32m/opt/homebrew/Caskroom/mambaforge/base/envs/scanpy_v1.9.1/lib/python3.10/site-packages/anndata/_io/read.py:383\u001b[0m, in \u001b[0;36m_read_text\u001b[0;34m(f, delimiter, first_column_names, dtype)\u001b[0m\n\u001b[1;32m    381\u001b[0m row_names \u001b[39m=\u001b[39m []\n\u001b[1;32m    382\u001b[0m \u001b[39m# read header and column names\u001b[39;00m\n\u001b[0;32m--> 383\u001b[0m \u001b[39mfor\u001b[39;00m line \u001b[39min\u001b[39;00m lines:\n\u001b[1;32m    384\u001b[0m     \u001b[39mif\u001b[39;00m line\u001b[39m.\u001b[39mstartswith(\u001b[39m\"\u001b[39m\u001b[39m#\u001b[39m\u001b[39m\"\u001b[39m):\n\u001b[1;32m    385\u001b[0m         comment \u001b[39m=\u001b[39m line\u001b[39m.\u001b[39mlstrip(\u001b[39m\"\u001b[39m\u001b[39m# \u001b[39m\u001b[39m\"\u001b[39m)\n",
      "File \u001b[0;32m/opt/homebrew/Caskroom/mambaforge/base/envs/scanpy_v1.9.1/lib/python3.10/site-packages/anndata/_io/read.py:365\u001b[0m, in \u001b[0;36miter_lines\u001b[0;34m(file_like)\u001b[0m\n\u001b[1;32m    363\u001b[0m \u001b[39mdef\u001b[39;00m \u001b[39miter_lines\u001b[39m(file_like: Iterable[\u001b[39mstr\u001b[39m]) \u001b[39m-\u001b[39m\u001b[39m>\u001b[39m Generator[\u001b[39mstr\u001b[39m, \u001b[39mNone\u001b[39;00m, \u001b[39mNone\u001b[39;00m]:\n\u001b[1;32m    364\u001b[0m     \u001b[39m\"\"\"Helper for iterating only nonempty lines without line breaks\"\"\"\u001b[39;00m\n\u001b[0;32m--> 365\u001b[0m     \u001b[39mfor\u001b[39;00m line \u001b[39min\u001b[39;00m file_like:\n\u001b[1;32m    366\u001b[0m         line \u001b[39m=\u001b[39m line\u001b[39m.\u001b[39mrstrip(\u001b[39m\"\u001b[39m\u001b[39m\\r\u001b[39;00m\u001b[39m\\n\u001b[39;00m\u001b[39m\"\u001b[39m)\n\u001b[1;32m    367\u001b[0m         \u001b[39mif\u001b[39;00m line:\n",
      "File \u001b[0;32m/opt/homebrew/Caskroom/mambaforge/base/envs/scanpy_v1.9.1/lib/python3.10/codecs.py:322\u001b[0m, in \u001b[0;36mBufferedIncrementalDecoder.decode\u001b[0;34m(self, input, final)\u001b[0m\n\u001b[1;32m    319\u001b[0m \u001b[39mdef\u001b[39;00m \u001b[39mdecode\u001b[39m(\u001b[39mself\u001b[39m, \u001b[39minput\u001b[39m, final\u001b[39m=\u001b[39m\u001b[39mFalse\u001b[39;00m):\n\u001b[1;32m    320\u001b[0m     \u001b[39m# decode input (taking the buffer into account)\u001b[39;00m\n\u001b[1;32m    321\u001b[0m     data \u001b[39m=\u001b[39m \u001b[39mself\u001b[39m\u001b[39m.\u001b[39mbuffer \u001b[39m+\u001b[39m \u001b[39minput\u001b[39m\n\u001b[0;32m--> 322\u001b[0m     (result, consumed) \u001b[39m=\u001b[39m \u001b[39mself\u001b[39;49m\u001b[39m.\u001b[39;49m_buffer_decode(data, \u001b[39mself\u001b[39;49m\u001b[39m.\u001b[39;49merrors, final)\n\u001b[1;32m    323\u001b[0m     \u001b[39m# keep undecoded input until the next call\u001b[39;00m\n\u001b[1;32m    324\u001b[0m     \u001b[39mself\u001b[39m\u001b[39m.\u001b[39mbuffer \u001b[39m=\u001b[39m data[consumed:]\n",
      "\u001b[0;31mUnicodeDecodeError\u001b[0m: 'utf-8' codec can't decode byte 0x8b in position 1: invalid start byte"
     ]
    }
   ],
   "source": [
    "adata = sc.read_csv('/Users/mairi.mcclean/github/data/tb_pbmc_datasets/non_human_primates/counts_pt_2_wk10.csv.gz.csv')"
   ]
  },
  {
   "cell_type": "code",
   "execution_count": null,
   "metadata": {},
   "outputs": [],
   "source": []
  }
 ],
 "metadata": {
  "kernelspec": {
   "display_name": "Python 3",
   "language": "python",
   "name": "python3"
  },
  "language_info": {
   "codemirror_mode": {
    "name": "ipython",
    "version": 3
   },
   "file_extension": ".py",
   "mimetype": "text/x-python",
   "name": "python",
   "nbconvert_exporter": "python",
   "pygments_lexer": "ipython3",
   "version": "3.6.8"
  },
  "orig_nbformat": 4,
  "vscode": {
   "interpreter": {
    "hash": "31f2aee4e71d21fbe5cf8b01ff0e069b9275f58929596ceb00d14d90e3e16cd6"
   }
  }
 },
 "nbformat": 4,
 "nbformat_minor": 2
}
