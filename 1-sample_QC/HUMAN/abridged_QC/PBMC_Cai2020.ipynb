{
 "cells": [
  {
   "attachments": {},
   "cell_type": "markdown",
   "metadata": {},
   "source": [
    "#### Cai 2020 abridged QC\n",
    "\n",
    "##### Objective: Run QC steps without normalisation/UMAP for Cai 2020 data\n",
    "\n",
    "**Developed by**: Mairi McClean\n",
    "**Affiliation**: Institute of Computational Biology, Helmholtz Zentrum Munich\n",
    "**v230306**"
   ]
  }
 ],
 "metadata": {
  "language_info": {
   "name": "python"
  },
  "orig_nbformat": 4
 },
 "nbformat": 4,
 "nbformat_minor": 2
}
