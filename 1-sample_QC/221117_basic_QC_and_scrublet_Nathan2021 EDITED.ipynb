{
 "cells": [
  {
   "cell_type": "markdown",
   "metadata": {},
   "source": [
    "### Run basic `scanpy` QC and doublet detection with `scrublet` for **PBMC Tuberculosis** _Nathan et al 2021_\n",
    "\n",
    ">> Based on the following scanpy tutorial: https://scanpy-tutorials.readthedocs.io/en/multiomics/cite-seq/pbmc5k.html#Reading\n",
    ">> Only uses filtered data\n",
    "\n",
    "- **Developed by**: Mairi McClean\n",
    "- **Computational Health Centre - Helmholtz Munich**\n",
    "- v221117"
   ]
  },
  {
   "cell_type": "markdown",
   "metadata": {},
   "source": [
    "### Load required modules\n",
    "\n",
    "##### Different due to type of data used (cite-seq)"
   ]
  },
  {
   "cell_type": "code",
   "execution_count": 1,
   "metadata": {},
   "outputs": [],
   "source": [
    "import anndata\n",
    "import logging\n",
    "import numpy as np\n",
    "import pandas as pd\n",
    "import scanpy as sc\n",
    "import seaborn as sb\n",
    "import scrublet as scr\n",
    "import matplotlib.pyplot as plt\n",
    "from matplotlib import colors\n",
    "from matplotlib import rcParams"
   ]
  },
  {
   "cell_type": "code",
   "execution_count": 2,
   "metadata": {
    "tags": []
   },
   "outputs": [
    {
     "name": "stdout",
     "output_type": "stream",
     "text": [
      "-----\n",
      "anndata     0.8.0\n",
      "scanpy      1.9.1\n",
      "-----\n",
      "PIL                 9.2.0\n",
      "appnope             0.1.3\n",
      "asttokens           NA\n",
      "backcall            0.2.0\n",
      "beta_ufunc          NA\n",
      "binom_ufunc         NA\n",
      "cffi                1.15.1\n",
      "colorama            0.4.6\n",
      "cycler              0.10.0\n",
      "cython_runtime      NA\n",
      "dateutil            2.8.2\n",
      "debugpy             1.6.3\n",
      "decorator           5.1.1\n",
      "entrypoints         0.4\n",
      "executing           1.1.1\n",
      "h5py                3.6.0\n",
      "hypergeom_ufunc     NA\n",
      "ipykernel           6.16.2\n",
      "jedi                0.18.1\n",
      "joblib              1.2.0\n",
      "kiwisolver          1.4.4\n",
      "llvmlite            0.39.1\n",
      "matplotlib          3.6.1\n",
      "mpl_toolkits        NA\n",
      "natsort             8.2.0\n",
      "nbinom_ufunc        NA\n",
      "ncf_ufunc           NA\n",
      "numba               0.56.3\n",
      "numexpr             2.8.1\n",
      "numpy               1.23.4\n",
      "packaging           21.3\n",
      "pandas              1.5.1\n",
      "parso               0.8.3\n",
      "pexpect             4.8.0\n",
      "pickleshare         0.7.5\n",
      "pkg_resources       NA\n",
      "prompt_toolkit      3.0.31\n",
      "psutil              5.9.3\n",
      "ptyprocess          0.7.0\n",
      "pure_eval           0.2.2\n",
      "pydev_ipython       NA\n",
      "pydevconsole        NA\n",
      "pydevd              2.8.0\n",
      "pydevd_file_utils   NA\n",
      "pydevd_plugins      NA\n",
      "pydevd_tracing      NA\n",
      "pygments            2.13.0\n",
      "pyparsing           3.0.9\n",
      "pytz                2022.5\n",
      "scipy               1.9.3\n",
      "scrublet            NA\n",
      "seaborn             0.12.0\n",
      "session_info        1.0.0\n",
      "setuptools          65.5.0\n",
      "six                 1.16.0\n",
      "sklearn             1.1.3\n",
      "sphinxcontrib       NA\n",
      "stack_data          0.5.1\n",
      "statsmodels         0.13.2\n",
      "threadpoolctl       3.1.0\n",
      "tornado             6.2\n",
      "traitlets           5.5.0\n",
      "typing_extensions   NA\n",
      "wcwidth             0.2.5\n",
      "zmq                 24.0.1\n",
      "zoneinfo            NA\n",
      "-----\n",
      "IPython             8.5.0\n",
      "jupyter_client      7.4.4\n",
      "jupyter_core        4.11.2\n",
      "-----\n",
      "Python 3.10.6 | packaged by conda-forge | (main, Aug 22 2022, 20:38:29) [Clang 13.0.1 ]\n",
      "macOS-12.5.1-arm64-arm-64bit\n",
      "-----\n",
      "Session information updated at 2022-11-18 12:15\n"
     ]
    }
   ],
   "source": [
    "sc.settings.verbosity = 3\n",
    "sc.logging.print_versions()\n",
    "sc.set_figure_params(frameon=False, figsize=(4, 4))\n"
   ]
  },
  {
   "cell_type": "markdown",
   "metadata": {},
   "source": [
    "### Read datasets"
   ]
  },
  {
   "cell_type": "code",
   "execution_count": 34,
   "metadata": {},
   "outputs": [],
   "source": [
    "# sc.read function changed to h5ad from h5 in tutorial (17.11.22)\n",
    "\n",
    "# anndata.read function inserted: output the same (18.11.22)\n",
    "\n",
    "adata = sc.read_h5ad('/Users/mairi.mcclean/github/data/tb_pbmc_datasets/Lung_TB_T_Cells_CITESEQ_RNA.h5ad')"
   ]
  },
  {
   "cell_type": "code",
   "execution_count": 4,
   "metadata": {},
   "outputs": [
    {
     "data": {
      "text/plain": [
       "AnnData object with n_obs × n_vars = 500089 × 33538\n",
       "    obs: 'cell_id', 'nUMI', 'nGene', 'percent_mito', 'batch', 'TB_status', 'UMAP_1', 'UMAP_2', 'cluster_name', 'cluster_ids', 'donor'"
      ]
     },
     "execution_count": 4,
     "metadata": {},
     "output_type": "execute_result"
    }
   ],
   "source": [
    "# no variables present?\n",
    "\n",
    "adata"
   ]
  },
  {
   "cell_type": "code",
   "execution_count": 5,
   "metadata": {},
   "outputs": [
    {
     "data": {
      "text/html": [
       "<div>\n",
       "<style scoped>\n",
       "    .dataframe tbody tr th:only-of-type {\n",
       "        vertical-align: middle;\n",
       "    }\n",
       "\n",
       "    .dataframe tbody tr th {\n",
       "        vertical-align: top;\n",
       "    }\n",
       "\n",
       "    .dataframe thead th {\n",
       "        text-align: right;\n",
       "    }\n",
       "</style>\n",
       "<table border=\"1\" class=\"dataframe\">\n",
       "  <thead>\n",
       "    <tr style=\"text-align: right;\">\n",
       "      <th></th>\n",
       "    </tr>\n",
       "  </thead>\n",
       "  <tbody>\n",
       "    <tr>\n",
       "      <th>MIR1302-2HG</th>\n",
       "    </tr>\n",
       "    <tr>\n",
       "      <th>FAM138A</th>\n",
       "    </tr>\n",
       "    <tr>\n",
       "      <th>OR4F5</th>\n",
       "    </tr>\n",
       "    <tr>\n",
       "      <th>AL627309.1</th>\n",
       "    </tr>\n",
       "    <tr>\n",
       "      <th>AL627309.3</th>\n",
       "    </tr>\n",
       "    <tr>\n",
       "      <th>...</th>\n",
       "    </tr>\n",
       "    <tr>\n",
       "      <th>AC233755.2</th>\n",
       "    </tr>\n",
       "    <tr>\n",
       "      <th>AC233755.1</th>\n",
       "    </tr>\n",
       "    <tr>\n",
       "      <th>AC240274.1</th>\n",
       "    </tr>\n",
       "    <tr>\n",
       "      <th>AC213203.1</th>\n",
       "    </tr>\n",
       "    <tr>\n",
       "      <th>FAM231C</th>\n",
       "    </tr>\n",
       "  </tbody>\n",
       "</table>\n",
       "<p>33538 rows × 0 columns</p>\n",
       "</div>"
      ],
      "text/plain": [
       "Empty DataFrame\n",
       "Columns: []\n",
       "Index: [MIR1302-2HG, FAM138A, OR4F5, AL627309.1, AL627309.3, AL627309.2, AL627309.4, AL732372.1, OR4F29, AC114498.1, OR4F16, AL669831.2, AL669831.5, FAM87B, LINC00115, FAM41C, AL645608.7, AL645608.3, AL645608.5, AL645608.1, SAMD11, NOC2L, KLHL17, PLEKHN1, PERM1, AL645608.8, HES4, ISG15, AL645608.2, AGRN, AL645608.9, RNF223, C1orf159, LINC01342, AL390719.2, TTLL10-AS1, TTLL10, TNFRSF18, TNFRSF4, SDF4, B3GALT6, C1QTNF12, AL162741.1, UBE2J2, LINC01786, SCNN1D, ACAP3, PUSL1, INTS11, CPTP, TAS1R3, DVL1, MXRA8, AURKAIP1, CCNL2, MRPL20, AL391244.3, ANKRD65, AL391244.2, TMEM88B, LINC01770, VWA1, ATAD3C, ATAD3B, ATAD3A, TMEM240, SSU72, AL645728.1, FNDC10, AL691432.2, MIB2, MMP23B, CDK11B, FO704657.1, SLC35E2B, CDK11A, SLC35E2A, NADK, GNB1, AL109917.1, CALML6, TMEM52, CFAP74, AL391845.2, GABRD, AL391845.1, PRKCZ, AL590822.2, PRKCZ-AS1, FAAP20, AL590822.1, SKI, MORN1, RER1, PEX10, PLCH2, AL139246.1, AL139246.4, PANK4, HES5, ...]\n",
       "\n",
       "[33538 rows x 0 columns]"
      ]
     },
     "execution_count": 5,
     "metadata": {},
     "output_type": "execute_result"
    }
   ],
   "source": [
    "# Only 1 column of variables? They appear to be gene names\n",
    "\n",
    "adata.var"
   ]
  },
  {
   "cell_type": "code",
   "execution_count": 6,
   "metadata": {},
   "outputs": [
    {
     "data": {
      "text/html": [
       "<div>\n",
       "<style scoped>\n",
       "    .dataframe tbody tr th:only-of-type {\n",
       "        vertical-align: middle;\n",
       "    }\n",
       "\n",
       "    .dataframe tbody tr th {\n",
       "        vertical-align: top;\n",
       "    }\n",
       "\n",
       "    .dataframe thead th {\n",
       "        text-align: right;\n",
       "    }\n",
       "</style>\n",
       "<table border=\"1\" class=\"dataframe\">\n",
       "  <thead>\n",
       "    <tr style=\"text-align: right;\">\n",
       "      <th></th>\n",
       "      <th>cell_id</th>\n",
       "      <th>nUMI</th>\n",
       "      <th>nGene</th>\n",
       "      <th>percent_mito</th>\n",
       "      <th>batch</th>\n",
       "      <th>TB_status</th>\n",
       "      <th>UMAP_1</th>\n",
       "      <th>UMAP_2</th>\n",
       "      <th>cluster_name</th>\n",
       "      <th>cluster_ids</th>\n",
       "      <th>donor</th>\n",
       "    </tr>\n",
       "  </thead>\n",
       "  <tbody>\n",
       "    <tr>\n",
       "      <th>0</th>\n",
       "      <td>AAACCCAAGGCCTAAG-1</td>\n",
       "      <td>6108</td>\n",
       "      <td>1557</td>\n",
       "      <td>0.055828</td>\n",
       "      <td>1</td>\n",
       "      <td>CASE</td>\n",
       "      <td>-2.743703</td>\n",
       "      <td>1.617194</td>\n",
       "      <td>CD4+ CD27+</td>\n",
       "      <td>C-2</td>\n",
       "      <td>TB3419057</td>\n",
       "    </tr>\n",
       "    <tr>\n",
       "      <th>1</th>\n",
       "      <td>AAACCCAAGGTTCTTG-1</td>\n",
       "      <td>7902</td>\n",
       "      <td>2149</td>\n",
       "      <td>0.083017</td>\n",
       "      <td>1</td>\n",
       "      <td>CASE</td>\n",
       "      <td>-4.237045</td>\n",
       "      <td>0.306832</td>\n",
       "      <td>CD4+ CCR4+ central</td>\n",
       "      <td>C-3</td>\n",
       "      <td>TB3419057</td>\n",
       "    </tr>\n",
       "    <tr>\n",
       "      <th>2</th>\n",
       "      <td>AAACCCAAGTGCAGGT-1</td>\n",
       "      <td>5033</td>\n",
       "      <td>1788</td>\n",
       "      <td>0.129744</td>\n",
       "      <td>1</td>\n",
       "      <td>CASE</td>\n",
       "      <td>-1.136187</td>\n",
       "      <td>-4.012949</td>\n",
       "      <td>CD4+ Treg</td>\n",
       "      <td>C-9</td>\n",
       "      <td>TB3419057</td>\n",
       "    </tr>\n",
       "    <tr>\n",
       "      <th>3</th>\n",
       "      <td>AAACCCACAAGAGTAT-1</td>\n",
       "      <td>6574</td>\n",
       "      <td>1747</td>\n",
       "      <td>0.066930</td>\n",
       "      <td>1</td>\n",
       "      <td>CASE</td>\n",
       "      <td>-1.015078</td>\n",
       "      <td>3.789505</td>\n",
       "      <td>CD4+ CD27+CD161+</td>\n",
       "      <td>C-4</td>\n",
       "      <td>TB3419057</td>\n",
       "    </tr>\n",
       "    <tr>\n",
       "      <th>4</th>\n",
       "      <td>AAACCCACACACGGTC-1</td>\n",
       "      <td>6471</td>\n",
       "      <td>1872</td>\n",
       "      <td>0.047442</td>\n",
       "      <td>1</td>\n",
       "      <td>CASE</td>\n",
       "      <td>0.658381</td>\n",
       "      <td>2.427080</td>\n",
       "      <td>CD4+ Th17/1</td>\n",
       "      <td>C-13</td>\n",
       "      <td>TB0610655</td>\n",
       "    </tr>\n",
       "    <tr>\n",
       "      <th>...</th>\n",
       "      <td>...</td>\n",
       "      <td>...</td>\n",
       "      <td>...</td>\n",
       "      <td>...</td>\n",
       "      <td>...</td>\n",
       "      <td>...</td>\n",
       "      <td>...</td>\n",
       "      <td>...</td>\n",
       "      <td>...</td>\n",
       "      <td>...</td>\n",
       "      <td>...</td>\n",
       "    </tr>\n",
       "    <tr>\n",
       "      <th>500084</th>\n",
       "      <td>TTTGTTGTCCGCCTAT-46</td>\n",
       "      <td>1945</td>\n",
       "      <td>833</td>\n",
       "      <td>0.183033</td>\n",
       "      <td>46</td>\n",
       "      <td>CASE</td>\n",
       "      <td>-2.568426</td>\n",
       "      <td>0.780417</td>\n",
       "      <td>CD4+ CD27+</td>\n",
       "      <td>C-2</td>\n",
       "      <td>TB9334348</td>\n",
       "    </tr>\n",
       "    <tr>\n",
       "      <th>500085</th>\n",
       "      <td>TTTGTTGTCCTGGGTG-46</td>\n",
       "      <td>4534</td>\n",
       "      <td>1537</td>\n",
       "      <td>0.051610</td>\n",
       "      <td>46</td>\n",
       "      <td>CONTROL</td>\n",
       "      <td>1.017550</td>\n",
       "      <td>-0.594416</td>\n",
       "      <td>CD4+ Th1</td>\n",
       "      <td>C-17</td>\n",
       "      <td>TB2792656</td>\n",
       "    </tr>\n",
       "    <tr>\n",
       "      <th>500086</th>\n",
       "      <td>TTTGTTGTCGATGGAG-46</td>\n",
       "      <td>3157</td>\n",
       "      <td>1013</td>\n",
       "      <td>0.081723</td>\n",
       "      <td>46</td>\n",
       "      <td>CASE</td>\n",
       "      <td>2.301589</td>\n",
       "      <td>0.623997</td>\n",
       "      <td>CD4+ Th17/1</td>\n",
       "      <td>C-16</td>\n",
       "      <td>TB7198118</td>\n",
       "    </tr>\n",
       "    <tr>\n",
       "      <th>500087</th>\n",
       "      <td>TTTGTTGTCGTTTACT-46</td>\n",
       "      <td>3675</td>\n",
       "      <td>1202</td>\n",
       "      <td>0.089252</td>\n",
       "      <td>46</td>\n",
       "      <td>CASE</td>\n",
       "      <td>0.572390</td>\n",
       "      <td>-1.264730</td>\n",
       "      <td>CD4+ Th1</td>\n",
       "      <td>C-17</td>\n",
       "      <td>TB9334348</td>\n",
       "    </tr>\n",
       "    <tr>\n",
       "      <th>500088</th>\n",
       "      <td>TTTGTTGTCTCTTCAA-46</td>\n",
       "      <td>9072</td>\n",
       "      <td>2181</td>\n",
       "      <td>0.060185</td>\n",
       "      <td>46</td>\n",
       "      <td>CONTROL</td>\n",
       "      <td>-3.697227</td>\n",
       "      <td>0.161370</td>\n",
       "      <td>CD4+ CCR4+ central</td>\n",
       "      <td>C-3</td>\n",
       "      <td>TB2496561</td>\n",
       "    </tr>\n",
       "  </tbody>\n",
       "</table>\n",
       "<p>500089 rows × 11 columns</p>\n",
       "</div>"
      ],
      "text/plain": [
       "                    cell_id  nUMI  nGene  percent_mito  batch TB_status  \\\n",
       "0        AAACCCAAGGCCTAAG-1  6108   1557      0.055828      1      CASE   \n",
       "1        AAACCCAAGGTTCTTG-1  7902   2149      0.083017      1      CASE   \n",
       "2        AAACCCAAGTGCAGGT-1  5033   1788      0.129744      1      CASE   \n",
       "3        AAACCCACAAGAGTAT-1  6574   1747      0.066930      1      CASE   \n",
       "4        AAACCCACACACGGTC-1  6471   1872      0.047442      1      CASE   \n",
       "...                     ...   ...    ...           ...    ...       ...   \n",
       "500084  TTTGTTGTCCGCCTAT-46  1945    833      0.183033     46      CASE   \n",
       "500085  TTTGTTGTCCTGGGTG-46  4534   1537      0.051610     46   CONTROL   \n",
       "500086  TTTGTTGTCGATGGAG-46  3157   1013      0.081723     46      CASE   \n",
       "500087  TTTGTTGTCGTTTACT-46  3675   1202      0.089252     46      CASE   \n",
       "500088  TTTGTTGTCTCTTCAA-46  9072   2181      0.060185     46   CONTROL   \n",
       "\n",
       "          UMAP_1    UMAP_2        cluster_name cluster_ids      donor  \n",
       "0      -2.743703  1.617194          CD4+ CD27+         C-2  TB3419057  \n",
       "1      -4.237045  0.306832  CD4+ CCR4+ central         C-3  TB3419057  \n",
       "2      -1.136187 -4.012949           CD4+ Treg         C-9  TB3419057  \n",
       "3      -1.015078  3.789505    CD4+ CD27+CD161+         C-4  TB3419057  \n",
       "4       0.658381  2.427080         CD4+ Th17/1        C-13  TB0610655  \n",
       "...          ...       ...                 ...         ...        ...  \n",
       "500084 -2.568426  0.780417          CD4+ CD27+         C-2  TB9334348  \n",
       "500085  1.017550 -0.594416            CD4+ Th1        C-17  TB2792656  \n",
       "500086  2.301589  0.623997         CD4+ Th17/1        C-16  TB7198118  \n",
       "500087  0.572390 -1.264730            CD4+ Th1        C-17  TB9334348  \n",
       "500088 -3.697227  0.161370  CD4+ CCR4+ central         C-3  TB2496561  \n",
       "\n",
       "[500089 rows x 11 columns]"
      ]
     },
     "execution_count": 6,
     "metadata": {},
     "output_type": "execute_result"
    }
   ],
   "source": [
    "adata.obs"
   ]
  },
  {
   "cell_type": "code",
   "execution_count": null,
   "metadata": {},
   "outputs": [],
   "source": [
    "# Following cells were separated from 1 complete cell to avoid error"
   ]
  },
  {
   "cell_type": "code",
   "execution_count": 7,
   "metadata": {},
   "outputs": [],
   "source": [
    "adata.var_names_make_unique()"
   ]
  },
  {
   "cell_type": "code",
   "execution_count": 8,
   "metadata": {},
   "outputs": [],
   "source": [
    "adata.layers[\"counts\"] = adata.X.copy()"
   ]
  },
  {
   "cell_type": "code",
   "execution_count": 10,
   "metadata": {},
   "outputs": [
    {
     "data": {
      "text/plain": [
       "<500089x33538 sparse matrix of type '<class 'numpy.float32'>'\n",
       "\twith 737214512 stored elements in Compressed Sparse Row format>"
      ]
     },
     "execution_count": 10,
     "metadata": {},
     "output_type": "execute_result"
    }
   ],
   "source": [
    "adata.layers[\"counts\"]"
   ]
  },
  {
   "cell_type": "code",
   "execution_count": 45,
   "metadata": {},
   "outputs": [
    {
     "data": {
      "text/plain": [
       "AnnData object with n_obs × n_vars = 500089 × 26199\n",
       "    obs: 'cell_id', 'nUMI', 'nGene', 'percent_mito', 'batch', 'TB_status', 'UMAP_1', 'UMAP_2', 'cluster_name', 'cluster_ids', 'donor'\n",
       "    var: 'n_counts'"
      ]
     },
     "execution_count": 45,
     "metadata": {},
     "output_type": "execute_result"
    }
   ],
   "source": [
    "adata"
   ]
  },
  {
   "cell_type": "code",
   "execution_count": 37,
   "metadata": {},
   "outputs": [
    {
     "data": {
      "text/plain": [
       "0            CASE\n",
       "1            CASE\n",
       "2            CASE\n",
       "3            CASE\n",
       "4            CASE\n",
       "           ...   \n",
       "500084       CASE\n",
       "500085    CONTROL\n",
       "500086       CASE\n",
       "500087       CASE\n",
       "500088    CONTROL\n",
       "Name: TB_status, Length: 500089, dtype: category\n",
       "Categories (2, object): ['CASE', 'CONTROL']"
      ]
     },
     "execution_count": 37,
     "metadata": {},
     "output_type": "execute_result"
    }
   ],
   "source": [
    "adata.obs.TB_status"
   ]
  },
  {
   "cell_type": "code",
   "execution_count": null,
   "metadata": {},
   "outputs": [],
   "source": [
    "# so we don't know specific disease status?"
   ]
  },
  {
   "cell_type": "code",
   "execution_count": 13,
   "metadata": {},
   "outputs": [
    {
     "data": {
      "text/plain": [
       "1.0         1420\n",
       "2.0          765\n",
       "3.0          586\n",
       "4.0          403\n",
       "5.0          323\n",
       "            ... \n",
       "12761.0        1\n",
       "27015.0        1\n",
       "146730.0       1\n",
       "124901.0       1\n",
       "6799.0         1\n",
       "Name: n_counts, Length: 12743, dtype: int64"
      ]
     },
     "execution_count": 13,
     "metadata": {},
     "output_type": "execute_result"
    }
   ],
   "source": [
    "adata.var[\"n_counts\"].value_counts()"
   ]
  },
  {
   "cell_type": "code",
   "execution_count": null,
   "metadata": {},
   "outputs": [],
   "source": [
    "# Output doen't appear to be the same as the tutorial; data in tutorial has no obs. We have no var. Same same but different?"
   ]
  },
  {
   "cell_type": "code",
   "execution_count": 15,
   "metadata": {},
   "outputs": [
    {
     "data": {
      "text/plain": [
       "AnnData object with n_obs × n_vars = 500089 × 26199\n",
       "    obs: 'cell_id', 'nUMI', 'nGene', 'percent_mito', 'batch', 'TB_status', 'UMAP_1', 'UMAP_2', 'cluster_name', 'cluster_ids', 'donor'\n",
       "    var: 'n_counts'\n",
       "    layers: 'counts'"
      ]
     },
     "execution_count": 15,
     "metadata": {},
     "output_type": "execute_result"
    }
   ],
   "source": [
    "# added to make sure that sample_object was valid object for following code\n",
    "\n",
    "sample_object = adata.copy()\n",
    "sample_object"
   ]
  },
  {
   "cell_type": "code",
   "execution_count": 40,
   "metadata": {},
   "outputs": [
    {
     "name": "stdout",
     "output_type": "stream",
     "text": [
      "normalizing counts per cell\n",
      "    finished (0:00:12)\n"
     ]
    },
    {
     "name": "stderr",
     "output_type": "stream",
     "text": [
      "/opt/homebrew/Caskroom/mambaforge/base/envs/scanpy_v1.9.1/lib/python3.10/site-packages/seaborn/categorical.py:470: FutureWarning: iteritems is deprecated and will be removed in a future version. Use .items instead.\n",
      "  plot_data = [np.asarray(s, float) for k, s in iter_data]\n"
     ]
    },
    {
     "data": {
      "image/png": "[encoded data removed]",
      "text/plain": [
       "<Figure size 400x440 with 1 Axes>"
      ]
     },
     "metadata": {
      "image/png": {
       "height": 391,
       "width": 400
      }
     },
     "output_type": "display_data"
    }
   ],
   "source": [
    "# Show the top 20 genes\n",
    "\n",
    "sc.pl.highest_expr_genes(sample_object, n_top=20)\n"
   ]
  },
  {
   "cell_type": "code",
   "execution_count": null,
   "metadata": {},
   "outputs": [],
   "source": [
    "# So there are already labelled mit genes?"
   ]
  },
  {
   "cell_type": "markdown",
   "metadata": {},
   "source": [
    "### Compute QC stats"
   ]
  },
  {
   "cell_type": "markdown",
   "metadata": {},
   "source": [
    "#### Filter mt-genes"
   ]
  },
  {
   "cell_type": "code",
   "execution_count": null,
   "metadata": {},
   "outputs": [],
   "source": [
    "# Percentage mito genes has already been calculated, therefore only simple filtering required?\n",
    "# Will remove ribosomal gene step for ease in first round of experiment\n",
    "\n",
    "# Values we do have: percent mito, nUMI, n_genes"
   ]
  },
  {
   "cell_type": "code",
   "execution_count": null,
   "metadata": {},
   "outputs": [],
   "source": []
  },
  {
   "cell_type": "markdown",
   "metadata": {},
   "source": [
    "#### Filter cells with less than 200 genes and min cells\n",
    "\n"
   ]
  },
  {
   "cell_type": "code",
   "execution_count": 46,
   "metadata": {},
   "outputs": [
    {
     "name": "stdout",
     "output_type": "stream",
     "text": [
      "filtered out 2185 genes that are detected in less than 3 counts\n"
     ]
    }
   ],
   "source": [
    "# ran experiment to see what would happen\n",
    "\n",
    "sc.pp.filter_cells(sample_object, min_genes = 200)\n",
    "sc.pp.filter_genes(sample_object, min_counts=3)"
   ]
  },
  {
   "cell_type": "code",
   "execution_count": 47,
   "metadata": {},
   "outputs": [
    {
     "name": "stdout",
     "output_type": "stream",
     "text": [
      "500089 24014\n"
     ]
    }
   ],
   "source": [
    "print(sample_object.n_obs, sample_object.n_vars)"
   ]
  },
  {
   "cell_type": "code",
   "execution_count": 48,
   "metadata": {},
   "outputs": [
    {
     "data": {
      "text/plain": [
       "(500089, 24014)"
      ]
     },
     "execution_count": 48,
     "metadata": {},
     "output_type": "execute_result"
    }
   ],
   "source": [
    "sample_object.shape"
   ]
  },
  {
   "cell_type": "code",
   "execution_count": 18,
   "metadata": {},
   "outputs": [
    {
     "data": {
      "text/html": [
       "<div>\n",
       "<style scoped>\n",
       "    .dataframe tbody tr th:only-of-type {\n",
       "        vertical-align: middle;\n",
       "    }\n",
       "\n",
       "    .dataframe tbody tr th {\n",
       "        vertical-align: top;\n",
       "    }\n",
       "\n",
       "    .dataframe thead th {\n",
       "        text-align: right;\n",
       "    }\n",
       "</style>\n",
       "<table border=\"1\" class=\"dataframe\">\n",
       "  <thead>\n",
       "    <tr style=\"text-align: right;\">\n",
       "      <th></th>\n",
       "      <th>n_counts</th>\n",
       "    </tr>\n",
       "  </thead>\n",
       "  <tbody>\n",
       "    <tr>\n",
       "      <th>OR4F5</th>\n",
       "      <td>1.0</td>\n",
       "    </tr>\n",
       "    <tr>\n",
       "      <th>AL627309.1</th>\n",
       "      <td>856.0</td>\n",
       "    </tr>\n",
       "    <tr>\n",
       "      <th>AL627309.3</th>\n",
       "      <td>45.0</td>\n",
       "    </tr>\n",
       "    <tr>\n",
       "      <th>AL627309.4</th>\n",
       "      <td>4.0</td>\n",
       "    </tr>\n",
       "    <tr>\n",
       "      <th>AL669831.2</th>\n",
       "      <td>13.0</td>\n",
       "    </tr>\n",
       "    <tr>\n",
       "      <th>...</th>\n",
       "      <td>...</td>\n",
       "    </tr>\n",
       "    <tr>\n",
       "      <th>AL354822.1</th>\n",
       "      <td>3698.0</td>\n",
       "    </tr>\n",
       "    <tr>\n",
       "      <th>AC004556.1</th>\n",
       "      <td>32487.0</td>\n",
       "    </tr>\n",
       "    <tr>\n",
       "      <th>AC233755.2</th>\n",
       "      <td>3.0</td>\n",
       "    </tr>\n",
       "    <tr>\n",
       "      <th>AC233755.1</th>\n",
       "      <td>2.0</td>\n",
       "    </tr>\n",
       "    <tr>\n",
       "      <th>AC240274.1</th>\n",
       "      <td>6799.0</td>\n",
       "    </tr>\n",
       "  </tbody>\n",
       "</table>\n",
       "<p>26199 rows × 1 columns</p>\n",
       "</div>"
      ],
      "text/plain": [
       "            n_counts\n",
       "OR4F5            1.0\n",
       "AL627309.1     856.0\n",
       "AL627309.3      45.0\n",
       "AL627309.4       4.0\n",
       "AL669831.2      13.0\n",
       "...              ...\n",
       "AL354822.1    3698.0\n",
       "AC004556.1   32487.0\n",
       "AC233755.2       3.0\n",
       "AC233755.1       2.0\n",
       "AC240274.1    6799.0\n",
       "\n",
       "[26199 rows x 1 columns]"
      ]
     },
     "execution_count": 18,
     "metadata": {},
     "output_type": "execute_result"
    }
   ],
   "source": [
    "sample_object.var"
   ]
  },
  {
   "cell_type": "code",
   "execution_count": null,
   "metadata": {},
   "outputs": [],
   "source": [
    "# Removed following section ['Replace gene symbols'] as I don't think it's required?"
   ]
  },
  {
   "cell_type": "markdown",
   "metadata": {},
   "source": [
    "### mt and ribo QC stats"
   ]
  },
  {
   "cell_type": "code",
   "execution_count": 20,
   "metadata": {},
   "outputs": [
    {
     "data": {
      "text/plain": [
       "(500089, 26199)"
      ]
     },
     "execution_count": 20,
     "metadata": {},
     "output_type": "execute_result"
    }
   ],
   "source": [
    "sample_object.shape"
   ]
  },
  {
   "cell_type": "code",
   "execution_count": null,
   "metadata": {},
   "outputs": [],
   "source": [
    "# Is there a way to filter out a certian percentage of mito gene expression?"
   ]
  },
  {
   "cell_type": "code",
   "execution_count": 23,
   "metadata": {},
   "outputs": [],
   "source": [
    "# for each cell compute fraction of counts in mito genes vs. all genes\n",
    "# the `.A1` is only necessary as X is sparse (to transform to a dense array after summing)\n",
    "# add the total counts per cell as observations-annotation to adata\n",
    "\n",
    "mito_genes = sample_object.var_names.str.startswith('MT-')\n",
    "sample_object.obs['percent_mt2'] = np.sum(\n",
    "    sample_object[:, mito_genes].X, axis = 1).A1 / np.sum(sample_object.X, axis = 1).A1\n",
    "sample_object.obs['n_counts'] = sample_object.X.sum(axis = 1).A1"
   ]
  },
  {
   "cell_type": "code",
   "execution_count": 24,
   "metadata": {},
   "outputs": [
    {
     "data": {
      "text/plain": [
       "AnnData object with n_obs × n_vars = 500089 × 26199\n",
       "    obs: 'cell_id', 'nUMI', 'nGene', 'percent_mito', 'batch', 'TB_status', 'UMAP_1', 'UMAP_2', 'cluster_name', 'cluster_ids', 'donor', 'n_genes', 'n_genes_by_counts', 'total_counts', 'total_counts_mt', 'pct_counts_mt', 'total_counts_ribo', 'pct_counts_ribo', 'percent_mt2', 'n_counts'\n",
       "    var: 'n_counts', 'mt', 'ribo', 'n_cells_by_counts', 'mean_counts', 'pct_dropout_by_counts', 'total_counts'\n",
       "    layers: 'counts'"
      ]
     },
     "execution_count": 24,
     "metadata": {},
     "output_type": "execute_result"
    }
   ],
   "source": [
    "sample_object"
   ]
  },
  {
   "cell_type": "markdown",
   "metadata": {},
   "source": [
    "### Visualise QC metrics"
   ]
  },
  {
   "cell_type": "code",
   "execution_count": 32,
   "metadata": {},
   "outputs": [
    {
     "data": {
      "text/plain": [
       "Index(['OR4F5', 'AL627309.1', 'AL627309.3', 'AL627309.4', 'AL669831.2',\n",
       "       'AL669831.5', 'FAM87B', 'LINC00115', 'FAM41C', 'AL645608.3',\n",
       "       ...\n",
       "       'AC145212.1', 'MAFIP', 'AC011043.1', 'AL592183.1', 'AC007325.4',\n",
       "       'AL354822.1', 'AC004556.1', 'AC233755.2', 'AC233755.1', 'AC240274.1'],\n",
       "      dtype='object', length=26199)"
      ]
     },
     "execution_count": 32,
     "metadata": {},
     "output_type": "execute_result"
    }
   ],
   "source": [
    "# Why does it need to be var, and not obs?\n",
    "sample_object.var_names"
   ]
  },
  {
   "cell_type": "code",
   "execution_count": 28,
   "metadata": {},
   "outputs": [
    {
     "ename": "ValueError",
     "evalue": "The column `adata.obs['n_counts']` needs to be categorical, but is of dtype float32.",
     "output_type": "error",
     "traceback": [
      "\u001b[0;31m---------------------------------------------------------------------------\u001b[0m",
      "\u001b[0;31mValueError\u001b[0m                                Traceback (most recent call last)",
      "Cell \u001b[0;32mIn [28], line 1\u001b[0m\n\u001b[0;32m----> 1\u001b[0m sc\u001b[39m.\u001b[39;49mpl\u001b[39m.\u001b[39;49mviolin(sample_object, [\u001b[39m'\u001b[39;49m\u001b[39mn_genes_by_counts\u001b[39;49m\u001b[39m'\u001b[39;49m, \u001b[39m'\u001b[39;49m\u001b[39mtotal_counts\u001b[39;49m\u001b[39m'\u001b[39;49m, \u001b[39m'\u001b[39;49m\u001b[39mpct_counts_mt\u001b[39;49m\u001b[39m'\u001b[39;49m,\u001b[39m'\u001b[39;49m\u001b[39mpct_counts_ribo\u001b[39;49m\u001b[39m'\u001b[39;49m],\n\u001b[1;32m      2\u001b[0m              jitter \u001b[39m=\u001b[39;49m \u001b[39m0.2\u001b[39;49m, groupby \u001b[39m=\u001b[39;49m \u001b[39m'\u001b[39;49m\u001b[39mn_counts\u001b[39;49m\u001b[39m'\u001b[39;49m, rotation \u001b[39m=\u001b[39;49m \u001b[39m45\u001b[39;49m)\n",
      "File \u001b[0;32m/opt/homebrew/Caskroom/mambaforge/base/envs/scanpy_v1.9.1/lib/python3.10/site-packages/scanpy/plotting/_anndata.py:772\u001b[0m, in \u001b[0;36mviolin\u001b[0;34m(adata, keys, groupby, log, use_raw, stripplot, jitter, size, layer, scale, order, multi_panel, xlabel, ylabel, rotation, show, save, ax, **kwds)\u001b[0m\n\u001b[1;32m    770\u001b[0m \u001b[39mif\u001b[39;00m kwds\u001b[39m.\u001b[39mget(\u001b[39m'\u001b[39m\u001b[39mpalette\u001b[39m\u001b[39m'\u001b[39m, \u001b[39mNone\u001b[39;00m) \u001b[39mis\u001b[39;00m \u001b[39mNone\u001b[39;00m:\n\u001b[1;32m    771\u001b[0m     \u001b[39mif\u001b[39;00m \u001b[39mnot\u001b[39;00m is_categorical_dtype(adata\u001b[39m.\u001b[39mobs[groupby]):\n\u001b[0;32m--> 772\u001b[0m         \u001b[39mraise\u001b[39;00m \u001b[39mValueError\u001b[39;00m(\n\u001b[1;32m    773\u001b[0m             \u001b[39mf\u001b[39m\u001b[39m'\u001b[39m\u001b[39mThe column `adata.obs[\u001b[39m\u001b[39m{\u001b[39;00mgroupby\u001b[39m!r}\u001b[39;00m\u001b[39m]` needs to be categorical, \u001b[39m\u001b[39m'\u001b[39m\n\u001b[1;32m    774\u001b[0m             \u001b[39mf\u001b[39m\u001b[39m'\u001b[39m\u001b[39mbut is of dtype \u001b[39m\u001b[39m{\u001b[39;00madata\u001b[39m.\u001b[39mobs[groupby]\u001b[39m.\u001b[39mdtype\u001b[39m}\u001b[39;00m\u001b[39m.\u001b[39m\u001b[39m'\u001b[39m\n\u001b[1;32m    775\u001b[0m         )\n\u001b[1;32m    776\u001b[0m     _utils\u001b[39m.\u001b[39madd_colors_for_categorical_sample_annotation(adata, groupby)\n\u001b[1;32m    777\u001b[0m     kwds[\u001b[39m'\u001b[39m\u001b[39mpalette\u001b[39m\u001b[39m'\u001b[39m] \u001b[39m=\u001b[39m \u001b[39mdict\u001b[39m(\n\u001b[1;32m    778\u001b[0m         \u001b[39mzip\u001b[39m(obs_df[groupby]\u001b[39m.\u001b[39mcat\u001b[39m.\u001b[39mcategories, adata\u001b[39m.\u001b[39muns[\u001b[39mf\u001b[39m\u001b[39m'\u001b[39m\u001b[39m{\u001b[39;00mgroupby\u001b[39m}\u001b[39;00m\u001b[39m_colors\u001b[39m\u001b[39m'\u001b[39m])\n\u001b[1;32m    779\u001b[0m     )\n",
      "\u001b[0;31mValueError\u001b[0m: The column `adata.obs['n_counts']` needs to be categorical, but is of dtype float32."
     ]
    }
   ],
   "source": [
    "sc.pl.violin(sample_object, ['n_genes_by_counts', 'total_counts', 'pct_counts_mt','pct_counts_ribo'],\n",
    "             jitter = 0.2, groupby = 'n_counts', rotation = 45)"
   ]
  },
  {
   "cell_type": "code",
   "execution_count": null,
   "metadata": {},
   "outputs": [],
   "source": [
    "sc.pl.scatter(sample_object, x = 'total_counts', y = 'pct_counts_mt', color = \"donor\")"
   ]
  },
  {
   "cell_type": "markdown",
   "metadata": {},
   "source": [
    "### Add sample sex covariate"
   ]
  },
  {
   "cell_type": "code",
   "execution_count": null,
   "metadata": {},
   "outputs": [],
   "source": [
    "annot = sc.queries.biomart_annotations(\n",
    "        \"hsapiens\",\n",
    "        [\"ensembl_gene_id\", \"external_gene_name\", \"start_position\", \"end_position\", \"chromosome_name\"],\n",
    "    ).set_index(\"external_gene_name\")"
   ]
  },
  {
   "cell_type": "code",
   "execution_count": null,
   "metadata": {},
   "outputs": [],
   "source": [
    "annot.head()"
   ]
  },
  {
   "cell_type": "code",
   "execution_count": null,
   "metadata": {},
   "outputs": [],
   "source": [
    "chrY_genes = sample_object.var_names.intersection(annot.index[annot.chromosome_name == \"Y\"])\n",
    "chrY_genes"
   ]
  },
  {
   "cell_type": "code",
   "execution_count": null,
   "metadata": {},
   "outputs": [],
   "source": [
    "sample_object.obs['percent_chrY'] = np.sum(\n",
    "    sample_object[:, chrY_genes].X, axis = 1).A1 / np.sum(sample_object.X, axis = 1).A1 * 100"
   ]
  },
  {
   "cell_type": "code",
   "execution_count": null,
   "metadata": {},
   "outputs": [],
   "source": [
    "sample_object.obs[\"XIST-counts\"] = sample_object.X[:,sample_object.var_names.str.match('XIST')].toarray()\n",
    "\n",
    "sc.pl.scatter(sample_object, x = 'XIST-counts', y = 'percent_chrY', color = \"donor\")"
   ]
  },
  {
   "cell_type": "code",
   "execution_count": null,
   "metadata": {},
   "outputs": [],
   "source": [
    "sc.pl.violin(sample_object, [\"XIST-counts\", \"percent_chrY\"], jitter = 0.4, groupby = 'donor', rotation = 45)"
   ]
  },
  {
   "cell_type": "markdown",
   "metadata": {},
   "source": [
    "### Calculate cell cycle scores"
   ]
  },
  {
   "cell_type": "code",
   "execution_count": null,
   "metadata": {},
   "outputs": [],
   "source": [
    "!if [ ! -f /home/cartalop/refseq/gene_lists/regev_lab_cell_cycle_genes.txt ]; then curl -o /home/cartalop/refseq/gene_lists/regev_lab_cell_cycle_genes.txt https://raw.githubusercontent.com/theislab/scanpy_usage/master/180209_cell_cycle/data/regev_lab_cell_cycle_genes.txt; fi"
   ]
  },
  {
   "cell_type": "code",
   "execution_count": null,
   "metadata": {},
   "outputs": [],
   "source": [
    "cell_cycle_genes = [x.strip() for x in open('/home/cartalop/refseq/gene_lists/regev_lab_cell_cycle_genes.txt')]\n",
    "print(len(cell_cycle_genes))\n",
    "\n",
    "# Split into 2 lists\n",
    "s_genes = cell_cycle_genes[:43]\n",
    "g2m_genes = cell_cycle_genes[43:]\n",
    "\n",
    "cell_cycle_genes = [x for x in cell_cycle_genes if x in sample_object.var_names]\n",
    "print(len(cell_cycle_genes))"
   ]
  },
  {
   "cell_type": "markdown",
   "metadata": {},
   "source": [
    "- Create basic `anndata` for score calculation"
   ]
  },
  {
   "cell_type": "code",
   "execution_count": null,
   "metadata": {},
   "outputs": [],
   "source": [
    "adata_log = anndata.AnnData(X = sample_object.X,  var = sample_object.var, obs = sample_object.obs)\n",
    "sc.pp.normalize_total(adata_log, target_sum = 1e6, exclude_highly_expressed = True)\n",
    "sc.pp.log1p(adata_log)"
   ]
  },
  {
   "cell_type": "code",
   "execution_count": null,
   "metadata": {},
   "outputs": [],
   "source": [
    "sc.tl.score_genes_cell_cycle(adata_log, s_genes = s_genes, g2m_genes = g2m_genes)\n",
    "sc.pl.violin(adata_log, ['S_score', 'G2M_score'],\n",
    "             jitter = 0.4, groupby = 'donor', rotation = 45)"
   ]
  },
  {
   "cell_type": "code",
   "execution_count": null,
   "metadata": {},
   "outputs": [],
   "source": [
    "sample_object.obs['S_score'] = adata_log.obs['S_score']\n",
    "sample_object.obs['G2M_score'] = adata_log.obs['G2M_score']\n",
    "sample_object"
   ]
  },
  {
   "cell_type": "markdown",
   "metadata": {},
   "source": [
    "### Predict doublets"
   ]
  },
  {
   "cell_type": "code",
   "execution_count": null,
   "metadata": {},
   "outputs": [],
   "source": [
    "scrub = scr.Scrublet(sample_object.X)\n",
    "sample_object.obs['doublet_scores'], sample_object.obs['predicted_doublets'] = scrub.scrub_doublets()\n",
    "scrub.plot_histogram()\n",
    "\n",
    "sum(sample_object.obs['predicted_doublets'])"
   ]
  },
  {
   "cell_type": "code",
   "execution_count": null,
   "metadata": {},
   "outputs": [],
   "source": [
    "sc.pl.violin(sample_object, ['n_genes_by_counts', 'total_counts', 'pct_counts_mt','pct_counts_ribo', 'predicted_doublets'],\n",
    "             jitter = 0.2, groupby = 'donor', rotation = 45)"
   ]
  },
  {
   "cell_type": "code",
   "execution_count": null,
   "metadata": {},
   "outputs": [],
   "source": [
    "sc.pl.violin(sample_object, ['n_genes_by_counts', 'total_counts', 'pct_counts_mt','pct_counts_ribo', 'predicted_doublets'],\n",
    "             jitter = 0.2, groupby = 'sample', rotation = 45)"
   ]
  },
  {
   "cell_type": "markdown",
   "metadata": {},
   "source": [
    "### Prepare counts for individual slots"
   ]
  },
  {
   "cell_type": "code",
   "execution_count": null,
   "metadata": {},
   "outputs": [],
   "source": [
    "sample_object.raw = sample_object.copy()\n",
    "sample_object.layers['counts'] = sample_object.X.copy()\n",
    "sample_object.layers[\"sqrt_norm\"] = np.sqrt(\n",
    "    sc.pp.normalize_total(sample_object, inplace = False)[\"X\"]\n",
    ")\n",
    "sample_object"
   ]
  },
  {
   "cell_type": "markdown",
   "metadata": {},
   "source": [
    "### Export object"
   ]
  },
  {
   "cell_type": "code",
   "execution_count": null,
   "metadata": {},
   "outputs": [],
   "source": [
    "sample_object.write('/home/cartalop/data/single_cell/lung/tb/caiy2022/CaiY2022_TB_QCed_pre-process_ctl221015.h5ad')"
   ]
  },
  {
   "cell_type": "code",
   "execution_count": null,
   "metadata": {},
   "outputs": [],
   "source": []
  }
 ],
 "metadata": {
  "kernelspec": {
   "display_name": "Python 3.10.6 ('scanpy_v1.9.1')",
   "language": "python",
   "name": "python3"
  },
  "language_info": {
   "codemirror_mode": {
    "name": "ipython",
    "version": 3
   },
   "file_extension": ".py",
   "mimetype": "text/x-python",
   "name": "python",
   "nbconvert_exporter": "python",
   "pygments_lexer": "ipython3",
   "version": "3.10.6"
  },
  "vscode": {
   "interpreter": {
    "hash": "3286f64efcd51e75474e118062933d5d27de43155a6d92a2a8432c07c489444c"
   }
  }
 },
 "nbformat": 4,
 "nbformat_minor": 4
}
