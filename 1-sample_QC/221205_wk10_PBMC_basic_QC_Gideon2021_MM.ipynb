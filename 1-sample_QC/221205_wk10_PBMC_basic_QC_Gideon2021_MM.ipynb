{
 "cells": [
  {
   "cell_type": "markdown",
   "metadata": {},
   "source": [
    "### Basic QC for non-human primate samples (Gideon)\n",
    "\n",
    "#### Objective: Run basic QC for week 10 BAL samples in non-human primates from Gideon et al 2021\n",
    "\n",
    "**Developed by**: Mairi McClean\n",
    "\n",
    "**Affiliation**: Institute of Computational Biology - Computational Health Centre - Helmholtz Munich\n",
    "\n",
    "-v221209"
   ]
  }
 ],
 "metadata": {
  "language_info": {
   "name": "python"
  },
  "orig_nbformat": 4
 },
 "nbformat": 4,
 "nbformat_minor": 2
}
