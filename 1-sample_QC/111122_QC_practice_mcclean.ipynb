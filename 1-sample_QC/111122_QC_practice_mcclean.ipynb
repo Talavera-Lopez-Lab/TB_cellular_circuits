{
 "cells": [
  {
   "cell_type": "markdown",
   "metadata": {},
   "source": [
    "#### QC of Cai 2020, Cai 2022, and BLANK\n",
    "\n",
    "\n",
    "Name: Mairi McClean\n",
    "\n",
    "Affiliation: Institute of Computational Biology, Helmhotlz\n",
    "\n",
    "Version: 11.11.2022"
   ]
  }
 ],
 "metadata": {
  "kernelspec": {
   "display_name": "Python 3.10.6 ('scanpy_v1.9.1')",
   "language": "python",
   "name": "python3"
  },
  "language_info": {
   "name": "python",
   "version": "3.10.6"
  },
  "orig_nbformat": 4,
  "vscode": {
   "interpreter": {
    "hash": "3286f64efcd51e75474e118062933d5d27de43155a6d92a2a8432c07c489444c"
   }
  }
 },
 "nbformat": 4,
 "nbformat_minor": 2
}
